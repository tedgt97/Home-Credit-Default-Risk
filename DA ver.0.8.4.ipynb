{
 "cells": [
  {
   "cell_type": "markdown",
   "id": "d62dd038",
   "metadata": {},
   "source": [
    "# Main"
   ]
  },
  {
   "cell_type": "markdown",
   "id": "82805638",
   "metadata": {},
   "source": [
    "## Preset"
   ]
  },
  {
   "cell_type": "code",
   "execution_count": 5,
   "id": "7e3f3d4b",
   "metadata": {},
   "outputs": [],
   "source": [
    "ver = 'ver.0.8.4'"
   ]
  },
  {
   "cell_type": "code",
   "execution_count": 6,
   "id": "c324ddaf",
   "metadata": {},
   "outputs": [],
   "source": [
    "import re\n",
    "import pandas as pd\n",
    "from pathlib import Path\n",
    "import numpy as np\n",
    "import dask.dataframe as dd\n",
    "\n",
    "from sklearn.cluster import KMeans\n",
    "from sklearn.mixture import GaussianMixture\n",
    "from sklearn.linear_model import LogisticRegression\n",
    "from sklearn.metrics import roc_curve, roc_auc_score, precision_recall_curve, average_precision_score, accuracy_score\n",
    "import matplotlib.pyplot as plt\n",
    "import seaborn as sns\n",
    "\n",
    "from sklearn.feature_selection import VarianceThreshold\n",
    "from sklearn.model_selection import train_test_split\n",
    "from sklearn.neighbors import NearestNeighbors\n",
    "from sklearn.ensemble import RandomForestClassifier\n",
    "from sklearn.naive_bayes import GaussianNB\n",
    "from sklearn.tree import DecisionTreeClassifier\n",
    "import statsmodels.api as sm\n",
    "from scipy import stats\n",
    "\n",
    "import matplotlib.cm as cm\n",
    "import matplotlib.colors as mcolors\n",
    "import plotly.graph_objects as go\n",
    "\n",
    "from itertools import product\n",
    "\n",
    "# pd.options.display.max_rows = 30"
   ]
  },
  {
   "cell_type": "markdown",
   "id": "2cebeabd",
   "metadata": {},
   "source": [
    "## Importing"
   ]
  },
  {
   "cell_type": "code",
   "execution_count": null,
   "id": "4e281c0f",
   "metadata": {},
   "outputs": [],
   "source": [
    "# base_dir = Path(r\"1. PBC\\DATA\")\n",
    "# txt_paths = sorted(\n",
    "#     p for p in base_dir.rglob(\"*.txt\")\n",
    "#     if \"회계감사론파일\" in p.name\n",
    "# )\n",
    "\n",
    "# print(f\"Found {len(txt_paths)} text files:\")\n",
    "# for p in txt_paths:\n",
    "#     print(\"  .\", p)\n",
    "\n",
    "# frames = []\n",
    "# for path in txt_paths:\n",
    "#     df = pd.read_csv(path, sep='|', encoding='euc_kr', low_memory=False)\n",
    "#     df[\"c_file\"] = path.name\n",
    "#     frames.append(df)\n",
    "\n",
    "# loan = pd.concat(frames, ignore_index=True)\n",
    "# loan.to_csv(r\"부산은행 DA\\DATA\\loan.csv\", index=False)\n",
    "# print(\"Combined shape: \", loan.shape)"
   ]
  },
  {
   "cell_type": "code",
   "execution_count": null,
   "id": "57898d2b",
   "metadata": {},
   "outputs": [],
   "source": [
    "loan = pd.read_csv(r\"부산은행 DA\\DATA\\loan.csv\", encoding='euc-kr', low_memory=False)"
   ]
  },
  {
   "cell_type": "code",
   "execution_count": null,
   "id": "19b83801",
   "metadata": {},
   "outputs": [],
   "source": [
    "# base_dir = Path(r\"1. PBC\\DATA\")\n",
    "# txt_paths = sorted(\n",
    "#     p for p in base_dir.rglob(\"*.txt\")\n",
    "#     if \"분류대상계좌정보_\" in p.name\n",
    "# )\n",
    "\n",
    "# print(f\"Found {len(txt_paths)} text files:\")\n",
    "# for p in txt_paths:\n",
    "#     print(\"  .\", p)\n",
    "\n",
    "# frames = []\n",
    "# for path in txt_paths:\n",
    "#     df = pd.read_csv(path, sep='|', encoding='euc_kr', low_memory=False)\n",
    "#     df[\"c_file\"] = path.name\n",
    "#     frames.append(df)\n",
    "\n",
    "# stage2 = pd.concat(frames, ignore_index=True)\n",
    "# stage2.to_csv(r\"부산은행 DA\\DATA\\stage2.csv\", index=False)\n",
    "# print(\"Combined shape: \", stage2.shape)"
   ]
  },
  {
   "cell_type": "code",
   "execution_count": null,
   "id": "3c7a6982",
   "metadata": {},
   "outputs": [],
   "source": [
    "stage2 = pd.read_csv(r\"부산은행 DA\\DATA\\stage2.csv\", encoding='euc-kr', low_memory=False)"
   ]
  },
  {
   "cell_type": "markdown",
   "id": "493c3ed2",
   "metadata": {},
   "source": [
    "### Importing 9 quarters data"
   ]
  },
  {
   "cell_type": "code",
   "execution_count": null,
   "id": "228a88e5",
   "metadata": {},
   "outputs": [],
   "source": [
    "# base_dir = Path(r\"1. PBC\\DATA\")\n",
    "# txt_paths = sorted(\n",
    "#     p for p in base_dir.rglob(\"*.txt\")\n",
    "#     if \"회계감사론파일\" in p.name\n",
    "# )\n",
    "\n",
    "# print(f\"Found {len(txt_paths)} text files:\")\n",
    "# for p in txt_paths:\n",
    "#     print(\"  .\", p)\n",
    "\n",
    "# frames = []\n",
    "# for path in txt_paths:\n",
    "#     df = pd.read_csv(path, sep='|', encoding='euc_kr', low_memory=False)\n",
    "#     df[\"c_file\"] = path.name\n",
    "#     frames.append(df)\n",
    "\n",
    "# loan_long = pd.concat(frames, ignore_index=True)\n",
    "# loan_long.to_csv(r\"부산은행 DA\\DATA\\loan_long.csv\", encoding='euc-kr', index=False)\n",
    "# print(\"Combined shape: \", loan_long.shape)"
   ]
  },
  {
   "cell_type": "code",
   "execution_count": null,
   "id": "5c7f8cb8",
   "metadata": {},
   "outputs": [],
   "source": [
    "# base_dir = Path(r\"1. PBC\\DATA\")\n",
    "# txt_paths = sorted(\n",
    "#     p for p in base_dir.rglob(\"*.txt\")\n",
    "#     if \"분류대상계좌정보_\" in p.name\n",
    "# )\n",
    "\n",
    "# print(f\"Found {len(txt_paths)} text files:\")\n",
    "# for p in txt_paths:\n",
    "#     print(\"  .\", p)\n",
    "\n",
    "# frames = []\n",
    "# for path in txt_paths:\n",
    "#     df = pd.read_csv(path, sep='|', encoding='euc_kr', low_memory=False)\n",
    "#     df[\"c_file\"] = path.name\n",
    "#     frames.append(df)\n",
    "\n",
    "# stage2_long = pd.concat(frames, ignore_index=True)\n",
    "# stage2_long.to_csv(r\"부산은행 DA\\DATA\\stage2_long.csv\", encoding='euc-kr', index=False)\n",
    "# print(\"Combined shape: \", stage2_long.shape)"
   ]
  },
  {
   "cell_type": "code",
   "execution_count": null,
   "id": "f4597b5a",
   "metadata": {},
   "outputs": [],
   "source": [
    "loan = pd.read_csv(r\"부산은행 DA\\DATA\\loan_long.csv\", encoding='euc-kr', low_memory=False)"
   ]
  },
  {
   "cell_type": "code",
   "execution_count": null,
   "id": "44356186",
   "metadata": {},
   "outputs": [],
   "source": [
    "stage2 = pd.read_csv(r\"부산은행 DA\\DATA\\stage2_long.csv\", encoding='euc-kr', low_memory=False)"
   ]
  },
  {
   "cell_type": "markdown",
   "id": "c0db978e",
   "metadata": {},
   "source": [
    "## Cleaning\n"
   ]
  },
  {
   "cell_type": "markdown",
   "id": "db4fe710",
   "metadata": {},
   "source": [
    "loan Cleaning"
   ]
  },
  {
   "cell_type": "code",
   "execution_count": null,
   "id": "c56e0ac7",
   "metadata": {},
   "outputs": [],
   "source": [
    "print(loan.columns.tolist())"
   ]
  },
  {
   "cell_type": "markdown",
   "id": "25e04ee3",
   "metadata": {},
   "source": [
    "Loan\n",
    "<div style=\"font-size: 15px\">\n",
    "\n",
    "- 기준년월\n",
    "- KEY: 계좌번호\n",
    "    - 기준년월 기준 계좌번호가 unique하지 않음. 만기를 다 갖고 있음 0부터 40까지. Loan DB DA를 할 때 어느 시점을 기준으로 분석해야 하는지 확인 필요.\n",
    "    - Stage 2일때만 만기를 쭉 뿌린거 같은데 어느 만기의 레코드를 PowerBI에 사용하는지 확인해야함\n",
    "- STAGE분류구분코드\n",
    "- 만기구간간\n",
    "- 신용등급 \n",
    "- 소매여부\n",
    "- EAD1: 대출잔액 / EAD2: 카드현금 / EAD3: 미수이자 / EAD4: 가지급금 / EAD5: 미사용한도 / EAD6: 지급보증\n",
    "- 계좌PD\n",
    "- 계좌LGD\n",
    "- 총대손충당금\n",
    "- 산업분류코드\n",
    "- 연체여부 & 연체기간코드\n",
    "    - 0인데 연체Y도 있고 4인데 연체N도 있음\n",
    "- Pool포트폴리오구분코드 & 풀코드\n",
    "- 부도계좌여부 & 부도고객여부\n",
    "- 건전성과목구분코드\n",
    "- PD대체여부\n",
    "- 세그먼트번호일반 & 세그먼트번호기타 (통합클리닝 필요)\n",
    "- 업무구분코드\n",
    "- 건전성구분\n",
    "- 기업가계구분코드 (NaN 존재)\n",
    "- LGD세그먼트번호\n",
    "- IRBEAD총액 (충당금담보EAD총액 + 충당금신용EAD총액)\n",
    "- 담보여부\n",
    "</div>\n",
    "\n",
    "- 난내외 구분\n",
    "- 신용카드 구분\n"
   ]
  },
  {
   "cell_type": "code",
   "execution_count": null,
   "id": "9b3692cc",
   "metadata": {},
   "outputs": [],
   "source": [
    "# Function to handle account numbers\n",
    "def clean_account_number(x):\n",
    "    x = str(x).strip()\n",
    "    if x.isdigit():  # If the string contains only digits\n",
    "        return str(int(x))  # Convert to int (removes leading zeros) then back to string\n",
    "    return x  # For non-numeric values, keep as is"
   ]
  },
  {
   "cell_type": "code",
   "execution_count": null,
   "id": "2732775f",
   "metadata": {},
   "outputs": [],
   "source": [
    "## Loan Cleaning\n",
    "loan_cleaned = loan.copy()\n",
    "\n",
    "loan_cleaned = loan_cleaned[loan_cleaned['평가방법구분코드'].notna()]\n",
    "loan_junk = loan_cleaned[loan_cleaned['평가방법구분코드'].isna()]\n",
    "\n",
    "# 집합평가만\n",
    "loan_cleaned = loan_cleaned[loan_cleaned['평가방법구분코드'] == 2.0]\n",
    "\n",
    "# type cleaning\n",
    "loan_cleaned['기준년월'] = loan_cleaned['기준년월'].astype(int)\n",
    "loan_cleaned['계좌번호'] = loan_cleaned['계좌번호'].apply(clean_account_number)\n",
    "loan_cleaned['신용등급'] = loan_cleaned['신용등급'].astype(str).str.strip()\n",
    "loan_cleaned['신용등급'] = loan_cleaned['신용등급'].str.split('.').str[0]\n",
    "loan_cleaned['BS계정과목코드'] = loan_cleaned['BS계정과목코드'].astype(str).str.strip()\n",
    "loan_cleaned['STAGE분류구분코드'] = loan_cleaned['STAGE분류구분코드'].astype(str).str.strip()\n",
    "loan_cleaned['연체기간코드'] = loan_cleaned['연체기간코드'].astype('Int64')\n",
    "\n",
    "loan_cleaned['최초신용등급영문'] = loan_cleaned['최초신용등급영문'].astype(str).str.strip()\n",
    "loan_cleaned['최초신용등급영문'] = loan_cleaned['최초신용등급영문'].str.split('.').str[0]\n",
    "loan_cleaned['최초신용등급숫자'] = loan_cleaned['최초신용등급숫자'].astype(str).str.strip()\n",
    "loan_cleaned['최초신용등급숫자'] = loan_cleaned['최초신용등급숫자'].str.split('.').str[0]\n",
    "loan_cleaned['최초신용등급숫자'] = loan_cleaned['최초신용등급숫자'].astype('Int64')\n",
    "\n",
    "# 최초신용등급영문 통일화\n",
    "def clean_rating(x):\n",
    "    if pd.isna(x):\n",
    "        return x\n",
    "    return re.sub('^0+(?=\\d+$)', '', str(x))\n",
    "loan_cleaned['최초신용등급영문'] = loan_cleaned['최초신용등급영문'].apply(clean_rating)\n",
    "\n",
    "# 신용등급 숫자화\n",
    "dic_cr = {'000': 0, 'A': 604, 'A-': 605, 'AA': 602, 'AA-': 603, 'AAA': 601, 'B': 611, 'B-': 612, 'BB': 609, 'BB-': 610, 'BBB': 607, 'BBB+': 606,\n",
    "    'BBB-': 608, 'C': 613, 'D1': 615, 'D2': 616, 'D3': 617,}\n",
    "def map_or_keep(x):\n",
    "    if x in dic_cr:\n",
    "        return dic_cr[x]\n",
    "    elif x.isdigit():\n",
    "        return int(x)  # Convert string digits to integer\n",
    "    else:\n",
    "        return pd.NA\n",
    "loan_cleaned['신용등급'] = loan_cleaned['신용등급'].apply(map_or_keep)\n",
    "\n",
    "# 산업구분 단순화\n",
    "loan_cleaned['산업분류코드'] = loan_cleaned['산업분류코드'].str.split('  ').str[1].str.split('(').str[0]\n"
   ]
  },
  {
   "cell_type": "code",
   "execution_count": null,
   "id": "2c3155a6",
   "metadata": {},
   "outputs": [],
   "source": [
    "# c_EAD합 추가\n",
    "loan_cleaned['c_EAD합'] = loan_cleaned['EAD1금액'] + loan_cleaned['EAD2금액'] + loan_cleaned['EAD3금액'] + loan_cleaned['EAD4금액'] + loan_cleaned['EAD5금액'] + loan_cleaned['EAD6금액']\n",
    "loan_cleaned.insert(loan_cleaned.columns.get_loc('EAD6금액') + 1, 'c_EAD합', loan_cleaned.pop('c_EAD합'))\n",
    "\n",
    "# c_대손충당금 추가가\n",
    "loan_cleaned['c_대손충당금'] = loan_cleaned['c_EAD합'] * loan_cleaned['계좌PD'] * loan_cleaned['계좌LGD'] \n",
    "loan_cleaned.insert(loan_cleaned.columns.get_loc('총대손충당금') + 1, 'c_대손충당금', loan_cleaned.pop('c_대손충당금'))\n"
   ]
  },
  {
   "cell_type": "markdown",
   "id": "4a27bf89",
   "metadata": {},
   "source": [
    "stage2 Cleaning"
   ]
  },
  {
   "cell_type": "code",
   "execution_count": null,
   "id": "b762051b",
   "metadata": {},
   "outputs": [],
   "source": [
    "print(stage2.columns.tolist())"
   ]
  },
  {
   "cell_type": "code",
   "execution_count": null,
   "id": "4afe43c2",
   "metadata": {},
   "outputs": [],
   "source": [
    "# stage2 Cleaning\n",
    "\n",
    "stage2 = stage2.rename(columns=lambda x: x.strip())\n",
    "stage2['기준년월'] = stage2['기준년월'].astype(int)\n",
    "stage2['계좌번호'] = stage2['계좌번호'].apply(clean_account_number)\n",
    "stage2['BS계정과목코드'] = stage2['BS계정과목코드'].astype(str).str.strip()"
   ]
  },
  {
   "cell_type": "markdown",
   "id": "817d9c77",
   "metadata": {},
   "source": [
    "## Merge"
   ]
  },
  {
   "cell_type": "code",
   "execution_count": null,
   "id": "8799e883",
   "metadata": {},
   "outputs": [],
   "source": [
    "key_cols = ['기준년월', '계좌번호', 'BS계정과목코드']\n",
    "\n",
    "cols_loan = []\n",
    "\n",
    "loan_cleaned_filtered = loan_cleaned[loan_cleaned['만기구간'] == 0]\n",
    "loan_cleaned_filtered['c_order'] = loan_cleaned_filtered.groupby(key_cols).cumcount()\n",
    "stage2['c_order'] = stage2.groupby(key_cols).cumcount()\n",
    "\n",
    "key_cols = ['기준년월', '계좌번호', 'BS계정과목코드', 'c_order']\n",
    "\n",
    "merged = pd.merge(loan_cleaned_filtered, stage2, on=key_cols, how='left', suffixes=('', '_st2')).sort_values(key_cols)"
   ]
  },
  {
   "cell_type": "code",
   "execution_count": null,
   "id": "b690c8c6",
   "metadata": {},
   "outputs": [],
   "source": [
    "# c_신용등급변화 추가\n",
    "merged['c_신용등급변화'] = merged['신용등급'] - merged['최초신용등급숫자']\n",
    "merged.insert(merged.columns.get_loc('신용등급') + 1, 'c_신용등급변화', merged.pop('c_신용등급변화'))"
   ]
  },
  {
   "cell_type": "code",
   "execution_count": null,
   "id": "d23299e4",
   "metadata": {},
   "outputs": [],
   "source": [
    "del(loan, stage2)"
   ]
  },
  {
   "cell_type": "code",
   "execution_count": null,
   "id": "1bb41d5f",
   "metadata": {},
   "outputs": [],
   "source": [
    "merged.shape"
   ]
  },
  {
   "cell_type": "code",
   "execution_count": null,
   "id": "3f8eb7d1",
   "metadata": {},
   "outputs": [],
   "source": [
    "# ddf = dd.from_pandas(merged, npartitions=64)\n",
    "# ddf.to_parquet(\n",
    "#     rf'부산은행 DA\\DATA\\{ver}\\parquet\\merged_org',\n",
    "#     engine = 'pyarrow',\n",
    "#     compression = 'zstd',\n",
    "#     write_index = False,\n",
    "#     partition_on = ['기준년월']\n",
    "# )"
   ]
  },
  {
   "cell_type": "code",
   "execution_count": null,
   "id": "71b0ae90",
   "metadata": {},
   "outputs": [
    {
     "data": {
      "text/plain": [
       "(10965607, 136)"
      ]
     },
     "execution_count": 12,
     "metadata": {},
     "output_type": "execute_result"
    }
   ],
   "source": [
    "merged = dd.read_parquet(rf'부산은행 DA\\DATA\\{ver}\\parquet\\Merged')\n",
    "merged = merged.compute()\n",
    "merged['STAGE분류구분코드']=merged['STAGE분류구분코드'].astype(str)\n",
    "merged = merged.reset_index(drop=True)\n",
    "merged.shape"
   ]
  },
  {
   "cell_type": "markdown",
   "id": "4e25198e",
   "metadata": {},
   "source": [
    "# Stage 1.5\n",
    "\n",
    "- 집합평가만\n",
    "- 소매/비소매 나누기\n",
    "- 만기일자 0만\n",
    "- c_EAD합이 0 이상만\n",
    "- Stage 1만\n"
   ]
  },
  {
   "cell_type": "markdown",
   "id": "a8aa5101",
   "metadata": {},
   "source": [
    "## Stage 1.5 Dataset"
   ]
  },
  {
   "cell_type": "code",
   "execution_count": 4,
   "id": "60f95758",
   "metadata": {},
   "outputs": [],
   "source": [
    "## merged_retail & merged_nonretail\n",
    "\n",
    "a = merged['소매여부'] == 'Y'\n",
    "b = merged['STAGE분류구분코드'].isin(['1','2'])\n",
    "c = merged['c_EAD합'] > 0\n",
    "d = merged['만기구간'] == 0\n",
    "\n",
    "cols = ['기준년월', '계좌번호', '소매여부', 'STAGE분류구분코드', 'c_EAD합', '만기구간', '최초신용등급영문', '최초신용등급숫자', '신용등급', 'c_신용등급변화', '연체일수', '이자보상배율_현재', '이자보상배율_1년전', '영업활동현금흐름액_1기', '영업활동현금흐름액_2기', '영업활동현금흐름액_3기', '조기경보', '론리뷰판정등급']\n",
    "\n",
    "# Retail\n",
    "merged_retail = merged[a & b & c & d]\n",
    "merged_retail = merged_retail[cols]\n",
    "\n",
    "# Non Retail\n",
    "merged_nretail = merged[~a & b & c & d]\n",
    "merged_nretail = merged_nretail[cols]"
   ]
  },
  {
   "cell_type": "code",
   "execution_count": 5,
   "id": "38c1c928",
   "metadata": {},
   "outputs": [],
   "source": [
    "# Cleaning\n",
    "\n",
    "# 최초신용등급이 없는 계좌들 제외\n",
    "a = merged_retail['최초신용등급숫자'] == 0\n",
    "b = merged_nretail['최초신용등급숫자'] == 0\n",
    "merged_retail = merged_retail[~a]\n",
    "merged_nretail = merged_nretail[~b]\n",
    "\n",
    "# 연체일수 -1 --> 0\n",
    "merged_retail['연체일수'] = merged_retail['연체일수'].apply(lambda x: 0 if x == -1 else x)\n",
    "merged_nretail['연체일수'] = merged_nretail['연체일수'].apply(lambda x: 0 if x == -1 else x)\n",
    "\n",
    "\n",
    "# 소매인데 최초신용등금이 비소매처럼 알파벳 204 건 제외\n",
    "a = merged_retail['최초신용등급영문'].str.contains(r'[A-Za-z]', na=False)\n",
    "merged_retail = merged_retail[~a] \n",
    "\n"
   ]
  },
  {
   "cell_type": "markdown",
   "id": "4bd2b4c7",
   "metadata": {},
   "source": [
    "## Analysis"
   ]
  },
  {
   "cell_type": "code",
   "execution_count": 6,
   "id": "31ec4fca",
   "metadata": {},
   "outputs": [],
   "source": [
    "### Summary Table\n",
    "\n",
    "summary_thresholds = pd.DataFrame(\n",
    "    columns=['category', 'risk_factor', 'thresholds', 'mean']\n",
    ")\n",
    "\n",
    "def append_threshold_record(category:str,\n",
    "                            risk_factor:str,\n",
    "                            thresholds:list):\n",
    "\n",
    "    global summary_thresholds\n",
    "    summary_thresholds.loc[len(summary_thresholds)] = {\n",
    "        'category'    : category,\n",
    "        'risk_factor' : risk_factor,\n",
    "        'thresholds'  : list(thresholds),          # keep the 3‑value list\n",
    "        'mean'        : float(np.mean(thresholds)), # numeric mean\n",
    "        'result'      : round(float(np.mean(thresholds)),0)\n",
    "    }"
   ]
  },
  {
   "cell_type": "markdown",
   "id": "73cb32f2",
   "metadata": {},
   "source": [
    "### Retail"
   ]
  },
  {
   "cell_type": "code",
   "execution_count": 7,
   "id": "9159117a",
   "metadata": {},
   "outputs": [
    {
     "name": "stdout",
     "output_type": "stream",
     "text": [
      "Data shape: (9783091, 18)\n",
      "\n",
      "Value counts of STAGE분류구분코드:\n",
      "STAGE분류구분코드\n",
      "1    9012629\n",
      "2     770462\n",
      "Name: count, dtype: int64\n",
      "\n",
      "연체일수 statistics:\n",
      "count    9.783091e+06\n",
      "mean     2.239097e-01\n",
      "std      3.667030e+00\n",
      "min      0.000000e+00\n",
      "25%      0.000000e+00\n",
      "50%      0.000000e+00\n",
      "75%      0.000000e+00\n",
      "max      8.300000e+02\n",
      "Name: 연체일수, dtype: float64\n",
      "\n",
      "Missing values:\n",
      "c_신용등급변화       0\n",
      "STAGE분류구분코드    0\n",
      "연체일수           0\n",
      "dtype: int64\n",
      "\n",
      "Infinite values:\n",
      "0\n"
     ]
    }
   ],
   "source": [
    "print(\"Data shape:\", merged_retail.shape)\n",
    "print(\"\\nValue counts of STAGE분류구분코드:\")\n",
    "print(merged_retail['STAGE분류구분코드'].value_counts())\n",
    "\n",
    "print(\"\\n연체일수 statistics:\")\n",
    "print(merged_retail[ '연체일수'].describe())\n",
    "\n",
    "print(\"\\nMissing values:\")\n",
    "print(merged_retail[['c_신용등급변화', 'STAGE분류구분코드', '연체일수']].isnull().sum())\n",
    "\n",
    "print(\"\\nInfinite values:\")\n",
    "print(np.isinf(merged_retail['연체일수']).sum())\n"
   ]
  },
  {
   "cell_type": "markdown",
   "id": "85ca84fb",
   "metadata": {},
   "source": [
    "#### c_신용등급변화"
   ]
  },
  {
   "cell_type": "code",
   "execution_count": 8,
   "id": "f4f6f3a4",
   "metadata": {},
   "outputs": [
    {
     "name": "stdout",
     "output_type": "stream",
     "text": [
      "\n",
      "K-means Results:\n",
      "Threshold: 2.467\n",
      "AUC: 0.694\n",
      "Sensitivity: 0.431\n",
      "Specificity: 0.956\n",
      "Precision: 0.808\n",
      "\n",
      "Gaussian Mixture Model Results:\n",
      "Threshold: 2.147\n",
      "AUC: 0.694\n",
      "Sensitivity: 0.431\n",
      "Specificity: 0.956\n",
      "Precision: 0.808\n",
      "\n",
      "Logistic Regression Results:\n",
      "Threshold: 2.298\n",
      "AUC: 0.694\n",
      "Sensitivity: 0.431\n",
      "Specificity: 0.956\n",
      "Precision: 0.808\n"
     ]
    },
    {
     "name": "stderr",
     "output_type": "stream",
     "text": [
      "C:\\Users\\GT492HL\\AppData\\Local\\Temp\\ipykernel_4844\\3177780387.py:172: UserWarning: Glyph 49888 (\\N{HANGUL SYLLABLE SIN}) missing from font(s) DejaVu Sans.\n",
      "  plt.tight_layout()\n",
      "C:\\Users\\GT492HL\\AppData\\Local\\Temp\\ipykernel_4844\\3177780387.py:172: UserWarning: Glyph 50857 (\\N{HANGUL SYLLABLE YONG}) missing from font(s) DejaVu Sans.\n",
      "  plt.tight_layout()\n",
      "C:\\Users\\GT492HL\\AppData\\Local\\Temp\\ipykernel_4844\\3177780387.py:172: UserWarning: Glyph 46321 (\\N{HANGUL SYLLABLE DEUNG}) missing from font(s) DejaVu Sans.\n",
      "  plt.tight_layout()\n",
      "C:\\Users\\GT492HL\\AppData\\Local\\Temp\\ipykernel_4844\\3177780387.py:172: UserWarning: Glyph 44553 (\\N{HANGUL SYLLABLE GEUB}) missing from font(s) DejaVu Sans.\n",
      "  plt.tight_layout()\n",
      "C:\\Users\\GT492HL\\AppData\\Local\\Temp\\ipykernel_4844\\3177780387.py:172: UserWarning: Glyph 48320 (\\N{HANGUL SYLLABLE BYEON}) missing from font(s) DejaVu Sans.\n",
      "  plt.tight_layout()\n",
      "C:\\Users\\GT492HL\\AppData\\Local\\Temp\\ipykernel_4844\\3177780387.py:172: UserWarning: Glyph 54868 (\\N{HANGUL SYLLABLE HWA}) missing from font(s) DejaVu Sans.\n",
      "  plt.tight_layout()\n",
      "C:\\Users\\GT492HL\\AppData\\Roaming\\Python\\Python313\\site-packages\\IPython\\core\\pylabtools.py:170: UserWarning: Glyph 49888 (\\N{HANGUL SYLLABLE SIN}) missing from font(s) DejaVu Sans.\n",
      "  fig.canvas.print_figure(bytes_io, **kw)\n",
      "C:\\Users\\GT492HL\\AppData\\Roaming\\Python\\Python313\\site-packages\\IPython\\core\\pylabtools.py:170: UserWarning: Glyph 50857 (\\N{HANGUL SYLLABLE YONG}) missing from font(s) DejaVu Sans.\n",
      "  fig.canvas.print_figure(bytes_io, **kw)\n",
      "C:\\Users\\GT492HL\\AppData\\Roaming\\Python\\Python313\\site-packages\\IPython\\core\\pylabtools.py:170: UserWarning: Glyph 46321 (\\N{HANGUL SYLLABLE DEUNG}) missing from font(s) DejaVu Sans.\n",
      "  fig.canvas.print_figure(bytes_io, **kw)\n",
      "C:\\Users\\GT492HL\\AppData\\Roaming\\Python\\Python313\\site-packages\\IPython\\core\\pylabtools.py:170: UserWarning: Glyph 44553 (\\N{HANGUL SYLLABLE GEUB}) missing from font(s) DejaVu Sans.\n",
      "  fig.canvas.print_figure(bytes_io, **kw)\n",
      "C:\\Users\\GT492HL\\AppData\\Roaming\\Python\\Python313\\site-packages\\IPython\\core\\pylabtools.py:170: UserWarning: Glyph 48320 (\\N{HANGUL SYLLABLE BYEON}) missing from font(s) DejaVu Sans.\n",
      "  fig.canvas.print_figure(bytes_io, **kw)\n",
      "C:\\Users\\GT492HL\\AppData\\Roaming\\Python\\Python313\\site-packages\\IPython\\core\\pylabtools.py:170: UserWarning: Glyph 54868 (\\N{HANGUL SYLLABLE HWA}) missing from font(s) DejaVu Sans.\n",
      "  fig.canvas.print_figure(bytes_io, **kw)\n"
     ]
    },
    {
     "data": {
      "image/png": "[encoded data removed]",
      "text/plain": [
       "<Figure size 1500x1000 with 4 Axes>"
      ]
     },
     "metadata": {},
     "output_type": "display_data"
    },
    {
     "name": "stdout",
     "output_type": "stream",
     "text": [
      "\n",
      "Summary Statistics for c_신용등급변화:\n",
      "                 count      mean       std  min  25%  50%  75%  max\n",
      "STAGE분류구분코드                                                        \n",
      "1            1723535.0  1.291553  0.542024  1.0  1.0  1.0  1.0  3.0\n",
      "2             731960.0  2.535096  1.334049  1.0  2.0  2.0  3.0  9.0\n"
     ]
    }
   ],
   "source": [
    "# Analysis of c_신용등급변화 threshold for retail loans\n",
    "\n",
    "# Prepare data\n",
    "data = merged_retail[merged_retail['c_신용등급변화'] > 0]\n",
    "\n",
    "X = data['c_신용등급변화'].values.reshape(-1, 1)\n",
    "y = (data['STAGE분류구분코드'] == '2').astype(int)\n",
    "\n",
    "# 1. K-means Clustering\n",
    "def find_threshold_kmeans(X):\n",
    "    kmeans = KMeans(n_clusters=2, random_state=42)\n",
    "    kmeans.fit(X)\n",
    "    centers = kmeans.cluster_centers_.flatten()\n",
    "    threshold = np.mean(centers)\n",
    "    return threshold, kmeans\n",
    "\n",
    "# 2. Gaussian Mixture Model\n",
    "def find_threshold_gmm(X):\n",
    "    gmm = GaussianMixture(n_components=2, random_state=42)\n",
    "    gmm.fit(X)\n",
    "    centers = gmm.means_.flatten()\n",
    "    threshold = np.mean(centers)  # Use mean of centers as threshold\n",
    "    return threshold, gmm\n",
    "\n",
    "# 3. Logistic Regression\n",
    "def find_threshold_logistic(X, y):\n",
    "    lr = LogisticRegression(random_state=42)\n",
    "    lr.fit(X, y)\n",
    "    coef = lr.coef_[0][0]\n",
    "    threshold = -lr.intercept_[0] / coef  # Find decision boundary\n",
    "    coef_sign = np.sign(coef)\n",
    "    return threshold, lr, coef_sign\n",
    "\n",
    "# # 4. ROC Curve Analysis\n",
    "# def find_threshold_roc(X, y):\n",
    "#     # Sort unique values for potential thresholds\n",
    "#     thresholds = np.sort(np.unique(X))\n",
    "    \n",
    "#     # Calculate ROC curve\n",
    "#     fpr, tpr, threshold_values = roc_curve(y, X)\n",
    "    \n",
    "#     # Find optimal threshold using Youden's J statistic\n",
    "#     j_scores = tpr - fpr\n",
    "#     optimal_idx = np.argmax(j_scores)\n",
    "#     threshold = threshold_values[optimal_idx]\n",
    "    \n",
    "#     return threshold, (fpr, tpr, threshold_values)\n",
    "\n",
    "# Apply all methods\n",
    "kmeans_threshold, kmeans_model = find_threshold_kmeans(X)\n",
    "gmm_threshold, gmm_model = find_threshold_gmm(X)\n",
    "logistic_threshold, logistic_model, logistic_sign = find_threshold_logistic(X, y)\n",
    "# roc_threshold, roc_results = find_threshold_roc(X, y)\n",
    "\n",
    "# Evaluate all methods\n",
    "def evaluate_threshold(X, y, threshold, method_name, *, coef_sign=1):\n",
    "    X = np.asarray(X).ravel()\n",
    "    y_pred = (X > threshold if coef_sign > 0 else (X < threshold))\n",
    "    auc = roc_auc_score(y, y_pred)\n",
    "    \n",
    "    # Calculate additional metrics\n",
    "    tp = np.sum((y == 1) & (y_pred == 1))\n",
    "    fp = np.sum((y == 0) & (y_pred == 1))\n",
    "    tn = np.sum((y == 0) & (y_pred == 0))\n",
    "    fn = np.sum((y == 1) & (y_pred == 0))\n",
    "    \n",
    "    sensitivity = tp / (tp + fn) if (tp + fn) > 0 else 0\n",
    "    specificity = tn / (tn + fp) if (tn + fp) > 0 else 0\n",
    "    precision = tp / (tp + fp) if (tp + fp) > 0 else 0\n",
    "    \n",
    "    print(f\"\\n{method_name} Results:\")\n",
    "    print(f\"Threshold: {threshold:.3f}\")\n",
    "    print(f\"AUC: {auc:.3f}\")\n",
    "    print(f\"Sensitivity: {sensitivity:.3f}\")\n",
    "    print(f\"Specificity: {specificity:.3f}\")\n",
    "    print(f\"Precision: {precision:.3f}\")\n",
    "    \n",
    "    return {\n",
    "        'threshold': threshold,\n",
    "        'auc': auc,\n",
    "        'sensitivity': sensitivity,\n",
    "        'specificity': specificity,\n",
    "        'precision': precision\n",
    "    }\n",
    "\n",
    "# Evaluate all methods\n",
    "results = {}\n",
    "results['K-means'] = evaluate_threshold(X, y, kmeans_threshold, 'K-means')\n",
    "results['GMM'] = evaluate_threshold(X, y, gmm_threshold, 'Gaussian Mixture Model')\n",
    "results['Logistic'] = evaluate_threshold(X, y, logistic_threshold, 'Logistic Regression', coef_sign=logistic_sign)\n",
    "# results['ROC'] = evaluate_threshold(X, y, roc_threshold, 'ROC Curve')\n",
    "\n",
    "# Analyze risk factors transitions\n",
    "risk_analysis   = []          # for bar chart\n",
    "stage2_probs    = []          # y‑axis for probability line\n",
    "account_counts  = []          # optional, retained for completeness\n",
    "\n",
    "risk_values = sorted(data['c_신용등급변화'].unique())\n",
    "\n",
    "for v in risk_values:\n",
    "    mask       = data['c_신용등급변화'] == v\n",
    "    n_accounts = mask.sum()\n",
    "    if n_accounts == 0:\n",
    "        continue\n",
    "    stage2_cnt = ((data['STAGE분류구분코드'] == '2') & mask).sum()\n",
    "\n",
    "    # line‑plot arrays\n",
    "    stage2_probs   .append(stage2_cnt / n_accounts)\n",
    "    account_counts .append(n_accounts)\n",
    "\n",
    "    # bar‑chart DataFrame (≥100 rule copied from 연체일수 script)\n",
    "    if n_accounts >= 100:\n",
    "        risk_analysis.append({\n",
    "            'risk'           : v,\n",
    "            'total_accounts' : int(n_accounts),\n",
    "            'stage2_count'   : int(stage2_cnt),\n",
    "            'stage2_prob'    : stage2_cnt / n_accounts,\n",
    "        })\n",
    "\n",
    "risk_df = pd.DataFrame(risk_analysis)\n",
    "\n",
    "# Visualization\n",
    "plt.figure(figsize=(15, 10))\n",
    "\n",
    "threshold_colors = {\n",
    "    'K-means'  : 'tab:blue',\n",
    "    'GMM'      : 'tab:green',\n",
    "    'Logistic' : 'tab:purple',\n",
    "    'ROC'      : 'tab:orange',\n",
    "}\n",
    "\n",
    "\n",
    "# --- (1,1) Stage‑2 probability for first 30 unique values ------\n",
    "plt.subplot(2, 2, 1)\n",
    "plt.plot(risk_values[:30], stage2_probs[:30],\n",
    "         marker='o', label='Stage 2 Probability')\n",
    "plt.axvline(x=30, color='r', ls='--', label='30 benchmark')\n",
    "for m, r in results.items():\n",
    "    if r['threshold'] <= 30:\n",
    "        plt.axvline(r['threshold'], ls=':', color=threshold_colors[m],\n",
    "                    label=f'{m} threshold')\n",
    "plt.title('Stage 2 Probability (First 30 Units)')\n",
    "plt.xlabel('c_신용등급변화')\n",
    "plt.ylabel('Probability of Stage 2')\n",
    "plt.legend()\n",
    "\n",
    "# --- (1,2) Account distribution (log y‑scale) ------------------\n",
    "plt.subplot(2, 2, 2)\n",
    "plt.bar(risk_df['risk'], risk_df['total_accounts'])\n",
    "plt.yscale('log')\n",
    "plt.title('Account Distribution by c_신용등급변화')\n",
    "plt.xlabel('c_신용등급변화')\n",
    "plt.ylabel('Number of Accounts')\n",
    "\n",
    "# --- (2,1) KDE by stage with coloured thresholds ---------------\n",
    "plt.subplot(2, 2, 3)\n",
    "sns.kdeplot(data=data, x='c_신용등급변화',\n",
    "            hue='STAGE분류구분코드', common_norm=False)\n",
    "for m, r in results.items():\n",
    "    plt.axvline(r['threshold'], ls='--', color=threshold_colors[m],\n",
    "                label=f'{m} threshold')\n",
    "plt.title('Distribution of c_신용등급변화 by Stage')\n",
    "plt.legend()\n",
    "\n",
    "# --- (2,2) Threshold values per method -------------------------\n",
    "plt.subplot(2, 2, 4)\n",
    "plt.bar(results.keys(), [r['threshold'] for r in results.values()],\n",
    "        color=[threshold_colors[k] for k in results.keys()])\n",
    "plt.title('Threshold Values by Method')\n",
    "plt.xticks(rotation=45)\n",
    "\n",
    "plt.tight_layout()\n",
    "plt.show()\n",
    "\n",
    "# Print summary statistics\n",
    "print(\"\\nSummary Statistics for c_신용등급변화:\")\n",
    "print(data.groupby('STAGE분류구분코드')['c_신용등급변화'].describe())\n",
    "\n",
    "# summary_thresholds\n",
    "thresholds_in_order = [results['K-means']['threshold'],\n",
    "                       results['GMM']['threshold'],\n",
    "                       results['Logistic']['threshold']]\n",
    "append_threshold_record(category   = 'retail',          \n",
    "                        risk_factor= 'c_신용등급변화',  \n",
    "                        thresholds = thresholds_in_order)"
   ]
  },
  {
   "cell_type": "markdown",
   "id": "01f4fa74",
   "metadata": {},
   "source": [
    "#### 연체일수"
   ]
  },
  {
   "cell_type": "code",
   "execution_count": 9,
   "id": "5647f560",
   "metadata": {},
   "outputs": [
    {
     "name": "stdout",
     "output_type": "stream",
     "text": [
      "\n",
      "K-means Results:\n",
      "Threshold: 13.745\n",
      "AUC: 0.526\n",
      "Sensitivity: 0.053\n",
      "Specificity: 1.000\n",
      "Precision: 0.938\n",
      "\n",
      "Gaussian Mixture Model Results:\n",
      "Threshold: 9.374\n",
      "AUC: 0.529\n",
      "Sensitivity: 0.059\n",
      "Specificity: 1.000\n",
      "Precision: 0.927\n",
      "\n",
      "Logistic Regression Results:\n",
      "Threshold: 8.673\n",
      "AUC: 0.530\n",
      "Sensitivity: 0.060\n",
      "Specificity: 1.000\n",
      "Precision: 0.923\n"
     ]
    },
    {
     "name": "stderr",
     "output_type": "stream",
     "text": [
      "C:\\Users\\GT492HL\\AppData\\Local\\Temp\\ipykernel_4844\\503051915.py:169: UserWarning: Glyph 50672 (\\N{HANGUL SYLLABLE YEON}) missing from font(s) DejaVu Sans.\n",
      "  plt.tight_layout()\n",
      "C:\\Users\\GT492HL\\AppData\\Local\\Temp\\ipykernel_4844\\503051915.py:169: UserWarning: Glyph 52404 (\\N{HANGUL SYLLABLE CE}) missing from font(s) DejaVu Sans.\n",
      "  plt.tight_layout()\n",
      "C:\\Users\\GT492HL\\AppData\\Local\\Temp\\ipykernel_4844\\503051915.py:169: UserWarning: Glyph 51068 (\\N{HANGUL SYLLABLE IL}) missing from font(s) DejaVu Sans.\n",
      "  plt.tight_layout()\n",
      "C:\\Users\\GT492HL\\AppData\\Local\\Temp\\ipykernel_4844\\503051915.py:169: UserWarning: Glyph 49688 (\\N{HANGUL SYLLABLE SU}) missing from font(s) DejaVu Sans.\n",
      "  plt.tight_layout()\n",
      "C:\\Users\\GT492HL\\AppData\\Local\\Temp\\ipykernel_4844\\503051915.py:169: UserWarning: Glyph 48516 (\\N{HANGUL SYLLABLE BUN}) missing from font(s) DejaVu Sans.\n",
      "  plt.tight_layout()\n",
      "C:\\Users\\GT492HL\\AppData\\Local\\Temp\\ipykernel_4844\\503051915.py:169: UserWarning: Glyph 47448 (\\N{HANGUL SYLLABLE RYU}) missing from font(s) DejaVu Sans.\n",
      "  plt.tight_layout()\n",
      "C:\\Users\\GT492HL\\AppData\\Local\\Temp\\ipykernel_4844\\503051915.py:169: UserWarning: Glyph 44396 (\\N{HANGUL SYLLABLE GU}) missing from font(s) DejaVu Sans.\n",
      "  plt.tight_layout()\n",
      "C:\\Users\\GT492HL\\AppData\\Local\\Temp\\ipykernel_4844\\503051915.py:169: UserWarning: Glyph 53076 (\\N{HANGUL SYLLABLE KO}) missing from font(s) DejaVu Sans.\n",
      "  plt.tight_layout()\n",
      "C:\\Users\\GT492HL\\AppData\\Local\\Temp\\ipykernel_4844\\503051915.py:169: UserWarning: Glyph 46300 (\\N{HANGUL SYLLABLE DEU}) missing from font(s) DejaVu Sans.\n",
      "  plt.tight_layout()\n",
      "C:\\Users\\GT492HL\\AppData\\Roaming\\Python\\Python313\\site-packages\\IPython\\core\\pylabtools.py:170: UserWarning: Glyph 50672 (\\N{HANGUL SYLLABLE YEON}) missing from font(s) DejaVu Sans.\n",
      "  fig.canvas.print_figure(bytes_io, **kw)\n",
      "C:\\Users\\GT492HL\\AppData\\Roaming\\Python\\Python313\\site-packages\\IPython\\core\\pylabtools.py:170: UserWarning: Glyph 52404 (\\N{HANGUL SYLLABLE CE}) missing from font(s) DejaVu Sans.\n",
      "  fig.canvas.print_figure(bytes_io, **kw)\n",
      "C:\\Users\\GT492HL\\AppData\\Roaming\\Python\\Python313\\site-packages\\IPython\\core\\pylabtools.py:170: UserWarning: Glyph 51068 (\\N{HANGUL SYLLABLE IL}) missing from font(s) DejaVu Sans.\n",
      "  fig.canvas.print_figure(bytes_io, **kw)\n",
      "C:\\Users\\GT492HL\\AppData\\Roaming\\Python\\Python313\\site-packages\\IPython\\core\\pylabtools.py:170: UserWarning: Glyph 49688 (\\N{HANGUL SYLLABLE SU}) missing from font(s) DejaVu Sans.\n",
      "  fig.canvas.print_figure(bytes_io, **kw)\n",
      "C:\\Users\\GT492HL\\AppData\\Roaming\\Python\\Python313\\site-packages\\IPython\\core\\pylabtools.py:170: UserWarning: Glyph 48516 (\\N{HANGUL SYLLABLE BUN}) missing from font(s) DejaVu Sans.\n",
      "  fig.canvas.print_figure(bytes_io, **kw)\n",
      "C:\\Users\\GT492HL\\AppData\\Roaming\\Python\\Python313\\site-packages\\IPython\\core\\pylabtools.py:170: UserWarning: Glyph 47448 (\\N{HANGUL SYLLABLE RYU}) missing from font(s) DejaVu Sans.\n",
      "  fig.canvas.print_figure(bytes_io, **kw)\n",
      "C:\\Users\\GT492HL\\AppData\\Roaming\\Python\\Python313\\site-packages\\IPython\\core\\pylabtools.py:170: UserWarning: Glyph 44396 (\\N{HANGUL SYLLABLE GU}) missing from font(s) DejaVu Sans.\n",
      "  fig.canvas.print_figure(bytes_io, **kw)\n",
      "C:\\Users\\GT492HL\\AppData\\Roaming\\Python\\Python313\\site-packages\\IPython\\core\\pylabtools.py:170: UserWarning: Glyph 53076 (\\N{HANGUL SYLLABLE KO}) missing from font(s) DejaVu Sans.\n",
      "  fig.canvas.print_figure(bytes_io, **kw)\n",
      "C:\\Users\\GT492HL\\AppData\\Roaming\\Python\\Python313\\site-packages\\IPython\\core\\pylabtools.py:170: UserWarning: Glyph 46300 (\\N{HANGUL SYLLABLE DEU}) missing from font(s) DejaVu Sans.\n",
      "  fig.canvas.print_figure(bytes_io, **kw)\n"
     ]
    },
    {
     "data": {
      "image/png": "[encoded data removed]",
      "text/plain": [
       "<Figure size 1500x1000 with 4 Axes>"
      ]
     },
     "metadata": {},
     "output_type": "display_data"
    },
    {
     "name": "stdout",
     "output_type": "stream",
     "text": [
      "\n",
      "Summary Statistics for 연체일수:\n",
      "                 count      mean       std  min  25%  50%  75%   max\n",
      "STAGE분류구분코드                                                         \n",
      "1            9012629.0  0.010738  0.424709  0.0  0.0  0.0  0.0  29.0\n",
      "2             770462.0  1.629508  6.392856  0.0  0.0  0.0  0.0  30.0\n"
     ]
    }
   ],
   "source": [
    "# Analysis of 연체일수 weighted threshold for retail loans\n",
    "\n",
    "# Prepare data\n",
    "data = merged_retail[merged_retail['연체일수'] >= 0]\n",
    "data.loc[data['연체일수'] >= 30, '연체일수'] = 30\n",
    "\n",
    "X = data['연체일수'].values.reshape(-1, 1)\n",
    "y = (data['STAGE분류구분코드'] == '2').astype(int)\n",
    "\n",
    "# 1. K-means Clustering\n",
    "def find_threshold_kmeans(X):\n",
    "    kmeans = KMeans(n_clusters=2, random_state=42)\n",
    "    kmeans.fit(X)\n",
    "    centers = kmeans.cluster_centers_.flatten()\n",
    "    threshold = np.mean(centers)\n",
    "    return threshold, kmeans\n",
    "\n",
    "# 2. Gaussian Mixture Model\n",
    "def find_threshold_gmm(X):\n",
    "    gmm = GaussianMixture(n_components=2, random_state=42)\n",
    "    gmm.fit(X)\n",
    "    centers = gmm.means_.flatten()\n",
    "    threshold = np.mean(centers)  # Use mean of centers as threshold\n",
    "    return threshold, gmm\n",
    "\n",
    "# 3. Logistic Regression\n",
    "def find_threshold_logistic(X, y):\n",
    "    lr = LogisticRegression(random_state=42)\n",
    "    lr.fit(X, y)\n",
    "    threshold = -lr.intercept_[0] / lr.coef_[0][0]  # Find decision boundary\n",
    "    return threshold, lr\n",
    "\n",
    "# # 4. ROC Curve Analysis\n",
    "# def find_threshold_roc(X, y):\n",
    "#     # Sort unique values for potential thresholds\n",
    "#     thresholds = np.sort(np.unique(X))\n",
    "    \n",
    "#     # Calculate ROC curve\n",
    "#     fpr, tpr, threshold_values = roc_curve(y, X)\n",
    "    \n",
    "#     # Find optimal threshold using Youden's J statistic\n",
    "#     j_scores = tpr - fpr\n",
    "#     optimal_idx = np.argmax(j_scores)\n",
    "#     threshold = threshold_values[optimal_idx]\n",
    "    \n",
    "#     return threshold, (fpr, tpr, threshold_values)\n",
    "\n",
    "# Apply all methods\n",
    "kmeans_threshold, kmeans_model = find_threshold_kmeans(X)\n",
    "gmm_threshold, gmm_model = find_threshold_gmm(X)\n",
    "logistic_threshold, logistic_model = find_threshold_logistic(X, y)\n",
    "# roc_threshold, roc_results = find_threshold_roc(X, y)\n",
    "\n",
    "# Evaluate all methods\n",
    "def evaluate_threshold(X, y, threshold, method_name):\n",
    "    y_pred = (np.asarray(X).ravel() > threshold)\n",
    "    auc = roc_auc_score(y, y_pred)\n",
    "    \n",
    "    # Calculate additional metrics\n",
    "    tp = np.sum((y == 1) & (y_pred == 1))\n",
    "    fp = np.sum((y == 0) & (y_pred == 1))\n",
    "    tn = np.sum((y == 0) & (y_pred == 0))\n",
    "    fn = np.sum((y == 1) & (y_pred == 0))\n",
    "    \n",
    "    sensitivity = tp / (tp + fn) if (tp + fn) > 0 else 0\n",
    "    specificity = tn / (tn + fp) if (tn + fp) > 0 else 0\n",
    "    precision = tp / (tp + fp) if (tp + fp) > 0 else 0\n",
    "    \n",
    "    print(f\"\\n{method_name} Results:\")\n",
    "    print(f\"Threshold: {threshold:.3f}\")\n",
    "    print(f\"AUC: {auc:.3f}\")\n",
    "    print(f\"Sensitivity: {sensitivity:.3f}\")\n",
    "    print(f\"Specificity: {specificity:.3f}\")\n",
    "    print(f\"Precision: {precision:.3f}\")\n",
    "    \n",
    "    return {\n",
    "        'threshold': threshold,\n",
    "        'auc': auc,\n",
    "        'sensitivity': sensitivity,\n",
    "        'specificity': specificity,\n",
    "        'precision': precision\n",
    "    }\n",
    "\n",
    "# Evaluate all methods\n",
    "results = {}\n",
    "results['K-means'] = evaluate_threshold(X, y, kmeans_threshold, 'K-means')\n",
    "results['GMM'] = evaluate_threshold(X, y, gmm_threshold, 'Gaussian Mixture Model')\n",
    "results['Logistic'] = evaluate_threshold(X, y, logistic_threshold, 'Logistic Regression')\n",
    "# results['ROC'] = evaluate_threshold(X, y, roc_threshold, 'ROC Curve')\n",
    "\n",
    "# Analyze risk factor transitions\n",
    "risk_analysis   = []          # for Plot 2\n",
    "stage2_probs    = []          # for Plot 1\n",
    "account_counts  = []          # for Plot 1\n",
    "\n",
    "risk_values = sorted(data['연체일수'].unique())\n",
    "\n",
    "for risk in risk_values:\n",
    "    mask           = data['연체일수'] == risk\n",
    "    n_accounts     = mask.sum()\n",
    "\n",
    "    # ---- Plot‑1 arrays ----\n",
    "    if n_accounts:                           \n",
    "        stage2_cnt = ((data['STAGE분류구분코드'] == '2') & mask).sum()\n",
    "        stage2_probs  .append(stage2_cnt / n_accounts)\n",
    "        account_counts.append(n_accounts)\n",
    "\n",
    "    # ---- Plot‑2 frame ----------\n",
    "    if n_accounts >= 100:                   \n",
    "        risk_analysis.append({\n",
    "            'risk'           : risk,\n",
    "            'total_accounts' : int(n_accounts),\n",
    "            'stage2_count'   : int(stage2_cnt),\n",
    "            'stage2_prob'    : stage2_cnt / n_accounts,\n",
    "        })\n",
    "\n",
    "risk_df = pd.DataFrame(risk_analysis)      \n",
    "\n",
    "# Visualization\n",
    "plt.figure(figsize=(15, 10))\n",
    "\n",
    "threshold_colors = {\n",
    "    'K-means'  : 'tab:blue',     # or any Matplotlib‑named colors you like\n",
    "    'GMM'      : 'tab:green',\n",
    "    'Logistic' : 'tab:purple',\n",
    "    'ROC'      : 'tab:orange',\n",
    "}\n",
    "\n",
    "# --- (1,1) Stage‑2 probability, first 30 days ----------------\n",
    "plt.subplot(2, 2, 1)\n",
    "plt.plot(risk_values[:30], stage2_probs[:30],\n",
    "         marker='o', label='Stage 2 Probability')\n",
    "plt.axvline(x=30, color='r', ls='--', label='30 DPD')\n",
    "\n",
    "for m, r in results.items():\n",
    "    if r['threshold'] <= 30:\n",
    "        plt.axvline(r['threshold'], ls=':', color=threshold_colors[m],\n",
    "                    label=f'{m} threshold')\n",
    "\n",
    "plt.title('Stage 2 Probability (First 30 Days)')\n",
    "plt.xlabel('Days Past Due')\n",
    "plt.ylabel('Probability of Stage 2')\n",
    "plt.legend()\n",
    "\n",
    "# --- (1,2) Account distribution (log‑scale) -------------------\n",
    "plt.subplot(2, 2, 2)\n",
    "plt.bar(risk_df['risk'], risk_df['total_accounts'])\n",
    "plt.yscale('log')\n",
    "plt.title('Account Distribution by DPD')\n",
    "plt.xlabel('Days Past Due')\n",
    "plt.ylabel('Number of Accounts')\n",
    "\n",
    "# --- (2,1) KDE distribution by stage --------------------------\n",
    "plt.subplot(2, 2, 3)\n",
    "sns.kdeplot(data=data, x='연체일수',\n",
    "            hue='STAGE분류구분코드', common_norm=False)\n",
    "\n",
    "for m, r in results.items():\n",
    "    plt.axvline(r['threshold'], ls='--', color=threshold_colors[m],\n",
    "                label=f'{m} threshold')\n",
    "\n",
    "# --- (2,2) Threshold values per method ------------------------\n",
    "plt.subplot(2, 2, 4)\n",
    "plt.bar(results.keys(), [r['threshold'] for r in results.values()],\n",
    "        color=[threshold_colors[k] for k in results.keys()])\n",
    "plt.title('Threshold Values by Method')\n",
    "plt.xticks(rotation=45)\n",
    "\n",
    "plt.tight_layout()\n",
    "plt.show()\n",
    "\n",
    "# Print summary statistics\n",
    "print(\"\\nSummary Statistics for 연체일수:\")\n",
    "print(data.groupby('STAGE분류구분코드')['연체일수'].describe())\n",
    "\n",
    "\n",
    "# summary_thresholds\n",
    "thresholds_in_order = [results['K-means']['threshold'],\n",
    "                       results['GMM']['threshold'],\n",
    "                       results['Logistic']['threshold']]\n",
    "append_threshold_record(category   = 'retail',          \n",
    "                        risk_factor= '연체일수',  \n",
    "                        thresholds = thresholds_in_order)"
   ]
  },
  {
   "cell_type": "markdown",
   "id": "919ce7e7",
   "metadata": {},
   "source": [
    "#### Classifier Enhanced\n",
    "\n",
    "Categorical Variable: Random Forext\n",
    "<br>\n",
    "Numerical Variable: Logistic Regression"
   ]
  },
  {
   "cell_type": "code",
   "execution_count": 10,
   "id": "ed7c364b",
   "metadata": {},
   "outputs": [
    {
     "name": "stderr",
     "output_type": "stream",
     "text": [
      "C:\\Users\\GT492HL\\AppData\\Local\\Temp\\ipykernel_4844\\1713769386.py:28: SettingWithCopyWarning: \n",
      "A value is trying to be set on a copy of a slice from a DataFrame.\n",
      "Try using .loc[row_indexer,col_indexer] = value instead\n",
      "\n",
      "See the caveats in the documentation: https://pandas.pydata.org/pandas-docs/stable/user_guide/indexing.html#returning-a-view-versus-a-copy\n",
      "  merged_rtl['기준일'] = pd.to_datetime(merged_rtl['기준년월'], format='%Y%m')\n",
      "C:\\Users\\GT492HL\\AppData\\Local\\Temp\\ipykernel_4844\\1713769386.py:29: SettingWithCopyWarning: \n",
      "A value is trying to be set on a copy of a slice from a DataFrame.\n",
      "Try using .loc[row_indexer,col_indexer] = value instead\n",
      "\n",
      "See the caveats in the documentation: https://pandas.pydata.org/pandas-docs/stable/user_guide/indexing.html#returning-a-view-versus-a-copy\n",
      "  merged_rtl['1기STAGE'] = merged_rtl[['기준일','계좌번호','BS계정과목코드','c_order','STAGE분류구분코드']].groupby(['계좌번호','BS계정과목코드','c_order'])['STAGE분류구분코드'].shift(-1)\n",
      "C:\\Users\\GT492HL\\AppData\\Local\\Temp\\ipykernel_4844\\1713769386.py:30: SettingWithCopyWarning: \n",
      "A value is trying to be set on a copy of a slice from a DataFrame.\n",
      "Try using .loc[row_indexer,col_indexer] = value instead\n",
      "\n",
      "See the caveats in the documentation: https://pandas.pydata.org/pandas-docs/stable/user_guide/indexing.html#returning-a-view-versus-a-copy\n",
      "  merged_rtl['2기STAGE'] = merged_rtl[['기준일','계좌번호','BS계정과목코드','c_order','STAGE분류구분코드']].groupby(['계좌번호','BS계정과목코드','c_order'])['STAGE분류구분코드'].shift(-2)\n",
      "C:\\Users\\GT492HL\\AppData\\Local\\Temp\\ipykernel_4844\\1713769386.py:31: SettingWithCopyWarning: \n",
      "A value is trying to be set on a copy of a slice from a DataFrame.\n",
      "Try using .loc[row_indexer,col_indexer] = value instead\n",
      "\n",
      "See the caveats in the documentation: https://pandas.pydata.org/pandas-docs/stable/user_guide/indexing.html#returning-a-view-versus-a-copy\n",
      "  merged_rtl['3기STAGE'] = merged_rtl[['기준일','계좌번호','BS계정과목코드','c_order','STAGE분류구분코드']].groupby(['계좌번호','BS계정과목코드','c_order'])['STAGE분류구분코드'].shift(-3)\n",
      "C:\\Users\\GT492HL\\AppData\\Local\\Temp\\ipykernel_4844\\1713769386.py:32: SettingWithCopyWarning: \n",
      "A value is trying to be set on a copy of a slice from a DataFrame.\n",
      "Try using .loc[row_indexer,col_indexer] = value instead\n",
      "\n",
      "See the caveats in the documentation: https://pandas.pydata.org/pandas-docs/stable/user_guide/indexing.html#returning-a-view-versus-a-copy\n",
      "  merged_rtl['4기STAGE'] = merged_rtl[['기준일','계좌번호','BS계정과목코드','c_order','STAGE분류구분코드']].groupby(['계좌번호','BS계정과목코드','c_order'])['STAGE분류구분코드'].shift(-4)\n"
     ]
    }
   ],
   "source": [
    "# Jump 있는 계좌\n",
    "\n",
    "period_order = [202306, 202309, 202312, 202403, 202406, 202409, 202412, 202503, 202506]\n",
    "idx_map = {p: i for i, p in enumerate(period_order)}\n",
    "\n",
    "def has_jump(periods):\n",
    "    idx = sorted(idx_map[p] for p in periods)\n",
    "    return any(b - a > 1 for a, b in zip(idx, idx[1:]))\n",
    "\n",
    "jump_accounts = (\n",
    "    merged[\n",
    "        (merged['계정과목명'] != '신용카드채권') \n",
    "        # & ((loan['EAD1금액'] != 0) | (loan['EAD2금액'] != 0) | (loan['EAD3금액'] != 0) | (loan['EAD4금액'] != 0) | (loan['EAD5금액'] != 0) | (loan['EAD6금액'] != 0))\n",
    "    ].groupby('계좌번호')['기준년월']\n",
    "        .apply(list)\n",
    "        .loc[lambda s: s.apply(has_jump)]\n",
    "        .reset_index()\n",
    ")\n",
    "\n",
    "# 분석 대상 자료 추출\n",
    "a = merged['계정과목명']!='신용카드채권'\n",
    "b = merged['계좌번호'].isin(jump_accounts['계좌번호'].tolist())==False\n",
    "c = merged['c_EAD합'] > 0\n",
    "d = merged['소매여부'] == 'Y'\n",
    "merged_rtl = merged[a&b&c&d]\n",
    "\n",
    "# Stage 1 to 2 or 3 (전체 분기 대상)\n",
    "merged_rtl['기준일'] = pd.to_datetime(merged_rtl['기준년월'], format='%Y%m')\n",
    "merged_rtl['1기STAGE'] = merged_rtl[['기준일','계좌번호','BS계정과목코드','c_order','STAGE분류구분코드']].groupby(['계좌번호','BS계정과목코드','c_order'])['STAGE분류구분코드'].shift(-1)\n",
    "merged_rtl['2기STAGE'] = merged_rtl[['기준일','계좌번호','BS계정과목코드','c_order','STAGE분류구분코드']].groupby(['계좌번호','BS계정과목코드','c_order'])['STAGE분류구분코드'].shift(-2)\n",
    "merged_rtl['3기STAGE'] = merged_rtl[['기준일','계좌번호','BS계정과목코드','c_order','STAGE분류구분코드']].groupby(['계좌번호','BS계정과목코드','c_order'])['STAGE분류구분코드'].shift(-3)\n",
    "merged_rtl['4기STAGE'] = merged_rtl[['기준일','계좌번호','BS계정과목코드','c_order','STAGE분류구분코드']].groupby(['계좌번호','BS계정과목코드','c_order'])['STAGE분류구분코드'].shift(-4)\n",
    "\n",
    "# Stage 하락 encoding\n",
    "merged_rtl = merged_rtl[merged_rtl['STAGE분류구분코드']=='1']\n",
    "merged_rtl['STAGE하락'] = np.nan\n",
    "merged_rtl.loc[(merged_rtl['1기STAGE']=='1')|(merged_rtl['2기STAGE']=='1')|(merged_rtl['3기STAGE']=='1')|(merged_rtl['4기STAGE']=='1'),'STAGE하락'] = 0\n",
    "merged_rtl.loc[merged_rtl['1기STAGE'].isin(['2','3']),'STAGE하락'] = 1\n",
    "merged_rtl.loc[merged_rtl['2기STAGE'].isin(['2','3']),'STAGE하락'] = 1\n",
    "merged_rtl.loc[merged_rtl['3기STAGE'].isin(['2','3']),'STAGE하락'] = 1\n",
    "merged_rtl.loc[merged_rtl['4기STAGE'].isin(['2','3']),'STAGE하락'] = 1\n",
    "merged_rtl['STAGE하락'].value_counts(dropna=False)\n",
    "\n",
    "data_rtl = merged_rtl[(merged_rtl['기준년월'].isin(period_order[:-4]))&(merged_rtl['STAGE하락'].isna()==False)].copy()"
   ]
  },
  {
   "cell_type": "code",
   "execution_count": 11,
   "id": "bb9d17a6",
   "metadata": {},
   "outputs": [
    {
     "name": "stdout",
     "output_type": "stream",
     "text": [
      "Full Data: 1,512,049\n",
      "Drop Null: 1,512,049\n",
      "Surv.Rate: 100.00%\n"
     ]
    }
   ],
   "source": [
    "# 변수 성격별 컬럼 구분\n",
    "catcols_with_order_rtl = ['당기말신용등급숫자','전기말신용등급숫자','최초신용등급숫자']\n",
    "catcols_wo_order_rtl = ['연체여부','부도고객여부','금융보증계약여부','담보여부',\n",
    "                        '난내난외구분코드','상환방법구분코드']\n",
    "catcols_rtl_org = catcols_with_order_rtl+catcols_wo_order_rtl\n",
    "lincols_rtl_org = ['유효이자율','연체일수','c_신용등급변화']\n",
    "\n",
    "# 카테고리형 자료 자료형 수치화\n",
    "data_rtl[catcols_rtl_org] = data_rtl[catcols_rtl_org].astype('category')\n",
    "data_rtl[catcols_rtl_org] = data_rtl[catcols_rtl_org].apply(lambda x: x.cat.codes)\n",
    "\n",
    "print(f'Full Data: {len(data_rtl):,}')\n",
    "print(f'Drop Null: {len(data_rtl[catcols_rtl_org+lincols_rtl_org+['STAGE하락']].dropna()):,}')\n",
    "print(f'Surv.Rate: {len(data_rtl[catcols_rtl_org+lincols_rtl_org+['STAGE하락']].dropna())/len(data_rtl)*100:.2f}%')\n",
    "\n",
    "data_rtl = data_rtl[catcols_rtl_org+lincols_rtl_org+['STAGE하락']].dropna()\n",
    "\n",
    "# 수치형 자료 Normalization\n",
    "# Variable with high skewness - Log Transformation\n",
    "def norm(srs):\n",
    "    srs = (srs-min(srs))/(max(srs)-min(srs))\n",
    "    series = np.exp(srs).div(1+np.exp(srs))\n",
    "    return series\n",
    "for x in lincols_rtl_org:\n",
    "    data_rtl[x] = norm(data_rtl[x])\n",
    "    _, p = stats.skewtest(data_rtl[x])\n",
    "    if p < 0.05:\n",
    "        data_rtl[x] = np.log(data_rtl[x])"
   ]
  },
  {
   "cell_type": "markdown",
   "id": "89670426",
   "metadata": {},
   "source": [
    "유의미한 변수 추출"
   ]
  },
  {
   "cell_type": "code",
   "execution_count": 12,
   "id": "e8abdf1e",
   "metadata": {},
   "outputs": [
    {
     "data": {
      "text/plain": [
       "['연체일수', 'c_신용등급변화', '당기말신용등급숫자', '유효이자율', '최초신용등급숫자', '전기말신용등급숫자']"
      ]
     },
     "execution_count": 12,
     "metadata": {},
     "output_type": "execute_result"
    }
   ],
   "source": [
    "# 수치형 자료\n",
    "# 개별 변수 평가 (Reward: high correlation with 'STAGE하락', Punish: high correlation with other variables)\n",
    "corr_mat = data_rtl[catcols_with_order_rtl+lincols_rtl_org+['STAGE하락']].corr()\n",
    "score_mat = pd.DataFrame(index=catcols_with_order_rtl+lincols_rtl_org, columns=['STAGE하락','최대다중공선성','점수'])\n",
    "for x in catcols_with_order_rtl+lincols_rtl_org:\n",
    "    score_mat.loc[x,'STAGE하락'] = corr_mat.loc[x,'STAGE하락']\n",
    "    score_mat.loc[x,'최대다중공선성'] = corr_mat.loc[x,catcols_with_order_rtl+lincols_rtl_org].nlargest(2).iloc[-1]\n",
    "score_mat['점수'] = abs(score_mat['STAGE하락'].div(score_mat['최대다중공선성']))\n",
    "score_mat = score_mat.sort_values('점수',ascending=False)\n",
    "# score_mat\n",
    "\n",
    "# 점수 기준 0.01 이상 변수 확인\n",
    "lincols_rtl = score_mat[score_mat['점수']>.01].index.tolist()\n",
    "lincols_rtl\n",
    "\n",
    "# 다중공선성 재평가\n",
    "corr_mat = data_rtl[lincols_rtl+['STAGE하락']].corr()\n",
    "score_mat = pd.DataFrame(index=lincols_rtl, columns=['STAGE하락','최대다중공선성','점수'])\n",
    "for x in lincols_rtl:\n",
    "    score_mat.loc[x,'STAGE하락'] = corr_mat.loc[x,'STAGE하락']\n",
    "    score_mat.loc[x,'최대다중공선성'] = corr_mat.loc[x,lincols_rtl].nlargest(2).iloc[-1]\n",
    "score_mat['점수'] = abs(score_mat['STAGE하락'].div(score_mat['최대다중공선성']))\n",
    "score_mat = score_mat.sort_values('점수',ascending=False)\n",
    "# score_mat\n",
    "\n",
    "# 점수 기준 0.1 이상 변수 선정\n",
    "lincols_rtl = score_mat[score_mat['점수']>.1].index.tolist()\n",
    "lincols_rtl\n"
   ]
  },
  {
   "cell_type": "code",
   "execution_count": 13,
   "id": "58815b9d",
   "metadata": {},
   "outputs": [],
   "source": [
    "# 단순카테고리형 변수 t-test\n",
    "treated = data_rtl[data_rtl['STAGE하락']==1]\n",
    "control = data_rtl[data_rtl['STAGE하락']==0]\n",
    "cat_var_ttest = pd.DataFrame(index=catcols_wo_order_rtl, columns=['T_mean','C_mean','p-value'])\n",
    "for x in catcols_wo_order_rtl:\n",
    "    _, p = stats.ttest_ind(treated[x], control[x])\n",
    "    cat_var_ttest.loc[x] = [treated[x].mean(), control[x].mean(), p]\n",
    "cat_var_ttest = cat_var_ttest.sort_values('p-value',ascending=True)\n",
    "# cat_var_ttest\n",
    "\n",
    "# p-value 0.05 미만 변수 사용\n",
    "catcols_rtl = cat_var_ttest[cat_var_ttest['p-value']<0.05].index.tolist()"
   ]
  },
  {
   "cell_type": "markdown",
   "id": "1ee2fafb",
   "metadata": {},
   "source": [
    "최종 데이터셋 정리 및 학습데이터 구분"
   ]
  },
  {
   "cell_type": "code",
   "execution_count": 14,
   "id": "60464c6b",
   "metadata": {},
   "outputs": [
    {
     "name": "stdout",
     "output_type": "stream",
     "text": [
      "Original:  12\n",
      "Trimmed:  11\n",
      "Dropped column:  ['STAGE하락']\n"
     ]
    }
   ],
   "source": [
    "# 소매 데이터셋 확정\n",
    "data_rtl = data_rtl[lincols_rtl+catcols_rtl+['STAGE하락']]\n",
    "\n",
    "# Drop features to avoid singular matrix\n",
    "selector = VarianceThreshold(threshold=0.0)\n",
    "data_nonsingular_rtl = selector.fit_transform(data_rtl[catcols_rtl+lincols_rtl])\n",
    "data_nonsingular_rtl = pd.DataFrame(data_nonsingular_rtl, index=data_rtl.index, columns=selector.get_feature_names_out())\n",
    "print('Original: ',data_rtl.shape[1])\n",
    "print('Trimmed: ',data_nonsingular_rtl.shape[1])\n",
    "print('Dropped column: ', list(set(data_rtl.columns)-set(selector.get_feature_names_out())))\n",
    "\n",
    "# Split Data (Training, Cross-validation, Predict)\n",
    "X_train_rtl, X_test_rtl, y_train_rtl, y_test_rtl = train_test_split(data_nonsingular_rtl,data_rtl['STAGE하락'], test_size=0.3, random_state=42)\n",
    "X_tr_rtl, X_cv_rtl, y_tr_rtl, y_cv_rtl = train_test_split(X_train_rtl,y_train_rtl, test_size=0.3, random_state=42)"
   ]
  },
  {
   "cell_type": "markdown",
   "id": "ff6e781c",
   "metadata": {},
   "source": [
    "##### 주요 변수 추출\n",
    "2차에 걸친 Logistic Regression을 통해 p-value가 높은 변수만 사용"
   ]
  },
  {
   "cell_type": "code",
   "execution_count": 15,
   "id": "51a7a38e",
   "metadata": {},
   "outputs": [
    {
     "name": "stdout",
     "output_type": "stream",
     "text": [
      "Optimization terminated successfully.\n",
      "         Current function value: 0.302113\n",
      "         Iterations: 76\n",
      "         Function evaluations: 78\n",
      "         Gradient evaluations: 78\n",
      "Optimization terminated successfully.\n",
      "         Current function value: 0.302107\n",
      "         Iterations: 57\n",
      "         Function evaluations: 60\n",
      "         Gradient evaluations: 60\n"
     ]
    }
   ],
   "source": [
    "# Logistic Regression 1\n",
    "X_with_const = X_tr_rtl.copy()\n",
    "X_with_const['intercept'] = 1\n",
    "model_logit = sm.Logit(y_tr_rtl, X_with_const).fit(method='bfgs', maxiter=100)\n",
    "# print(model_logit.summary())\n",
    "\n",
    "# Extract the most significant ind. variables as candidate variables of interest\n",
    "result_df = model_logit.summary2().tables[1]\n",
    "cand_vars_rtl = result_df[result_df['P>|z|']<.05].index.tolist()\n",
    "\n",
    "if 'intercept' not in cand_vars_rtl:\n",
    "    cand_vars_rtl.append('intercept')\n",
    "\n",
    "# Predict again only with cand_vars\n",
    "model_logit_core_rtl = sm.Logit(y_tr_rtl, X_with_const[cand_vars_rtl]).fit(method='bfgs', maxiter=100)\n",
    "X_test_w_const_rtl = X_test_rtl.copy()\n",
    "X_test_w_const_rtl['intercept'] = 1\n",
    "y_prob_rtl = model_logit_core_rtl.predict(X_test_w_const_rtl[cand_vars_rtl])\n",
    "threshold_logit_rtl = np.percentile(y_prob_rtl,(1-len(y_tr_rtl[y_tr_rtl==1])/len(y_tr_rtl))*100)\n",
    "# print(model_logit_core_rtl.summary())\n",
    "\n",
    "result_df = model_logit_core_rtl.summary2().tables[1]"
   ]
  },
  {
   "cell_type": "markdown",
   "id": "f7d595d0",
   "metadata": {},
   "source": [
    "##### Random Forest + Logit"
   ]
  },
  {
   "cell_type": "code",
   "execution_count": 16,
   "id": "bd5b15ec",
   "metadata": {},
   "outputs": [
    {
     "name": "stdout",
     "output_type": "stream",
     "text": [
      "Optimization terminated successfully.\n",
      "         Current function value: 0.302776\n",
      "         Iterations: 48\n",
      "         Function evaluations: 50\n",
      "         Gradient evaluations: 50\n",
      "Accuracy:  0.851451120443548\n"
     ]
    }
   ],
   "source": [
    "# Random Forest\n",
    "catcols_rtl = [x for x in catcols_wo_order_rtl if x in cand_vars_rtl]\n",
    "clf_rtl = RandomForestClassifier(n_estimators=100, max_depth=5, random_state=42)\n",
    "clf_rtl.fit(X_tr_rtl[catcols_rtl], y_tr_rtl)\n",
    "\n",
    "# Logistic Regression with RF\n",
    "lincols_rtl = [x for x in lincols_rtl if x in cand_vars_rtl]\n",
    "X_tr_w_pred = X_tr_rtl[lincols_rtl].copy()\n",
    "X_tr_w_pred['intercept'] = 1\n",
    "X_tr_w_pred['cat_pred'] = clf_rtl.predict(X_tr_rtl[catcols_rtl])\n",
    "model_logit_rf_rtl = sm.Logit(y_tr_rtl,X_tr_w_pred).fit(method='bfgs', maxiter=100)\n",
    "y_pred_rf = clf_rtl.predict(X_test_rtl[catcols_rtl])\n",
    "X_test_w_const_rtl['cat_pred'] = y_pred_rf\n",
    "y_pred_rtl = model_logit_rf_rtl.predict(X_test_w_const_rtl[lincols_rtl+['intercept','cat_pred']])\n",
    "threshold_rf_rtl = np.percentile(y_pred_rtl,(1-len(y_tr_rtl[y_tr_rtl==1])/len(y_tr_rtl))*100)\n",
    "y_pred_rtl = (y_pred_rtl > threshold_rf_rtl).astype(int)\n",
    "print(\"Accuracy: \", accuracy_score(y_test_rtl, y_pred_rtl))"
   ]
  },
  {
   "cell_type": "code",
   "execution_count": 17,
   "id": "fa56488c",
   "metadata": {},
   "outputs": [],
   "source": [
    "del(merged_rtl, X_tr_rtl, X_test_rtl, X_cv_rtl, X_with_const, X_tr_w_pred, X_test_w_const_rtl, y_test_rtl, y_pred_rtl, data_rtl)"
   ]
  },
  {
   "cell_type": "markdown",
   "id": "e44371cd",
   "metadata": {},
   "source": [
    "### NRetail"
   ]
  },
  {
   "cell_type": "code",
   "execution_count": 18,
   "id": "f09944a1",
   "metadata": {},
   "outputs": [
    {
     "name": "stdout",
     "output_type": "stream",
     "text": [
      "Data shape: (1001789, 18)\n",
      "\n",
      "Value counts of STAGE분류구분코드:\n",
      "STAGE분류구분코드\n",
      "1    727464\n",
      "2    274325\n",
      "Name: count, dtype: int64\n",
      "\\연체일수 statistics:\n",
      "count    1.001789e+06\n",
      "mean     1.188823e-01\n",
      "std      2.374238e+00\n",
      "min      0.000000e+00\n",
      "25%      0.000000e+00\n",
      "50%      0.000000e+00\n",
      "75%      0.000000e+00\n",
      "max      8.700000e+01\n",
      "Name: 연체일수, dtype: float64\n",
      "\n",
      "Missing values:\n",
      "c_신용등급변화       0\n",
      "STAGE분류구분코드    0\n",
      "연체일수           0\n",
      "dtype: int64\n",
      "\n",
      "Infinite values:\n",
      "0\n"
     ]
    }
   ],
   "source": [
    "print(\"Data shape:\", merged_nretail.shape)\n",
    "print(\"\\nValue counts of STAGE분류구분코드:\")\n",
    "print(merged_nretail['STAGE분류구분코드'].value_counts())\n",
    "\n",
    "print(\"\\연체일수 statistics:\")\n",
    "print(merged_nretail[ '연체일수'].describe())\n",
    "\n",
    "print(\"\\nMissing values:\")\n",
    "print(merged_nretail[['c_신용등급변화', 'STAGE분류구분코드', '연체일수']].isnull().sum())\n",
    "\n",
    "print(\"\\nInfinite values:\")\n",
    "print(np.isinf(merged_nretail['연체일수']).sum())\n"
   ]
  },
  {
   "cell_type": "markdown",
   "id": "46976411",
   "metadata": {},
   "source": [
    "#### c_신용등급변화"
   ]
  },
  {
   "cell_type": "code",
   "execution_count": 19,
   "id": "4b24c316",
   "metadata": {},
   "outputs": [
    {
     "name": "stdout",
     "output_type": "stream",
     "text": [
      "\n",
      "K-means Results:\n",
      "Threshold: 3.227\n",
      "AUC: 0.581\n",
      "Sensitivity: 0.161\n",
      "Specificity: 1.000\n",
      "Precision: 1.000\n",
      "\n",
      "Gaussian Mixture Model Results:\n",
      "Threshold: 2.273\n",
      "AUC: 0.683\n",
      "Sensitivity: 0.366\n",
      "Specificity: 1.000\n",
      "Precision: 1.000\n",
      "\n",
      "Logistic Regression Results:\n",
      "Threshold: 1.265\n",
      "AUC: 0.792\n",
      "Sensitivity: 0.702\n",
      "Specificity: 0.882\n",
      "Precision: 0.907\n"
     ]
    },
    {
     "name": "stderr",
     "output_type": "stream",
     "text": [
      "C:\\Users\\GT492HL\\AppData\\Local\\Temp\\ipykernel_4844\\2336414521.py:172: UserWarning: Glyph 49888 (\\N{HANGUL SYLLABLE SIN}) missing from font(s) DejaVu Sans.\n",
      "  plt.tight_layout()\n",
      "C:\\Users\\GT492HL\\AppData\\Local\\Temp\\ipykernel_4844\\2336414521.py:172: UserWarning: Glyph 50857 (\\N{HANGUL SYLLABLE YONG}) missing from font(s) DejaVu Sans.\n",
      "  plt.tight_layout()\n",
      "C:\\Users\\GT492HL\\AppData\\Local\\Temp\\ipykernel_4844\\2336414521.py:172: UserWarning: Glyph 46321 (\\N{HANGUL SYLLABLE DEUNG}) missing from font(s) DejaVu Sans.\n",
      "  plt.tight_layout()\n",
      "C:\\Users\\GT492HL\\AppData\\Local\\Temp\\ipykernel_4844\\2336414521.py:172: UserWarning: Glyph 44553 (\\N{HANGUL SYLLABLE GEUB}) missing from font(s) DejaVu Sans.\n",
      "  plt.tight_layout()\n",
      "C:\\Users\\GT492HL\\AppData\\Local\\Temp\\ipykernel_4844\\2336414521.py:172: UserWarning: Glyph 48320 (\\N{HANGUL SYLLABLE BYEON}) missing from font(s) DejaVu Sans.\n",
      "  plt.tight_layout()\n",
      "C:\\Users\\GT492HL\\AppData\\Local\\Temp\\ipykernel_4844\\2336414521.py:172: UserWarning: Glyph 54868 (\\N{HANGUL SYLLABLE HWA}) missing from font(s) DejaVu Sans.\n",
      "  plt.tight_layout()\n",
      "C:\\Users\\GT492HL\\AppData\\Roaming\\Python\\Python313\\site-packages\\IPython\\core\\pylabtools.py:170: UserWarning: Glyph 49888 (\\N{HANGUL SYLLABLE SIN}) missing from font(s) DejaVu Sans.\n",
      "  fig.canvas.print_figure(bytes_io, **kw)\n",
      "C:\\Users\\GT492HL\\AppData\\Roaming\\Python\\Python313\\site-packages\\IPython\\core\\pylabtools.py:170: UserWarning: Glyph 50857 (\\N{HANGUL SYLLABLE YONG}) missing from font(s) DejaVu Sans.\n",
      "  fig.canvas.print_figure(bytes_io, **kw)\n",
      "C:\\Users\\GT492HL\\AppData\\Roaming\\Python\\Python313\\site-packages\\IPython\\core\\pylabtools.py:170: UserWarning: Glyph 46321 (\\N{HANGUL SYLLABLE DEUNG}) missing from font(s) DejaVu Sans.\n",
      "  fig.canvas.print_figure(bytes_io, **kw)\n",
      "C:\\Users\\GT492HL\\AppData\\Roaming\\Python\\Python313\\site-packages\\IPython\\core\\pylabtools.py:170: UserWarning: Glyph 44553 (\\N{HANGUL SYLLABLE GEUB}) missing from font(s) DejaVu Sans.\n",
      "  fig.canvas.print_figure(bytes_io, **kw)\n",
      "C:\\Users\\GT492HL\\AppData\\Roaming\\Python\\Python313\\site-packages\\IPython\\core\\pylabtools.py:170: UserWarning: Glyph 48320 (\\N{HANGUL SYLLABLE BYEON}) missing from font(s) DejaVu Sans.\n",
      "  fig.canvas.print_figure(bytes_io, **kw)\n",
      "C:\\Users\\GT492HL\\AppData\\Roaming\\Python\\Python313\\site-packages\\IPython\\core\\pylabtools.py:170: UserWarning: Glyph 54868 (\\N{HANGUL SYLLABLE HWA}) missing from font(s) DejaVu Sans.\n",
      "  fig.canvas.print_figure(bytes_io, **kw)\n"
     ]
    },
    {
     "data": {
      "image/png": "[encoded data removed]",
      "text/plain": [
       "<Figure size 1500x1000 with 4 Axes>"
      ]
     },
     "metadata": {},
     "output_type": "display_data"
    },
    {
     "name": "stdout",
     "output_type": "stream",
     "text": [
      "\n",
      "Summary Statistics for c_신용등급변화:\n",
      "                count      mean       std  min  25%  50%  75%   max\n",
      "STAGE분류구분코드                                                        \n",
      "1             81416.0  1.117692  0.322245  1.0  1.0  1.0  1.0   2.0\n",
      "2            133689.0  2.372028  1.395205  1.0  1.0  2.0  3.0  10.0\n"
     ]
    }
   ],
   "source": [
    "# Analysis of c_신용등급변화 threshold for retail loans\n",
    "\n",
    "# Prepare data\n",
    "data = merged_nretail[merged_nretail['c_신용등급변화'] > 0]\n",
    "\n",
    "X = data['c_신용등급변화'].values.reshape(-1, 1)\n",
    "y = (data['STAGE분류구분코드'] == '2').astype(int)\n",
    "\n",
    "# 1. K-means Clustering\n",
    "def find_threshold_kmeans(X):\n",
    "    kmeans = KMeans(n_clusters=2, random_state=42)\n",
    "    kmeans.fit(X)\n",
    "    centers = kmeans.cluster_centers_.flatten()\n",
    "    threshold = np.mean(centers)\n",
    "    return threshold, kmeans\n",
    "\n",
    "# 2. Gaussian Mixture Model\n",
    "def find_threshold_gmm(X):\n",
    "    gmm = GaussianMixture(n_components=2, random_state=42)\n",
    "    gmm.fit(X)\n",
    "    centers = gmm.means_.flatten()\n",
    "    threshold = np.mean(centers)  # Use mean of centers as threshold\n",
    "    return threshold, gmm\n",
    "\n",
    "# 3. Logistic Regression\n",
    "def find_threshold_logistic(X, y):\n",
    "    lr = LogisticRegression(random_state=42)\n",
    "    lr.fit(X, y)\n",
    "    coef = lr.coef_[0][0]\n",
    "    threshold = -lr.intercept_[0] / coef  # Find decision boundary\n",
    "    coef_sign = np.sign(coef)\n",
    "    return threshold, lr, coef_sign\n",
    "\n",
    "# # 4. ROC Curve Analysis\n",
    "# def find_threshold_roc(X, y):\n",
    "#     # Sort unique values for potential thresholds\n",
    "#     thresholds = np.sort(np.unique(X))\n",
    "    \n",
    "#     # Calculate ROC curve\n",
    "#     fpr, tpr, threshold_values = roc_curve(y, X)\n",
    "    \n",
    "#     # Find optimal threshold using Youden's J statistic\n",
    "#     j_scores = tpr - fpr\n",
    "#     optimal_idx = np.argmax(j_scores)\n",
    "#     threshold = threshold_values[optimal_idx]\n",
    "    \n",
    "#     return threshold, (fpr, tpr, threshold_values)\n",
    "\n",
    "# Apply all methods\n",
    "kmeans_threshold, kmeans_model = find_threshold_kmeans(X)\n",
    "gmm_threshold, gmm_model = find_threshold_gmm(X)\n",
    "logistic_threshold, logistic_model, logistic_sign = find_threshold_logistic(X, y)\n",
    "# roc_threshold, roc_results = find_threshold_roc(X, y)\n",
    "\n",
    "# Evaluate all methods\n",
    "def evaluate_threshold(X, y, threshold, method_name, *, coef_sign=1):\n",
    "    X = np.asarray(X).ravel()\n",
    "    y_pred = (X > threshold if coef_sign > 0 else (X < threshold))\n",
    "    auc = roc_auc_score(y, y_pred)\n",
    "    \n",
    "    # Calculate additional metrics\n",
    "    tp = np.sum((y == 1) & (y_pred == 1))\n",
    "    fp = np.sum((y == 0) & (y_pred == 1))\n",
    "    tn = np.sum((y == 0) & (y_pred == 0))\n",
    "    fn = np.sum((y == 1) & (y_pred == 0))\n",
    "    \n",
    "    sensitivity = tp / (tp + fn) if (tp + fn) > 0 else 0\n",
    "    specificity = tn / (tn + fp) if (tn + fp) > 0 else 0\n",
    "    precision = tp / (tp + fp) if (tp + fp) > 0 else 0\n",
    "    \n",
    "    print(f\"\\n{method_name} Results:\")\n",
    "    print(f\"Threshold: {threshold:.3f}\")\n",
    "    print(f\"AUC: {auc:.3f}\")\n",
    "    print(f\"Sensitivity: {sensitivity:.3f}\")\n",
    "    print(f\"Specificity: {specificity:.3f}\")\n",
    "    print(f\"Precision: {precision:.3f}\")\n",
    "    \n",
    "    return {\n",
    "        'threshold': threshold,\n",
    "        'auc': auc,\n",
    "        'sensitivity': sensitivity,\n",
    "        'specificity': specificity,\n",
    "        'precision': precision\n",
    "    }\n",
    "\n",
    "# Evaluate all methods\n",
    "results = {}\n",
    "results['K-means'] = evaluate_threshold(X, y, kmeans_threshold, 'K-means')\n",
    "results['GMM'] = evaluate_threshold(X, y, gmm_threshold, 'Gaussian Mixture Model')\n",
    "results['Logistic'] = evaluate_threshold(X, y, logistic_threshold, 'Logistic Regression', coef_sign=logistic_sign)\n",
    "# results['ROC'] = evaluate_threshold(X, y, roc_threshold, 'ROC Curve')\n",
    "\n",
    "# Analyze risk factors transitions\n",
    "risk_analysis   = []          # for bar chart\n",
    "stage2_probs    = []          # y‑axis for probability line\n",
    "account_counts  = []          # optional, retained for completeness\n",
    "\n",
    "risk_values = sorted(data['c_신용등급변화'].unique())\n",
    "\n",
    "for v in risk_values:\n",
    "    mask       = data['c_신용등급변화'] == v\n",
    "    n_accounts = mask.sum()\n",
    "    if n_accounts == 0:\n",
    "        continue\n",
    "    stage2_cnt = ((data['STAGE분류구분코드'] == '2') & mask).sum()\n",
    "\n",
    "    # line‑plot arrays\n",
    "    stage2_probs   .append(stage2_cnt / n_accounts)\n",
    "    account_counts .append(n_accounts)\n",
    "\n",
    "    # bar‑chart DataFrame (≥100 rule copied from 연체일수 script)\n",
    "    if n_accounts >= 100:\n",
    "        risk_analysis.append({\n",
    "            'risk'           : v,\n",
    "            'total_accounts' : int(n_accounts),\n",
    "            'stage2_count'   : int(stage2_cnt),\n",
    "            'stage2_prob'    : stage2_cnt / n_accounts,\n",
    "        })\n",
    "\n",
    "risk_df = pd.DataFrame(risk_analysis)\n",
    "\n",
    "# Visualization\n",
    "plt.figure(figsize=(15, 10))\n",
    "\n",
    "threshold_colors = {\n",
    "    'K-means'  : 'tab:blue',\n",
    "    'GMM'      : 'tab:green',\n",
    "    'Logistic' : 'tab:purple',\n",
    "    'ROC'      : 'tab:orange',\n",
    "}\n",
    "\n",
    "\n",
    "# --- (1,1) Stage‑2 probability for first 30 unique values ------\n",
    "plt.subplot(2, 2, 1)\n",
    "plt.plot(risk_values[:30], stage2_probs[:30],\n",
    "         marker='o', label='Stage 2 Probability')\n",
    "plt.axvline(x=30, color='r', ls='--', label='30 benchmark')\n",
    "for m, r in results.items():\n",
    "    if r['threshold'] <= 30:\n",
    "        plt.axvline(r['threshold'], ls=':', color=threshold_colors[m],\n",
    "                    label=f'{m} threshold')\n",
    "plt.title('Stage 2 Probability (First 30 Units)')\n",
    "plt.xlabel('c_신용등급변화')\n",
    "plt.ylabel('Probability of Stage 2')\n",
    "plt.legend()\n",
    "\n",
    "# --- (1,2) Account distribution (log y‑scale) ------------------\n",
    "plt.subplot(2, 2, 2)\n",
    "plt.bar(risk_df['risk'], risk_df['total_accounts'])\n",
    "plt.yscale('log')\n",
    "plt.title('Account Distribution by c_신용등급변화')\n",
    "plt.xlabel('c_신용등급변화')\n",
    "plt.ylabel('Number of Accounts')\n",
    "\n",
    "# --- (2,1) KDE by stage with coloured thresholds ---------------\n",
    "plt.subplot(2, 2, 3)\n",
    "sns.kdeplot(data=data, x='c_신용등급변화',\n",
    "            hue='STAGE분류구분코드', common_norm=False)\n",
    "for m, r in results.items():\n",
    "    plt.axvline(r['threshold'], ls='--', color=threshold_colors[m],\n",
    "                label=f'{m} threshold')\n",
    "plt.title('Distribution of c_신용등급변화 by Stage')\n",
    "plt.legend()\n",
    "\n",
    "# --- (2,2) Threshold values per method -------------------------\n",
    "plt.subplot(2, 2, 4)\n",
    "plt.bar(results.keys(), [r['threshold'] for r in results.values()],\n",
    "        color=[threshold_colors[k] for k in results.keys()])\n",
    "plt.title('Threshold Values by Method')\n",
    "plt.xticks(rotation=45)\n",
    "\n",
    "plt.tight_layout()\n",
    "plt.show()\n",
    "\n",
    "# Print summary statistics\n",
    "print(\"\\nSummary Statistics for c_신용등급변화:\")\n",
    "print(data.groupby('STAGE분류구분코드')['c_신용등급변화'].describe())\n",
    "\n",
    "\n",
    "# summary_thresholds\n",
    "thresholds_in_order = [results['K-means']['threshold'],\n",
    "                       results['GMM']['threshold'],\n",
    "                       results['Logistic']['threshold']]\n",
    "append_threshold_record(category   = 'nretail',          \n",
    "                        risk_factor= 'c_신용등급변화',  \n",
    "                        thresholds = thresholds_in_order)"
   ]
  },
  {
   "cell_type": "markdown",
   "id": "f4a4fb5a",
   "metadata": {},
   "source": [
    "#### 연체일수"
   ]
  },
  {
   "cell_type": "code",
   "execution_count": 20,
   "id": "aca52f81",
   "metadata": {},
   "outputs": [
    {
     "name": "stdout",
     "output_type": "stream",
     "text": [
      "\n",
      "K-means Results:\n",
      "Threshold: 13.812\n",
      "AUC: 0.504\n",
      "Sensitivity: 0.009\n",
      "Specificity: 1.000\n",
      "Precision: 0.968\n",
      "\n",
      "Gaussian Mixture Model Results:\n",
      "Threshold: 8.966\n",
      "AUC: 0.505\n",
      "Sensitivity: 0.010\n",
      "Specificity: 1.000\n",
      "Precision: 0.946\n",
      "\n",
      "Logistic Regression Results:\n",
      "Threshold: 4.518\n",
      "AUC: 0.505\n",
      "Sensitivity: 0.011\n",
      "Specificity: 1.000\n",
      "Precision: 0.917\n"
     ]
    },
    {
     "name": "stderr",
     "output_type": "stream",
     "text": [
      "C:\\Users\\GT492HL\\AppData\\Local\\Temp\\ipykernel_4844\\3480983435.py:169: UserWarning: Glyph 50672 (\\N{HANGUL SYLLABLE YEON}) missing from font(s) DejaVu Sans.\n",
      "  plt.tight_layout()\n",
      "C:\\Users\\GT492HL\\AppData\\Local\\Temp\\ipykernel_4844\\3480983435.py:169: UserWarning: Glyph 52404 (\\N{HANGUL SYLLABLE CE}) missing from font(s) DejaVu Sans.\n",
      "  plt.tight_layout()\n",
      "C:\\Users\\GT492HL\\AppData\\Local\\Temp\\ipykernel_4844\\3480983435.py:169: UserWarning: Glyph 51068 (\\N{HANGUL SYLLABLE IL}) missing from font(s) DejaVu Sans.\n",
      "  plt.tight_layout()\n",
      "C:\\Users\\GT492HL\\AppData\\Local\\Temp\\ipykernel_4844\\3480983435.py:169: UserWarning: Glyph 49688 (\\N{HANGUL SYLLABLE SU}) missing from font(s) DejaVu Sans.\n",
      "  plt.tight_layout()\n",
      "C:\\Users\\GT492HL\\AppData\\Local\\Temp\\ipykernel_4844\\3480983435.py:169: UserWarning: Glyph 48516 (\\N{HANGUL SYLLABLE BUN}) missing from font(s) DejaVu Sans.\n",
      "  plt.tight_layout()\n",
      "C:\\Users\\GT492HL\\AppData\\Local\\Temp\\ipykernel_4844\\3480983435.py:169: UserWarning: Glyph 47448 (\\N{HANGUL SYLLABLE RYU}) missing from font(s) DejaVu Sans.\n",
      "  plt.tight_layout()\n",
      "C:\\Users\\GT492HL\\AppData\\Local\\Temp\\ipykernel_4844\\3480983435.py:169: UserWarning: Glyph 44396 (\\N{HANGUL SYLLABLE GU}) missing from font(s) DejaVu Sans.\n",
      "  plt.tight_layout()\n",
      "C:\\Users\\GT492HL\\AppData\\Local\\Temp\\ipykernel_4844\\3480983435.py:169: UserWarning: Glyph 53076 (\\N{HANGUL SYLLABLE KO}) missing from font(s) DejaVu Sans.\n",
      "  plt.tight_layout()\n",
      "C:\\Users\\GT492HL\\AppData\\Local\\Temp\\ipykernel_4844\\3480983435.py:169: UserWarning: Glyph 46300 (\\N{HANGUL SYLLABLE DEU}) missing from font(s) DejaVu Sans.\n",
      "  plt.tight_layout()\n",
      "C:\\Users\\GT492HL\\AppData\\Roaming\\Python\\Python313\\site-packages\\IPython\\core\\pylabtools.py:170: UserWarning: Glyph 50672 (\\N{HANGUL SYLLABLE YEON}) missing from font(s) DejaVu Sans.\n",
      "  fig.canvas.print_figure(bytes_io, **kw)\n",
      "C:\\Users\\GT492HL\\AppData\\Roaming\\Python\\Python313\\site-packages\\IPython\\core\\pylabtools.py:170: UserWarning: Glyph 52404 (\\N{HANGUL SYLLABLE CE}) missing from font(s) DejaVu Sans.\n",
      "  fig.canvas.print_figure(bytes_io, **kw)\n",
      "C:\\Users\\GT492HL\\AppData\\Roaming\\Python\\Python313\\site-packages\\IPython\\core\\pylabtools.py:170: UserWarning: Glyph 51068 (\\N{HANGUL SYLLABLE IL}) missing from font(s) DejaVu Sans.\n",
      "  fig.canvas.print_figure(bytes_io, **kw)\n",
      "C:\\Users\\GT492HL\\AppData\\Roaming\\Python\\Python313\\site-packages\\IPython\\core\\pylabtools.py:170: UserWarning: Glyph 49688 (\\N{HANGUL SYLLABLE SU}) missing from font(s) DejaVu Sans.\n",
      "  fig.canvas.print_figure(bytes_io, **kw)\n",
      "C:\\Users\\GT492HL\\AppData\\Roaming\\Python\\Python313\\site-packages\\IPython\\core\\pylabtools.py:170: UserWarning: Glyph 48516 (\\N{HANGUL SYLLABLE BUN}) missing from font(s) DejaVu Sans.\n",
      "  fig.canvas.print_figure(bytes_io, **kw)\n",
      "C:\\Users\\GT492HL\\AppData\\Roaming\\Python\\Python313\\site-packages\\IPython\\core\\pylabtools.py:170: UserWarning: Glyph 47448 (\\N{HANGUL SYLLABLE RYU}) missing from font(s) DejaVu Sans.\n",
      "  fig.canvas.print_figure(bytes_io, **kw)\n",
      "C:\\Users\\GT492HL\\AppData\\Roaming\\Python\\Python313\\site-packages\\IPython\\core\\pylabtools.py:170: UserWarning: Glyph 44396 (\\N{HANGUL SYLLABLE GU}) missing from font(s) DejaVu Sans.\n",
      "  fig.canvas.print_figure(bytes_io, **kw)\n",
      "C:\\Users\\GT492HL\\AppData\\Roaming\\Python\\Python313\\site-packages\\IPython\\core\\pylabtools.py:170: UserWarning: Glyph 53076 (\\N{HANGUL SYLLABLE KO}) missing from font(s) DejaVu Sans.\n",
      "  fig.canvas.print_figure(bytes_io, **kw)\n",
      "C:\\Users\\GT492HL\\AppData\\Roaming\\Python\\Python313\\site-packages\\IPython\\core\\pylabtools.py:170: UserWarning: Glyph 46300 (\\N{HANGUL SYLLABLE DEU}) missing from font(s) DejaVu Sans.\n",
      "  fig.canvas.print_figure(bytes_io, **kw)\n"
     ]
    },
    {
     "data": {
      "image/png": "[encoded data removed]",
      "text/plain": [
       "<Figure size 1500x1000 with 4 Axes>"
      ]
     },
     "metadata": {},
     "output_type": "display_data"
    },
    {
     "name": "stdout",
     "output_type": "stream",
     "text": [
      "\n",
      "Summary Statistics for 연체일수:\n",
      "                count      mean       std  min  25%  50%  75%   max\n",
      "STAGE분류구분코드                                                        \n",
      "1            727464.0  0.005842  0.269712  0.0  0.0  0.0  0.0  29.0\n",
      "2            274325.0  0.277117  2.695293  0.0  0.0  0.0  0.0  30.0\n"
     ]
    }
   ],
   "source": [
    "# Analysis of 연체일수 weighted threshold for retail loans\n",
    "\n",
    "# Prepare data\n",
    "data = merged_nretail[merged_nretail['연체일수'] >= 0]\n",
    "data.loc[data['연체일수'] >= 30, '연체일수'] = 30\n",
    "\n",
    "X = data['연체일수'].values.reshape(-1, 1)\n",
    "y = (data['STAGE분류구분코드'] == '2').astype(int)\n",
    "\n",
    "# 1. K-means Clustering\n",
    "def find_threshold_kmeans(X):\n",
    "    kmeans = KMeans(n_clusters=2, random_state=42)\n",
    "    kmeans.fit(X)\n",
    "    centers = kmeans.cluster_centers_.flatten()\n",
    "    threshold = np.mean(centers)\n",
    "    return threshold, kmeans\n",
    "\n",
    "# 2. Gaussian Mixture Model\n",
    "def find_threshold_gmm(X):\n",
    "    gmm = GaussianMixture(n_components=2, random_state=42)\n",
    "    gmm.fit(X)\n",
    "    centers = gmm.means_.flatten()\n",
    "    threshold = np.mean(centers)  # Use mean of centers as threshold\n",
    "    return threshold, gmm\n",
    "\n",
    "# 3. Logistic Regression\n",
    "def find_threshold_logistic(X, y):\n",
    "    lr = LogisticRegression(random_state=42)\n",
    "    lr.fit(X, y)\n",
    "    threshold = -lr.intercept_[0] / lr.coef_[0][0]  # Find decision boundary\n",
    "    return threshold, lr\n",
    "\n",
    "# # 4. ROC Curve Analysis\n",
    "# def find_threshold_roc(X, y):\n",
    "#     # Sort unique values for potential thresholds\n",
    "#     thresholds = np.sort(np.unique(X))\n",
    "    \n",
    "#     # Calculate ROC curve\n",
    "#     fpr, tpr, threshold_values = roc_curve(y, X)\n",
    "    \n",
    "#     # Find optimal threshold using Youden's J statistic\n",
    "#     j_scores = tpr - fpr\n",
    "#     optimal_idx = np.argmax(j_scores)\n",
    "#     threshold = threshold_values[optimal_idx]\n",
    "    \n",
    "#     return threshold, (fpr, tpr, threshold_values)\n",
    "\n",
    "# Apply all methods\n",
    "kmeans_threshold, kmeans_model = find_threshold_kmeans(X)\n",
    "gmm_threshold, gmm_model = find_threshold_gmm(X)\n",
    "logistic_threshold, logistic_model = find_threshold_logistic(X, y)\n",
    "# roc_threshold, roc_results = find_threshold_roc(X, y)\n",
    "\n",
    "# Evaluate all methods\n",
    "def evaluate_threshold(X, y, threshold, method_name):\n",
    "    y_pred = (np.asarray(X).ravel() > threshold)\n",
    "    auc = roc_auc_score(y, y_pred)\n",
    "    \n",
    "    # Calculate additional metrics\n",
    "    tp = np.sum((y == 1) & (y_pred == 1))\n",
    "    fp = np.sum((y == 0) & (y_pred == 1))\n",
    "    tn = np.sum((y == 0) & (y_pred == 0))\n",
    "    fn = np.sum((y == 1) & (y_pred == 0))\n",
    "    \n",
    "    sensitivity = tp / (tp + fn) if (tp + fn) > 0 else 0\n",
    "    specificity = tn / (tn + fp) if (tn + fp) > 0 else 0\n",
    "    precision = tp / (tp + fp) if (tp + fp) > 0 else 0\n",
    "    \n",
    "    print(f\"\\n{method_name} Results:\")\n",
    "    print(f\"Threshold: {threshold:.3f}\")\n",
    "    print(f\"AUC: {auc:.3f}\")\n",
    "    print(f\"Sensitivity: {sensitivity:.3f}\")\n",
    "    print(f\"Specificity: {specificity:.3f}\")\n",
    "    print(f\"Precision: {precision:.3f}\")\n",
    "    \n",
    "    return {\n",
    "        'threshold': threshold,\n",
    "        'auc': auc,\n",
    "        'sensitivity': sensitivity,\n",
    "        'specificity': specificity,\n",
    "        'precision': precision\n",
    "    }\n",
    "\n",
    "# Evaluate all methods\n",
    "results = {}\n",
    "results['K-means'] = evaluate_threshold(X, y, kmeans_threshold, 'K-means')\n",
    "results['GMM'] = evaluate_threshold(X, y, gmm_threshold, 'Gaussian Mixture Model')\n",
    "results['Logistic'] = evaluate_threshold(X, y, logistic_threshold, 'Logistic Regression')\n",
    "# results['ROC'] = evaluate_threshold(X, y, roc_threshold, 'ROC Curve')\n",
    "\n",
    "# Analyze risk factor transitions\n",
    "risk_analysis   = []          # for Plot 2\n",
    "stage2_probs    = []          # for Plot 1\n",
    "account_counts  = []          # for Plot 1\n",
    "\n",
    "risk_values = sorted(data['연체일수'].unique())\n",
    "\n",
    "for risk in risk_values:\n",
    "    mask           = data['연체일수'] == risk\n",
    "    n_accounts     = mask.sum()\n",
    "\n",
    "    # ---- Plot‑1 arrays ----\n",
    "    if n_accounts:                           \n",
    "        stage2_cnt = ((data['STAGE분류구분코드'] == '2') & mask).sum()\n",
    "        stage2_probs  .append(stage2_cnt / n_accounts)\n",
    "        account_counts.append(n_accounts)\n",
    "\n",
    "    # ---- Plot‑2 frame ----------\n",
    "    if n_accounts >= 100:                   \n",
    "        risk_analysis.append({\n",
    "            'risk'           : risk,\n",
    "            'total_accounts' : int(n_accounts),\n",
    "            'stage2_count'   : int(stage2_cnt),\n",
    "            'stage2_prob'    : stage2_cnt / n_accounts,\n",
    "        })\n",
    "\n",
    "risk_df = pd.DataFrame(risk_analysis)      \n",
    "\n",
    "# Visualization\n",
    "plt.figure(figsize=(15, 10))\n",
    "\n",
    "threshold_colors = {\n",
    "    'K-means'  : 'tab:blue',     # or any Matplotlib‑named colors you like\n",
    "    'GMM'      : 'tab:green',\n",
    "    'Logistic' : 'tab:purple',\n",
    "    'ROC'      : 'tab:orange',\n",
    "}\n",
    "\n",
    "# --- (1,1) Stage‑2 probability, first 30 days ----------------\n",
    "plt.subplot(2, 2, 1)\n",
    "plt.plot(risk_values[:30], stage2_probs[:30],\n",
    "         marker='o', label='Stage 2 Probability')\n",
    "plt.axvline(x=30, color='r', ls='--', label='30 DPD')\n",
    "\n",
    "for m, r in results.items():\n",
    "    if r['threshold'] <= 30:\n",
    "        plt.axvline(r['threshold'], ls=':', color=threshold_colors[m],\n",
    "                    label=f'{m} threshold')\n",
    "\n",
    "plt.title('Stage 2 Probability (First 30 Days)')\n",
    "plt.xlabel('Days Past Due')\n",
    "plt.ylabel('Probability of Stage 2')\n",
    "plt.legend()\n",
    "\n",
    "# --- (1,2) Account distribution (log‑scale) -------------------\n",
    "plt.subplot(2, 2, 2)\n",
    "plt.bar(risk_df['risk'], risk_df['total_accounts'])\n",
    "plt.yscale('log')\n",
    "plt.title('Account Distribution by DPD')\n",
    "plt.xlabel('Days Past Due')\n",
    "plt.ylabel('Number of Accounts')\n",
    "\n",
    "# --- (2,1) KDE distribution by stage --------------------------\n",
    "plt.subplot(2, 2, 3)\n",
    "sns.kdeplot(data=data, x='연체일수',\n",
    "            hue='STAGE분류구분코드', common_norm=False)\n",
    "\n",
    "for m, r in results.items():\n",
    "    plt.axvline(r['threshold'], ls='--', color=threshold_colors[m],\n",
    "                label=f'{m} threshold')\n",
    "\n",
    "# --- (2,2) Threshold values per method ------------------------\n",
    "plt.subplot(2, 2, 4)\n",
    "plt.bar(results.keys(), [r['threshold'] for r in results.values()],\n",
    "        color=[threshold_colors[k] for k in results.keys()])\n",
    "plt.title('Threshold Values by Method')\n",
    "plt.xticks(rotation=45)\n",
    "\n",
    "plt.tight_layout()\n",
    "plt.show()\n",
    "\n",
    "# Print summary statistics\n",
    "print(\"\\nSummary Statistics for 연체일수:\")\n",
    "print(data.groupby('STAGE분류구분코드')['연체일수'].describe())\n",
    "\n",
    "\n",
    "# summary_thresholds\n",
    "thresholds_in_order = [results['K-means']['threshold'],\n",
    "                       results['GMM']['threshold'],\n",
    "                       results['Logistic']['threshold']]\n",
    "append_threshold_record(category   = 'nretail',          \n",
    "                        risk_factor= '연체일수',  \n",
    "                        thresholds = thresholds_in_order)"
   ]
  },
  {
   "cell_type": "markdown",
   "id": "047e8c56",
   "metadata": {},
   "source": [
    "#### Classifier Enhanced"
   ]
  },
  {
   "cell_type": "code",
   "execution_count": 21,
   "id": "6fef1dc0",
   "metadata": {},
   "outputs": [
    {
     "name": "stderr",
     "output_type": "stream",
     "text": [
      "C:\\Users\\GT492HL\\AppData\\Local\\Temp\\ipykernel_4844\\1997707041.py:9: SettingWithCopyWarning: \n",
      "A value is trying to be set on a copy of a slice from a DataFrame.\n",
      "Try using .loc[row_indexer,col_indexer] = value instead\n",
      "\n",
      "See the caveats in the documentation: https://pandas.pydata.org/pandas-docs/stable/user_guide/indexing.html#returning-a-view-versus-a-copy\n",
      "  merged_cop['기준일'] = pd.to_datetime(merged_cop['기준년월'], format='%Y%m')\n",
      "C:\\Users\\GT492HL\\AppData\\Local\\Temp\\ipykernel_4844\\1997707041.py:10: SettingWithCopyWarning: \n",
      "A value is trying to be set on a copy of a slice from a DataFrame.\n",
      "Try using .loc[row_indexer,col_indexer] = value instead\n",
      "\n",
      "See the caveats in the documentation: https://pandas.pydata.org/pandas-docs/stable/user_guide/indexing.html#returning-a-view-versus-a-copy\n",
      "  merged_cop['1기STAGE'] = merged_cop[['기준일','계좌번호','BS계정과목코드','c_order','STAGE분류구분코드']].groupby(['계좌번호','BS계정과목코드','c_order'])['STAGE분류구분코드'].shift(-1)\n",
      "C:\\Users\\GT492HL\\AppData\\Local\\Temp\\ipykernel_4844\\1997707041.py:11: SettingWithCopyWarning: \n",
      "A value is trying to be set on a copy of a slice from a DataFrame.\n",
      "Try using .loc[row_indexer,col_indexer] = value instead\n",
      "\n",
      "See the caveats in the documentation: https://pandas.pydata.org/pandas-docs/stable/user_guide/indexing.html#returning-a-view-versus-a-copy\n",
      "  merged_cop['2기STAGE'] = merged_cop[['기준일','계좌번호','BS계정과목코드','c_order','STAGE분류구분코드']].groupby(['계좌번호','BS계정과목코드','c_order'])['STAGE분류구분코드'].shift(-2)\n",
      "C:\\Users\\GT492HL\\AppData\\Local\\Temp\\ipykernel_4844\\1997707041.py:12: SettingWithCopyWarning: \n",
      "A value is trying to be set on a copy of a slice from a DataFrame.\n",
      "Try using .loc[row_indexer,col_indexer] = value instead\n",
      "\n",
      "See the caveats in the documentation: https://pandas.pydata.org/pandas-docs/stable/user_guide/indexing.html#returning-a-view-versus-a-copy\n",
      "  merged_cop['3기STAGE'] = merged_cop[['기준일','계좌번호','BS계정과목코드','c_order','STAGE분류구분코드']].groupby(['계좌번호','BS계정과목코드','c_order'])['STAGE분류구분코드'].shift(-3)\n",
      "C:\\Users\\GT492HL\\AppData\\Local\\Temp\\ipykernel_4844\\1997707041.py:13: SettingWithCopyWarning: \n",
      "A value is trying to be set on a copy of a slice from a DataFrame.\n",
      "Try using .loc[row_indexer,col_indexer] = value instead\n",
      "\n",
      "See the caveats in the documentation: https://pandas.pydata.org/pandas-docs/stable/user_guide/indexing.html#returning-a-view-versus-a-copy\n",
      "  merged_cop['4기STAGE'] = merged_cop[['기준일','계좌번호','BS계정과목코드','c_order','STAGE분류구분코드']].groupby(['계좌번호','BS계정과목코드','c_order'])['STAGE분류구분코드'].shift(-4)\n"
     ]
    }
   ],
   "source": [
    "# 분석 대상 자료 추출\n",
    "a = merged['계정과목명']!='신용카드채권'\n",
    "b = merged['계좌번호'].isin(jump_accounts['계좌번호'].tolist())==False\n",
    "c = merged['c_EAD합'] > 0\n",
    "d = merged['소매여부'] == 'N'\n",
    "merged_cop = merged[a&b&c&d]\n",
    "\n",
    "# Stage 1 to 2 or 3 (전체 분기 대상)\n",
    "merged_cop['기준일'] = pd.to_datetime(merged_cop['기준년월'], format='%Y%m')\n",
    "merged_cop['1기STAGE'] = merged_cop[['기준일','계좌번호','BS계정과목코드','c_order','STAGE분류구분코드']].groupby(['계좌번호','BS계정과목코드','c_order'])['STAGE분류구분코드'].shift(-1)\n",
    "merged_cop['2기STAGE'] = merged_cop[['기준일','계좌번호','BS계정과목코드','c_order','STAGE분류구분코드']].groupby(['계좌번호','BS계정과목코드','c_order'])['STAGE분류구분코드'].shift(-2)\n",
    "merged_cop['3기STAGE'] = merged_cop[['기준일','계좌번호','BS계정과목코드','c_order','STAGE분류구분코드']].groupby(['계좌번호','BS계정과목코드','c_order'])['STAGE분류구분코드'].shift(-3)\n",
    "merged_cop['4기STAGE'] = merged_cop[['기준일','계좌번호','BS계정과목코드','c_order','STAGE분류구분코드']].groupby(['계좌번호','BS계정과목코드','c_order'])['STAGE분류구분코드'].shift(-4)\n",
    "\n",
    "merged_cop = merged_cop[merged_cop['STAGE분류구분코드']=='1']\n",
    "merged_cop['STAGE하락'] = np.nan\n",
    "merged_cop.loc[(merged_cop['1기STAGE']=='1')|(merged_cop['2기STAGE']=='1')|(merged_cop['3기STAGE']=='1')|(merged_cop['4기STAGE']=='1'),'STAGE하락'] = 0\n",
    "merged_cop.loc[merged_cop['1기STAGE'].isin(['2','3']),'STAGE하락'] = 1\n",
    "merged_cop.loc[merged_cop['2기STAGE'].isin(['2','3']),'STAGE하락'] = 1\n",
    "merged_cop.loc[merged_cop['3기STAGE'].isin(['2','3']),'STAGE하락'] = 1\n",
    "merged_cop.loc[merged_cop['4기STAGE'].isin(['2','3']),'STAGE하락'] = 1\n",
    "# merged_cop['STAGE하락'].value_counts(dropna=False)\n",
    "\n",
    "data_cop = merged_cop[(merged_cop['기준년월'].isin(period_order[:-4]))&(merged_cop['STAGE하락'].isna()==False)].copy()"
   ]
  },
  {
   "cell_type": "code",
   "execution_count": 22,
   "id": "0b23cdb7",
   "metadata": {},
   "outputs": [
    {
     "name": "stdout",
     "output_type": "stream",
     "text": [
      "Full Data: 213,253\n",
      "Drop Null: 170,758\n",
      "Surv.Rate: 80.07%\n"
     ]
    }
   ],
   "source": [
    "# 변수 성격별 컬럼 구분\n",
    "catcols_with_order_cop = ['당기말신용등급숫자','전기말신용등급숫자','최초신용등급숫자']\n",
    "catcols_wo_order_cop = ['산업분류코드','연체여부','금융보증계약여부','담보여부','난내난외구분코드',\n",
    "                        '기업규모분류','론리뷰판정등급','조기경보','자본잠식여부','건전성분류요주의이하',\n",
    "                        '상환방법구분코드']\n",
    "catcols_cop_org = catcols_with_order_cop+catcols_wo_order_cop\n",
    "lincols_cop_org = ['유효이자율','연체일수','이자보상배율_현재','이자보상배율_1년전','이자보상배율_2년전',\n",
    "                   '영업활동현금흐름액_1기','영업활동현금흐름액_2기','영업활동현금흐름액_3기',\n",
    "                   '당기이자지급후현금흐름','전기이자지급후현금흐름','전전기이자지급후현금흐름',\n",
    "                   '당기순이익','전기순이익','전전기순이익','c_신용등급변화']\n",
    "fin_col = ['이자보상배율_현재','이자보상배율_1년전','이자보상배율_2년전',\n",
    "            '영업활동현금흐름액_1기','영업활동현금흐름액_2기','영업활동현금흐름액_3기',\n",
    "            '당기이자지급후현금흐름','전기이자지급후현금흐름','전전기이자지급후현금흐름',\n",
    "            '당기순이익','전기순이익','전전기순이익']\n",
    "# 재무정보 0 자료 null 처리\n",
    "for col in fin_col:\n",
    "    data_cop.loc[data_cop[col]==0,col] = np.nan\n",
    "\n",
    "# 카테고리형 자료 자료형 수치화\n",
    "data_cop[catcols_cop_org] = data_cop[catcols_cop_org].astype('category')\n",
    "data_cop[catcols_cop_org] = data_cop[catcols_cop_org].apply(lambda x: x.cat.codes)\n",
    "\n",
    "print(f'Full Data: {len(data_cop):,}')\n",
    "print(f'Drop Null: {len(data_cop[catcols_cop_org+lincols_cop_org+['STAGE하락']].dropna()):,}')\n",
    "print(f'Surv.Rate: {len(data_cop[catcols_cop_org+lincols_cop_org+['STAGE하락']].dropna())/len(data_cop)*100:.2f}%')\n",
    "\n",
    "data_cop = data_cop[catcols_cop_org+lincols_cop_org+['STAGE하락']].dropna()\n",
    "\n",
    "# 수치형 자료 Normalization\n",
    "# Variable with high skewness - Log Transformation\n",
    "def norm(srs):\n",
    "    srs = (srs-min(srs))/(max(srs)-min(srs))\n",
    "    series = np.exp(srs).div(1+np.exp(srs))\n",
    "    return series\n",
    "for x in lincols_cop_org:\n",
    "    data_cop[x] = norm(data_cop[x])\n",
    "    _, p = stats.skewtest(data_cop[x])\n",
    "    if p < 0.05:\n",
    "        data_cop[x] = np.log(data_cop[x])"
   ]
  },
  {
   "cell_type": "markdown",
   "id": "bc9664e8",
   "metadata": {},
   "source": [
    "유의미한 변수 추출"
   ]
  },
  {
   "cell_type": "code",
   "execution_count": 23,
   "id": "3ee3ecab",
   "metadata": {},
   "outputs": [
    {
     "data": {
      "text/plain": [
       "['연체일수',\n",
       " '이자보상배율_1년전',\n",
       " '이자보상배율_2년전',\n",
       " '이자보상배율_현재',\n",
       " '유효이자율',\n",
       " '전기말신용등급숫자',\n",
       " '당기말신용등급숫자',\n",
       " '최초신용등급숫자',\n",
       " 'c_신용등급변화']"
      ]
     },
     "execution_count": 23,
     "metadata": {},
     "output_type": "execute_result"
    }
   ],
   "source": [
    "# 수치형 자료\n",
    "# 개별 변수 평가 (Reward: high correlation with 'STAGE하락', Punish: high correlation with other variables)\n",
    "corr_mat = data_cop[catcols_with_order_cop+lincols_cop_org+['STAGE하락']].corr()\n",
    "score_mat = pd.DataFrame(index=catcols_with_order_cop+lincols_cop_org, columns=['STAGE하락','최대다중공선성','점수'])\n",
    "for x in catcols_with_order_cop+lincols_cop_org:\n",
    "    score_mat.loc[x,'STAGE하락'] = corr_mat.loc[x,'STAGE하락']\n",
    "    score_mat.loc[x,'최대다중공선성'] = corr_mat.loc[x,catcols_with_order_cop+lincols_cop_org].nlargest(2).iloc[-1]\n",
    "score_mat['점수'] = abs(score_mat['STAGE하락'].div(score_mat['최대다중공선성']))\n",
    "score_mat = score_mat.sort_values('점수',ascending=False)\n",
    "# score_mat\n",
    "\n",
    "# 점수 기준 0.01 이상 변수 확인\n",
    "lincols_cop = score_mat[score_mat['점수']>.01].index.tolist()\n",
    "lincols_cop\n",
    "\n",
    "# 다중공선성 재평가\n",
    "corr_mat = data_cop[lincols_cop+['STAGE하락']].corr()\n",
    "score_mat = pd.DataFrame(index=lincols_cop, columns=['STAGE하락','최대다중공선성','점수'])\n",
    "for x in lincols_cop:\n",
    "    score_mat.loc[x,'STAGE하락'] = corr_mat.loc[x,'STAGE하락']\n",
    "    score_mat.loc[x,'최대다중공선성'] = corr_mat.loc[x,lincols_cop].nlargest(2).iloc[-1]\n",
    "score_mat['점수'] = abs(score_mat['STAGE하락'].div(score_mat['최대다중공선성']))\n",
    "score_mat = score_mat.sort_values('점수',ascending=False)\n",
    "# score_mat\n",
    "\n",
    "# 점수 기준 0.1 이상 변수 선정\n",
    "lincols_cop = score_mat[score_mat['점수']>.1].index.tolist()\n",
    "lincols_cop"
   ]
  },
  {
   "cell_type": "code",
   "execution_count": 24,
   "id": "540a38a0",
   "metadata": {},
   "outputs": [],
   "source": [
    "# 단순카테고리형 변수 t-test\n",
    "treated = data_cop[data_cop['STAGE하락']==1]\n",
    "control = data_cop[data_cop['STAGE하락']==0]\n",
    "cat_var_ttest = pd.DataFrame(index=catcols_wo_order_cop, columns=['T_mean','C_mean','p-value'])\n",
    "for x in catcols_wo_order_cop:\n",
    "    _, p = stats.ttest_ind(treated[x], control[x])\n",
    "    cat_var_ttest.loc[x] = [treated[x].mean(), control[x].mean(), p]\n",
    "cat_var_ttest = cat_var_ttest.sort_values('p-value',ascending=True)\n",
    "# cat_var_ttest\n",
    "\n",
    "# p-value 0.05 미만 변수 사용\n",
    "catcols_cop = cat_var_ttest[cat_var_ttest['p-value']<0.05].index.tolist()"
   ]
  },
  {
   "cell_type": "markdown",
   "id": "359c0b35",
   "metadata": {},
   "source": [
    "최종 데이터셋 정리 및 학습데이터 구분"
   ]
  },
  {
   "cell_type": "code",
   "execution_count": 25,
   "id": "ce93779a",
   "metadata": {},
   "outputs": [
    {
     "name": "stdout",
     "output_type": "stream",
     "text": [
      "Original:  19\n",
      "Trimmed:  18\n",
      "Dropped column:  ['STAGE하락']\n"
     ]
    }
   ],
   "source": [
    "# 기업 데이터셋 확정\n",
    "data_cop = data_cop[lincols_cop+catcols_cop+['STAGE하락']]\n",
    "\n",
    "# Drop features to avoid singular matrix\n",
    "selector = VarianceThreshold(threshold=0.0)\n",
    "data_nonsingular = selector.fit_transform(data_cop[catcols_cop+lincols_cop])\n",
    "data_nonsingular = pd.DataFrame(data_nonsingular, index=data_cop.index, columns=selector.get_feature_names_out())\n",
    "\n",
    "print('Original: ',data_cop.shape[1])\n",
    "print('Trimmed: ',data_nonsingular.shape[1])\n",
    "print('Dropped column: ', list(set(data_cop.columns)-set(selector.get_feature_names_out())))\n",
    "\n",
    "# Split Data (Training, Cross-validation, Predict)\n",
    "X_train_cop, X_test_cop, y_train_cop, y_test_cop = train_test_split(data_nonsingular,data_cop['STAGE하락'], test_size=0.3, random_state=42)\n",
    "X_tr_cop, X_cv_cop, y_tr_cop, y_cv_cop = train_test_split(X_train_cop,y_train_cop, test_size=0.3, random_state=42)"
   ]
  },
  {
   "cell_type": "markdown",
   "id": "edaa4ed7",
   "metadata": {},
   "source": [
    "##### 주요 변수 추출\n",
    "2차에 걸친 Logistic Regression을 통해 p-value가 높은 변수만 사용"
   ]
  },
  {
   "cell_type": "code",
   "execution_count": 26,
   "id": "a00876d4",
   "metadata": {},
   "outputs": [
    {
     "name": "stderr",
     "output_type": "stream",
     "text": [
      "C:\\Users\\GT492HL\\AppData\\Roaming\\Python\\Python313\\site-packages\\scipy\\optimize\\_optimize.py:1330: OptimizeWarning: Maximum number of iterations has been exceeded.\n",
      "  res = _minimize_bfgs(f, x0, args, fprime, callback=callback, **opts)\n",
      "C:\\Users\\GT492HL\\AppData\\Roaming\\Python\\Python313\\site-packages\\statsmodels\\base\\model.py:607: ConvergenceWarning: Maximum Likelihood optimization failed to converge. Check mle_retvals\n",
      "  warnings.warn(\"Maximum Likelihood optimization failed to \"\n"
     ]
    },
    {
     "name": "stdout",
     "output_type": "stream",
     "text": [
      "         Current function value: 0.398389\n",
      "         Iterations: 100\n",
      "         Function evaluations: 103\n",
      "         Gradient evaluations: 103\n",
      "         Current function value: 0.398416\n",
      "         Iterations: 100\n",
      "         Function evaluations: 104\n",
      "         Gradient evaluations: 104\n"
     ]
    },
    {
     "name": "stderr",
     "output_type": "stream",
     "text": [
      "C:\\Users\\GT492HL\\AppData\\Roaming\\Python\\Python313\\site-packages\\scipy\\optimize\\_optimize.py:1330: OptimizeWarning: Maximum number of iterations has been exceeded.\n",
      "  res = _minimize_bfgs(f, x0, args, fprime, callback=callback, **opts)\n",
      "C:\\Users\\GT492HL\\AppData\\Roaming\\Python\\Python313\\site-packages\\statsmodels\\base\\model.py:607: ConvergenceWarning: Maximum Likelihood optimization failed to converge. Check mle_retvals\n",
      "  warnings.warn(\"Maximum Likelihood optimization failed to \"\n"
     ]
    }
   ],
   "source": [
    "# Logistic Regression 1\n",
    "X_with_const = X_tr_cop.copy()\n",
    "X_with_const['intercept'] = 1\n",
    "model_logit = sm.Logit(y_tr_cop, X_with_const).fit(method='bfgs', maxiter=100)\n",
    "# print(model_logit.summary())\n",
    "\n",
    "# Extract the most significant ind. variables as candidate variables of interest\n",
    "result_df = model_logit.summary2().tables[1]\n",
    "cand_vars_cop = result_df[result_df['P>|z|']<.05].index.tolist()\n",
    "\n",
    "if 'intercept' not in cand_vars_cop:\n",
    "    cand_vars_cop.append('intercept')\n",
    "\n",
    "# Predict again only with cand_vars\n",
    "model_logit_core_cop = sm.Logit(y_tr_cop, X_with_const[cand_vars_cop]).fit(method='bfgs', maxiter=100)\n",
    "X_test_w_const_cop = X_test_cop.copy()\n",
    "X_test_w_const_cop['intercept'] = 1\n",
    "y_prob_cop = model_logit_core_cop.predict(X_test_w_const_cop[cand_vars_cop])\n",
    "threshold_logit_cop = np.percentile(y_prob_cop,(1-len(y_tr_cop[y_tr_cop==1])/len(y_tr_cop))*100)\n",
    "# print(model_logit_core_cop.summary())\n",
    "\n",
    "result_df = model_logit_core_cop.summary2().tables[1]"
   ]
  },
  {
   "cell_type": "markdown",
   "id": "10f161d4",
   "metadata": {},
   "source": [
    "##### Random Forest + Logit"
   ]
  },
  {
   "cell_type": "code",
   "execution_count": 27,
   "id": "bc577cda",
   "metadata": {},
   "outputs": [
    {
     "data": {
      "text/html": [
       "<style>#sk-container-id-1 {\n",
       "  /* Definition of color scheme common for light and dark mode */\n",
       "  --sklearn-color-text: #000;\n",
       "  --sklearn-color-text-muted: #666;\n",
       "  --sklearn-color-line: gray;\n",
       "  /* Definition of color scheme for unfitted estimators */\n",
       "  --sklearn-color-unfitted-level-0: #fff5e6;\n",
       "  --sklearn-color-unfitted-level-1: #f6e4d2;\n",
       "  --sklearn-color-unfitted-level-2: #ffe0b3;\n",
       "  --sklearn-color-unfitted-level-3: chocolate;\n",
       "  /* Definition of color scheme for fitted estimators */\n",
       "  --sklearn-color-fitted-level-0: #f0f8ff;\n",
       "  --sklearn-color-fitted-level-1: #d4ebff;\n",
       "  --sklearn-color-fitted-level-2: #b3dbfd;\n",
       "  --sklearn-color-fitted-level-3: cornflowerblue;\n",
       "\n",
       "  /* Specific color for light theme */\n",
       "  --sklearn-color-text-on-default-background: var(--sg-text-color, var(--theme-code-foreground, var(--jp-content-font-color1, black)));\n",
       "  --sklearn-color-background: var(--sg-background-color, var(--theme-background, var(--jp-layout-color0, white)));\n",
       "  --sklearn-color-border-box: var(--sg-text-color, var(--theme-code-foreground, var(--jp-content-font-color1, black)));\n",
       "  --sklearn-color-icon: #696969;\n",
       "\n",
       "  @media (prefers-color-scheme: dark) {\n",
       "    /* Redefinition of color scheme for dark theme */\n",
       "    --sklearn-color-text-on-default-background: var(--sg-text-color, var(--theme-code-foreground, var(--jp-content-font-color1, white)));\n",
       "    --sklearn-color-background: var(--sg-background-color, var(--theme-background, var(--jp-layout-color0, #111)));\n",
       "    --sklearn-color-border-box: var(--sg-text-color, var(--theme-code-foreground, var(--jp-content-font-color1, white)));\n",
       "    --sklearn-color-icon: #878787;\n",
       "  }\n",
       "}\n",
       "\n",
       "#sk-container-id-1 {\n",
       "  color: var(--sklearn-color-text);\n",
       "}\n",
       "\n",
       "#sk-container-id-1 pre {\n",
       "  padding: 0;\n",
       "}\n",
       "\n",
       "#sk-container-id-1 input.sk-hidden--visually {\n",
       "  border: 0;\n",
       "  clip: rect(1px 1px 1px 1px);\n",
       "  clip: rect(1px, 1px, 1px, 1px);\n",
       "  height: 1px;\n",
       "  margin: -1px;\n",
       "  overflow: hidden;\n",
       "  padding: 0;\n",
       "  position: absolute;\n",
       "  width: 1px;\n",
       "}\n",
       "\n",
       "#sk-container-id-1 div.sk-dashed-wrapped {\n",
       "  border: 1px dashed var(--sklearn-color-line);\n",
       "  margin: 0 0.4em 0.5em 0.4em;\n",
       "  box-sizing: border-box;\n",
       "  padding-bottom: 0.4em;\n",
       "  background-color: var(--sklearn-color-background);\n",
       "}\n",
       "\n",
       "#sk-container-id-1 div.sk-container {\n",
       "  /* jupyter's `normalize.less` sets `[hidden] { display: none; }`\n",
       "     but bootstrap.min.css set `[hidden] { display: none !important; }`\n",
       "     so we also need the `!important` here to be able to override the\n",
       "     default hidden behavior on the sphinx rendered scikit-learn.org.\n",
       "     See: https://github.com/scikit-learn/scikit-learn/issues/21755 */\n",
       "  display: inline-block !important;\n",
       "  position: relative;\n",
       "}\n",
       "\n",
       "#sk-container-id-1 div.sk-text-repr-fallback {\n",
       "  display: none;\n",
       "}\n",
       "\n",
       "div.sk-parallel-item,\n",
       "div.sk-serial,\n",
       "div.sk-item {\n",
       "  /* draw centered vertical line to link estimators */\n",
       "  background-image: linear-gradient(var(--sklearn-color-text-on-default-background), var(--sklearn-color-text-on-default-background));\n",
       "  background-size: 2px 100%;\n",
       "  background-repeat: no-repeat;\n",
       "  background-position: center center;\n",
       "}\n",
       "\n",
       "/* Parallel-specific style estimator block */\n",
       "\n",
       "#sk-container-id-1 div.sk-parallel-item::after {\n",
       "  content: \"\";\n",
       "  width: 100%;\n",
       "  border-bottom: 2px solid var(--sklearn-color-text-on-default-background);\n",
       "  flex-grow: 1;\n",
       "}\n",
       "\n",
       "#sk-container-id-1 div.sk-parallel {\n",
       "  display: flex;\n",
       "  align-items: stretch;\n",
       "  justify-content: center;\n",
       "  background-color: var(--sklearn-color-background);\n",
       "  position: relative;\n",
       "}\n",
       "\n",
       "#sk-container-id-1 div.sk-parallel-item {\n",
       "  display: flex;\n",
       "  flex-direction: column;\n",
       "}\n",
       "\n",
       "#sk-container-id-1 div.sk-parallel-item:first-child::after {\n",
       "  align-self: flex-end;\n",
       "  width: 50%;\n",
       "}\n",
       "\n",
       "#sk-container-id-1 div.sk-parallel-item:last-child::after {\n",
       "  align-self: flex-start;\n",
       "  width: 50%;\n",
       "}\n",
       "\n",
       "#sk-container-id-1 div.sk-parallel-item:only-child::after {\n",
       "  width: 0;\n",
       "}\n",
       "\n",
       "/* Serial-specific style estimator block */\n",
       "\n",
       "#sk-container-id-1 div.sk-serial {\n",
       "  display: flex;\n",
       "  flex-direction: column;\n",
       "  align-items: center;\n",
       "  background-color: var(--sklearn-color-background);\n",
       "  padding-right: 1em;\n",
       "  padding-left: 1em;\n",
       "}\n",
       "\n",
       "\n",
       "/* Toggleable style: style used for estimator/Pipeline/ColumnTransformer box that is\n",
       "clickable and can be expanded/collapsed.\n",
       "- Pipeline and ColumnTransformer use this feature and define the default style\n",
       "- Estimators will overwrite some part of the style using the `sk-estimator` class\n",
       "*/\n",
       "\n",
       "/* Pipeline and ColumnTransformer style (default) */\n",
       "\n",
       "#sk-container-id-1 div.sk-toggleable {\n",
       "  /* Default theme specific background. It is overwritten whether we have a\n",
       "  specific estimator or a Pipeline/ColumnTransformer */\n",
       "  background-color: var(--sklearn-color-background);\n",
       "}\n",
       "\n",
       "/* Toggleable label */\n",
       "#sk-container-id-1 label.sk-toggleable__label {\n",
       "  cursor: pointer;\n",
       "  display: flex;\n",
       "  width: 100%;\n",
       "  margin-bottom: 0;\n",
       "  padding: 0.5em;\n",
       "  box-sizing: border-box;\n",
       "  text-align: center;\n",
       "  align-items: start;\n",
       "  justify-content: space-between;\n",
       "  gap: 0.5em;\n",
       "}\n",
       "\n",
       "#sk-container-id-1 label.sk-toggleable__label .caption {\n",
       "  font-size: 0.6rem;\n",
       "  font-weight: lighter;\n",
       "  color: var(--sklearn-color-text-muted);\n",
       "}\n",
       "\n",
       "#sk-container-id-1 label.sk-toggleable__label-arrow:before {\n",
       "  /* Arrow on the left of the label */\n",
       "  content: \"▸\";\n",
       "  float: left;\n",
       "  margin-right: 0.25em;\n",
       "  color: var(--sklearn-color-icon);\n",
       "}\n",
       "\n",
       "#sk-container-id-1 label.sk-toggleable__label-arrow:hover:before {\n",
       "  color: var(--sklearn-color-text);\n",
       "}\n",
       "\n",
       "/* Toggleable content - dropdown */\n",
       "\n",
       "#sk-container-id-1 div.sk-toggleable__content {\n",
       "  display: none;\n",
       "  text-align: left;\n",
       "  /* unfitted */\n",
       "  background-color: var(--sklearn-color-unfitted-level-0);\n",
       "}\n",
       "\n",
       "#sk-container-id-1 div.sk-toggleable__content.fitted {\n",
       "  /* fitted */\n",
       "  background-color: var(--sklearn-color-fitted-level-0);\n",
       "}\n",
       "\n",
       "#sk-container-id-1 div.sk-toggleable__content pre {\n",
       "  margin: 0.2em;\n",
       "  border-radius: 0.25em;\n",
       "  color: var(--sklearn-color-text);\n",
       "  /* unfitted */\n",
       "  background-color: var(--sklearn-color-unfitted-level-0);\n",
       "}\n",
       "\n",
       "#sk-container-id-1 div.sk-toggleable__content.fitted pre {\n",
       "  /* unfitted */\n",
       "  background-color: var(--sklearn-color-fitted-level-0);\n",
       "}\n",
       "\n",
       "#sk-container-id-1 input.sk-toggleable__control:checked~div.sk-toggleable__content {\n",
       "  /* Expand drop-down */\n",
       "  display: block;\n",
       "  width: 100%;\n",
       "  overflow: visible;\n",
       "}\n",
       "\n",
       "#sk-container-id-1 input.sk-toggleable__control:checked~label.sk-toggleable__label-arrow:before {\n",
       "  content: \"▾\";\n",
       "}\n",
       "\n",
       "/* Pipeline/ColumnTransformer-specific style */\n",
       "\n",
       "#sk-container-id-1 div.sk-label input.sk-toggleable__control:checked~label.sk-toggleable__label {\n",
       "  color: var(--sklearn-color-text);\n",
       "  background-color: var(--sklearn-color-unfitted-level-2);\n",
       "}\n",
       "\n",
       "#sk-container-id-1 div.sk-label.fitted input.sk-toggleable__control:checked~label.sk-toggleable__label {\n",
       "  background-color: var(--sklearn-color-fitted-level-2);\n",
       "}\n",
       "\n",
       "/* Estimator-specific style */\n",
       "\n",
       "/* Colorize estimator box */\n",
       "#sk-container-id-1 div.sk-estimator input.sk-toggleable__control:checked~label.sk-toggleable__label {\n",
       "  /* unfitted */\n",
       "  background-color: var(--sklearn-color-unfitted-level-2);\n",
       "}\n",
       "\n",
       "#sk-container-id-1 div.sk-estimator.fitted input.sk-toggleable__control:checked~label.sk-toggleable__label {\n",
       "  /* fitted */\n",
       "  background-color: var(--sklearn-color-fitted-level-2);\n",
       "}\n",
       "\n",
       "#sk-container-id-1 div.sk-label label.sk-toggleable__label,\n",
       "#sk-container-id-1 div.sk-label label {\n",
       "  /* The background is the default theme color */\n",
       "  color: var(--sklearn-color-text-on-default-background);\n",
       "}\n",
       "\n",
       "/* On hover, darken the color of the background */\n",
       "#sk-container-id-1 div.sk-label:hover label.sk-toggleable__label {\n",
       "  color: var(--sklearn-color-text);\n",
       "  background-color: var(--sklearn-color-unfitted-level-2);\n",
       "}\n",
       "\n",
       "/* Label box, darken color on hover, fitted */\n",
       "#sk-container-id-1 div.sk-label.fitted:hover label.sk-toggleable__label.fitted {\n",
       "  color: var(--sklearn-color-text);\n",
       "  background-color: var(--sklearn-color-fitted-level-2);\n",
       "}\n",
       "\n",
       "/* Estimator label */\n",
       "\n",
       "#sk-container-id-1 div.sk-label label {\n",
       "  font-family: monospace;\n",
       "  font-weight: bold;\n",
       "  display: inline-block;\n",
       "  line-height: 1.2em;\n",
       "}\n",
       "\n",
       "#sk-container-id-1 div.sk-label-container {\n",
       "  text-align: center;\n",
       "}\n",
       "\n",
       "/* Estimator-specific */\n",
       "#sk-container-id-1 div.sk-estimator {\n",
       "  font-family: monospace;\n",
       "  border: 1px dotted var(--sklearn-color-border-box);\n",
       "  border-radius: 0.25em;\n",
       "  box-sizing: border-box;\n",
       "  margin-bottom: 0.5em;\n",
       "  /* unfitted */\n",
       "  background-color: var(--sklearn-color-unfitted-level-0);\n",
       "}\n",
       "\n",
       "#sk-container-id-1 div.sk-estimator.fitted {\n",
       "  /* fitted */\n",
       "  background-color: var(--sklearn-color-fitted-level-0);\n",
       "}\n",
       "\n",
       "/* on hover */\n",
       "#sk-container-id-1 div.sk-estimator:hover {\n",
       "  /* unfitted */\n",
       "  background-color: var(--sklearn-color-unfitted-level-2);\n",
       "}\n",
       "\n",
       "#sk-container-id-1 div.sk-estimator.fitted:hover {\n",
       "  /* fitted */\n",
       "  background-color: var(--sklearn-color-fitted-level-2);\n",
       "}\n",
       "\n",
       "/* Specification for estimator info (e.g. \"i\" and \"?\") */\n",
       "\n",
       "/* Common style for \"i\" and \"?\" */\n",
       "\n",
       ".sk-estimator-doc-link,\n",
       "a:link.sk-estimator-doc-link,\n",
       "a:visited.sk-estimator-doc-link {\n",
       "  float: right;\n",
       "  font-size: smaller;\n",
       "  line-height: 1em;\n",
       "  font-family: monospace;\n",
       "  background-color: var(--sklearn-color-background);\n",
       "  border-radius: 1em;\n",
       "  height: 1em;\n",
       "  width: 1em;\n",
       "  text-decoration: none !important;\n",
       "  margin-left: 0.5em;\n",
       "  text-align: center;\n",
       "  /* unfitted */\n",
       "  border: var(--sklearn-color-unfitted-level-1) 1pt solid;\n",
       "  color: var(--sklearn-color-unfitted-level-1);\n",
       "}\n",
       "\n",
       ".sk-estimator-doc-link.fitted,\n",
       "a:link.sk-estimator-doc-link.fitted,\n",
       "a:visited.sk-estimator-doc-link.fitted {\n",
       "  /* fitted */\n",
       "  border: var(--sklearn-color-fitted-level-1) 1pt solid;\n",
       "  color: var(--sklearn-color-fitted-level-1);\n",
       "}\n",
       "\n",
       "/* On hover */\n",
       "div.sk-estimator:hover .sk-estimator-doc-link:hover,\n",
       ".sk-estimator-doc-link:hover,\n",
       "div.sk-label-container:hover .sk-estimator-doc-link:hover,\n",
       ".sk-estimator-doc-link:hover {\n",
       "  /* unfitted */\n",
       "  background-color: var(--sklearn-color-unfitted-level-3);\n",
       "  color: var(--sklearn-color-background);\n",
       "  text-decoration: none;\n",
       "}\n",
       "\n",
       "div.sk-estimator.fitted:hover .sk-estimator-doc-link.fitted:hover,\n",
       ".sk-estimator-doc-link.fitted:hover,\n",
       "div.sk-label-container:hover .sk-estimator-doc-link.fitted:hover,\n",
       ".sk-estimator-doc-link.fitted:hover {\n",
       "  /* fitted */\n",
       "  background-color: var(--sklearn-color-fitted-level-3);\n",
       "  color: var(--sklearn-color-background);\n",
       "  text-decoration: none;\n",
       "}\n",
       "\n",
       "/* Span, style for the box shown on hovering the info icon */\n",
       ".sk-estimator-doc-link span {\n",
       "  display: none;\n",
       "  z-index: 9999;\n",
       "  position: relative;\n",
       "  font-weight: normal;\n",
       "  right: .2ex;\n",
       "  padding: .5ex;\n",
       "  margin: .5ex;\n",
       "  width: min-content;\n",
       "  min-width: 20ex;\n",
       "  max-width: 50ex;\n",
       "  color: var(--sklearn-color-text);\n",
       "  box-shadow: 2pt 2pt 4pt #999;\n",
       "  /* unfitted */\n",
       "  background: var(--sklearn-color-unfitted-level-0);\n",
       "  border: .5pt solid var(--sklearn-color-unfitted-level-3);\n",
       "}\n",
       "\n",
       ".sk-estimator-doc-link.fitted span {\n",
       "  /* fitted */\n",
       "  background: var(--sklearn-color-fitted-level-0);\n",
       "  border: var(--sklearn-color-fitted-level-3);\n",
       "}\n",
       "\n",
       ".sk-estimator-doc-link:hover span {\n",
       "  display: block;\n",
       "}\n",
       "\n",
       "/* \"?\"-specific style due to the `<a>` HTML tag */\n",
       "\n",
       "#sk-container-id-1 a.estimator_doc_link {\n",
       "  float: right;\n",
       "  font-size: 1rem;\n",
       "  line-height: 1em;\n",
       "  font-family: monospace;\n",
       "  background-color: var(--sklearn-color-background);\n",
       "  border-radius: 1rem;\n",
       "  height: 1rem;\n",
       "  width: 1rem;\n",
       "  text-decoration: none;\n",
       "  /* unfitted */\n",
       "  color: var(--sklearn-color-unfitted-level-1);\n",
       "  border: var(--sklearn-color-unfitted-level-1) 1pt solid;\n",
       "}\n",
       "\n",
       "#sk-container-id-1 a.estimator_doc_link.fitted {\n",
       "  /* fitted */\n",
       "  border: var(--sklearn-color-fitted-level-1) 1pt solid;\n",
       "  color: var(--sklearn-color-fitted-level-1);\n",
       "}\n",
       "\n",
       "/* On hover */\n",
       "#sk-container-id-1 a.estimator_doc_link:hover {\n",
       "  /* unfitted */\n",
       "  background-color: var(--sklearn-color-unfitted-level-3);\n",
       "  color: var(--sklearn-color-background);\n",
       "  text-decoration: none;\n",
       "}\n",
       "\n",
       "#sk-container-id-1 a.estimator_doc_link.fitted:hover {\n",
       "  /* fitted */\n",
       "  background-color: var(--sklearn-color-fitted-level-3);\n",
       "}\n",
       "\n",
       ".estimator-table summary {\n",
       "    padding: .5rem;\n",
       "    font-family: monospace;\n",
       "    cursor: pointer;\n",
       "}\n",
       "\n",
       ".estimator-table details[open] {\n",
       "    padding-left: 0.1rem;\n",
       "    padding-right: 0.1rem;\n",
       "    padding-bottom: 0.3rem;\n",
       "}\n",
       "\n",
       ".estimator-table .parameters-table {\n",
       "    margin-left: auto !important;\n",
       "    margin-right: auto !important;\n",
       "}\n",
       "\n",
       ".estimator-table .parameters-table tr:nth-child(odd) {\n",
       "    background-color: #fff;\n",
       "}\n",
       "\n",
       ".estimator-table .parameters-table tr:nth-child(even) {\n",
       "    background-color: #f6f6f6;\n",
       "}\n",
       "\n",
       ".estimator-table .parameters-table tr:hover {\n",
       "    background-color: #e0e0e0;\n",
       "}\n",
       "\n",
       ".estimator-table table td {\n",
       "    border: 1px solid rgba(106, 105, 104, 0.232);\n",
       "}\n",
       "\n",
       ".user-set td {\n",
       "    color:rgb(255, 94, 0);\n",
       "    text-align: left;\n",
       "}\n",
       "\n",
       ".user-set td.value pre {\n",
       "    color:rgb(255, 94, 0) !important;\n",
       "    background-color: transparent !important;\n",
       "}\n",
       "\n",
       ".default td {\n",
       "    color: black;\n",
       "    text-align: left;\n",
       "}\n",
       "\n",
       ".user-set td i,\n",
       ".default td i {\n",
       "    color: black;\n",
       "}\n",
       "\n",
       ".copy-paste-icon {\n",
       "    background-image: url(data:image/svg+xml;base64,PHN2ZyB4bWxucz0iaHR0cDovL3d3dy53My5vcmcvMjAwMC9zdmciIHZpZXdCb3g9IjAgMCA0NDggNTEyIj48IS0tIUZvbnQgQXdlc29tZSBGcmVlIDYuNy4yIGJ5IEBmb250YXdlc29tZSAtIGh0dHBzOi8vZm9udGF3ZXNvbWUuY29tIExpY2Vuc2UgLSBodHRwczovL2ZvbnRhd2Vzb21lLmNvbS9saWNlbnNlL2ZyZWUgQ29weXJpZ2h0IDIwMjUgRm9udGljb25zLCBJbmMuLS0+PHBhdGggZD0iTTIwOCAwTDMzMi4xIDBjMTIuNyAwIDI0LjkgNS4xIDMzLjkgMTQuMWw2Ny45IDY3LjljOSA5IDE0LjEgMjEuMiAxNC4xIDMzLjlMNDQ4IDMzNmMwIDI2LjUtMjEuNSA0OC00OCA0OGwtMTkyIDBjLTI2LjUgMC00OC0yMS41LTQ4LTQ4bDAtMjg4YzAtMjYuNSAyMS41LTQ4IDQ4LTQ4ek00OCAxMjhsODAgMCAwIDY0LTY0IDAgMCAyNTYgMTkyIDAgMC0zMiA2NCAwIDAgNDhjMCAyNi41LTIxLjUgNDgtNDggNDhMNDggNTEyYy0yNi41IDAtNDgtMjEuNS00OC00OEwwIDE3NmMwLTI2LjUgMjEuNS00OCA0OC00OHoiLz48L3N2Zz4=);\n",
       "    background-repeat: no-repeat;\n",
       "    background-size: 14px 14px;\n",
       "    background-position: 0;\n",
       "    display: inline-block;\n",
       "    width: 14px;\n",
       "    height: 14px;\n",
       "    cursor: pointer;\n",
       "}\n",
       "</style><body><div id=\"sk-container-id-1\" class=\"sk-top-container\"><div class=\"sk-text-repr-fallback\"><pre>RandomForestClassifier(n_estimators=150, random_state=42)</pre><b>In a Jupyter environment, please rerun this cell to show the HTML representation or trust the notebook. <br />On GitHub, the HTML representation is unable to render, please try loading this page with nbviewer.org.</b></div><div class=\"sk-container\" hidden><div class=\"sk-item\"><div class=\"sk-estimator fitted sk-toggleable\"><input class=\"sk-toggleable__control sk-hidden--visually\" id=\"sk-estimator-id-1\" type=\"checkbox\" checked><label for=\"sk-estimator-id-1\" class=\"sk-toggleable__label fitted sk-toggleable__label-arrow\"><div><div>RandomForestClassifier</div></div><div><a class=\"sk-estimator-doc-link fitted\" rel=\"noreferrer\" target=\"_blank\" href=\"https://scikit-learn.org/1.7/modules/generated/sklearn.ensemble.RandomForestClassifier.html\">?<span>Documentation for RandomForestClassifier</span></a><span class=\"sk-estimator-doc-link fitted\">i<span>Fitted</span></span></div></label><div class=\"sk-toggleable__content fitted\" data-param-prefix=\"\">\n",
       "        <div class=\"estimator-table\">\n",
       "            <details>\n",
       "                <summary>Parameters</summary>\n",
       "                <table class=\"parameters-table\">\n",
       "                  <tbody>\n",
       "                    \n",
       "        <tr class=\"user-set\">\n",
       "            <td><i class=\"copy-paste-icon\"\n",
       "                 onclick=\"copyToClipboard('n_estimators',\n",
       "                          this.parentElement.nextElementSibling)\"\n",
       "            ></i></td>\n",
       "            <td class=\"param\">n_estimators&nbsp;</td>\n",
       "            <td class=\"value\">150</td>\n",
       "        </tr>\n",
       "    \n",
       "\n",
       "        <tr class=\"default\">\n",
       "            <td><i class=\"copy-paste-icon\"\n",
       "                 onclick=\"copyToClipboard('criterion',\n",
       "                          this.parentElement.nextElementSibling)\"\n",
       "            ></i></td>\n",
       "            <td class=\"param\">criterion&nbsp;</td>\n",
       "            <td class=\"value\">&#x27;gini&#x27;</td>\n",
       "        </tr>\n",
       "    \n",
       "\n",
       "        <tr class=\"default\">\n",
       "            <td><i class=\"copy-paste-icon\"\n",
       "                 onclick=\"copyToClipboard('max_depth',\n",
       "                          this.parentElement.nextElementSibling)\"\n",
       "            ></i></td>\n",
       "            <td class=\"param\">max_depth&nbsp;</td>\n",
       "            <td class=\"value\">None</td>\n",
       "        </tr>\n",
       "    \n",
       "\n",
       "        <tr class=\"default\">\n",
       "            <td><i class=\"copy-paste-icon\"\n",
       "                 onclick=\"copyToClipboard('min_samples_split',\n",
       "                          this.parentElement.nextElementSibling)\"\n",
       "            ></i></td>\n",
       "            <td class=\"param\">min_samples_split&nbsp;</td>\n",
       "            <td class=\"value\">2</td>\n",
       "        </tr>\n",
       "    \n",
       "\n",
       "        <tr class=\"default\">\n",
       "            <td><i class=\"copy-paste-icon\"\n",
       "                 onclick=\"copyToClipboard('min_samples_leaf',\n",
       "                          this.parentElement.nextElementSibling)\"\n",
       "            ></i></td>\n",
       "            <td class=\"param\">min_samples_leaf&nbsp;</td>\n",
       "            <td class=\"value\">1</td>\n",
       "        </tr>\n",
       "    \n",
       "\n",
       "        <tr class=\"default\">\n",
       "            <td><i class=\"copy-paste-icon\"\n",
       "                 onclick=\"copyToClipboard('min_weight_fraction_leaf',\n",
       "                          this.parentElement.nextElementSibling)\"\n",
       "            ></i></td>\n",
       "            <td class=\"param\">min_weight_fraction_leaf&nbsp;</td>\n",
       "            <td class=\"value\">0.0</td>\n",
       "        </tr>\n",
       "    \n",
       "\n",
       "        <tr class=\"default\">\n",
       "            <td><i class=\"copy-paste-icon\"\n",
       "                 onclick=\"copyToClipboard('max_features',\n",
       "                          this.parentElement.nextElementSibling)\"\n",
       "            ></i></td>\n",
       "            <td class=\"param\">max_features&nbsp;</td>\n",
       "            <td class=\"value\">&#x27;sqrt&#x27;</td>\n",
       "        </tr>\n",
       "    \n",
       "\n",
       "        <tr class=\"default\">\n",
       "            <td><i class=\"copy-paste-icon\"\n",
       "                 onclick=\"copyToClipboard('max_leaf_nodes',\n",
       "                          this.parentElement.nextElementSibling)\"\n",
       "            ></i></td>\n",
       "            <td class=\"param\">max_leaf_nodes&nbsp;</td>\n",
       "            <td class=\"value\">None</td>\n",
       "        </tr>\n",
       "    \n",
       "\n",
       "        <tr class=\"default\">\n",
       "            <td><i class=\"copy-paste-icon\"\n",
       "                 onclick=\"copyToClipboard('min_impurity_decrease',\n",
       "                          this.parentElement.nextElementSibling)\"\n",
       "            ></i></td>\n",
       "            <td class=\"param\">min_impurity_decrease&nbsp;</td>\n",
       "            <td class=\"value\">0.0</td>\n",
       "        </tr>\n",
       "    \n",
       "\n",
       "        <tr class=\"default\">\n",
       "            <td><i class=\"copy-paste-icon\"\n",
       "                 onclick=\"copyToClipboard('bootstrap',\n",
       "                          this.parentElement.nextElementSibling)\"\n",
       "            ></i></td>\n",
       "            <td class=\"param\">bootstrap&nbsp;</td>\n",
       "            <td class=\"value\">True</td>\n",
       "        </tr>\n",
       "    \n",
       "\n",
       "        <tr class=\"default\">\n",
       "            <td><i class=\"copy-paste-icon\"\n",
       "                 onclick=\"copyToClipboard('oob_score',\n",
       "                          this.parentElement.nextElementSibling)\"\n",
       "            ></i></td>\n",
       "            <td class=\"param\">oob_score&nbsp;</td>\n",
       "            <td class=\"value\">False</td>\n",
       "        </tr>\n",
       "    \n",
       "\n",
       "        <tr class=\"default\">\n",
       "            <td><i class=\"copy-paste-icon\"\n",
       "                 onclick=\"copyToClipboard('n_jobs',\n",
       "                          this.parentElement.nextElementSibling)\"\n",
       "            ></i></td>\n",
       "            <td class=\"param\">n_jobs&nbsp;</td>\n",
       "            <td class=\"value\">None</td>\n",
       "        </tr>\n",
       "    \n",
       "\n",
       "        <tr class=\"user-set\">\n",
       "            <td><i class=\"copy-paste-icon\"\n",
       "                 onclick=\"copyToClipboard('random_state',\n",
       "                          this.parentElement.nextElementSibling)\"\n",
       "            ></i></td>\n",
       "            <td class=\"param\">random_state&nbsp;</td>\n",
       "            <td class=\"value\">42</td>\n",
       "        </tr>\n",
       "    \n",
       "\n",
       "        <tr class=\"default\">\n",
       "            <td><i class=\"copy-paste-icon\"\n",
       "                 onclick=\"copyToClipboard('verbose',\n",
       "                          this.parentElement.nextElementSibling)\"\n",
       "            ></i></td>\n",
       "            <td class=\"param\">verbose&nbsp;</td>\n",
       "            <td class=\"value\">0</td>\n",
       "        </tr>\n",
       "    \n",
       "\n",
       "        <tr class=\"default\">\n",
       "            <td><i class=\"copy-paste-icon\"\n",
       "                 onclick=\"copyToClipboard('warm_start',\n",
       "                          this.parentElement.nextElementSibling)\"\n",
       "            ></i></td>\n",
       "            <td class=\"param\">warm_start&nbsp;</td>\n",
       "            <td class=\"value\">False</td>\n",
       "        </tr>\n",
       "    \n",
       "\n",
       "        <tr class=\"default\">\n",
       "            <td><i class=\"copy-paste-icon\"\n",
       "                 onclick=\"copyToClipboard('class_weight',\n",
       "                          this.parentElement.nextElementSibling)\"\n",
       "            ></i></td>\n",
       "            <td class=\"param\">class_weight&nbsp;</td>\n",
       "            <td class=\"value\">None</td>\n",
       "        </tr>\n",
       "    \n",
       "\n",
       "        <tr class=\"default\">\n",
       "            <td><i class=\"copy-paste-icon\"\n",
       "                 onclick=\"copyToClipboard('ccp_alpha',\n",
       "                          this.parentElement.nextElementSibling)\"\n",
       "            ></i></td>\n",
       "            <td class=\"param\">ccp_alpha&nbsp;</td>\n",
       "            <td class=\"value\">0.0</td>\n",
       "        </tr>\n",
       "    \n",
       "\n",
       "        <tr class=\"default\">\n",
       "            <td><i class=\"copy-paste-icon\"\n",
       "                 onclick=\"copyToClipboard('max_samples',\n",
       "                          this.parentElement.nextElementSibling)\"\n",
       "            ></i></td>\n",
       "            <td class=\"param\">max_samples&nbsp;</td>\n",
       "            <td class=\"value\">None</td>\n",
       "        </tr>\n",
       "    \n",
       "\n",
       "        <tr class=\"default\">\n",
       "            <td><i class=\"copy-paste-icon\"\n",
       "                 onclick=\"copyToClipboard('monotonic_cst',\n",
       "                          this.parentElement.nextElementSibling)\"\n",
       "            ></i></td>\n",
       "            <td class=\"param\">monotonic_cst&nbsp;</td>\n",
       "            <td class=\"value\">None</td>\n",
       "        </tr>\n",
       "    \n",
       "                  </tbody>\n",
       "                </table>\n",
       "            </details>\n",
       "        </div>\n",
       "    </div></div></div></div></div><script>function copyToClipboard(text, element) {\n",
       "    // Get the parameter prefix from the closest toggleable content\n",
       "    const toggleableContent = element.closest('.sk-toggleable__content');\n",
       "    const paramPrefix = toggleableContent ? toggleableContent.dataset.paramPrefix : '';\n",
       "    const fullParamName = paramPrefix ? `${paramPrefix}${text}` : text;\n",
       "\n",
       "    const originalStyle = element.style;\n",
       "    const computedStyle = window.getComputedStyle(element);\n",
       "    const originalWidth = computedStyle.width;\n",
       "    const originalHTML = element.innerHTML.replace('Copied!', '');\n",
       "\n",
       "    navigator.clipboard.writeText(fullParamName)\n",
       "        .then(() => {\n",
       "            element.style.width = originalWidth;\n",
       "            element.style.color = 'green';\n",
       "            element.innerHTML = \"Copied!\";\n",
       "\n",
       "            setTimeout(() => {\n",
       "                element.innerHTML = originalHTML;\n",
       "                element.style = originalStyle;\n",
       "            }, 2000);\n",
       "        })\n",
       "        .catch(err => {\n",
       "            console.error('Failed to copy:', err);\n",
       "            element.style.color = 'red';\n",
       "            element.innerHTML = \"Failed!\";\n",
       "            setTimeout(() => {\n",
       "                element.innerHTML = originalHTML;\n",
       "                element.style = originalStyle;\n",
       "            }, 2000);\n",
       "        });\n",
       "    return false;\n",
       "}\n",
       "\n",
       "document.querySelectorAll('.fa-regular.fa-copy').forEach(function(element) {\n",
       "    const toggleableContent = element.closest('.sk-toggleable__content');\n",
       "    const paramPrefix = toggleableContent ? toggleableContent.dataset.paramPrefix : '';\n",
       "    const paramName = element.parentElement.nextElementSibling.textContent.trim();\n",
       "    const fullParamName = paramPrefix ? `${paramPrefix}${paramName}` : paramName;\n",
       "\n",
       "    element.setAttribute('title', fullParamName);\n",
       "});\n",
       "</script></body>"
      ],
      "text/plain": [
       "RandomForestClassifier(n_estimators=150, random_state=42)"
      ]
     },
     "execution_count": 27,
     "metadata": {},
     "output_type": "execute_result"
    }
   ],
   "source": [
    "# Random Forest\n",
    "catcols_cop = [x for x in catcols_wo_order_cop if x in cand_vars_cop]\n",
    "clf_cop = RandomForestClassifier(n_estimators=150, random_state=42)\n",
    "clf_cop.fit(X_tr_cop[catcols_cop], y_tr_cop)"
   ]
  },
  {
   "cell_type": "code",
   "execution_count": 28,
   "id": "5e7b24be",
   "metadata": {},
   "outputs": [
    {
     "name": "stdout",
     "output_type": "stream",
     "text": [
      "Optimization terminated successfully.\n",
      "         Current function value: 0.392637\n",
      "         Iterations: 67\n",
      "         Function evaluations: 71\n",
      "         Gradient evaluations: 71\n",
      "Accuracy:  0.79399937534161\n"
     ]
    }
   ],
   "source": [
    "# Logistic Regression with RF\n",
    "lincols_cop = [x for x in lincols_cop if x in cand_vars_cop]\n",
    "X_tr_w_pred = X_tr_cop[lincols_cop].copy()\n",
    "X_tr_w_pred['intercept'] = 1\n",
    "X_tr_w_pred['cat_pred'] = clf_cop.predict(X_tr_cop[catcols_cop])\n",
    "model_logit_rf_cop = sm.Logit(y_tr_cop,X_tr_w_pred).fit(method='bfgs', maxiter=100)\n",
    "y_pred_rf = clf_cop.predict(X_test_cop[catcols_cop])\n",
    "X_test_w_const_cop['cat_pred'] = y_pred_rf\n",
    "y_pred_cop = model_logit_rf_cop.predict(X_test_w_const_cop[lincols_cop+['intercept','cat_pred']])\n",
    "threshold_rf_cop = np.percentile(y_pred_cop,(1-len(y_tr_cop[y_tr_cop==1])/len(y_tr_cop))*100)\n",
    "y_pred_cop = (y_pred_cop > threshold_rf_cop).astype(int)\n",
    "print(\"Accuracy: \", accuracy_score(y_test_cop, y_pred_cop))"
   ]
  },
  {
   "cell_type": "code",
   "execution_count": 29,
   "id": "90664805",
   "metadata": {},
   "outputs": [],
   "source": [
    "del(merged_cop, X_tr_cop, X_test_cop, X_cv_cop, X_with_const, X_tr_w_pred, X_test_w_const_cop, y_test_cop, y_pred_cop, data_cop)"
   ]
  },
  {
   "cell_type": "markdown",
   "id": "6a4fe844",
   "metadata": {},
   "source": [
    "## Conclusion"
   ]
  },
  {
   "cell_type": "markdown",
   "id": "b77ff934",
   "metadata": {},
   "source": [
    "### M1: Threshold "
   ]
  },
  {
   "cell_type": "code",
   "execution_count": 30,
   "id": "06293998",
   "metadata": {},
   "outputs": [
    {
     "data": {
      "application/vnd.microsoft.datawrangler.viewer.v0+json": {
       "columns": [
        {
         "name": "index",
         "rawType": "int64",
         "type": "integer"
        },
        {
         "name": "category",
         "rawType": "object",
         "type": "string"
        },
        {
         "name": "risk_factor",
         "rawType": "object",
         "type": "string"
        },
        {
         "name": "thresholds",
         "rawType": "object",
         "type": "unknown"
        },
        {
         "name": "mean",
         "rawType": "float64",
         "type": "float"
        }
       ],
       "ref": "0038307e-8f09-422a-88e9-52788339614a",
       "rows": [
        [
         "0",
         "retail",
         "c_신용등급변화",
         "[np.float64(2.46712545006277), np.float64(2.147163530949652), np.float64(2.2984399349409195)]",
         "2.304242971984447"
        ],
        [
         "1",
         "retail",
         "연체일수",
         "[np.float64(13.745266107057423), np.float64(9.374389309682654), np.float64(8.672810243312863)]",
         "10.59748855335098"
        ],
        [
         "2",
         "nretail",
         "c_신용등급변화",
         "[np.float64(3.2267761900145295), np.float64(2.273041526675983), np.float64(1.265341301276683)]",
         "2.255053005989065"
        ],
        [
         "3",
         "nretail",
         "연체일수",
         "[np.float64(13.812464397937399), np.float64(8.966470861072427), np.float64(4.5179212002120686)]",
         "9.098952153073965"
        ]
       ],
       "shape": {
        "columns": 4,
        "rows": 4
       }
      },
      "text/html": [
       "<div>\n",
       "<style scoped>\n",
       "    .dataframe tbody tr th:only-of-type {\n",
       "        vertical-align: middle;\n",
       "    }\n",
       "\n",
       "    .dataframe tbody tr th {\n",
       "        vertical-align: top;\n",
       "    }\n",
       "\n",
       "    .dataframe thead th {\n",
       "        text-align: right;\n",
       "    }\n",
       "</style>\n",
       "<table border=\"1\" class=\"dataframe\">\n",
       "  <thead>\n",
       "    <tr style=\"text-align: right;\">\n",
       "      <th></th>\n",
       "      <th>category</th>\n",
       "      <th>risk_factor</th>\n",
       "      <th>thresholds</th>\n",
       "      <th>mean</th>\n",
       "    </tr>\n",
       "  </thead>\n",
       "  <tbody>\n",
       "    <tr>\n",
       "      <th>0</th>\n",
       "      <td>retail</td>\n",
       "      <td>c_신용등급변화</td>\n",
       "      <td>[2.46712545006277, 2.147163530949652, 2.298439...</td>\n",
       "      <td>2.304243</td>\n",
       "    </tr>\n",
       "    <tr>\n",
       "      <th>1</th>\n",
       "      <td>retail</td>\n",
       "      <td>연체일수</td>\n",
       "      <td>[13.745266107057423, 9.374389309682654, 8.6728...</td>\n",
       "      <td>10.597489</td>\n",
       "    </tr>\n",
       "    <tr>\n",
       "      <th>2</th>\n",
       "      <td>nretail</td>\n",
       "      <td>c_신용등급변화</td>\n",
       "      <td>[3.2267761900145295, 2.273041526675983, 1.2653...</td>\n",
       "      <td>2.255053</td>\n",
       "    </tr>\n",
       "    <tr>\n",
       "      <th>3</th>\n",
       "      <td>nretail</td>\n",
       "      <td>연체일수</td>\n",
       "      <td>[13.812464397937399, 8.966470861072427, 4.5179...</td>\n",
       "      <td>9.098952</td>\n",
       "    </tr>\n",
       "  </tbody>\n",
       "</table>\n",
       "</div>"
      ],
      "text/plain": [
       "  category risk_factor                                         thresholds  \\\n",
       "0   retail    c_신용등급변화  [2.46712545006277, 2.147163530949652, 2.298439...   \n",
       "1   retail        연체일수  [13.745266107057423, 9.374389309682654, 8.6728...   \n",
       "2  nretail    c_신용등급변화  [3.2267761900145295, 2.273041526675983, 1.2653...   \n",
       "3  nretail        연체일수  [13.812464397937399, 8.966470861072427, 4.5179...   \n",
       "\n",
       "        mean  \n",
       "0   2.304243  \n",
       "1  10.597489  \n",
       "2   2.255053  \n",
       "3   9.098952  "
      ]
     },
     "execution_count": 30,
     "metadata": {},
     "output_type": "execute_result"
    }
   ],
   "source": [
    "summary_thresholds"
   ]
  },
  {
   "cell_type": "code",
   "execution_count": 31,
   "id": "1c1c66f0",
   "metadata": {},
   "outputs": [
    {
     "data": {
      "application/vnd.microsoft.datawrangler.viewer.v0+json": {
       "columns": [
        {
         "name": "index",
         "rawType": "int64",
         "type": "integer"
        },
        {
         "name": "quarter",
         "rawType": "period[Q-DEC]",
         "type": "unknown"
        },
        {
         "name": "total_accounts",
         "rawType": "int64",
         "type": "integer"
        },
        {
         "name": "stage1_5_accounts",
         "rawType": "int64",
         "type": "integer"
        },
        {
         "name": "stage1_5_ratio",
         "rawType": "float64",
         "type": "float"
        }
       ],
       "ref": "17c6cbd5-b514-4638-b2b7-b7ec2de0ace2",
       "rows": [
        [
         "0",
         "2023Q2",
         "1089892",
         "50763",
         "0.0466"
        ],
        [
         "1",
         "2023Q3",
         "1103118",
         "50061",
         "0.0454"
        ],
        [
         "2",
         "2023Q4",
         "1097759",
         "50332",
         "0.0458"
        ],
        [
         "3",
         "2024Q1",
         "1100752",
         "49581",
         "0.045"
        ],
        [
         "4",
         "2024Q2",
         "1093794",
         "49366",
         "0.0451"
        ],
        [
         "5",
         "2024Q3",
         "1080370",
         "50400",
         "0.0467"
        ],
        [
         "6",
         "2024Q4",
         "1071859",
         "50735",
         "0.0473"
        ],
        [
         "7",
         "2025Q1",
         "1060104",
         "48576",
         "0.0458"
        ],
        [
         "8",
         "2025Q2",
         "1055047",
         "48719",
         "0.0462"
        ]
       ],
       "shape": {
        "columns": 4,
        "rows": 9
       }
      },
      "text/html": [
       "<div>\n",
       "<style scoped>\n",
       "    .dataframe tbody tr th:only-of-type {\n",
       "        vertical-align: middle;\n",
       "    }\n",
       "\n",
       "    .dataframe tbody tr th {\n",
       "        vertical-align: top;\n",
       "    }\n",
       "\n",
       "    .dataframe thead th {\n",
       "        text-align: right;\n",
       "    }\n",
       "</style>\n",
       "<table border=\"1\" class=\"dataframe\">\n",
       "  <thead>\n",
       "    <tr style=\"text-align: right;\">\n",
       "      <th></th>\n",
       "      <th>quarter</th>\n",
       "      <th>total_accounts</th>\n",
       "      <th>stage1_5_accounts</th>\n",
       "      <th>stage1_5_ratio</th>\n",
       "    </tr>\n",
       "  </thead>\n",
       "  <tbody>\n",
       "    <tr>\n",
       "      <th>0</th>\n",
       "      <td>2023Q2</td>\n",
       "      <td>1089892</td>\n",
       "      <td>50763</td>\n",
       "      <td>0.0466</td>\n",
       "    </tr>\n",
       "    <tr>\n",
       "      <th>1</th>\n",
       "      <td>2023Q3</td>\n",
       "      <td>1103118</td>\n",
       "      <td>50061</td>\n",
       "      <td>0.0454</td>\n",
       "    </tr>\n",
       "    <tr>\n",
       "      <th>2</th>\n",
       "      <td>2023Q4</td>\n",
       "      <td>1097759</td>\n",
       "      <td>50332</td>\n",
       "      <td>0.0458</td>\n",
       "    </tr>\n",
       "    <tr>\n",
       "      <th>3</th>\n",
       "      <td>2024Q1</td>\n",
       "      <td>1100752</td>\n",
       "      <td>49581</td>\n",
       "      <td>0.0450</td>\n",
       "    </tr>\n",
       "    <tr>\n",
       "      <th>4</th>\n",
       "      <td>2024Q2</td>\n",
       "      <td>1093794</td>\n",
       "      <td>49366</td>\n",
       "      <td>0.0451</td>\n",
       "    </tr>\n",
       "    <tr>\n",
       "      <th>5</th>\n",
       "      <td>2024Q3</td>\n",
       "      <td>1080370</td>\n",
       "      <td>50400</td>\n",
       "      <td>0.0467</td>\n",
       "    </tr>\n",
       "    <tr>\n",
       "      <th>6</th>\n",
       "      <td>2024Q4</td>\n",
       "      <td>1071859</td>\n",
       "      <td>50735</td>\n",
       "      <td>0.0473</td>\n",
       "    </tr>\n",
       "    <tr>\n",
       "      <th>7</th>\n",
       "      <td>2025Q1</td>\n",
       "      <td>1060104</td>\n",
       "      <td>48576</td>\n",
       "      <td>0.0458</td>\n",
       "    </tr>\n",
       "    <tr>\n",
       "      <th>8</th>\n",
       "      <td>2025Q2</td>\n",
       "      <td>1055047</td>\n",
       "      <td>48719</td>\n",
       "      <td>0.0462</td>\n",
       "    </tr>\n",
       "  </tbody>\n",
       "</table>\n",
       "</div>"
      ],
      "text/plain": [
       "  quarter  total_accounts  stage1_5_accounts  stage1_5_ratio\n",
       "0  2023Q2         1089892              50763          0.0466\n",
       "1  2023Q3         1103118              50061          0.0454\n",
       "2  2023Q4         1097759              50332          0.0458\n",
       "3  2024Q1         1100752              49581          0.0450\n",
       "4  2024Q2         1093794              49366          0.0451\n",
       "5  2024Q3         1080370              50400          0.0467\n",
       "6  2024Q4         1071859              50735          0.0473\n",
       "7  2025Q1         1060104              48576          0.0458\n",
       "8  2025Q2         1055047              48719          0.0462"
      ]
     },
     "execution_count": 31,
     "metadata": {},
     "output_type": "execute_result"
    }
   ],
   "source": [
    "\n",
    "a = merged['STAGE분류구분코드'] == '1'\n",
    "b = merged['c_신용등급변화']   >= 2\n",
    "c = merged['연체일수']        >= 10\n",
    "mask = a & (b | c)                       # Stage‑1 and (risk1 or risk2)\n",
    "\n",
    "quarters = (\n",
    "    pd.to_datetime(merged['기준년월'].astype(str), format='%Y%m')\n",
    "      .dt.to_period('Q')                 # e.g. 2024Q1\n",
    ")\n",
    "\n",
    "stage1_total_q = a.groupby(quarters).sum()\n",
    "stage1_5_q     = mask.groupby(quarters).sum()\n",
    "\n",
    "stage1_analysis_q = (\n",
    "    pd.DataFrame({\n",
    "        'total_accounts'    : stage1_total_q,\n",
    "        'stage1_5_accounts' : stage1_5_q\n",
    "    })\n",
    "    .assign(stage1_5_ratio =\n",
    "            lambda d: (d['stage1_5_accounts'] / d['total_accounts'])\n",
    "                       .round(4))\n",
    "    .reset_index(names='quarter')\n",
    ")\n",
    "\n",
    "merged['c_STAGE분류구분코드'] = np.where(mask, '1.5', merged['STAGE분류구분코드'])\n",
    "merged.insert(merged.columns.get_loc('STAGE분류구분코드') + 1, 'c_STAGE분류구분코드', merged.pop('c_STAGE분류구분코드'))\n",
    "\n",
    "stage1_analysis_q\n",
    "\n",
    "\n"
   ]
  },
  {
   "cell_type": "code",
   "execution_count": 32,
   "id": "dc1fa496",
   "metadata": {},
   "outputs": [
    {
     "data": {
      "application/vnd.microsoft.datawrangler.viewer.v0+json": {
       "columns": [
        {
         "name": "index",
         "rawType": "int64",
         "type": "integer"
        },
        {
         "name": "소매여부",
         "rawType": "string",
         "type": "string"
        },
        {
         "name": "STAGE분류구분코드",
         "rawType": "object",
         "type": "string"
        },
        {
         "name": "c_STAGE분류구분코드",
         "rawType": "object",
         "type": "string"
        },
        {
         "name": "unique",
         "rawType": "int64",
         "type": "integer"
        }
       ],
       "ref": "96b3c7fa-641d-4e23-9457-03ceb8dff142",
       "rows": [
        [
         "0",
         "N",
         "1",
         "1",
         "720621"
        ],
        [
         "1",
         "N",
         "1",
         "1.5",
         "18011"
        ],
        [
         "2",
         "N",
         "2",
         "2",
         "275854"
        ],
        [
         "3",
         "N",
         "3",
         "3",
         "10257"
        ],
        [
         "4",
         "Y",
         "1",
         "1",
         "8583541"
        ],
        [
         "5",
         "Y",
         "1",
         "1.5",
         "430522"
        ],
        [
         "6",
         "Y",
         "2",
         "2",
         "771847"
        ],
        [
         "7",
         "Y",
         "3",
         "3",
         "154954"
        ]
       ],
       "shape": {
        "columns": 4,
        "rows": 8
       }
      },
      "text/html": [
       "<div>\n",
       "<style scoped>\n",
       "    .dataframe tbody tr th:only-of-type {\n",
       "        vertical-align: middle;\n",
       "    }\n",
       "\n",
       "    .dataframe tbody tr th {\n",
       "        vertical-align: top;\n",
       "    }\n",
       "\n",
       "    .dataframe thead th {\n",
       "        text-align: right;\n",
       "    }\n",
       "</style>\n",
       "<table border=\"1\" class=\"dataframe\">\n",
       "  <thead>\n",
       "    <tr style=\"text-align: right;\">\n",
       "      <th></th>\n",
       "      <th>소매여부</th>\n",
       "      <th>STAGE분류구분코드</th>\n",
       "      <th>c_STAGE분류구분코드</th>\n",
       "      <th>unique</th>\n",
       "    </tr>\n",
       "  </thead>\n",
       "  <tbody>\n",
       "    <tr>\n",
       "      <th>0</th>\n",
       "      <td>N</td>\n",
       "      <td>1</td>\n",
       "      <td>1</td>\n",
       "      <td>720621</td>\n",
       "    </tr>\n",
       "    <tr>\n",
       "      <th>1</th>\n",
       "      <td>N</td>\n",
       "      <td>1</td>\n",
       "      <td>1.5</td>\n",
       "      <td>18011</td>\n",
       "    </tr>\n",
       "    <tr>\n",
       "      <th>2</th>\n",
       "      <td>N</td>\n",
       "      <td>2</td>\n",
       "      <td>2</td>\n",
       "      <td>275854</td>\n",
       "    </tr>\n",
       "    <tr>\n",
       "      <th>3</th>\n",
       "      <td>N</td>\n",
       "      <td>3</td>\n",
       "      <td>3</td>\n",
       "      <td>10257</td>\n",
       "    </tr>\n",
       "    <tr>\n",
       "      <th>4</th>\n",
       "      <td>Y</td>\n",
       "      <td>1</td>\n",
       "      <td>1</td>\n",
       "      <td>8583541</td>\n",
       "    </tr>\n",
       "    <tr>\n",
       "      <th>5</th>\n",
       "      <td>Y</td>\n",
       "      <td>1</td>\n",
       "      <td>1.5</td>\n",
       "      <td>430522</td>\n",
       "    </tr>\n",
       "    <tr>\n",
       "      <th>6</th>\n",
       "      <td>Y</td>\n",
       "      <td>2</td>\n",
       "      <td>2</td>\n",
       "      <td>771847</td>\n",
       "    </tr>\n",
       "    <tr>\n",
       "      <th>7</th>\n",
       "      <td>Y</td>\n",
       "      <td>3</td>\n",
       "      <td>3</td>\n",
       "      <td>154954</td>\n",
       "    </tr>\n",
       "  </tbody>\n",
       "</table>\n",
       "</div>"
      ],
      "text/plain": [
       "  소매여부 STAGE분류구분코드 c_STAGE분류구분코드   unique\n",
       "0    N           1             1   720621\n",
       "1    N           1           1.5    18011\n",
       "2    N           2             2   275854\n",
       "3    N           3             3    10257\n",
       "4    Y           1             1  8583541\n",
       "5    Y           1           1.5   430522\n",
       "6    Y           2             2   771847\n",
       "7    Y           3             3   154954"
      ]
     },
     "execution_count": 32,
     "metadata": {},
     "output_type": "execute_result"
    }
   ],
   "source": [
    "cols = ['소매여부', 'STAGE분류구분코드', 'c_STAGE분류구분코드']\n",
    "out = (\n",
    "    merged.groupby(cols, dropna=False)\n",
    "        .size()\n",
    "        .rename('unique')\n",
    "        .reset_index()\n",
    "        .sort_values(cols)\n",
    ")\n",
    "\n",
    "out"
   ]
  },
  {
   "cell_type": "markdown",
   "id": "b3a31188",
   "metadata": {},
   "source": [
    "### M2: Logit Core"
   ]
  },
  {
   "cell_type": "code",
   "execution_count": 33,
   "id": "9014b685",
   "metadata": {},
   "outputs": [],
   "source": [
    "cand_vars_rtl = [x for x in cand_vars_rtl if x != 'intercept']\n",
    "cand_vars_cop = [x for x in cand_vars_cop if x != 'intercept']"
   ]
  },
  {
   "cell_type": "code",
   "execution_count": 34,
   "id": "d32470d8",
   "metadata": {},
   "outputs": [
    {
     "name": "stderr",
     "output_type": "stream",
     "text": [
      "C:\\Users\\GT492HL\\AppData\\Local\\Temp\\ipykernel_4844\\1447212691.py:19: FutureWarning: Setting an item of incompatible dtype is deprecated and will raise an error in a future version of pandas. Value '['1' '1' '1' ... '1' '1' '1.5']' has dtype incompatible with float64, please explicitly cast to a compatible dtype first.\n",
      "  merged.loc[X_rtl.index,'c_STAGE분류구분코드2'] = X_rtl['stage']\n"
     ]
    }
   ],
   "source": [
    "merged['c_STAGE분류구분코드2'] = np.nan\n",
    "# 소매 추정\n",
    "X_rtl = merged[(merged['소매여부']=='Y')&(merged['STAGE분류구분코드']=='1')][cand_vars_rtl].copy()\n",
    "old_cat_rtl = [x for x in cand_vars_rtl if x in catcols_rtl_org]\n",
    "old_lin_rtl = [x for x in cand_vars_rtl if x in lincols_rtl_org]\n",
    "X_rtl[old_cat_rtl] = X_rtl[old_cat_rtl].astype('category')\n",
    "X_rtl[old_cat_rtl] = X_rtl[old_cat_rtl].apply(lambda x: x.cat.codes)\n",
    "for x in old_lin_rtl:\n",
    "    X_rtl[x] = norm(X_rtl[x])\n",
    "    _, p = stats.skewtest(X_rtl[x])\n",
    "    if p < 0.05:\n",
    "        X_rtl[x] = np.log(X_rtl[x])\n",
    "X_rtl['intercept'] = 1\n",
    "y_pred_rtl = model_logit_core_rtl.predict(X_rtl[cand_vars_rtl+['intercept']].values.astype(float))\n",
    "y_pred_rtl = (y_pred_rtl > threshold_logit_rtl).astype(int)\n",
    "X_rtl['pred'] = y_pred_rtl\n",
    "X_rtl.loc[X_rtl['pred']==1,'stage'] = '1.5'\n",
    "X_rtl.loc[X_rtl['pred']==0,'stage'] = '1'\n",
    "merged.loc[X_rtl.index,'c_STAGE분류구분코드2'] = X_rtl['stage']\n",
    "# 기업 추정\n",
    "X_cop = merged[(merged['소매여부']=='N')&(merged['STAGE분류구분코드']=='1')][cand_vars_cop].copy()\n",
    "old_cat_cop = [x for x in cand_vars_cop if x in catcols_cop_org]\n",
    "old_lin_cop = [x for x in cand_vars_cop if x in lincols_cop_org]\n",
    "X_cop[old_cat_cop] = X_cop[old_cat_cop].astype('category')\n",
    "X_cop[old_cat_cop] = X_cop[old_cat_cop].apply(lambda x: x.cat.codes)\n",
    "for x in old_lin_cop:\n",
    "    X_cop[x] = norm(X_cop[x])\n",
    "    _, p = stats.skewtest(X_cop[x])\n",
    "    if p < 0.05:\n",
    "        X_cop[x] = np.log(X_cop[x])\n",
    "X_cop['intercept'] = 1\n",
    "y_pred_cop = model_logit_core_cop.predict(X_cop[cand_vars_cop+['intercept']].values.astype(float))\n",
    "y_pred_cop = (y_pred_cop > threshold_logit_cop).astype(int)\n",
    "X_cop['pred'] = y_pred_cop\n",
    "X_cop.loc[X_cop['pred']==1,'stage'] = '1.5'\n",
    "X_cop.loc[X_cop['pred']==0,'stage'] = '1'\n",
    "merged.loc[X_cop.index,'c_STAGE분류구분코드2'] = X_cop['stage']\n",
    "merged.loc[merged['c_STAGE분류구분코드2'].isna(),'c_STAGE분류구분코드2'] = merged.loc[merged['c_STAGE분류구분코드2'].isna(),'STAGE분류구분코드']"
   ]
  },
  {
   "cell_type": "markdown",
   "id": "18972d29",
   "metadata": {},
   "source": [
    "### M3: Random Forest + Logit"
   ]
  },
  {
   "cell_type": "code",
   "execution_count": 35,
   "id": "0916ee96",
   "metadata": {},
   "outputs": [
    {
     "name": "stderr",
     "output_type": "stream",
     "text": [
      "C:\\Users\\GT492HL\\AppData\\Local\\Temp\\ipykernel_4844\\2381396023.py:20: FutureWarning: Setting an item of incompatible dtype is deprecated and will raise an error in a future version of pandas. Value '['1' '1' '1' ... '1' '1' '1.5']' has dtype incompatible with float64, please explicitly cast to a compatible dtype first.\n",
      "  merged.loc[X_rtl.index,'c_STAGE분류구분코드3'] = X_rtl['stage']\n"
     ]
    }
   ],
   "source": [
    "merged['c_STAGE분류구분코드3'] = np.nan\n",
    "# 소매 추정\n",
    "X_rtl = merged[(merged['소매여부']=='Y')&(merged['STAGE분류구분코드']=='1')][cand_vars_rtl].copy()\n",
    "old_cat_rtl = [x for x in cand_vars_rtl if x in catcols_rtl_org]\n",
    "old_lin_rtl = [x for x in cand_vars_rtl if x in lincols_rtl_org]\n",
    "X_rtl[old_cat_rtl] = X_rtl[old_cat_rtl].astype('category')\n",
    "X_rtl[old_cat_rtl] = X_rtl[old_cat_rtl].apply(lambda x: x.cat.codes)\n",
    "for x in old_lin_rtl:\n",
    "    X_rtl[x] = norm(X_rtl[x])\n",
    "    _, p = stats.skewtest(X_rtl[x])\n",
    "    if p < 0.05:\n",
    "        X_rtl[x] = np.log(X_rtl[x])\n",
    "X_rtl['intercept'] = 1\n",
    "X_rtl['cat_pred'] = clf_rtl.predict(X_rtl[catcols_rtl])\n",
    "y_pred_rtl = model_logit_rf_rtl.predict(X_rtl[lincols_rtl+['intercept','cat_pred']].values.astype(float))\n",
    "y_pred_rtl = (y_pred_rtl > threshold_rf_rtl).astype(int)\n",
    "X_rtl['pred'] = y_pred_rtl\n",
    "X_rtl.loc[X_rtl['pred']==1,'stage'] = '1.5'\n",
    "X_rtl.loc[X_rtl['pred']==0,'stage'] = '1'\n",
    "merged.loc[X_rtl.index,'c_STAGE분류구분코드3'] = X_rtl['stage']\n",
    "# 기업 추정\n",
    "X_cop = merged[(merged['소매여부']=='N')&(merged['STAGE분류구분코드']=='1')][cand_vars_cop].copy()\n",
    "old_cat_cop = [x for x in cand_vars_cop if x in catcols_cop_org]\n",
    "old_lin_cop = [x for x in cand_vars_cop if x in lincols_cop_org]\n",
    "X_cop[old_cat_cop] = X_cop[old_cat_cop].astype('category')\n",
    "X_cop[old_cat_cop] = X_cop[old_cat_cop].apply(lambda x: x.cat.codes)\n",
    "for x in old_lin_cop:\n",
    "    X_cop[x] = norm(X_cop[x])\n",
    "    _, p = stats.skewtest(X_cop[x])\n",
    "    if p < 0.05:\n",
    "        X_cop[x] = np.log(X_cop[x])\n",
    "X_cop['intercept'] = 1\n",
    "X_cop['cat_pred'] = clf_cop.predict(X_cop[catcols_cop])\n",
    "y_pred_cop = model_logit_rf_cop.predict(X_cop[lincols_cop+['intercept','cat_pred']].values.astype(float))\n",
    "y_pred_cop = (y_pred_cop > threshold_rf_cop).astype(int)\n",
    "X_cop['pred'] = y_pred_cop\n",
    "X_cop.loc[X_cop['pred']==1,'stage'] = '1.5'\n",
    "X_cop.loc[X_cop['pred']==0,'stage'] = '1'\n",
    "merged.loc[X_cop.index,'c_STAGE분류구분코드3'] = X_cop['stage']\n",
    "merged.loc[merged['c_STAGE분류구분코드3'].isna(),'c_STAGE분류구분코드3'] = merged.loc[merged['c_STAGE분류구분코드3'].isna(),'STAGE분류구분코드']"
   ]
  },
  {
   "cell_type": "markdown",
   "id": "f11687b1",
   "metadata": {},
   "source": [
    "### M4: Voting (M1, M2, M3)"
   ]
  },
  {
   "cell_type": "code",
   "execution_count": 36,
   "id": "c93436c3",
   "metadata": {},
   "outputs": [
    {
     "name": "stderr",
     "output_type": "stream",
     "text": [
      "C:\\Users\\GT492HL\\AppData\\Local\\Temp\\ipykernel_4844\\462831966.py:9: FutureWarning: Setting an item of incompatible dtype is deprecated and will raise an error in a future version of pandas. Value '1.5' has dtype incompatible with float64, please explicitly cast to a compatible dtype first.\n",
      "  merged.loc[a|b|c,'STAGE15_L1'] = '1.5'\n",
      "C:\\Users\\GT492HL\\AppData\\Local\\Temp\\ipykernel_4844\\462831966.py:10: FutureWarning: Setting an item of incompatible dtype is deprecated and will raise an error in a future version of pandas. Value '1.5' has dtype incompatible with float64, please explicitly cast to a compatible dtype first.\n",
      "  merged.loc[(a&b)|(b&c)|(a&c),'STAGE15_L2'] = '1.5'\n",
      "C:\\Users\\GT492HL\\AppData\\Local\\Temp\\ipykernel_4844\\462831966.py:11: FutureWarning: Setting an item of incompatible dtype is deprecated and will raise an error in a future version of pandas. Value '1.5' has dtype incompatible with float64, please explicitly cast to a compatible dtype first.\n",
      "  merged.loc[a&b&c,'STAGE15_L3'] = '1.5'\n"
     ]
    }
   ],
   "source": [
    "merged['STAGE15_L1'] = np.nan\n",
    "merged['STAGE15_L2'] = np.nan\n",
    "merged['STAGE15_L3'] = np.nan\n",
    "\n",
    "a = merged['c_STAGE분류구분코드']=='1.5'\n",
    "b = merged['c_STAGE분류구분코드2']=='1.5'\n",
    "c = merged['c_STAGE분류구분코드3']=='1.5'\n",
    "\n",
    "merged.loc[a|b|c,'STAGE15_L1'] = '1.5'\n",
    "merged.loc[(a&b)|(b&c)|(a&c),'STAGE15_L2'] = '1.5'\n",
    "merged.loc[a&b&c,'STAGE15_L3'] = '1.5'\n",
    "\n",
    "merged.loc[merged['STAGE15_L1'].isna(),'STAGE15_L1'] =  merged.loc[merged['STAGE15_L1'].isna(),'STAGE분류구분코드']\n",
    "merged.loc[merged['STAGE15_L2'].isna(),'STAGE15_L2'] =  merged.loc[merged['STAGE15_L2'].isna(),'STAGE분류구분코드']\n",
    "merged.loc[merged['STAGE15_L3'].isna(),'STAGE15_L3'] =  merged.loc[merged['STAGE15_L3'].isna(),'STAGE분류구분코드']"
   ]
  },
  {
   "cell_type": "markdown",
   "id": "fe0691b9",
   "metadata": {},
   "source": [
    "### Migration Monitoring"
   ]
  },
  {
   "cell_type": "code",
   "execution_count": 37,
   "id": "96f87dc3",
   "metadata": {},
   "outputs": [
    {
     "data": {
      "application/vnd.microsoft.datawrangler.viewer.v0+json": {
       "columns": [
        {
         "name": "index",
         "rawType": "int64",
         "type": "integer"
        },
        {
         "name": "model",
         "rawType": "object",
         "type": "string"
        },
        {
         "name": "baseline_quarter",
         "rawType": "object",
         "type": "string"
        },
        {
         "name": "follow_to_quarter",
         "rawType": "object",
         "type": "string"
        },
        {
         "name": "baseline_stage1_count",
         "rawType": "int64",
         "type": "integer"
        },
        {
         "name": "st1_to_st2orst3",
         "rawType": "int64",
         "type": "integer"
        },
        {
         "name": "st1_mig_ratio",
         "rawType": "float64",
         "type": "float"
        },
        {
         "name": "baseline_stage1_5_count",
         "rawType": "int64",
         "type": "integer"
        },
        {
         "name": "st15_to_st2orst3",
         "rawType": "int64",
         "type": "integer"
        },
        {
         "name": "st15_mig_ratio",
         "rawType": "float64",
         "type": "float"
        },
        {
         "name": "baseline_stage2_count",
         "rawType": "int64",
         "type": "integer"
        },
        {
         "name": "st2_to_st33",
         "rawType": "int64",
         "type": "integer"
        },
        {
         "name": "st2_mig_ratio",
         "rawType": "float64",
         "type": "float"
        }
       ],
       "ref": "09e07dd2-d557-4952-9dcc-d79712f1f335",
       "rows": [
        [
         "0",
         "M1",
         "2024Q3",
         "2025Q2",
         "1029308",
         "58164",
         "0.0565",
         "50399",
         "5680",
         "0.1127",
         "119543",
         "9307",
         "0.0779"
        ],
        [
         "1",
         "M2",
         "2024Q3",
         "2025Q2",
         "1023418",
         "49359",
         "0.0482",
         "56299",
         "14486",
         "0.2573",
         "119543",
         "9307",
         "0.0779"
        ],
        [
         "2",
         "M3",
         "2024Q3",
         "2025Q2",
         "1030620",
         "51389",
         "0.0499",
         "49093",
         "12455",
         "0.2537",
         "119543",
         "9307",
         "0.0779"
        ],
        [
         "3",
         "L1",
         "2024Q3",
         "2025Q2",
         "968617",
         "42720",
         "0.0441",
         "111105",
         "21125",
         "0.1901",
         "119543",
         "9307",
         "0.0779"
        ],
        [
         "4",
         "L2",
         "2024Q3",
         "2025Q2",
         "1035787",
         "52635",
         "0.0508",
         "43921",
         "11209",
         "0.2552",
         "119543",
         "9307",
         "0.0779"
        ],
        [
         "5",
         "L3",
         "2024Q3",
         "2025Q2",
         "1078942",
         "63557",
         "0.0589",
         "765",
         "287",
         "0.3752",
         "119543",
         "9307",
         "0.0779"
        ]
       ],
       "shape": {
        "columns": 12,
        "rows": 6
       }
      },
      "text/html": [
       "<div>\n",
       "<style scoped>\n",
       "    .dataframe tbody tr th:only-of-type {\n",
       "        vertical-align: middle;\n",
       "    }\n",
       "\n",
       "    .dataframe tbody tr th {\n",
       "        vertical-align: top;\n",
       "    }\n",
       "\n",
       "    .dataframe thead th {\n",
       "        text-align: right;\n",
       "    }\n",
       "</style>\n",
       "<table border=\"1\" class=\"dataframe\">\n",
       "  <thead>\n",
       "    <tr style=\"text-align: right;\">\n",
       "      <th></th>\n",
       "      <th>model</th>\n",
       "      <th>baseline_quarter</th>\n",
       "      <th>follow_to_quarter</th>\n",
       "      <th>baseline_stage1_count</th>\n",
       "      <th>st1_to_st2orst3</th>\n",
       "      <th>st1_mig_ratio</th>\n",
       "      <th>baseline_stage1_5_count</th>\n",
       "      <th>st15_to_st2orst3</th>\n",
       "      <th>st15_mig_ratio</th>\n",
       "      <th>baseline_stage2_count</th>\n",
       "      <th>st2_to_st33</th>\n",
       "      <th>st2_mig_ratio</th>\n",
       "    </tr>\n",
       "  </thead>\n",
       "  <tbody>\n",
       "    <tr>\n",
       "      <th>0</th>\n",
       "      <td>M1</td>\n",
       "      <td>2024Q3</td>\n",
       "      <td>2025Q2</td>\n",
       "      <td>1029308</td>\n",
       "      <td>58164</td>\n",
       "      <td>0.0565</td>\n",
       "      <td>50399</td>\n",
       "      <td>5680</td>\n",
       "      <td>0.1127</td>\n",
       "      <td>119543</td>\n",
       "      <td>9307</td>\n",
       "      <td>0.0779</td>\n",
       "    </tr>\n",
       "    <tr>\n",
       "      <th>1</th>\n",
       "      <td>M2</td>\n",
       "      <td>2024Q3</td>\n",
       "      <td>2025Q2</td>\n",
       "      <td>1023418</td>\n",
       "      <td>49359</td>\n",
       "      <td>0.0482</td>\n",
       "      <td>56299</td>\n",
       "      <td>14486</td>\n",
       "      <td>0.2573</td>\n",
       "      <td>119543</td>\n",
       "      <td>9307</td>\n",
       "      <td>0.0779</td>\n",
       "    </tr>\n",
       "    <tr>\n",
       "      <th>2</th>\n",
       "      <td>M3</td>\n",
       "      <td>2024Q3</td>\n",
       "      <td>2025Q2</td>\n",
       "      <td>1030620</td>\n",
       "      <td>51389</td>\n",
       "      <td>0.0499</td>\n",
       "      <td>49093</td>\n",
       "      <td>12455</td>\n",
       "      <td>0.2537</td>\n",
       "      <td>119543</td>\n",
       "      <td>9307</td>\n",
       "      <td>0.0779</td>\n",
       "    </tr>\n",
       "    <tr>\n",
       "      <th>3</th>\n",
       "      <td>L1</td>\n",
       "      <td>2024Q3</td>\n",
       "      <td>2025Q2</td>\n",
       "      <td>968617</td>\n",
       "      <td>42720</td>\n",
       "      <td>0.0441</td>\n",
       "      <td>111105</td>\n",
       "      <td>21125</td>\n",
       "      <td>0.1901</td>\n",
       "      <td>119543</td>\n",
       "      <td>9307</td>\n",
       "      <td>0.0779</td>\n",
       "    </tr>\n",
       "    <tr>\n",
       "      <th>4</th>\n",
       "      <td>L2</td>\n",
       "      <td>2024Q3</td>\n",
       "      <td>2025Q2</td>\n",
       "      <td>1035787</td>\n",
       "      <td>52635</td>\n",
       "      <td>0.0508</td>\n",
       "      <td>43921</td>\n",
       "      <td>11209</td>\n",
       "      <td>0.2552</td>\n",
       "      <td>119543</td>\n",
       "      <td>9307</td>\n",
       "      <td>0.0779</td>\n",
       "    </tr>\n",
       "    <tr>\n",
       "      <th>5</th>\n",
       "      <td>L3</td>\n",
       "      <td>2024Q3</td>\n",
       "      <td>2025Q2</td>\n",
       "      <td>1078942</td>\n",
       "      <td>63557</td>\n",
       "      <td>0.0589</td>\n",
       "      <td>765</td>\n",
       "      <td>287</td>\n",
       "      <td>0.3752</td>\n",
       "      <td>119543</td>\n",
       "      <td>9307</td>\n",
       "      <td>0.0779</td>\n",
       "    </tr>\n",
       "  </tbody>\n",
       "</table>\n",
       "</div>"
      ],
      "text/plain": [
       "  model baseline_quarter follow_to_quarter  baseline_stage1_count  \\\n",
       "0    M1           2024Q3            2025Q2                1029308   \n",
       "1    M2           2024Q3            2025Q2                1023418   \n",
       "2    M3           2024Q3            2025Q2                1030620   \n",
       "3    L1           2024Q3            2025Q2                 968617   \n",
       "4    L2           2024Q3            2025Q2                1035787   \n",
       "5    L3           2024Q3            2025Q2                1078942   \n",
       "\n",
       "   st1_to_st2orst3  st1_mig_ratio  baseline_stage1_5_count  st15_to_st2orst3  \\\n",
       "0            58164         0.0565                    50399              5680   \n",
       "1            49359         0.0482                    56299             14486   \n",
       "2            51389         0.0499                    49093             12455   \n",
       "3            42720         0.0441                   111105             21125   \n",
       "4            52635         0.0508                    43921             11209   \n",
       "5            63557         0.0589                      765               287   \n",
       "\n",
       "   st15_mig_ratio  baseline_stage2_count  st2_to_st33  st2_mig_ratio  \n",
       "0          0.1127                 119543         9307         0.0779  \n",
       "1          0.2573                 119543         9307         0.0779  \n",
       "2          0.2537                 119543         9307         0.0779  \n",
       "3          0.1901                 119543         9307         0.0779  \n",
       "4          0.2552                 119543         9307         0.0779  \n",
       "5          0.3752                 119543         9307         0.0779  "
      ]
     },
     "execution_count": 37,
     "metadata": {},
     "output_type": "execute_result"
    }
   ],
   "source": [
    "start_q = pd.Period('2024Q3', freq='Q')\n",
    "end_q   = pd.Period('2025Q2', freq='Q')\n",
    "\n",
    "quarter_series = pd.to_datetime(merged['기준년월'].astype(str), format='%Y%m').dt.to_period('Q')\n",
    "\n",
    "### M1: Clustering\n",
    "# Stage-1 baseline → Stage-2 or Stage-3\n",
    "baseline_1_M1 = (quarter_series == start_q) & (merged['c_STAGE분류구분코드'] == '1')\n",
    "accounts_1_M1 = merged.loc[baseline_1_M1, '계좌번호'].unique()\n",
    "\n",
    "follow_mask_1 = (\n",
    "    merged['계좌번호'].isin(accounts_1_M1)\n",
    "    & (quarter_series > start_q) & (quarter_series <= end_q)\n",
    ")\n",
    "migrated_1_M1 = merged.loc[\n",
    "    follow_mask_1 & merged['c_STAGE분류구분코드'].isin(['2', '3']),\n",
    "    '계좌번호'\n",
    "].unique()\n",
    "\n",
    "# Stage-1.5 baseline → Stage-2 or Stage-3\n",
    "baseline_15_M1 = (quarter_series == start_q) & (merged['c_STAGE분류구분코드'] == '1.5')\n",
    "accounts_15_M1 = merged.loc[baseline_15_M1, '계좌번호'].unique()\n",
    "\n",
    "follow_mask_15 = (\n",
    "    merged['계좌번호'].isin(accounts_15_M1)\n",
    "    & (quarter_series > start_q) & (quarter_series <= end_q)\n",
    ")\n",
    "migrated_15_M1 = merged.loc[\n",
    "    follow_mask_15 & merged['c_STAGE분류구분코드'].isin(['2', '3']),\n",
    "    '계좌번호'\n",
    "].unique()\n",
    "\n",
    "### M2: Logistic\n",
    "# Stage-1 baseline → Stage-2 or Stage-3\n",
    "baseline_1_M2 = (quarter_series == start_q) & (merged['c_STAGE분류구분코드2'] == '1')\n",
    "accounts_1_M2 = merged.loc[baseline_1_M2, '계좌번호'].unique()\n",
    "\n",
    "follow_mask_1 = (\n",
    "    merged['계좌번호'].isin(accounts_1_M2)\n",
    "    & (quarter_series > start_q) & (quarter_series <= end_q)\n",
    ")\n",
    "migrated_1_M2 = merged.loc[\n",
    "    follow_mask_1 & merged['c_STAGE분류구분코드2'].isin(['2', '3']),\n",
    "    '계좌번호'\n",
    "].unique()\n",
    "\n",
    "# Stage-1.5 baseline → Stage-2 or Stage-3\n",
    "baseline_15_M2 = (quarter_series == start_q) & (merged['c_STAGE분류구분코드2'] == '1.5')\n",
    "accounts_15_M2 = merged.loc[baseline_15_M2, '계좌번호'].unique()\n",
    "\n",
    "follow_mask_15 = (\n",
    "    merged['계좌번호'].isin(accounts_15_M2)\n",
    "    & (quarter_series > start_q) & (quarter_series <= end_q)\n",
    ")\n",
    "migrated_15_M2 = merged.loc[\n",
    "    follow_mask_15 & merged['c_STAGE분류구분코드2'].isin(['2', '3']),\n",
    "    '계좌번호'\n",
    "].unique()\n",
    "\n",
    "### M3: Random Forest + Logit\n",
    "# Stage-1 baseline → Stage-2 or Stage-3\n",
    "baseline_1_M3 = (quarter_series == start_q) & (merged['c_STAGE분류구분코드3'] == '1')\n",
    "accounts_1_M3 = merged.loc[baseline_1_M3, '계좌번호'].unique()\n",
    "\n",
    "follow_mask_1 = (\n",
    "    merged['계좌번호'].isin(accounts_1_M3)\n",
    "    & (quarter_series > start_q) & (quarter_series <= end_q)\n",
    ")\n",
    "migrated_1_M3 = merged.loc[\n",
    "    follow_mask_1 & merged['c_STAGE분류구분코드3'].isin(['2', '3']),\n",
    "    '계좌번호'\n",
    "].unique()\n",
    "\n",
    "# Stage-1.5 baseline → Stage-2 or Stage-3\n",
    "baseline_15_M3 = (quarter_series == start_q) & (merged['c_STAGE분류구분코드3'] == '1.5')\n",
    "accounts_15_M3 = merged.loc[baseline_15_M3, '계좌번호'].unique()\n",
    "\n",
    "follow_mask_15 = (\n",
    "    merged['계좌번호'].isin(accounts_15_M3)\n",
    "    & (quarter_series > start_q) & (quarter_series <= end_q)\n",
    ")\n",
    "migrated_15_M3 = merged.loc[\n",
    "    follow_mask_15 & merged['c_STAGE분류구분코드3'].isin(['2', '3']),\n",
    "    '계좌번호'\n",
    "].unique()\n",
    "\n",
    "### L1\n",
    "# Stage-1 baseline → Stage-2 or Stage-3\n",
    "baseline_1_L1 = (quarter_series == start_q) & (merged['STAGE15_L1'] == '1')\n",
    "accounts_1_L1 = merged.loc[baseline_1_L1, '계좌번호'].unique()\n",
    "\n",
    "follow_mask_1 = (\n",
    "    merged['계좌번호'].isin(accounts_1_L1)\n",
    "    & (quarter_series > start_q) & (quarter_series <= end_q)\n",
    ")\n",
    "migrated_1_L1 = merged.loc[\n",
    "    follow_mask_1 & merged['STAGE15_L1'].isin(['2', '3']),\n",
    "    '계좌번호'\n",
    "].unique()\n",
    "\n",
    "# Stage-1.5 baseline → Stage-2 or Stage-3\n",
    "baseline_15_L1 = (quarter_series == start_q) & (merged['STAGE15_L1'] == '1.5')\n",
    "accounts_15_L1 = merged.loc[baseline_15_L1, '계좌번호'].unique()\n",
    "\n",
    "follow_mask_15 = (\n",
    "    merged['계좌번호'].isin(accounts_15_L1)\n",
    "    & (quarter_series > start_q) & (quarter_series <= end_q)\n",
    ")\n",
    "migrated_15_L1 = merged.loc[\n",
    "    follow_mask_15 & merged['STAGE15_L1'].isin(['2', '3']),\n",
    "    '계좌번호'\n",
    "].unique()\n",
    "\n",
    "### L2\n",
    "# Stage-1 baseline → Stage-2 or Stage-3\n",
    "baseline_1_L2 = (quarter_series == start_q) & (merged['STAGE15_L2'] == '1')\n",
    "accounts_1_L2 = merged.loc[baseline_1_L2, '계좌번호'].unique()\n",
    "\n",
    "follow_mask_1 = (\n",
    "    merged['계좌번호'].isin(accounts_1_L2)\n",
    "    & (quarter_series > start_q) & (quarter_series <= end_q)\n",
    ")\n",
    "migrated_1_L2 = merged.loc[\n",
    "    follow_mask_1 & merged['STAGE15_L2'].isin(['2', '3']),\n",
    "    '계좌번호'\n",
    "].unique()\n",
    "\n",
    "# Stage-1.5 baseline → Stage-2 or Stage-3\n",
    "baseline_15_L2 = (quarter_series == start_q) & (merged['STAGE15_L2'] == '1.5')\n",
    "accounts_15_L2 = merged.loc[baseline_15_L2, '계좌번호'].unique()\n",
    "\n",
    "follow_mask_15 = (\n",
    "    merged['계좌번호'].isin(accounts_15_L2)\n",
    "    & (quarter_series > start_q) & (quarter_series <= end_q)\n",
    ")\n",
    "migrated_15_L2 = merged.loc[\n",
    "    follow_mask_15 & merged['STAGE15_L2'].isin(['2', '3']),\n",
    "    '계좌번호'\n",
    "].unique()\n",
    "\n",
    "### L3\n",
    "# Stage-1 baseline → Stage-2 or Stage-3\n",
    "baseline_1_L3 = (quarter_series == start_q) & (merged['STAGE15_L3'] == '1')\n",
    "accounts_1_L3 = merged.loc[baseline_1_L3, '계좌번호'].unique()\n",
    "\n",
    "follow_mask_1 = (\n",
    "    merged['계좌번호'].isin(accounts_1_L3)\n",
    "    & (quarter_series > start_q) & (quarter_series <= end_q)\n",
    ")\n",
    "migrated_1_L3 = merged.loc[\n",
    "    follow_mask_1 & merged['STAGE15_L3'].isin(['2', '3']),\n",
    "    '계좌번호'\n",
    "].unique()\n",
    "\n",
    "# Stage-1.5 baseline → Stage-2 or Stage-3\n",
    "baseline_15_L3 = (quarter_series == start_q) & (merged['STAGE15_L3'] == '1.5')\n",
    "accounts_15_L3 = merged.loc[baseline_15_L3, '계좌번호'].unique()\n",
    "\n",
    "follow_mask_15 = (\n",
    "    merged['계좌번호'].isin(accounts_15_L3)\n",
    "    & (quarter_series > start_q) & (quarter_series <= end_q)\n",
    ")\n",
    "migrated_15_L3 = merged.loc[\n",
    "    follow_mask_15 & merged['STAGE15_L3'].isin(['2', '3']),\n",
    "    '계좌번호'\n",
    "].unique()\n",
    "\n",
    "# Stage‑2 baseline → Stage‑3\n",
    "baseline_2 = (quarter_series == start_q) & (merged['STAGE15_L1'] == '2')\n",
    "accounts_2 = merged.loc[baseline_2, '계좌번호'].unique()\n",
    "\n",
    "follow_mask_2 = (\n",
    "    merged['계좌번호'].isin(accounts_2)\n",
    "    & (quarter_series > start_q) & (quarter_series <= end_q)\n",
    ")\n",
    "migrated_2 = merged.loc[\n",
    "    follow_mask_2 & (merged['STAGE15_L1'] == '3'),\n",
    "    '계좌번호'\n",
    "].unique()\n",
    "\n",
    "summary_validation = pd.DataFrame({\n",
    "    'model'                   : ['M1','M2','M3','L1','L2','L3'],\n",
    "    'baseline_quarter'        : [str(start_q)]*6,\n",
    "    'follow_to_quarter'       : [str(end_q)]*6,\n",
    "    'baseline_stage1_count'   : [len(accounts_1_M1),len(accounts_1_M2),len(accounts_1_M3),len(accounts_1_L1),len(accounts_1_L2),len(accounts_1_L3)],\n",
    "    'st1_to_st2orst3'      : [len(migrated_1_M1),len(migrated_1_M2),len(migrated_1_M3),len(migrated_1_L1),len(migrated_1_L2),len(migrated_1_L3)],\n",
    "    'st1_mig_ratio'         : [round(len(migrated_1_M1)/len(accounts_1_M1), 4) if accounts_1_M1.size else None]\\\n",
    "                             +[round(len(migrated_1_M2)/len(accounts_1_M2), 4) if accounts_1_M2.size else None]\\\n",
    "                             +[round(len(migrated_1_M3)/len(accounts_1_M3), 4) if accounts_1_M3.size else None]\\\n",
    "                             +[round(len(migrated_1_L1)/len(accounts_1_L1), 4) if accounts_1_L1.size else None]\\\n",
    "                             +[round(len(migrated_1_L2)/len(accounts_1_L2), 4) if accounts_1_L2.size else None]\\\n",
    "                             +[round(len(migrated_1_L3)/len(accounts_1_L3), 4) if accounts_1_L3.size else None],\n",
    "    'baseline_stage1_5_count' : [len(accounts_15_M1),len(accounts_15_M2),len(accounts_15_M3),len(accounts_15_L1),len(accounts_15_L2),len(accounts_15_L3)],\n",
    "    'st15_to_st2orst3'      : [len(migrated_15_M1),len(migrated_15_M2),len(migrated_15_M3),len(migrated_15_L1),len(migrated_15_L2),len(migrated_15_L3)],\n",
    "    'st15_mig_ratio'         : [round(len(migrated_15_M1)/len(accounts_15_M1), 4) if accounts_15_M1.size else None]\\\n",
    "                              +[round(len(migrated_15_M2)/len(accounts_15_M2), 4) if accounts_15_M2.size else None]\\\n",
    "                              +[round(len(migrated_15_M3)/len(accounts_15_M3), 4) if accounts_15_M3.size else None]\\\n",
    "                              +[round(len(migrated_15_L1)/len(accounts_15_L1), 4) if accounts_15_L1.size else None]\\\n",
    "                              +[round(len(migrated_15_L2)/len(accounts_15_L2), 4) if accounts_15_L2.size else None]\\\n",
    "                              +[round(len(migrated_15_L3)/len(accounts_15_L3), 4) if accounts_15_L3.size else None],\n",
    "    'baseline_stage2_count'   : [len(accounts_2)]*6,\n",
    "    'st2_to_st33'           : [len(migrated_2)]*6,\n",
    "    'st2_mig_ratio'       : [round(len(migrated_2)/len(accounts_2), 4) if accounts_2.size else None]*6\n",
    "})\n",
    "\n",
    "summary_validation\n"
   ]
  },
  {
   "cell_type": "markdown",
   "id": "a9621900",
   "metadata": {},
   "source": [
    "# PowerBI"
   ]
  },
  {
   "cell_type": "markdown",
   "id": "5c0573bf",
   "metadata": {},
   "source": [
    "## Importing"
   ]
  },
  {
   "cell_type": "code",
   "execution_count": 7,
   "id": "64c736d1",
   "metadata": {},
   "outputs": [],
   "source": [
    "# Shape berfore extraction\n",
    "# merged.shape"
   ]
  },
  {
   "cell_type": "code",
   "execution_count": 8,
   "id": "3e083946",
   "metadata": {},
   "outputs": [],
   "source": [
    "# bi = merged.copy()\n",
    "\n",
    "# ddf = dd.from_pandas(merged, npartitions=64)\n",
    "# ddf.to_parquet(\n",
    "#     rf'부산은행 DA\\DATA\\{ver}\\parquet\\merged_w_stage',\n",
    "#     engine = 'pyarrow',\n",
    "#     compression = 'zstd',\n",
    "#     write_index = False,\n",
    "#     partition_on = ['기준년월']\n",
    "# )"
   ]
  },
  {
   "cell_type": "code",
   "execution_count": 9,
   "id": "5cb3ca83",
   "metadata": {},
   "outputs": [],
   "source": [
    "try:\n",
    "    del(loan_cleaned, loan_cleaned_filtered, merged)\n",
    "except:\n",
    "    pass"
   ]
  },
  {
   "cell_type": "code",
   "execution_count": 10,
   "id": "279d57ca",
   "metadata": {},
   "outputs": [],
   "source": [
    "bi = dd.read_parquet(rf'부산은행 DA\\DATA\\ver.0.8.4\\parquet\\Merged_with_ST15')\n",
    "bi = bi.compute()\n"
   ]
  },
  {
   "cell_type": "code",
   "execution_count": 11,
   "id": "5b47361e",
   "metadata": {},
   "outputs": [
    {
     "data": {
      "text/plain": [
       "(10965607, 142)"
      ]
     },
     "execution_count": 11,
     "metadata": {},
     "output_type": "execute_result"
    }
   ],
   "source": [
    "bi.shape"
   ]
  },
  {
   "cell_type": "markdown",
   "id": "ffc88976",
   "metadata": {},
   "source": [
    "## BI Setting"
   ]
  },
  {
   "cell_type": "code",
   "execution_count": 12,
   "id": "a5e71762",
   "metadata": {},
   "outputs": [],
   "source": [
    "bi_cleaned = bi.copy()\n",
    "\n",
    "bi_dic = {\n",
    "    '기준년월': '기준년월',\n",
    "    '계좌번호': '계좌번호',\n",
    "    '소매여부': '차주구분',\n",
    "    '난내난외구분코드': '난내난외구분',\n",
    "    '기업규모분류': '기업규모구분',\n",
    "    '산업분류코드': '산업구분',\n",
    "    'STAGE분류구분코드': 'Stage구분',\n",
    "    'STAGE15_L1': 'Stage1.5구분',\n",
    "    'c_EAD합': '대출잔액',\n",
    "    '총대손충당금': '대손충당금',\n",
    "    '최초신용등급영문': '최초신용등급영문',\n",
    "    '최초신용등급숫자': '최초신용등급숫자',\n",
    "    '신용등급': '신용등급',\n",
    "    '연체일수': '연체일수',\n",
    "    '영업점주소': '영업점주소'\n",
    "}\n",
    "\n",
    "bi_cleaned = bi_cleaned.rename(columns=bi_dic)\n",
    "\n",
    "# 기준년월\n",
    "bi_cleaned['기준년월'] = bi_cleaned['기준년월'].map({\n",
    "    202306: '23Q2',\n",
    "    202309: '23Q3',\n",
    "    202312: '23Q4',\n",
    "    202403: '24Q1',\n",
    "    202406: '24Q2', \n",
    "    202409: '24Q3',\n",
    "    202412: '24Q4',\n",
    "    202503: '25Q1',\n",
    "    202506: '25Q2'\n",
    "})\n",
    "bi_cleaned['Stage구분'] = bi_cleaned['Stage구분'].map({\n",
    "    '1': 'Stage 1', '2': 'Stage 2', '3': 'Stage 3'\n",
    "})\n",
    "bi_cleaned['Stage1.5구분'] = bi_cleaned['Stage1.5구분'].map({\n",
    "    '1': 'Stage 1', '1.5': 'Stage 1.5', '2': 'Stage 2', '3': 'Stage 3'\n",
    "})\n",
    "\n",
    "# 차주구분\n",
    "bi_cleaned['차주구분'] = np.where(bi_cleaned['차주구분'] == 'Y', '소매', '비소매')\n"
   ]
  },
  {
   "cell_type": "markdown",
   "id": "ea7eddfd",
   "metadata": {},
   "source": [
    "## BI Tables"
   ]
  },
  {
   "cell_type": "markdown",
   "id": "c32eb918",
   "metadata": {},
   "source": [
    "### bi_main"
   ]
  },
  {
   "cell_type": "code",
   "execution_count": 13,
   "id": "4019b516",
   "metadata": {},
   "outputs": [
    {
     "name": "stderr",
     "output_type": "stream",
     "text": [
      "C:\\Users\\CL657UD\\AppData\\Local\\Temp\\ipykernel_8556\\3269352546.py:5: FutureWarning: The default of observed=False is deprecated and will be changed to True in a future version of pandas. Pass observed=False to retain current behavior or observed=True to adopt the future default and silence this warning.\n",
      "  bi_main = bi_cleaned.groupby(bi_cols).agg(\n",
      "C:\\Users\\CL657UD\\AppData\\Local\\Temp\\ipykernel_8556\\3269352546.py:9: FutureWarning: The default of observed=False is deprecated and will be changed to True in a future version of pandas. Pass observed=False to retain current behavior or observed=True to adopt the future default and silence this warning.\n",
      "  bi_main = bi_main.assign(전체대출잔액비중=bi_main.groupby('기준년월')['대출잔액'].transform(lambda x: x/x.sum()))\n",
      "C:\\Users\\CL657UD\\AppData\\Local\\Temp\\ipykernel_8556\\3269352546.py:10: FutureWarning: The default of observed=False is deprecated and will be changed to True in a future version of pandas. Pass observed=False to retain current behavior or observed=True to adopt the future default and silence this warning.\n",
      "  bi_main = bi_main.assign(차주별대출잔액비중=bi_main.groupby(['기준년월','차주구분'])['대출잔액'].transform(lambda x: x/x.sum()))\n",
      "C:\\Users\\CL657UD\\AppData\\Local\\Temp\\ipykernel_8556\\3269352546.py:11: FutureWarning: The default of observed=False is deprecated and will be changed to True in a future version of pandas. Pass observed=False to retain current behavior or observed=True to adopt the future default and silence this warning.\n",
      "  bi_main = bi_main.assign(전체대손충당금비중=bi_main.groupby('기준년월')['대출잔액'].transform(lambda x: x/x.sum()))\n",
      "C:\\Users\\CL657UD\\AppData\\Local\\Temp\\ipykernel_8556\\3269352546.py:12: FutureWarning: The default of observed=False is deprecated and will be changed to True in a future version of pandas. Pass observed=False to retain current behavior or observed=True to adopt the future default and silence this warning.\n",
      "  bi_main = bi_main.assign(차주별대손충당금비중=bi_main.groupby(['기준년월','차주구분'])['대손충당금'].transform(lambda x: x/x.sum()))\n"
     ]
    }
   ],
   "source": [
    "## bi_main\n",
    "\n",
    "bi_cols = ['기준년월', '차주구분', '난내난외구분', '기업규모구분', '산업구분', 'Stage구분']\n",
    "\n",
    "bi_main = bi_cleaned.groupby(bi_cols).agg(\n",
    "    대출잔액 = ('대출잔액', 'sum'),\n",
    "    대손충당금 = ('대손충당금', 'sum'),\n",
    ").reset_index()\n",
    "bi_main = bi_main.assign(전체대출잔액비중=bi_main.groupby('기준년월')['대출잔액'].transform(lambda x: x/x.sum()))\n",
    "bi_main = bi_main.assign(차주별대출잔액비중=bi_main.groupby(['기준년월','차주구분'])['대출잔액'].transform(lambda x: x/x.sum()))\n",
    "bi_main = bi_main.assign(전체대손충당금비중=bi_main.groupby('기준년월')['대출잔액'].transform(lambda x: x/x.sum()))\n",
    "bi_main = bi_main.assign(차주별대손충당금비중=bi_main.groupby(['기준년월','차주구분'])['대손충당금'].transform(lambda x: x/x.sum()))"
   ]
  },
  {
   "cell_type": "markdown",
   "id": "05d3c88b",
   "metadata": {},
   "source": [
    "### bi_rtlnrtl_eclrate"
   ]
  },
  {
   "cell_type": "code",
   "execution_count": 14,
   "id": "5a27fbe8",
   "metadata": {},
   "outputs": [
    {
     "name": "stderr",
     "output_type": "stream",
     "text": [
      "C:\\Users\\CL657UD\\AppData\\Local\\Temp\\ipykernel_8556\\1331190222.py:5: FutureWarning: The default of observed=False is deprecated and will be changed to True in a future version of pandas. Pass observed=False to retain current behavior or observed=True to adopt the future default and silence this warning.\n",
      "  bi_rtlnrtl_eclrate = bi_cleaned.groupby(bi_cols).agg(\n"
     ]
    }
   ],
   "source": [
    "## bi_rtlnrtl_eclrate\n",
    "\n",
    "bi_cols = ['기준년월', '차주구분']\n",
    "\n",
    "bi_rtlnrtl_eclrate = bi_cleaned.groupby(bi_cols).agg(\n",
    "    대출잔액 = ('대출잔액', 'sum'),\n",
    "    대손충당금 = ('대손충당금', 'sum'),\n",
    ").reset_index()\n",
    "\n",
    "bi_rtlnrtl_eclrate['대손충당금율'] = bi_rtlnrtl_eclrate['대손충당금'] / bi_rtlnrtl_eclrate['대출잔액']"
   ]
  },
  {
   "cell_type": "markdown",
   "id": "cd78e292",
   "metadata": {},
   "source": [
    "### bi_indust_eclrate"
   ]
  },
  {
   "cell_type": "code",
   "execution_count": 15,
   "id": "0ba02cd7",
   "metadata": {},
   "outputs": [
    {
     "name": "stderr",
     "output_type": "stream",
     "text": [
      "C:\\Users\\CL657UD\\AppData\\Local\\Temp\\ipykernel_8556\\3551935079.py:5: FutureWarning: The default of observed=False is deprecated and will be changed to True in a future version of pandas. Pass observed=False to retain current behavior or observed=True to adopt the future default and silence this warning.\n",
      "  bi_indust_eclrate = bi_cleaned.groupby(bi_cols).agg(\n",
      "C:\\Users\\CL657UD\\AppData\\Local\\Temp\\ipykernel_8556\\3551935079.py:21: MatplotlibDeprecationWarning: The get_cmap function was deprecated in Matplotlib 3.7 and will be removed in 3.11. Use ``matplotlib.colormaps[name]`` or ``matplotlib.colormaps.get_cmap()`` or ``pyplot.get_cmap()`` instead.\n",
      "  colors_rgba = cm.get_cmap('tab20')(np.linspace(0, 1, n_colors))\n"
     ]
    }
   ],
   "source": [
    "## bi_indust_eclrate\n",
    "\n",
    "bi_cols = ['기준년월', '차주구분', '산업구분']\n",
    "\n",
    "bi_indust_eclrate = bi_cleaned.groupby(bi_cols).agg(\n",
    "    대출잔액 = ('대출잔액', 'sum'),\n",
    "    대손충당금 = ('대손충당금', 'sum'),\n",
    ").reset_index()\n",
    "\n",
    "bi_indust_eclrate['대손충당금율'] = bi_indust_eclrate['대손충당금'] / bi_indust_eclrate['대출잔액']\n",
    "\n",
    "a = bi_indust_eclrate['기준년월'] == bi_indust_eclrate['기준년월'].tolist()[-1]\n",
    "tmp = bi_indust_eclrate[a][['차주구분','산업구분','대출잔액']]\n",
    "tmp['비중순위'] = tmp.groupby(['차주구분'])['대출잔액'].transform(lambda x: x.rank(ascending=False))\n",
    "\n",
    "bi_indust_eclrate = pd.merge(bi_indust_eclrate, tmp[['차주구분','산업구분','비중순위']], on=['차주구분','산업구분'], how='left')\n",
    "\n",
    "uniq = bi_indust_eclrate['산업구분'].unique()\n",
    "n_colors = len(uniq)\n",
    "\n",
    "colors_rgba = cm.get_cmap('tab20')(np.linspace(0, 1, n_colors))\n",
    "\n",
    "colors_hex = [mcolors.to_hex(c) for c in colors_rgba]\n",
    "\n",
    "color_map = dict(zip(uniq, colors_hex))\n",
    "\n",
    "bi_indust_eclrate['c_color'] = bi_indust_eclrate['산업구분'].map(color_map)"
   ]
  },
  {
   "cell_type": "markdown",
   "id": "cc2d1208",
   "metadata": {},
   "source": [
    "### bi_cr"
   ]
  },
  {
   "cell_type": "code",
   "execution_count": 16,
   "id": "06f51d89",
   "metadata": {},
   "outputs": [
    {
     "name": "stderr",
     "output_type": "stream",
     "text": [
      "C:\\Users\\CL657UD\\AppData\\Local\\Temp\\ipykernel_8556\\1386164950.py:5: FutureWarning: The default of observed=False is deprecated and will be changed to True in a future version of pandas. Pass observed=False to retain current behavior or observed=True to adopt the future default and silence this warning.\n",
      "  bi_cr_rtl = bi_cleaned[bi_cleaned['차주구분'] == '소매'].groupby(bi_cols).agg(\n",
      "C:\\Users\\CL657UD\\AppData\\Local\\Temp\\ipykernel_8556\\1386164950.py:9: FutureWarning: The default of observed=False is deprecated and will be changed to True in a future version of pandas. Pass observed=False to retain current behavior or observed=True to adopt the future default and silence this warning.\n",
      "  bi_cr_nrtl = bi_cleaned[bi_cleaned['차주구분'] == '비소매'].groupby(bi_cols).agg(\n"
     ]
    }
   ],
   "source": [
    "## bi_cr_rtl & bi_cr_nrtl\n",
    "\n",
    "bi_cols = ['기준년월', '차주구분', '신용등급', 'Stage구분']\n",
    "\n",
    "bi_cr_rtl = bi_cleaned[bi_cleaned['차주구분'] == '소매'].groupby(bi_cols).agg(\n",
    "    대출잔액 = ('대출잔액', 'sum'),\n",
    ").reset_index()\n",
    "\n",
    "bi_cr_nrtl = bi_cleaned[bi_cleaned['차주구분'] == '비소매'].groupby(bi_cols).agg(\n",
    "    대출잔액 = ('대출잔액', 'sum'),\n",
    ").reset_index()\n",
    "\n",
    "dic_cr = {'000': 0, 'A': 604, 'A-': 605, 'AA': 602, 'AA-': 603, 'AAA': 601, 'B': 611, 'B-': 612, 'BB': 609, 'BB-': 610, 'BBB': 607, 'BBB+': 606,\n",
    "    'BBB-': 608, 'C': 613, 'D1': 615, 'D2': 616, 'D3': 617,}\n",
    "\n",
    "dic_cr_rev = {v: k for k, v in dic_cr.items()}\n",
    "\n",
    "bi_cr_nrtl['c_신용등급'] = bi_cr_nrtl['신용등급'].map(dic_cr_rev)"
   ]
  },
  {
   "cell_type": "code",
   "execution_count": 17,
   "id": "1829ded6",
   "metadata": {},
   "outputs": [
    {
     "name": "stderr",
     "output_type": "stream",
     "text": [
      "C:\\Users\\CL657UD\\AppData\\Local\\Temp\\ipykernel_8556\\3492867795.py:4: SettingWithCopyWarning: \n",
      "A value is trying to be set on a copy of a slice from a DataFrame.\n",
      "Try using .loc[row_indexer,col_indexer] = value instead\n",
      "\n",
      "See the caveats in the documentation: https://pandas.pydata.org/pandas-docs/stable/user_guide/indexing.html#returning-a-view-versus-a-copy\n",
      "  bi_cr['c_신용등급'] = bi_cr['신용등급'].apply(\n"
     ]
    }
   ],
   "source": [
    "bi_cols = ['기준년월', '계좌번호', '차주구분', '최초신용등급영문', '최초신용등급숫자','신용등급', '대출잔액']\n",
    "\n",
    "bi_cr = bi_cleaned[bi_cols]\n",
    "bi_cr['c_신용등급'] = bi_cr['신용등급'].apply(\n",
    "    lambda x: dic_cr_rev[x] if x in dic_cr_rev else str(x)\n",
    ")\n",
    "\n",
    "# bi_cr중 최초신용등급이 변하는 계좌 제외\n",
    "group = bi_cr.groupby('계좌번호')['최초신용등급영문'].nunique().reset_index()\n",
    "group = group[group['최초신용등급영문'] > 1]\n",
    "bi_cr = bi_cr[~bi_cr['계좌번호'].isin(group['계좌번호'])]\n",
    "\n",
    "bi_cr['col_신용등급'] = bi_cr['기준년월'].astype(str) + '_' + '신용등급'\n",
    "bi_cr['col_c_신용등급'] = bi_cr['기준년월'].astype(str) + '_' + 'c_신용등급'\n",
    "bi_cr['col_대출잔액'] = bi_cr['기준년월'].astype(str) + '_' + '대출잔액'\n",
    "\n",
    "bi_cr_mig_rtl = bi_cr[bi_cr['차주구분'] == '소매']\n",
    "bi_cr_mig_nrtl = bi_cr[bi_cr['차주구분'] == '비소매']\n",
    "\n",
    "# bi_cr_mig_rtl\n",
    "bi_cr_a = bi_cr_mig_rtl.pivot_table(\n",
    "    index = ['계좌번호', '차주구분', '최초신용등급숫자'],\n",
    "    columns = 'col_신용등급',\n",
    "    values = '신용등급',\n",
    "    aggfunc = 'first'\n",
    ").reset_index()\n",
    "\n",
    "bi_cr_b = bi_cr_mig_rtl.pivot_table(\n",
    "    index = ['계좌번호', '차주구분', '최초신용등급숫자'],\n",
    "    columns = 'col_c_신용등급',\n",
    "    values = 'c_신용등급',\n",
    "    aggfunc = 'first'\n",
    ").reset_index()\n",
    "\n",
    "bi_cr_c = bi_cr_mig_rtl.pivot_table(\n",
    "    index = ['계좌번호', '차주구분', '최초신용등급숫자'],\n",
    "    columns = 'col_대출잔액',\n",
    "    values = '대출잔액',\n",
    "    aggfunc = 'sum'\n",
    ").reset_index()\n",
    "\n",
    "bi_cr_mig_rtl = pd.merge(bi_cr_a, bi_cr_b, on = '계좌번호', how = 'outer').drop(['차주구분_y', '최초신용등급숫자_y'], axis = 1)\n",
    "bi_cr_mig_rtl = pd.merge(bi_cr_mig_rtl, bi_cr_c, on = '계좌번호', how = 'outer').drop(['차주구분_x', '최초신용등급숫자_x'], axis = 1)\n",
    "\n",
    "# bi_cr_mig_nrtl\n",
    "bi_cr_a = bi_cr_mig_nrtl.pivot_table(\n",
    "    index = ['계좌번호', '차주구분', '최초신용등급숫자'],\n",
    "    columns = 'col_신용등급',\n",
    "    values = '신용등급',\n",
    "    aggfunc = 'first'\n",
    ").reset_index()\n",
    "\n",
    "bi_cr_b = bi_cr_mig_nrtl.pivot_table(\n",
    "    index = ['계좌번호', '차주구분', '최초신용등급숫자'],\n",
    "    columns = 'col_c_신용등급',\n",
    "    values = 'c_신용등급',\n",
    "    aggfunc = 'first'\n",
    ").reset_index()\n",
    "\n",
    "bi_cr_c = bi_cr_mig_nrtl.pivot_table(\n",
    "    index = ['계좌번호', '차주구분', '최초신용등급숫자'],\n",
    "    columns = 'col_대출잔액',\n",
    "    values = '대출잔액',\n",
    "    aggfunc = 'sum'\n",
    ").reset_index()\n",
    "\n",
    "bi_cr_mig_nrtl = pd.merge(bi_cr_a, bi_cr_b, on = '계좌번호', how = 'outer').drop(['차주구분_y', '최초신용등급숫자_y'], axis = 1)\n",
    "bi_cr_mig_nrtl = pd.merge(bi_cr_mig_nrtl, bi_cr_c, on = '계좌번호', how = 'outer').drop(['차주구분_x', '최초신용등급숫자_x'], axis = 1)"
   ]
  },
  {
   "cell_type": "code",
   "execution_count": 18,
   "id": "35e1fe76",
   "metadata": {},
   "outputs": [
    {
     "name": "stderr",
     "output_type": "stream",
     "text": [
      "C:\\Users\\CL657UD\\AppData\\Local\\Temp\\ipykernel_8556\\3935139792.py:54: MatplotlibDeprecationWarning: The get_cmap function was deprecated in Matplotlib 3.7 and will be removed in 3.11. Use ``matplotlib.colormaps[name]`` or ``matplotlib.colormaps.get_cmap()`` or ``pyplot.get_cmap()`` instead.\n",
      "  colors_rgba = cm.get_cmap('tab20')(np.linspace(0, 1, n_colors))\n"
     ]
    }
   ],
   "source": [
    "crmap_nrtl = bi_cr_mig_nrtl.groupby(['최초신용등급숫자','25Q2_신용등급'])['24Q3_대출잔액'].sum().reset_index().sort_values(['최초신용등급숫자','25Q2_신용등급'])\n",
    "crmap_nrtl = crmap_nrtl[crmap_nrtl['최초신용등급숫자'].between(601,617)]\n",
    "\n",
    "dic_cr = {'000': 0, 'A': 604, 'A-': 605, 'AA': 602, 'AA-': 603, 'AAA': 601, 'B': 611, 'B-': 612, 'BB': 609, 'BB-': 610, 'BBB': 607, 'BBB+': 606,\n",
    "    'BBB-': 608, 'C': 613, 'D1': 615, 'D2': 616, 'D3': 617,}\n",
    "\n",
    "dic_cr_rev = {v: k for k, v in dic_cr.items()}\n",
    "\n",
    "crmap_nrtl['최초신용등급영문'] = crmap_nrtl['최초신용등급숫자'].map(dic_cr_rev)\n",
    "crmap_nrtl['25Q2_c_신용등급'] = crmap_nrtl['25Q2_신용등급'].map(dic_cr_rev)\n",
    "\n",
    "fst_cr = crmap_nrtl.sort_values('최초신용등급숫자')['최초신용등급영문'].unique().tolist()\n",
    "lst_cr = crmap_nrtl.sort_values('25Q2_신용등급')['25Q2_c_신용등급'].unique().tolist()\n",
    "crmap_nrtl_full = pd.DataFrame(list(product(fst_cr,lst_cr)), columns=['최초신용등급영문','25Q2_c_신용등급'])\n",
    "crmap_nrtl_full = pd.merge(crmap_nrtl_full, crmap_nrtl, on=['최초신용등급영문','25Q2_c_신용등급'], how='left')\n",
    "\n",
    "crmap_nrtl_full['최초신용등급숫자'] = crmap_nrtl_full['최초신용등급영문'].map(dic_cr)\n",
    "crmap_nrtl_full['25Q2_신용등급'] = crmap_nrtl_full['25Q2_c_신용등급'].map(dic_cr)\n",
    "crmap_nrtl_full['24Q3_대출잔액'] = crmap_nrtl_full['24Q3_대출잔액'].fillna(0)\n",
    "\n",
    "# Create c_유의적하락 column (소매)\n",
    "crmap_nrtl_full['c_유의적하락'] = 0  # Default value\n",
    "\n",
    "# For accounts with initial rating between 601-604\n",
    "mask = (crmap_nrtl_full['최초신용등급숫자'].between(601, 604)) & \\\n",
    "       (crmap_nrtl_full['25Q2_신용등급'] - crmap_nrtl_full['최초신용등급숫자'] >= 3)\n",
    "\n",
    "crmap_nrtl_full.loc[mask, 'c_유의적하락'] = 1\n",
    "# For accounts with initial rating between 605-607\n",
    "mask = (crmap_nrtl_full['최초신용등급숫자'].between(605,607)) & \\\n",
    "       (crmap_nrtl_full['25Q2_신용등급'] - crmap_nrtl_full['최초신용등급숫자'] >= 2)\n",
    "\n",
    "crmap_nrtl_full.loc[mask, 'c_유의적하락'] = 1\n",
    "# For accounts with initial rating between 608-610\n",
    "mask = (crmap_nrtl_full['최초신용등급숫자'].between(608, 610)) & \\\n",
    "       (crmap_nrtl_full['25Q2_신용등급'] - crmap_nrtl_full['최초신용등급숫자'] >= 1)\n",
    "\n",
    "crmap_nrtl_full.loc[mask, 'c_유의적하락'] = 1\n",
    "\n",
    "# For accounts with initial rating between 611-617\n",
    "mask = (crmap_nrtl_full['최초신용등급숫자'].between(611, 617))\n",
    "\n",
    "crmap_nrtl_full.loc[mask, 'c_유의적하락'] = 1\n",
    "\n",
    "# Bucketize by credit ratings\n",
    "crmap_nrtl_full.loc[crmap_nrtl_full['최초신용등급숫자'].between(601,604),'신용등급버킷'] = 'HIGHEST'\n",
    "crmap_nrtl_full.loc[crmap_nrtl_full['최초신용등급숫자'].between(605,607),'신용등급버킷'] = 'HIGH'\n",
    "crmap_nrtl_full.loc[crmap_nrtl_full['최초신용등급숫자'].between(608,610),'신용등급버킷'] = 'LOW'\n",
    "crmap_nrtl_full.loc[crmap_nrtl_full['최초신용등급숫자'].between(611,617),'신용등급버킷'] = 'LOWEST'\n",
    "\n",
    "# Assign colors for each bucket\n",
    "uniq = crmap_nrtl_full['신용등급버킷'].unique()\n",
    "n_colors = len(crmap_nrtl_full['신용등급버킷'].unique())\n",
    "colors_rgba = cm.get_cmap('tab20')(np.linspace(0, 1, n_colors))\n",
    "colors_hex = [f'rgb({c[0]},{c[1]},{c[2]})' for c in colors_rgba]\n",
    "color_map = dict(zip(uniq, colors_hex))\n",
    "crmap_nrtl_full['c_color'] = crmap_nrtl_full['신용등급버킷'].map(color_map)\n",
    "a = crmap_nrtl_full['c_유의적하락']==0\n",
    "crmap_nrtl_full['c_color_w_opa'] = crmap_nrtl_full['c_color']\n",
    "crmap_nrtl_full.loc[a,'c_color_w_opa'] = 'rgba(144,147,148,.2)'\n",
    "crmap_nrtl_full['신용등급버킷별비중'] = crmap_nrtl_full.groupby('신용등급버킷')['24Q3_대출잔액'].transform(lambda x: x/x.sum())\n",
    "crmap_nrtl_full['신용등급별비중'] = crmap_nrtl_full.groupby('최초신용등급영문')['24Q3_대출잔액'].transform(lambda x: x/x.sum())\n",
    "crmap_nrtl_full['source_label'] = crmap_nrtl_full['신용등급버킷'].astype(str)+'(최초)'\n",
    "crmap_nrtl_full['source_label_rating'] = crmap_nrtl_full['최초신용등급영문'].astype(str)+'(최초)'\n",
    "crmap_nrtl_full['target_label'] = crmap_nrtl_full['25Q2_c_신용등급'].astype(str)+'(현재)'\n",
    "\n",
    "# Drop the meaningless bucket for significant descent of credit rating \n",
    "crmap_nrtl_wo_last = crmap_nrtl_full[crmap_nrtl_full['신용등급버킷']!='LOWEST']"
   ]
  },
  {
   "cell_type": "code",
   "execution_count": 19,
   "id": "672a05e2",
   "metadata": {},
   "outputs": [
    {
     "name": "stderr",
     "output_type": "stream",
     "text": [
      "C:\\Users\\CL657UD\\AppData\\Local\\Temp\\ipykernel_8556\\2918641698.py:43: MatplotlibDeprecationWarning: The get_cmap function was deprecated in Matplotlib 3.7 and will be removed in 3.11. Use ``matplotlib.colormaps[name]`` or ``matplotlib.colormaps.get_cmap()`` or ``pyplot.get_cmap()`` instead.\n",
      "  colors_rgba = cm.get_cmap('tab20')(np.linspace(0, 1, n_colors))\n"
     ]
    }
   ],
   "source": [
    "# 소매\n",
    "crmap_rtl = bi_cr_mig_rtl.groupby(['최초신용등급숫자','25Q2_신용등급'])['24Q3_대출잔액'].sum().reset_index()\n",
    "crmap_rtl = crmap_rtl[crmap_rtl['최초신용등급숫자'].between(1,10)]\n",
    "\n",
    "# Create c_유의적하락 column (소매)\n",
    "crmap_rtl['c_유의적하락'] = 0  # Default value\n",
    "\n",
    "# For accounts with initial rating between 1-2\n",
    "mask = (crmap_rtl['최초신용등급숫자'].between(1, 2)) & \\\n",
    "       (crmap_rtl['25Q2_신용등급'] - crmap_rtl['최초신용등급숫자'] >= 4)\n",
    "\n",
    "crmap_rtl.loc[mask, 'c_유의적하락'] = 1\n",
    "# For accounts with initial rating between 3\n",
    "mask = (crmap_rtl['최초신용등급숫자']==3) & \\\n",
    "       (crmap_rtl['25Q2_신용등급'] - crmap_rtl['최초신용등급숫자'] >= 3)\n",
    "\n",
    "crmap_rtl.loc[mask, 'c_유의적하락'] = 1\n",
    "# For accounts with initial rating between 4-5\n",
    "mask = (crmap_rtl['최초신용등급숫자'].between(4, 5)) & \\\n",
    "       (crmap_rtl['25Q2_신용등급'] - crmap_rtl['최초신용등급숫자'] >= 2)\n",
    "\n",
    "crmap_rtl.loc[mask, 'c_유의적하락'] = 1\n",
    "# For accounts with initial rating between 6-8\n",
    "mask = (crmap_rtl['최초신용등급숫자'].between(6, 8)) & \\\n",
    "       (crmap_rtl['25Q2_신용등급'] - crmap_rtl['최초신용등급숫자'] >= 1)\n",
    "\n",
    "crmap_rtl.loc[mask, 'c_유의적하락'] = 1\n",
    "# For accounts with initial rating between 9-10\n",
    "mask = (crmap_rtl['최초신용등급숫자'].between(9, 10))\n",
    "\n",
    "crmap_rtl.loc[mask, 'c_유의적하락'] = 1\n",
    "\n",
    "# Bucketize by credit ratings\n",
    "crmap_rtl.loc[crmap_rtl['최초신용등급숫자'].between(1,2),'신용등급버킷'] = 'HIGHEST'\n",
    "crmap_rtl.loc[crmap_rtl['최초신용등급숫자']==3,'신용등급버킷'] = 'HIGH'\n",
    "crmap_rtl.loc[crmap_rtl['최초신용등급숫자'].between(4,5),'신용등급버킷'] = 'MID'\n",
    "crmap_rtl.loc[crmap_rtl['최초신용등급숫자'].between(6,8),'신용등급버킷'] = 'LOW'\n",
    "crmap_rtl.loc[crmap_rtl['최초신용등급숫자'].between(9,10),'신용등급버킷'] = 'LOWEST'\n",
    "\n",
    "# Assign colors for each bucket\n",
    "uniq = crmap_rtl['신용등급버킷'].unique()\n",
    "n_colors = len(crmap_rtl['신용등급버킷'].unique())\n",
    "colors_rgba = cm.get_cmap('tab20')(np.linspace(0, 1, n_colors))\n",
    "colors_hex = [f'rgb({c[0]},{c[1]},{c[2]})' for c in colors_rgba]\n",
    "color_map = dict(zip(uniq, colors_hex))\n",
    "crmap_rtl['c_color'] = crmap_rtl['신용등급버킷'].map(color_map)\n",
    "crmap_rtl['c_color_w_opa'] = crmap_rtl['c_color']\n",
    "crmap_rtl.loc[crmap_rtl['c_유의적하락']==0,'c_color_w_opa'] = 'rgba(144,147,148,.2)'\n",
    "crmap_rtl['신용등급버킷별비중'] = crmap_rtl.groupby('신용등급버킷')['24Q3_대출잔액'].transform(lambda x: x/x.sum())\n",
    "crmap_rtl['신용등급별비중'] = crmap_rtl.groupby('최초신용등급숫자')['24Q3_대출잔액'].transform(lambda x: x/x.sum())\n",
    "crmap_rtl['source_label'] = crmap_rtl['신용등급버킷']+'(최초)'\n",
    "crmap_rtl['source_label_rating'] = crmap_rtl['최초신용등급숫자'].astype(str)+'(최초)'\n",
    "crmap_rtl['target_label'] = crmap_rtl['25Q2_신용등급'].astype(int).astype(str)+'(현재)'\n",
    "\n",
    "# Drop the meaningless bucket for significant descent of credit rating\n",
    "crmap_rtl_wo_last = crmap_rtl[crmap_rtl['신용등급버킷']!='LOWEST']"
   ]
  },
  {
   "cell_type": "markdown",
   "id": "eba5d2f0",
   "metadata": {},
   "source": [
    "### bi_st15"
   ]
  },
  {
   "cell_type": "code",
   "execution_count": 20,
   "id": "6ef68336",
   "metadata": {},
   "outputs": [
    {
     "name": "stderr",
     "output_type": "stream",
     "text": [
      "C:\\Users\\CL657UD\\AppData\\Local\\Temp\\ipykernel_8556\\1979601221.py:5: SettingWithCopyWarning: \n",
      "A value is trying to be set on a copy of a slice from a DataFrame.\n",
      "Try using .loc[row_indexer,col_indexer] = value instead\n",
      "\n",
      "See the caveats in the documentation: https://pandas.pydata.org/pandas-docs/stable/user_guide/indexing.html#returning-a-view-versus-a-copy\n",
      "  bi_st15['col_STAGE'] = bi_st15['기준년월'].astype(str) + '_' + 'STAGE'\n",
      "C:\\Users\\CL657UD\\AppData\\Local\\Temp\\ipykernel_8556\\1979601221.py:6: SettingWithCopyWarning: \n",
      "A value is trying to be set on a copy of a slice from a DataFrame.\n",
      "Try using .loc[row_indexer,col_indexer] = value instead\n",
      "\n",
      "See the caveats in the documentation: https://pandas.pydata.org/pandas-docs/stable/user_guide/indexing.html#returning-a-view-versus-a-copy\n",
      "  bi_st15['col_STAGE15'] = bi_st15['기준년월'].astype(str) + '_' + 'STAGE15'\n",
      "C:\\Users\\CL657UD\\AppData\\Local\\Temp\\ipykernel_8556\\1979601221.py:7: SettingWithCopyWarning: \n",
      "A value is trying to be set on a copy of a slice from a DataFrame.\n",
      "Try using .loc[row_indexer,col_indexer] = value instead\n",
      "\n",
      "See the caveats in the documentation: https://pandas.pydata.org/pandas-docs/stable/user_guide/indexing.html#returning-a-view-versus-a-copy\n",
      "  bi_st15['col_대출잔액'] = bi_st15['기준년월'].astype(str) + '_' + '대출잔액'\n"
     ]
    }
   ],
   "source": [
    "### bi_st15\n",
    "bi_cols = ['기준년월', '계좌번호', '차주구분', 'Stage구분','Stage1.5구분', '대출잔액']\n",
    "\n",
    "bi_st15 = bi_cleaned[bi_cols]\n",
    "bi_st15['col_STAGE'] = bi_st15['기준년월'].astype(str) + '_' + 'STAGE'\n",
    "bi_st15['col_STAGE15'] = bi_st15['기준년월'].astype(str) + '_' + 'STAGE15'\n",
    "bi_st15['col_대출잔액'] = bi_st15['기준년월'].astype(str) + '_' + '대출잔액'\n",
    "\n",
    "bi_st15_mig_rtl = bi_st15[bi_st15['차주구분'] == '소매']\n",
    "bi_st15_mig_nrtl = bi_st15[bi_st15['차주구분'] == '비소매']\n",
    "\n",
    "# bi_st15_mig_rtl\n",
    "bi_st15_a = bi_st15_mig_rtl.pivot_table(\n",
    "    index = ['계좌번호', '차주구분'],\n",
    "    columns = 'col_STAGE',\n",
    "    values = 'Stage구분',\n",
    "    aggfunc = 'first'\n",
    ").reset_index()\n",
    "\n",
    "bi_st15_b = bi_st15_mig_rtl.pivot_table(\n",
    "    index = ['계좌번호', '차주구분'],\n",
    "    columns = 'col_STAGE15',\n",
    "    values = 'Stage1.5구분',\n",
    "    aggfunc = 'first'\n",
    ").reset_index()\n",
    "\n",
    "bi_st15_c = bi_st15_mig_rtl.pivot_table(\n",
    "    index = ['계좌번호', '차주구분'],\n",
    "    columns = 'col_대출잔액',\n",
    "    values = '대출잔액',\n",
    "    aggfunc = 'first'\n",
    ").reset_index()\n",
    "\n",
    "bi_st15_mig_rtl = pd.merge(bi_st15_a, bi_st15_b, on = '계좌번호', how = 'outer').drop(['차주구분_y'], axis = 1)\n",
    "bi_st15_mig_rtl = pd.merge(bi_st15_mig_rtl, bi_st15_c, on = '계좌번호', how = 'outer').drop(['차주구분_x'], axis = 1)\n",
    "\n",
    "# bi_st15_mig_nrtl\n",
    "bi_st15_a = bi_st15_mig_nrtl.pivot_table(\n",
    "    index = ['계좌번호', '차주구분'],\n",
    "    columns = 'col_STAGE',\n",
    "    values = 'Stage구분',\n",
    "    aggfunc = 'first'\n",
    ").reset_index()\n",
    "\n",
    "bi_st15_b = bi_st15_mig_nrtl.pivot_table(\n",
    "    index = ['계좌번호', '차주구분'],\n",
    "    columns = 'col_STAGE15',\n",
    "    values = 'Stage1.5구분',\n",
    "    aggfunc = 'first'\n",
    ").reset_index()\n",
    "\n",
    "bi_st15_c = bi_st15_mig_nrtl.pivot_table(\n",
    "    index = ['계좌번호', '차주구분'],\n",
    "    columns = 'col_대출잔액',\n",
    "    values = '대출잔액',\n",
    "    aggfunc = 'first'\n",
    ").reset_index()\n",
    "\n",
    "bi_st15_mig_nrtl = pd.merge(bi_st15_a, bi_st15_b, on = '계좌번호', how = 'outer').drop(['차주구분_y'], axis = 1)\n",
    "bi_st15_mig_nrtl = pd.merge(bi_st15_mig_nrtl, bi_st15_c, on = '계좌번호', how = 'outer').drop(['차주구분_x'], axis = 1)"
   ]
  },
  {
   "cell_type": "code",
   "execution_count": 21,
   "id": "b1c25759",
   "metadata": {},
   "outputs": [
    {
     "name": "stderr",
     "output_type": "stream",
     "text": [
      "C:\\Users\\CL657UD\\AppData\\Local\\Temp\\ipykernel_8556\\3546929086.py:8: MatplotlibDeprecationWarning: The get_cmap function was deprecated in Matplotlib 3.7 and will be removed in 3.11. Use ``matplotlib.colormaps[name]`` or ``matplotlib.colormaps.get_cmap()`` or ``pyplot.get_cmap()`` instead.\n",
      "  colors_rgba = cm.get_cmap('tab20')(np.linspace(0, 1, n_colors))\n"
     ]
    }
   ],
   "source": [
    "### 비소매\n",
    "st15map_nrtl = bi_st15_mig_nrtl.groupby(['24Q3_STAGE15','25Q2_STAGE'])['24Q3_대출잔액'].sum().reset_index()\n",
    "st15map_nrtl.sort_values(['24Q3_STAGE15','25Q2_STAGE'])\n",
    "\n",
    "# Assign colors by stage\n",
    "uniq = st15map_nrtl['24Q3_STAGE15'].unique()\n",
    "n_colors = len(st15map_nrtl['24Q3_STAGE15'].unique())\n",
    "colors_rgba = cm.get_cmap('tab20')(np.linspace(0, 1, n_colors))\n",
    "colors_hex = [f'rgba({c[0]},{c[1]},{c[2]},.5)' for c in colors_rgba]\n",
    "color_map = dict(zip(uniq, colors_hex))\n",
    "st15map_nrtl['c_color'] = st15map_nrtl['24Q3_STAGE15'].map(color_map)\n",
    "\n",
    "# stage별 비중 계산\n",
    "st15map_nrtl['STAGE별비중'] = st15map_nrtl.groupby('24Q3_STAGE15')['24Q3_대출잔액'].transform(lambda x: x/x.sum())\n",
    "\n",
    "st15map_nrtl['source_label'] = st15map_nrtl['24Q3_STAGE15'].astype(str)+'(최초)'\n",
    "st15map_nrtl['target_label'] = st15map_nrtl['25Q2_STAGE'].astype(str)+'(현재)'"
   ]
  },
  {
   "cell_type": "code",
   "execution_count": 22,
   "id": "f89eefcd",
   "metadata": {},
   "outputs": [
    {
     "name": "stderr",
     "output_type": "stream",
     "text": [
      "C:\\Users\\CL657UD\\AppData\\Local\\Temp\\ipykernel_8556\\3808876381.py:8: MatplotlibDeprecationWarning: The get_cmap function was deprecated in Matplotlib 3.7 and will be removed in 3.11. Use ``matplotlib.colormaps[name]`` or ``matplotlib.colormaps.get_cmap()`` or ``pyplot.get_cmap()`` instead.\n",
      "  colors_rgba = cm.get_cmap('tab20')(np.linspace(0, 1, n_colors))\n"
     ]
    }
   ],
   "source": [
    "# 소매\n",
    "st15map_rtl = bi_st15_mig_rtl.groupby(['24Q3_STAGE15','25Q2_STAGE'])['24Q3_대출잔액'].sum().reset_index()\n",
    "st15map_rtl.sort_values(['24Q3_STAGE15','25Q2_STAGE'])\n",
    "\n",
    "# Assign colors by stage\n",
    "uniq = st15map_rtl['24Q3_STAGE15'].unique()\n",
    "n_colors = len(st15map_rtl['24Q3_STAGE15'].unique())\n",
    "colors_rgba = cm.get_cmap('tab20')(np.linspace(0, 1, n_colors))\n",
    "colors_hex = [f'rgba({c[0]},{c[1]},{c[2]},.5)' for c in colors_rgba]\n",
    "color_map = dict(zip(uniq, colors_hex))\n",
    "st15map_rtl['c_color'] = st15map_rtl['24Q3_STAGE15'].map(color_map)\n",
    "\n",
    "st15map_rtl['STAGE별비중'] = st15map_rtl.groupby('24Q3_STAGE15')['24Q3_대출잔액'].transform(lambda x: x/x.sum())\n",
    "\n",
    "st15map_rtl['source_label'] = st15map_rtl['24Q3_STAGE15'].astype(str)+'(최초)'\n",
    "st15map_rtl['target_label'] = st15map_rtl['25Q2_STAGE'].astype(str)+'(현재)'"
   ]
  },
  {
   "cell_type": "markdown",
   "id": "07db6a67",
   "metadata": {},
   "source": [
    "### bi_st_org"
   ]
  },
  {
   "cell_type": "code",
   "execution_count": 23,
   "id": "a8803b00",
   "metadata": {},
   "outputs": [
    {
     "name": "stderr",
     "output_type": "stream",
     "text": [
      "C:\\Users\\CL657UD\\AppData\\Local\\Temp\\ipykernel_8556\\3940403950.py:8: MatplotlibDeprecationWarning: The get_cmap function was deprecated in Matplotlib 3.7 and will be removed in 3.11. Use ``matplotlib.colormaps[name]`` or ``matplotlib.colormaps.get_cmap()`` or ``pyplot.get_cmap()`` instead.\n",
      "  colors_rgba = cm.get_cmap('tab20')(np.linspace(0, 1, n_colors))\n"
     ]
    }
   ],
   "source": [
    "# 비소매\n",
    "stmap_nrtl = bi_st15_mig_nrtl.groupby(['24Q3_STAGE','25Q2_STAGE'])['24Q3_대출잔액'].sum().reset_index()\n",
    "stmap_nrtl.sort_values(['24Q3_STAGE','25Q2_STAGE'])\n",
    "\n",
    "# Assign colors by stage\n",
    "uniq = stmap_nrtl['24Q3_STAGE'].unique()\n",
    "n_colors = len(stmap_nrtl['24Q3_STAGE'].unique())\n",
    "colors_rgba = cm.get_cmap('tab20')(np.linspace(0, 1, n_colors))\n",
    "colors_hex = [f'rgba({c[0]},{c[1]},{c[2]},.5)' for c in colors_rgba]\n",
    "color_map = dict(zip(uniq, colors_hex))\n",
    "stmap_nrtl['c_color'] = stmap_nrtl['24Q3_STAGE'].map(color_map)\n",
    "\n",
    "stmap_nrtl['STAGE별비중'] = stmap_nrtl.groupby('24Q3_STAGE')['24Q3_대출잔액'].transform(lambda x: x/x.sum())\n",
    "\n",
    "stmap_nrtl['source_label'] = stmap_nrtl['24Q3_STAGE'].astype(str)+'(최초)'\n",
    "stmap_nrtl['target_label'] = stmap_nrtl['25Q2_STAGE'].astype(str)+'(현재)'"
   ]
  },
  {
   "cell_type": "code",
   "execution_count": 24,
   "id": "3b0968b0",
   "metadata": {},
   "outputs": [
    {
     "name": "stderr",
     "output_type": "stream",
     "text": [
      "C:\\Users\\CL657UD\\AppData\\Local\\Temp\\ipykernel_8556\\3352282596.py:8: MatplotlibDeprecationWarning: The get_cmap function was deprecated in Matplotlib 3.7 and will be removed in 3.11. Use ``matplotlib.colormaps[name]`` or ``matplotlib.colormaps.get_cmap()`` or ``pyplot.get_cmap()`` instead.\n",
      "  colors_rgba = cm.get_cmap('tab20')(np.linspace(0, 1, n_colors))\n"
     ]
    }
   ],
   "source": [
    "# 소매\n",
    "stmap_rtl = bi_st15_mig_rtl.groupby(['24Q3_STAGE','25Q2_STAGE'])['24Q3_대출잔액'].sum().reset_index()\n",
    "stmap_rtl.sort_values(['24Q3_STAGE','25Q2_STAGE'])\n",
    "\n",
    "# Assign colors by stage\n",
    "uniq = stmap_rtl['24Q3_STAGE'].unique()\n",
    "n_colors = len(stmap_rtl['24Q3_STAGE'].unique())\n",
    "colors_rgba = cm.get_cmap('tab20')(np.linspace(0, 1, n_colors))\n",
    "colors_hex = [f'rgba({c[0]},{c[1]},{c[2]},.5)' for c in colors_rgba]\n",
    "color_map = dict(zip(uniq, colors_hex))\n",
    "stmap_rtl['c_color'] = stmap_rtl['24Q3_STAGE'].map(color_map)\n",
    "\n",
    "stmap_rtl['STAGE별비중'] = stmap_rtl.groupby('24Q3_STAGE')['24Q3_대출잔액'].transform(lambda x: x/x.sum())\n",
    "\n",
    "stmap_rtl['source_label'] = stmap_rtl['24Q3_STAGE'].astype(str)+'(최초)'\n",
    "stmap_rtl['target_label'] = stmap_rtl['25Q2_STAGE'].astype(str)+'(현재)'"
   ]
  },
  {
   "cell_type": "markdown",
   "id": "eeede314",
   "metadata": {},
   "source": [
    "### bi_dpd"
   ]
  },
  {
   "cell_type": "code",
   "execution_count": 25,
   "id": "e4b995d7",
   "metadata": {},
   "outputs": [
    {
     "name": "stderr",
     "output_type": "stream",
     "text": [
      "C:\\Users\\CL657UD\\AppData\\Local\\Temp\\ipykernel_8556\\3040328373.py:7: FutureWarning: The default of observed=False is deprecated and will be changed to True in a future version of pandas. Pass observed=False to retain current behavior or observed=True to adopt the future default and silence this warning.\n",
      "  bi_dpd = bi_cleaned.groupby(bi_cols).agg(\n",
      "C:\\Users\\CL657UD\\AppData\\Local\\Temp\\ipykernel_8556\\3040328373.py:18: RuntimeWarning: invalid value encountered in scalar divide\n",
      "  bi_dpd['연체율변동폭'] = bi_dpd.groupby(['차주구분','산업구분'])['연체율'].transform(lambda x: (x.max()-x.min())/x.mean())\n",
      "C:\\Users\\CL657UD\\AppData\\Local\\Temp\\ipykernel_8556\\3040328373.py:19: FutureWarning: The default of observed=False is deprecated and will be changed to True in a future version of pandas. Pass observed=False to retain current behavior or observed=True to adopt the future default and silence this warning.\n",
      "  bi_dpd['연체율변동순위'] = bi_dpd.groupby(['기준년월','차주구분'])['연체율변동폭'].transform(lambda x: x.rank(method='first', ascending=False))\n",
      "C:\\Users\\CL657UD\\AppData\\Local\\Temp\\ipykernel_8556\\3040328373.py:24: MatplotlibDeprecationWarning: The get_cmap function was deprecated in Matplotlib 3.7 and will be removed in 3.11. Use ``matplotlib.colormaps[name]`` or ``matplotlib.colormaps.get_cmap()`` or ``pyplot.get_cmap()`` instead.\n",
      "  colors_rgba = cm.get_cmap('tab20')(np.linspace(0, 1, n_colors))\n"
     ]
    }
   ],
   "source": [
    "## bi_dpd\n",
    "\n",
    "bi_cols = ['기준년월', '차주구분', '산업구분']\n",
    "\n",
    "bi_cleaned['c_유효이자율'] = bi_cleaned['유효이자율']*bi_cleaned['대출잔액']\n",
    "\n",
    "bi_dpd = bi_cleaned.groupby(bi_cols).agg(\n",
    "    총개수 = ('연체일수', 'size'),\n",
    "    연체 = ('연체일수', lambda s: (s>=1).sum()),\n",
    "    유효이자율 = ('c_유효이자율', 'sum'),\n",
    "    대출잔액 = ('대출잔액', 'sum')\n",
    ").assign(\n",
    "    연체율 = lambda x: x['연체'] / x['총개수'],\n",
    "    평균유효이자율 = lambda x: x['유효이자율'] / x['대출잔액']\n",
    "    ).reset_index()\n",
    "\n",
    "# 연체율 변동폭 계산\n",
    "bi_dpd['연체율변동폭'] = bi_dpd.groupby(['차주구분','산업구분'])['연체율'].transform(lambda x: (x.max()-x.min())/x.mean())\n",
    "bi_dpd['연체율변동순위'] = bi_dpd.groupby(['기준년월','차주구분'])['연체율변동폭'].transform(lambda x: x.rank(method='first', ascending=False))\n",
    "\n",
    "# Assign colors for each industry\n",
    "uniq = bi_dpd['산업구분'].unique()\n",
    "n_colors = len(uniq)\n",
    "colors_rgba = cm.get_cmap('tab20')(np.linspace(0, 1, n_colors))\n",
    "colors_hex = [mcolors.to_hex(c) for c in colors_rgba]\n",
    "color_map = dict(zip(uniq, colors_hex))\n",
    "bi_dpd['c_color'] = bi_dpd['산업구분'].map(color_map)"
   ]
  },
  {
   "cell_type": "markdown",
   "id": "efba1f1c",
   "metadata": {},
   "source": [
    "### bi_geo"
   ]
  },
  {
   "cell_type": "code",
   "execution_count": 26,
   "id": "6021770d",
   "metadata": {},
   "outputs": [
    {
     "name": "stderr",
     "output_type": "stream",
     "text": [
      "C:\\Users\\CL657UD\\AppData\\Local\\Temp\\ipykernel_8556\\1102523744.py:7: FutureWarning: The default of observed=False is deprecated and will be changed to True in a future version of pandas. Pass observed=False to retain current behavior or observed=True to adopt the future default and silence this warning.\n",
      "  .groupby(bi_cols, as_index=False)['대출잔액']\n",
      "C:\\Users\\CL657UD\\AppData\\Local\\Temp\\ipykernel_8556\\1102523744.py:12: FutureWarning: The default of observed=False is deprecated and will be changed to True in a future version of pandas. Pass observed=False to retain current behavior or observed=True to adopt the future default and silence this warning.\n",
      "  x.groupby(['기준년월', '차주구분'])['대출잔액'].transform('sum')\n",
      "C:\\Users\\CL657UD\\AppData\\Local\\Temp\\ipykernel_8556\\1102523744.py:32: FutureWarning: The default of observed=False is deprecated and will be changed to True in a future version of pandas. Pass observed=False to retain current behavior or observed=True to adopt the future default and silence this warning.\n",
      "  .groupby(['기준년월', '차주구분', '영업점주소2'], as_index=False)['대출잔액']\n",
      "C:\\Users\\CL657UD\\AppData\\Local\\Temp\\ipykernel_8556\\1102523744.py:37: FutureWarning: The default of observed=False is deprecated and will be changed to True in a future version of pandas. Pass observed=False to retain current behavior or observed=True to adopt the future default and silence this warning.\n",
      "  x.groupby(['기준년월', '차주구분'])['대출잔액'].transform('sum')\n"
     ]
    }
   ],
   "source": [
    "## bi_geo\n",
    "\n",
    "bi_cols = ['기준년월', '차주구분', '영업점주소']\n",
    "\n",
    "bi_geo = (\n",
    "    bi_cleaned\n",
    "      .groupby(bi_cols, as_index=False)['대출잔액']\n",
    "      .sum()                                              \n",
    "      .assign(\n",
    "          대출잔액율 = lambda x:                       \n",
    "              x['대출잔액'] /\n",
    "              x.groupby(['기준년월', '차주구분'])['대출잔액'].transform('sum')\n",
    "      )\n",
    ")\n",
    "\n",
    "# latitude & Longitude\n",
    "bi_geo['c_영업점주소'] = bi_geo['영업점주소'].str.strip().replace(' ', '', regex=True)\n",
    "\n",
    "geo = pd.read_excel(r\"1. PBC\\geocoding_result.xlsx\")\n",
    "geo['c_영업점주소'] = geo['영업점주소'].str.strip().replace(' ', '', regex=True)\n",
    "geo.loc[geo['영업점주소'] == '경기 부천시 상동로', 'c_영업점주소'] = '경기부천시원미구상동로'\n",
    "geo.loc[geo['영업점주소'] == '부산 수영구 수영로618번길', 'c_영업점주소'] = '부산수영구수영로'\n",
    "\n",
    "bi_geo = pd.merge(bi_geo, geo[['c_영업점주소', 'Latitude', 'Longitude']], on='c_영업점주소', how='left')\n",
    "\n",
    "\n",
    "## bi_geo2\n",
    "bi_geo2 = bi_geo.copy()\n",
    "bi_geo2['영업점주소2'] = bi_geo2['영업점주소'].str.split(' ').str[:1].str.join(' ')\n",
    "\n",
    "bi_geo2 = (bi_geo2\n",
    "    .groupby(['기준년월', '차주구분', '영업점주소2'], as_index=False)['대출잔액']\n",
    "    .sum()\n",
    "    .assign(\n",
    "        대출잔액율 = lambda x: \n",
    "            x['대출잔액'] / \n",
    "            x.groupby(['기준년월', '차주구분'])['대출잔액'].transform('sum')\n",
    "    )\n",
    ")"
   ]
  },
  {
   "cell_type": "markdown",
   "id": "10e07884",
   "metadata": {},
   "source": [
    "### bi_main_st15"
   ]
  },
  {
   "cell_type": "code",
   "execution_count": 27,
   "id": "c69724c0",
   "metadata": {},
   "outputs": [
    {
     "name": "stderr",
     "output_type": "stream",
     "text": [
      "C:\\Users\\CL657UD\\AppData\\Local\\Temp\\ipykernel_8556\\1929979928.py:16: FutureWarning: The default of observed=False is deprecated and will be changed to True in a future version of pandas. Pass observed=False to retain current behavior or observed=True to adopt the future default and silence this warning.\n",
      "  bi_main_st15 = bi_cleaned.groupby(bi_cols).agg(\n",
      "C:\\Users\\CL657UD\\AppData\\Local\\Temp\\ipykernel_8556\\1929979928.py:22: FutureWarning: The default of observed=False is deprecated and will be changed to True in a future version of pandas. Pass observed=False to retain current behavior or observed=True to adopt the future default and silence this warning.\n",
      "  bi_main_st15 = bi_main_st15.assign(전체대출잔액비중=bi_main_st15.groupby('기준년월')['대출잔액'].transform(lambda x: x/x.sum()))\n",
      "C:\\Users\\CL657UD\\AppData\\Local\\Temp\\ipykernel_8556\\1929979928.py:23: FutureWarning: The default of observed=False is deprecated and will be changed to True in a future version of pandas. Pass observed=False to retain current behavior or observed=True to adopt the future default and silence this warning.\n",
      "  bi_main_st15 = bi_main_st15.assign(차주별대출잔액비중=bi_main_st15.groupby(['기준년월','차주구분'])['대출잔액'].transform(lambda x: x/x.sum()))\n",
      "C:\\Users\\CL657UD\\AppData\\Local\\Temp\\ipykernel_8556\\1929979928.py:24: FutureWarning: The default of observed=False is deprecated and will be changed to True in a future version of pandas. Pass observed=False to retain current behavior or observed=True to adopt the future default and silence this warning.\n",
      "  bi_main_st15 = bi_main_st15.assign(전체대손충당금비중=bi_main_st15.groupby('기준년월')['대손충당금'].transform(lambda x: x/x.sum()))\n",
      "C:\\Users\\CL657UD\\AppData\\Local\\Temp\\ipykernel_8556\\1929979928.py:25: FutureWarning: The default of observed=False is deprecated and will be changed to True in a future version of pandas. Pass observed=False to retain current behavior or observed=True to adopt the future default and silence this warning.\n",
      "  bi_main_st15 = bi_main_st15.assign(차주별대손충당금비중=bi_main_st15.groupby(['기준년월','차주구분'])['대손충당금'].transform(lambda x: x/x.sum()))\n"
     ]
    },
    {
     "data": {
      "text/html": [
       "<div>\n",
       "<style scoped>\n",
       "    .dataframe tbody tr th:only-of-type {\n",
       "        vertical-align: middle;\n",
       "    }\n",
       "\n",
       "    .dataframe tbody tr th {\n",
       "        vertical-align: top;\n",
       "    }\n",
       "\n",
       "    .dataframe thead th {\n",
       "        text-align: right;\n",
       "    }\n",
       "</style>\n",
       "<table border=\"1\" class=\"dataframe\">\n",
       "  <thead>\n",
       "    <tr style=\"text-align: right;\">\n",
       "      <th></th>\n",
       "      <th>기준년월</th>\n",
       "      <th>차주구분</th>\n",
       "      <th>난내난외구분</th>\n",
       "      <th>Stage1.5구분</th>\n",
       "      <th>개수</th>\n",
       "      <th>대출잔액</th>\n",
       "      <th>대손충당금</th>\n",
       "      <th>전체대출잔액비중</th>\n",
       "      <th>차주별대출잔액비중</th>\n",
       "      <th>전체대손충당금비중</th>\n",
       "      <th>차주별대손충당금비중</th>\n",
       "    </tr>\n",
       "  </thead>\n",
       "  <tbody>\n",
       "    <tr>\n",
       "      <th>0</th>\n",
       "      <td>23Q2</td>\n",
       "      <td>비소매</td>\n",
       "      <td>난내</td>\n",
       "      <td>Stage 1</td>\n",
       "      <td>65381</td>\n",
       "      <td>2.124315e+13</td>\n",
       "      <td>5.480849e+10</td>\n",
       "      <td>0.316775</td>\n",
       "      <td>0.543906</td>\n",
       "      <td>1.219600e-01</td>\n",
       "      <td>1.588011e-01</td>\n",
       "    </tr>\n",
       "    <tr>\n",
       "      <th>1</th>\n",
       "      <td>23Q2</td>\n",
       "      <td>비소매</td>\n",
       "      <td>난내</td>\n",
       "      <td>Stage 1.5</td>\n",
       "      <td>14774</td>\n",
       "      <td>6.011276e+12</td>\n",
       "      <td>6.862414e+10</td>\n",
       "      <td>0.089639</td>\n",
       "      <td>0.153912</td>\n",
       "      <td>1.527027e-01</td>\n",
       "      <td>1.988303e-01</td>\n",
       "    </tr>\n",
       "    <tr>\n",
       "      <th>2</th>\n",
       "      <td>23Q2</td>\n",
       "      <td>비소매</td>\n",
       "      <td>난내</td>\n",
       "      <td>Stage 2</td>\n",
       "      <td>28543</td>\n",
       "      <td>1.093253e+13</td>\n",
       "      <td>1.957336e+11</td>\n",
       "      <td>0.163024</td>\n",
       "      <td>0.279915</td>\n",
       "      <td>4.355471e-01</td>\n",
       "      <td>5.671150e-01</td>\n",
       "    </tr>\n",
       "    <tr>\n",
       "      <th>3</th>\n",
       "      <td>23Q2</td>\n",
       "      <td>비소매</td>\n",
       "      <td>난내</td>\n",
       "      <td>Stage 3</td>\n",
       "      <td>886</td>\n",
       "      <td>7.594810e+10</td>\n",
       "      <td>2.565083e+10</td>\n",
       "      <td>0.001133</td>\n",
       "      <td>0.001945</td>\n",
       "      <td>5.707832e-02</td>\n",
       "      <td>7.432024e-02</td>\n",
       "    </tr>\n",
       "    <tr>\n",
       "      <th>4</th>\n",
       "      <td>23Q2</td>\n",
       "      <td>비소매</td>\n",
       "      <td>난외</td>\n",
       "      <td>Stage 1</td>\n",
       "      <td>3289</td>\n",
       "      <td>5.992729e+11</td>\n",
       "      <td>5.398000e+03</td>\n",
       "      <td>0.008936</td>\n",
       "      <td>0.015344</td>\n",
       "      <td>1.201165e-08</td>\n",
       "      <td>1.564006e-08</td>\n",
       "    </tr>\n",
       "    <tr>\n",
       "      <th>...</th>\n",
       "      <td>...</td>\n",
       "      <td>...</td>\n",
       "      <td>...</td>\n",
       "      <td>...</td>\n",
       "      <td>...</td>\n",
       "      <td>...</td>\n",
       "      <td>...</td>\n",
       "      <td>...</td>\n",
       "      <td>...</td>\n",
       "      <td>...</td>\n",
       "      <td>...</td>\n",
       "    </tr>\n",
       "    <tr>\n",
       "      <th>211</th>\n",
       "      <td>25Q2</td>\n",
       "      <td>소매</td>\n",
       "      <td>난외</td>\n",
       "      <td>Stage 3</td>\n",
       "      <td>0</td>\n",
       "      <td>0.000000e+00</td>\n",
       "      <td>0.000000e+00</td>\n",
       "      <td>0.000000</td>\n",
       "      <td>0.000000</td>\n",
       "      <td>0.000000e+00</td>\n",
       "      <td>0.000000e+00</td>\n",
       "    </tr>\n",
       "    <tr>\n",
       "      <th>212</th>\n",
       "      <td>25Q2</td>\n",
       "      <td>소매</td>\n",
       "      <td>대지급</td>\n",
       "      <td>Stage 1</td>\n",
       "      <td>0</td>\n",
       "      <td>0.000000e+00</td>\n",
       "      <td>0.000000e+00</td>\n",
       "      <td>0.000000</td>\n",
       "      <td>0.000000</td>\n",
       "      <td>0.000000e+00</td>\n",
       "      <td>0.000000e+00</td>\n",
       "    </tr>\n",
       "    <tr>\n",
       "      <th>213</th>\n",
       "      <td>25Q2</td>\n",
       "      <td>소매</td>\n",
       "      <td>대지급</td>\n",
       "      <td>Stage 1.5</td>\n",
       "      <td>0</td>\n",
       "      <td>0.000000e+00</td>\n",
       "      <td>0.000000e+00</td>\n",
       "      <td>0.000000</td>\n",
       "      <td>0.000000</td>\n",
       "      <td>0.000000e+00</td>\n",
       "      <td>0.000000e+00</td>\n",
       "    </tr>\n",
       "    <tr>\n",
       "      <th>214</th>\n",
       "      <td>25Q2</td>\n",
       "      <td>소매</td>\n",
       "      <td>대지급</td>\n",
       "      <td>Stage 2</td>\n",
       "      <td>0</td>\n",
       "      <td>0.000000e+00</td>\n",
       "      <td>0.000000e+00</td>\n",
       "      <td>0.000000</td>\n",
       "      <td>0.000000</td>\n",
       "      <td>0.000000e+00</td>\n",
       "      <td>0.000000e+00</td>\n",
       "    </tr>\n",
       "    <tr>\n",
       "      <th>215</th>\n",
       "      <td>25Q2</td>\n",
       "      <td>소매</td>\n",
       "      <td>대지급</td>\n",
       "      <td>Stage 3</td>\n",
       "      <td>0</td>\n",
       "      <td>0.000000e+00</td>\n",
       "      <td>0.000000e+00</td>\n",
       "      <td>0.000000</td>\n",
       "      <td>0.000000</td>\n",
       "      <td>0.000000e+00</td>\n",
       "      <td>0.000000e+00</td>\n",
       "    </tr>\n",
       "  </tbody>\n",
       "</table>\n",
       "<p>216 rows × 11 columns</p>\n",
       "</div>"
      ],
      "text/plain": [
       "     기준년월 차주구분    난내난외구분 Stage1.5구분     개수          대출잔액         대손충당금  \\\n",
       "0    23Q2  비소매  난내          Stage 1  65381  2.124315e+13  5.480849e+10   \n",
       "1    23Q2  비소매  난내        Stage 1.5  14774  6.011276e+12  6.862414e+10   \n",
       "2    23Q2  비소매  난내          Stage 2  28543  1.093253e+13  1.957336e+11   \n",
       "3    23Q2  비소매  난내          Stage 3    886  7.594810e+10  2.565083e+10   \n",
       "4    23Q2  비소매  난외          Stage 1   3289  5.992729e+11  5.398000e+03   \n",
       "..    ...  ...       ...        ...    ...           ...           ...   \n",
       "211  25Q2   소매  난외          Stage 3      0  0.000000e+00  0.000000e+00   \n",
       "212  25Q2   소매   대지급        Stage 1      0  0.000000e+00  0.000000e+00   \n",
       "213  25Q2   소매   대지급      Stage 1.5      0  0.000000e+00  0.000000e+00   \n",
       "214  25Q2   소매   대지급        Stage 2      0  0.000000e+00  0.000000e+00   \n",
       "215  25Q2   소매   대지급        Stage 3      0  0.000000e+00  0.000000e+00   \n",
       "\n",
       "     전체대출잔액비중  차주별대출잔액비중     전체대손충당금비중    차주별대손충당금비중  \n",
       "0    0.316775   0.543906  1.219600e-01  1.588011e-01  \n",
       "1    0.089639   0.153912  1.527027e-01  1.988303e-01  \n",
       "2    0.163024   0.279915  4.355471e-01  5.671150e-01  \n",
       "3    0.001133   0.001945  5.707832e-02  7.432024e-02  \n",
       "4    0.008936   0.015344  1.201165e-08  1.564006e-08  \n",
       "..        ...        ...           ...           ...  \n",
       "211  0.000000   0.000000  0.000000e+00  0.000000e+00  \n",
       "212  0.000000   0.000000  0.000000e+00  0.000000e+00  \n",
       "213  0.000000   0.000000  0.000000e+00  0.000000e+00  \n",
       "214  0.000000   0.000000  0.000000e+00  0.000000e+00  \n",
       "215  0.000000   0.000000  0.000000e+00  0.000000e+00  \n",
       "\n",
       "[216 rows x 11 columns]"
      ]
     },
     "execution_count": 27,
     "metadata": {},
     "output_type": "execute_result"
    }
   ],
   "source": [
    "# ## bi_main_st15\n",
    "\n",
    "# bi_cols = ['기준년월', '차주구분', '난내난외구분', '기업규모구분', '산업구분', 'Stage1.5구분']\n",
    "\n",
    "# bi_main_st15 = bi_cleaned.groupby(bi_cols).agg(\n",
    "#     개수 = ('대출잔액', 'count'),\n",
    "#     대출잔액 = ('대출잔액', 'sum'),\n",
    "#     대손충당금 = ('대손충당금', 'sum'),\n",
    "# ).reset_index()\n",
    "\n",
    "\n",
    "## bi_main_st15\n",
    "\n",
    "bi_cols = ['기준년월', '차주구분', '난내난외구분', 'Stage1.5구분']\n",
    "\n",
    "bi_main_st15 = bi_cleaned.groupby(bi_cols).agg(\n",
    "    개수 = ('대출잔액', 'count'),\n",
    "    대출잔액 = ('대출잔액', 'sum'),\n",
    "    대손충당금 = ('대손충당금', 'sum'),\n",
    ").reset_index()\n",
    "\n",
    "bi_main_st15 = bi_main_st15.assign(전체대출잔액비중=bi_main_st15.groupby('기준년월')['대출잔액'].transform(lambda x: x/x.sum()))\n",
    "bi_main_st15 = bi_main_st15.assign(차주별대출잔액비중=bi_main_st15.groupby(['기준년월','차주구분'])['대출잔액'].transform(lambda x: x/x.sum()))\n",
    "bi_main_st15 = bi_main_st15.assign(전체대손충당금비중=bi_main_st15.groupby('기준년월')['대손충당금'].transform(lambda x: x/x.sum()))\n",
    "bi_main_st15 = bi_main_st15.assign(차주별대손충당금비중=bi_main_st15.groupby(['기준년월','차주구분'])['대손충당금'].transform(lambda x: x/x.sum()))\n",
    "\n",
    "bi_main_st15"
   ]
  },
  {
   "cell_type": "markdown",
   "id": "30044bbc",
   "metadata": {},
   "source": [
    "### bi_bnd\n",
    "업종별 신규취급, 만기상환 정보 및 생존 채권 대손충당금률 및 연체율을 반영하여 차기 대손충당금 추정"
   ]
  },
  {
   "cell_type": "code",
   "execution_count": 28,
   "id": "f8136352",
   "metadata": {},
   "outputs": [],
   "source": [
    "# 업종별 신규취급 태그\n",
    "# 업종별 만기상환 태그\n",
    "# 업종별/Stage별 대손충당금률\n",
    "# 업종별/Stage별 연체율 (기간 내 연체 발생 확률 추정)\n",
    "# 연체 발생 확률 기준 Stage "
   ]
  },
  {
   "cell_type": "markdown",
   "id": "53d5c512",
   "metadata": {},
   "source": [
    "# Error"
   ]
  },
  {
   "cell_type": "code",
   "execution_count": null,
   "id": "6e95d026",
   "metadata": {},
   "outputs": [],
   "source": [
    "# Loan_Junk"
   ]
  },
  {
   "cell_type": "code",
   "execution_count": null,
   "id": "114c602f",
   "metadata": {},
   "outputs": [],
   "source": [
    "# # 계좌번호 점프\n",
    "\n",
    "# period_order = [202409, 202412, 202503, 202506]\n",
    "# idx_map = {p: i for i, p in enumerate(period_order)}\n",
    "\n",
    "# def has_jump(periods):\n",
    "#     idx = sorted(idx_map[p] for p in periods)\n",
    "#     return any(b - a > 1 for a, b in zip(idx, idx[1:]))\n",
    "\n",
    "# jump_accounts = (\n",
    "#     loan[\n",
    "#         (loan['계정과목명'] != '신용카드채권') \n",
    "#         # & ((loan['EAD1금액'] != 0) | (loan['EAD2금액'] != 0) | (loan['EAD3금액'] != 0) | (loan['EAD4금액'] != 0) | (loan['EAD5금액'] != 0) | (loan['EAD6금액'] != 0))\n",
    "#     ].groupby('계좌번호')['기준년월']\n",
    "#         .apply(list)\n",
    "#         .loc[lambda s: s.apply(has_jump)]\n",
    "#         .reset_index()\n",
    "# )\n",
    "\n",
    "# print(\"계좌번호 w/ jumps:\", len(jump_accounts))\n",
    "# jump_accounts.head()\n",
    "\n",
    "# # 이중에 loan_junk도 포함되어 있음 (10245725, 10249787)\n",
    "\n",
    "# error1 = loan[(loan['계좌번호'].isin(jump_accounts['계좌번호']))].sort_values(['계좌번호', '기준년월'])\n",
    "\n",
    "\n",
    "### 신용카드채권을 제외하면 14건 밖에 없음으로 넘어가도 좋을 정도도"
   ]
  },
  {
   "cell_type": "code",
   "execution_count": null,
   "id": "7cd0c503",
   "metadata": {},
   "outputs": [],
   "source": [
    "# #계좌번호 Dups\n",
    "# df = loan_cleaned[loan_cleaned['만기구간'] == 0]\n",
    "\n",
    "# dupes = (\n",
    "#     df\n",
    "#       .groupby(['기준년월', '계좌번호'])\n",
    "#       .size()\n",
    "#       .rename('cnt')\n",
    "#       .loc[lambda s: s > 1]\n",
    "#       .sort_values(ascending=False)\n",
    "#       .reset_index()\n",
    "# )\n",
    "\n",
    "# dupes.head()\n",
    "\n",
    "# error2 = loan_cleaned[loan_cleaned['계좌번호'].isin(dupes['계좌번호'])].sort_values(['계좌번호', '기준년월'])\n",
    "\n",
    "\n",
    "### 다 유산스와 지급보증임으로 dups가 있어도 괜찮음음"
   ]
  },
  {
   "cell_type": "code",
   "execution_count": null,
   "id": "66318f7e",
   "metadata": {},
   "outputs": [],
   "source": [
    "# # 연체여부 & 연체기간코드 Mismatch\n",
    "\n",
    "# cols = ['기준년월', '연체여부', '연체기간코드']\n",
    "# out = (loan_cleaned.groupby(cols, dropna=False)\n",
    "#     .size()\n",
    "#     .rename('unique')\n",
    "#     .reset_index()\n",
    "#     .sort_values(cols))\n",
    "\n",
    "\n",
    "# a = loan_cleaned['연체여부'] == 'Y'\n",
    "# b = loan_cleaned['연체기간코드'] > 0\n",
    "\n",
    "# # 연체여부 N & 연체 T\n",
    "# error3 = loan_cleaned[~a&b] #중요도 낮음. 1명의 고객. 비소매라서 다같이 부도처리한거 같은데 그냥 연체여부 flag만 다름름\n",
    "# # 연체여부 Y & 연체 F\n",
    "# error4 = loan_cleaned[a&~b]\n",
    "\n",
    "# out\n",
    "\n",
    "\n",
    "### 연체기간코드는 신뢰성이 부족하고 Stage2 데이터에 연체일수가 있음으로 무시시"
   ]
  },
  {
   "cell_type": "code",
   "execution_count": null,
   "id": "776ccd9d",
   "metadata": {},
   "outputs": [],
   "source": [
    "# STAGE 연체일수 mismatch\n",
    "\n",
    "a = merged['STAGE분류구분코드'] != '3'\n",
    "b = merged['연체일수'] >= 90\n",
    "\n",
    "error5 = merged[a & b]"
   ]
  },
  {
   "cell_type": "markdown",
   "id": "d3165419",
   "metadata": {},
   "source": [
    "# Export"
   ]
  },
  {
   "cell_type": "code",
   "execution_count": 29,
   "id": "00bbb234",
   "metadata": {},
   "outputs": [],
   "source": [
    "# with pd.ExcelWriter(r\"부산은행 DA\\Error\\Error List.xlsx\") as writer:\n",
    "#     # error1.to_excel(writer, sheet_name = '계좌번호 점프', index=False)\n",
    "#     # error2.to_excel(writer, sheet_name = '계좌번호 Dups', index=False)\n",
    "#     # error3.to_excel(writer, sheet_name = '연체여부 N & 연체 T', index=False)\n",
    "#     # error4.to_excel(writer, sheet_name = '연체여부 Y & 연체 F', index=False)\n",
    "#     error5.to_excel(writer, sheet_name = 'STAGE 연체일수 mismatch', index=False)\n"
   ]
  },
  {
   "cell_type": "markdown",
   "id": "251d1356",
   "metadata": {},
   "source": [
    "### Summary Validation Results"
   ]
  },
  {
   "cell_type": "code",
   "execution_count": 30,
   "id": "3a05fd06",
   "metadata": {},
   "outputs": [],
   "source": [
    "# # Summary validation results\n",
    "# summary_validation.to_csv(rf\"부산은행 DA\\Result\\{ver}\\summary_validation.csv\", index=False)"
   ]
  },
  {
   "cell_type": "markdown",
   "id": "b7f6d796",
   "metadata": {},
   "source": [
    "### Power BI Tables"
   ]
  },
  {
   "cell_type": "code",
   "execution_count": 31,
   "id": "0808d306",
   "metadata": {},
   "outputs": [],
   "source": [
    "### PowerBI\n",
    "\n",
    "with pd.ExcelWriter(rf\"부산은행 DA\\Result\\{ver}\\부산은행 PowerBI.xlsx\") as writer:\n",
    "    bi_main.to_excel(writer, sheet_name = 'main_bi', index=False)\n",
    "    bi_rtlnrtl_eclrate.to_excel(writer, sheet_name = 'rtlnrtl_eclrate', index=False)\n",
    "    bi_indust_eclrate.to_excel(writer, sheet_name = 'indust_eclrate', index=False)\n",
    "    bi_cr_rtl.to_excel(writer, sheet_name = 'cr_rtl', index=False)\n",
    "    bi_cr_nrtl.to_excel(writer, sheet_name = 'cr_nrtl', index=False)\n",
    "    bi_dpd.to_excel(writer, sheet_name = 'dpd_rate', index=False)\n",
    "    bi_geo.to_excel(writer, sheet_name = 'geo', index=False)\n",
    "    bi_geo2.to_excel(writer, sheet_name = 'geo2', index=False)\n",
    "    bi_main_st15.to_excel(writer, sheet_name = 'main_st15', index=False)"
   ]
  },
  {
   "cell_type": "markdown",
   "id": "96f9c671",
   "metadata": {},
   "source": [
    "### Sankey Charts"
   ]
  },
  {
   "cell_type": "markdown",
   "id": "0c00d668",
   "metadata": {},
   "source": [
    "#### Credit Ratings Migration"
   ]
  },
  {
   "cell_type": "markdown",
   "id": "0194d061",
   "metadata": {},
   "source": [
    "##### 비소매"
   ]
  },
  {
   "cell_type": "code",
   "execution_count": 32,
   "id": "770fbc84",
   "metadata": {},
   "outputs": [
    {
     "name": "stderr",
     "output_type": "stream",
     "text": [
      "C:\\Users\\CL657UD\\AppData\\Local\\Temp\\ipykernel_8556\\3642905686.py:13: SettingWithCopyWarning: \n",
      "A value is trying to be set on a copy of a slice from a DataFrame.\n",
      "Try using .loc[row_indexer,col_indexer] = value instead\n",
      "\n",
      "See the caveats in the documentation: https://pandas.pydata.org/pandas-docs/stable/user_guide/indexing.html#returning-a-view-versus-a-copy\n",
      "  crmap_nrtl_wo_last['source'] = crmap_nrtl_wo_last['최초신용등급영문'].map(dic_cat_src)\n",
      "C:\\Users\\CL657UD\\AppData\\Local\\Temp\\ipykernel_8556\\3642905686.py:14: SettingWithCopyWarning: \n",
      "A value is trying to be set on a copy of a slice from a DataFrame.\n",
      "Try using .loc[row_indexer,col_indexer] = value instead\n",
      "\n",
      "See the caveats in the documentation: https://pandas.pydata.org/pandas-docs/stable/user_guide/indexing.html#returning-a-view-versus-a-copy\n",
      "  crmap_nrtl_wo_last['target'] = crmap_nrtl_wo_last['25Q2_c_신용등급'].map(dic_cat_tgt)\n"
     ]
    },
    {
     "data": {
      "application/vnd.plotly.v1+json": {
       "config": {
        "plotlyServerURL": "https://plot.ly"
       },
       "data": [
        {
         "arrangement": "snap",
         "link": {
          "color": [
           "rgba(144,147,148,.2)",
           "rgba(144,147,148,.2)",
           "rgba(144,147,148,.2)",
           "rgb(0.12156862745098039,0.4666666666666667,0.7058823529411765)",
           "rgb(0.12156862745098039,0.4666666666666667,0.7058823529411765)",
           "rgb(0.12156862745098039,0.4666666666666667,0.7058823529411765)",
           "rgb(0.12156862745098039,0.4666666666666667,0.7058823529411765)",
           "rgb(0.12156862745098039,0.4666666666666667,0.7058823529411765)",
           "rgb(0.12156862745098039,0.4666666666666667,0.7058823529411765)",
           "rgb(0.12156862745098039,0.4666666666666667,0.7058823529411765)",
           "rgb(0.12156862745098039,0.4666666666666667,0.7058823529411765)",
           "rgb(0.12156862745098039,0.4666666666666667,0.7058823529411765)",
           "rgb(0.12156862745098039,0.4666666666666667,0.7058823529411765)",
           "rgb(0.12156862745098039,0.4666666666666667,0.7058823529411765)",
           "rgb(0.12156862745098039,0.4666666666666667,0.7058823529411765)",
           "rgb(0.12156862745098039,0.4666666666666667,0.7058823529411765)",
           "rgba(144,147,148,.2)",
           "rgba(144,147,148,.2)",
           "rgba(144,147,148,.2)",
           "rgba(144,147,148,.2)",
           "rgb(0.12156862745098039,0.4666666666666667,0.7058823529411765)",
           "rgb(0.12156862745098039,0.4666666666666667,0.7058823529411765)",
           "rgb(0.12156862745098039,0.4666666666666667,0.7058823529411765)",
           "rgb(0.12156862745098039,0.4666666666666667,0.7058823529411765)",
           "rgb(0.12156862745098039,0.4666666666666667,0.7058823529411765)",
           "rgb(0.12156862745098039,0.4666666666666667,0.7058823529411765)",
           "rgb(0.12156862745098039,0.4666666666666667,0.7058823529411765)",
           "rgb(0.12156862745098039,0.4666666666666667,0.7058823529411765)",
           "rgb(0.12156862745098039,0.4666666666666667,0.7058823529411765)",
           "rgb(0.12156862745098039,0.4666666666666667,0.7058823529411765)",
           "rgb(0.12156862745098039,0.4666666666666667,0.7058823529411765)",
           "rgb(0.12156862745098039,0.4666666666666667,0.7058823529411765)",
           "rgba(144,147,148,.2)",
           "rgba(144,147,148,.2)",
           "rgba(144,147,148,.2)",
           "rgba(144,147,148,.2)",
           "rgba(144,147,148,.2)",
           "rgb(0.12156862745098039,0.4666666666666667,0.7058823529411765)",
           "rgb(0.12156862745098039,0.4666666666666667,0.7058823529411765)",
           "rgb(0.12156862745098039,0.4666666666666667,0.7058823529411765)",
           "rgb(0.12156862745098039,0.4666666666666667,0.7058823529411765)",
           "rgb(0.12156862745098039,0.4666666666666667,0.7058823529411765)",
           "rgb(0.12156862745098039,0.4666666666666667,0.7058823529411765)",
           "rgb(0.12156862745098039,0.4666666666666667,0.7058823529411765)",
           "rgb(0.12156862745098039,0.4666666666666667,0.7058823529411765)",
           "rgb(0.12156862745098039,0.4666666666666667,0.7058823529411765)",
           "rgb(0.12156862745098039,0.4666666666666667,0.7058823529411765)",
           "rgb(0.12156862745098039,0.4666666666666667,0.7058823529411765)",
           "rgba(144,147,148,.2)",
           "rgba(144,147,148,.2)",
           "rgba(144,147,148,.2)",
           "rgba(144,147,148,.2)",
           "rgba(144,147,148,.2)",
           "rgba(144,147,148,.2)",
           "rgb(0.12156862745098039,0.4666666666666667,0.7058823529411765)",
           "rgb(0.12156862745098039,0.4666666666666667,0.7058823529411765)",
           "rgb(0.12156862745098039,0.4666666666666667,0.7058823529411765)",
           "rgb(0.12156862745098039,0.4666666666666667,0.7058823529411765)",
           "rgb(0.12156862745098039,0.4666666666666667,0.7058823529411765)",
           "rgb(0.12156862745098039,0.4666666666666667,0.7058823529411765)",
           "rgb(0.12156862745098039,0.4666666666666667,0.7058823529411765)",
           "rgb(0.12156862745098039,0.4666666666666667,0.7058823529411765)",
           "rgb(0.12156862745098039,0.4666666666666667,0.7058823529411765)",
           "rgb(0.12156862745098039,0.4666666666666667,0.7058823529411765)",
           "rgba(144,147,148,.2)",
           "rgba(144,147,148,.2)",
           "rgba(144,147,148,.2)",
           "rgba(144,147,148,.2)",
           "rgba(144,147,148,.2)",
           "rgba(144,147,148,.2)",
           "rgb(0.8392156862745098,0.15294117647058825,0.1568627450980392)",
           "rgb(0.8392156862745098,0.15294117647058825,0.1568627450980392)",
           "rgb(0.8392156862745098,0.15294117647058825,0.1568627450980392)",
           "rgb(0.8392156862745098,0.15294117647058825,0.1568627450980392)",
           "rgb(0.8392156862745098,0.15294117647058825,0.1568627450980392)",
           "rgb(0.8392156862745098,0.15294117647058825,0.1568627450980392)",
           "rgb(0.8392156862745098,0.15294117647058825,0.1568627450980392)",
           "rgb(0.8392156862745098,0.15294117647058825,0.1568627450980392)",
           "rgb(0.8392156862745098,0.15294117647058825,0.1568627450980392)",
           "rgb(0.8392156862745098,0.15294117647058825,0.1568627450980392)",
           "rgba(144,147,148,.2)",
           "rgba(144,147,148,.2)",
           "rgba(144,147,148,.2)",
           "rgba(144,147,148,.2)",
           "rgba(144,147,148,.2)",
           "rgba(144,147,148,.2)",
           "rgba(144,147,148,.2)",
           "rgb(0.8392156862745098,0.15294117647058825,0.1568627450980392)",
           "rgb(0.8392156862745098,0.15294117647058825,0.1568627450980392)",
           "rgb(0.8392156862745098,0.15294117647058825,0.1568627450980392)",
           "rgb(0.8392156862745098,0.15294117647058825,0.1568627450980392)",
           "rgb(0.8392156862745098,0.15294117647058825,0.1568627450980392)",
           "rgb(0.8392156862745098,0.15294117647058825,0.1568627450980392)",
           "rgb(0.8392156862745098,0.15294117647058825,0.1568627450980392)",
           "rgb(0.8392156862745098,0.15294117647058825,0.1568627450980392)",
           "rgb(0.8392156862745098,0.15294117647058825,0.1568627450980392)",
           "rgba(144,147,148,.2)",
           "rgba(144,147,148,.2)",
           "rgba(144,147,148,.2)",
           "rgba(144,147,148,.2)",
           "rgba(144,147,148,.2)",
           "rgba(144,147,148,.2)",
           "rgba(144,147,148,.2)",
           "rgba(144,147,148,.2)",
           "rgb(0.8392156862745098,0.15294117647058825,0.1568627450980392)",
           "rgb(0.8392156862745098,0.15294117647058825,0.1568627450980392)",
           "rgb(0.8392156862745098,0.15294117647058825,0.1568627450980392)",
           "rgb(0.8392156862745098,0.15294117647058825,0.1568627450980392)",
           "rgb(0.8392156862745098,0.15294117647058825,0.1568627450980392)",
           "rgb(0.8392156862745098,0.15294117647058825,0.1568627450980392)",
           "rgb(0.8392156862745098,0.15294117647058825,0.1568627450980392)",
           "rgb(0.8392156862745098,0.15294117647058825,0.1568627450980392)",
           "rgba(144,147,148,.2)",
           "rgba(144,147,148,.2)",
           "rgba(144,147,148,.2)",
           "rgba(144,147,148,.2)",
           "rgba(144,147,148,.2)",
           "rgba(144,147,148,.2)",
           "rgba(144,147,148,.2)",
           "rgba(144,147,148,.2)",
           "rgb(0.9686274509803922,0.7137254901960784,0.8235294117647058)",
           "rgb(0.9686274509803922,0.7137254901960784,0.8235294117647058)",
           "rgb(0.9686274509803922,0.7137254901960784,0.8235294117647058)",
           "rgb(0.9686274509803922,0.7137254901960784,0.8235294117647058)",
           "rgb(0.9686274509803922,0.7137254901960784,0.8235294117647058)",
           "rgb(0.9686274509803922,0.7137254901960784,0.8235294117647058)",
           "rgb(0.9686274509803922,0.7137254901960784,0.8235294117647058)",
           "rgb(0.9686274509803922,0.7137254901960784,0.8235294117647058)",
           "rgba(144,147,148,.2)",
           "rgba(144,147,148,.2)",
           "rgba(144,147,148,.2)",
           "rgba(144,147,148,.2)",
           "rgba(144,147,148,.2)",
           "rgba(144,147,148,.2)",
           "rgba(144,147,148,.2)",
           "rgba(144,147,148,.2)",
           "rgba(144,147,148,.2)",
           "rgb(0.9686274509803922,0.7137254901960784,0.8235294117647058)",
           "rgb(0.9686274509803922,0.7137254901960784,0.8235294117647058)",
           "rgb(0.9686274509803922,0.7137254901960784,0.8235294117647058)",
           "rgb(0.9686274509803922,0.7137254901960784,0.8235294117647058)",
           "rgb(0.9686274509803922,0.7137254901960784,0.8235294117647058)",
           "rgb(0.9686274509803922,0.7137254901960784,0.8235294117647058)",
           "rgb(0.9686274509803922,0.7137254901960784,0.8235294117647058)",
           "rgba(144,147,148,.2)",
           "rgba(144,147,148,.2)",
           "rgba(144,147,148,.2)",
           "rgba(144,147,148,.2)",
           "rgba(144,147,148,.2)",
           "rgba(144,147,148,.2)",
           "rgba(144,147,148,.2)",
           "rgba(144,147,148,.2)",
           "rgba(144,147,148,.2)",
           "rgba(144,147,148,.2)",
           "rgb(0.9686274509803922,0.7137254901960784,0.8235294117647058)",
           "rgb(0.9686274509803922,0.7137254901960784,0.8235294117647058)",
           "rgb(0.9686274509803922,0.7137254901960784,0.8235294117647058)",
           "rgb(0.9686274509803922,0.7137254901960784,0.8235294117647058)",
           "rgb(0.9686274509803922,0.7137254901960784,0.8235294117647058)",
           "rgb(0.9686274509803922,0.7137254901960784,0.8235294117647058)"
          ],
          "source": [
           0,
           0,
           0,
           0,
           0,
           0,
           0,
           0,
           0,
           0,
           0,
           0,
           0,
           0,
           0,
           0,
           1,
           1,
           1,
           1,
           1,
           1,
           1,
           1,
           1,
           1,
           1,
           1,
           1,
           1,
           1,
           1,
           2,
           2,
           2,
           2,
           2,
           2,
           2,
           2,
           2,
           2,
           2,
           2,
           2,
           2,
           2,
           2,
           3,
           3,
           3,
           3,
           3,
           3,
           3,
           3,
           3,
           3,
           3,
           3,
           3,
           3,
           3,
           3,
           4,
           4,
           4,
           4,
           4,
           4,
           4,
           4,
           4,
           4,
           4,
           4,
           4,
           4,
           4,
           4,
           5,
           5,
           5,
           5,
           5,
           5,
           5,
           5,
           5,
           5,
           5,
           5,
           5,
           5,
           5,
           5,
           6,
           6,
           6,
           6,
           6,
           6,
           6,
           6,
           6,
           6,
           6,
           6,
           6,
           6,
           6,
           6,
           7,
           7,
           7,
           7,
           7,
           7,
           7,
           7,
           7,
           7,
           7,
           7,
           7,
           7,
           7,
           7,
           8,
           8,
           8,
           8,
           8,
           8,
           8,
           8,
           8,
           8,
           8,
           8,
           8,
           8,
           8,
           8,
           9,
           9,
           9,
           9,
           9,
           9,
           9,
           9,
           9,
           9,
           9,
           9,
           9,
           9,
           9,
           9
          ],
          "target": [
           10,
           11,
           12,
           13,
           14,
           15,
           16,
           17,
           18,
           19,
           20,
           21,
           22,
           23,
           24,
           25,
           10,
           11,
           12,
           13,
           14,
           15,
           16,
           17,
           18,
           19,
           20,
           21,
           22,
           23,
           24,
           25,
           10,
           11,
           12,
           13,
           14,
           15,
           16,
           17,
           18,
           19,
           20,
           21,
           22,
           23,
           24,
           25,
           10,
           11,
           12,
           13,
           14,
           15,
           16,
           17,
           18,
           19,
           20,
           21,
           22,
           23,
           24,
           25,
           10,
           11,
           12,
           13,
           14,
           15,
           16,
           17,
           18,
           19,
           20,
           21,
           22,
           23,
           24,
           25,
           10,
           11,
           12,
           13,
           14,
           15,
           16,
           17,
           18,
           19,
           20,
           21,
           22,
           23,
           24,
           25,
           10,
           11,
           12,
           13,
           14,
           15,
           16,
           17,
           18,
           19,
           20,
           21,
           22,
           23,
           24,
           25,
           10,
           11,
           12,
           13,
           14,
           15,
           16,
           17,
           18,
           19,
           20,
           21,
           22,
           23,
           24,
           25,
           10,
           11,
           12,
           13,
           14,
           15,
           16,
           17,
           18,
           19,
           20,
           21,
           22,
           23,
           24,
           25,
           10,
           11,
           12,
           13,
           14,
           15,
           16,
           17,
           18,
           19,
           20,
           21,
           22,
           23,
           24,
           25
          ],
          "value": [
           98.63172893178742,
           0.048821909875546694,
           0.05176167386484002,
           1.267250020639499,
           0,
           0.0004374638326842498,
           0,
           0,
           0,
           0,
           0,
           0,
           0,
           0,
           0,
           0,
           0.8924780862125599,
           88.51761548176404,
           5.850663513947478,
           2.4791714065487644,
           1.9991908842790242,
           0.17267335438101017,
           0.010776639417744998,
           0,
           0.05781806809396377,
           0,
           0,
           0.0196125653554277,
           0,
           0,
           0,
           0,
           0.0023728505489154774,
           0.20406223995862055,
           83.85412946899228,
           6.714435081732723,
           5.4439516944199005,
           0.6242188853718745,
           0.6317222977790693,
           0.13527448438758893,
           1.532051328398163,
           0.45250807443129104,
           0.14848567461549209,
           0.22515391821246308,
           0.000002514955591086989,
           0,
           0,
           0.031631486196016405,
           0.0005483583055441165,
           0.007472740349387115,
           6.018540466869226,
           59.469528282516336,
           13.138243653215747,
           16.38807726244741,
           2.2002215124195854,
           0.576643778893262,
           1.2235482953585362,
           0.4655801864287942,
           0.21453030869630976,
           0.22168060049445373,
           0.005512789763610937,
           0,
           0,
           0.06987176424178247,
           0.00020223532297536953,
           0.03296168048670866,
           1.5392893651042598,
           8.987695585049527,
           67.42510945549832,
           10.34724570358726,
           5.254970932460125,
           2.177736819609951,
           2.0636924628625484,
           0.8204395428071828,
           0.9152365943528337,
           0.14953363908534448,
           0.051763307873329355,
           0.008602850764501388,
           0,
           0.22551982513514304,
           0.0004327079173039596,
           0.0007670308263689129,
           0.5610184556799003,
           2.072839883151985,
           7.28207380283344,
           60.34195062939426,
           21.676501927386962,
           2.5869944881536386,
           3.3424113152831154,
           0.9764617372236066,
           0.3957431148843642,
           0.4829957513902124,
           0.0007987542222610975,
           0.00017795695037718299,
           0,
           0.2788324447021938,
           0.0000653269754631792,
           0.0009151607540702753,
           0.36597573640078784,
           1.0443371065035452,
           2.528482534643839,
           8.693059433325212,
           64.1555111380676,
           9.47924455133026,
           6.070189210924489,
           4.812542563019095,
           1.067604437168867,
           1.137090087760234,
           0.12866713833890128,
           0.045003203907669945,
           0,
           0.47131237087997113,
           0,
           0.0011676362935047198,
           0.15382351692008145,
           1.109595330049391,
           2.4954004843242252,
           3.181505730533607,
           20.232285414509402,
           48.92417849481766,
           13.570248605946878,
           2.4142168738668337,
           6.4441220390656095,
           0.8523946244381186,
           0.047929519922750345,
           0.08037514969018064,
           0,
           0.4927565796217578,
           0.00007696150075655968,
           0.0020602398372664608,
           0.1874937191329516,
           0.7016537608703757,
           0.9130724234633382,
           5.160455869825449,
           7.5237495391981195,
           7.80198153484339,
           66.92420769258605,
           3.9341670132292923,
           3.9912047075215047,
           2.3954240852977713,
           0.05059916407983416,
           0.010678955245741516,
           0,
           0.403174333368146,
           0,
           0,
           0.2755575963225393,
           0.18878575312694845,
           0.11306159300788098,
           0.5137576503257946,
           7.293536415357968,
           2.4423246460579278,
           34.40607023586003,
           38.66135821901847,
           11.29808310441117,
           0.6284141961228238,
           3.562890366884945,
           0.01373442025259776,
           0,
           0.602425803250907
          ]
         },
         "node": {
          "color": [
           "rgb(0.12156862745098039,0.4666666666666667,0.7058823529411765)",
           "rgb(0.12156862745098039,0.4666666666666667,0.7058823529411765)",
           "rgb(0.12156862745098039,0.4666666666666667,0.7058823529411765)",
           "rgb(0.12156862745098039,0.4666666666666667,0.7058823529411765)",
           "rgb(0.8392156862745098,0.15294117647058825,0.1568627450980392)",
           "rgb(0.8392156862745098,0.15294117647058825,0.1568627450980392)",
           "rgb(0.8392156862745098,0.15294117647058825,0.1568627450980392)",
           "rgb(0.9686274509803922,0.7137254901960784,0.8235294117647058)",
           "rgb(0.9686274509803922,0.7137254901960784,0.8235294117647058)",
           "rgb(0.9686274509803922,0.7137254901960784,0.8235294117647058)",
           "rgb(0.12156862745098039,0.4666666666666667,0.7058823529411765)",
           "rgb(0.12156862745098039,0.4666666666666667,0.7058823529411765)",
           "rgb(0.12156862745098039,0.4666666666666667,0.7058823529411765)",
           "rgb(0.12156862745098039,0.4666666666666667,0.7058823529411765)",
           "rgb(0.8392156862745098,0.15294117647058825,0.1568627450980392)",
           "rgb(0.8392156862745098,0.15294117647058825,0.1568627450980392)",
           "rgb(0.8392156862745098,0.15294117647058825,0.1568627450980392)",
           "rgb(0.9686274509803922,0.7137254901960784,0.8235294117647058)",
           "rgb(0.9686274509803922,0.7137254901960784,0.8235294117647058)",
           "rgb(0.9686274509803922,0.7137254901960784,0.8235294117647058)",
           "rgb(0.6196078431372549,0.8549019607843137,0.8980392156862745)",
           "rgb(0.6196078431372549,0.8549019607843137,0.8980392156862745)",
           "rgb(0.6196078431372549,0.8549019607843137,0.8980392156862745)",
           "rgb(0.6196078431372549,0.8549019607843137,0.8980392156862745)",
           "rgb(0.6196078431372549,0.8549019607843137,0.8980392156862745)",
           "rgb(0.6196078431372549,0.8549019607843137,0.8980392156862745)"
          ],
          "label": [
           "AAA(최초)",
           "AA(최초)",
           "AA-(최초)",
           "A(최초)",
           "A-(최초)",
           "BBB+(최초)",
           "BBB(최초)",
           "BBB-(최초)",
           "BB(최초)",
           "BB-(최초)",
           "AAA(현재)",
           "AA(현재)",
           "AA-(현재)",
           "A(현재)",
           "A-(현재)",
           "BBB+(현재)",
           "BBB(현재)",
           "BBB-(현재)",
           "BB(현재)",
           "BB-(현재)",
           "B(현재)",
           "B-(현재)",
           "C(현재)",
           "D1(현재)",
           "D2(현재)",
           "D3(현재)"
          ],
          "pad": 0,
          "thickness": 20,
          "x": [
           0.001,
           0.001,
           0.001,
           0.001,
           0.001,
           0.001,
           0.001,
           0.001,
           0.001,
           0.001,
           0.999,
           0.999,
           0.999,
           0.999,
           0.999,
           0.999,
           0.999,
           0.999,
           0.999,
           0.999,
           0.999,
           0.999,
           0.999,
           0.999,
           0.999,
           0.999
          ],
          "y": [
           0.001,
           0.08090000000000001,
           0.16080000000000003,
           0.2407,
           0.32060000000000005,
           0.4005,
           0.4804,
           0.5603,
           0.6402000000000001,
           0.7201000000000001,
           0.001,
           0.07196385945199628,
           0.15095160400907054,
           0.21809580248501165,
           0.2990653331190345,
           0.38329861532347115,
           0.4863530567009319,
           0.5455784353606087,
           0.6488014348956443,
           0.6907787169894539,
           0.7103342499640461,
           0.7152179772391034,
           0.7182926599203804,
           0.7184193593772924,
           0.7184193593772924,
           0.7204772035386018
          ]
         },
         "type": "sankey",
         "valueformat": ".2f",
         "valuesuffix": "%"
        }
       ],
       "layout": {
        "autosize": false,
        "height": 800,
        "margin": {
         "b": 10,
         "pad": 0,
         "t": 40
        },
        "template": {
         "data": {
          "bar": [
           {
            "error_x": {
             "color": "#2a3f5f"
            },
            "error_y": {
             "color": "#2a3f5f"
            },
            "marker": {
             "line": {
              "color": "#E5ECF6",
              "width": 0.5
             },
             "pattern": {
              "fillmode": "overlay",
              "size": 10,
              "solidity": 0.2
             }
            },
            "type": "bar"
           }
          ],
          "barpolar": [
           {
            "marker": {
             "line": {
              "color": "#E5ECF6",
              "width": 0.5
             },
             "pattern": {
              "fillmode": "overlay",
              "size": 10,
              "solidity": 0.2
             }
            },
            "type": "barpolar"
           }
          ],
          "carpet": [
           {
            "aaxis": {
             "endlinecolor": "#2a3f5f",
             "gridcolor": "white",
             "linecolor": "white",
             "minorgridcolor": "white",
             "startlinecolor": "#2a3f5f"
            },
            "baxis": {
             "endlinecolor": "#2a3f5f",
             "gridcolor": "white",
             "linecolor": "white",
             "minorgridcolor": "white",
             "startlinecolor": "#2a3f5f"
            },
            "type": "carpet"
           }
          ],
          "choropleth": [
           {
            "colorbar": {
             "outlinewidth": 0,
             "ticks": ""
            },
            "type": "choropleth"
           }
          ],
          "contour": [
           {
            "colorbar": {
             "outlinewidth": 0,
             "ticks": ""
            },
            "colorscale": [
             [
              0,
              "#0d0887"
             ],
             [
              0.1111111111111111,
              "#46039f"
             ],
             [
              0.2222222222222222,
              "#7201a8"
             ],
             [
              0.3333333333333333,
              "#9c179e"
             ],
             [
              0.4444444444444444,
              "#bd3786"
             ],
             [
              0.5555555555555556,
              "#d8576b"
             ],
             [
              0.6666666666666666,
              "#ed7953"
             ],
             [
              0.7777777777777778,
              "#fb9f3a"
             ],
             [
              0.8888888888888888,
              "#fdca26"
             ],
             [
              1,
              "#f0f921"
             ]
            ],
            "type": "contour"
           }
          ],
          "contourcarpet": [
           {
            "colorbar": {
             "outlinewidth": 0,
             "ticks": ""
            },
            "type": "contourcarpet"
           }
          ],
          "heatmap": [
           {
            "colorbar": {
             "outlinewidth": 0,
             "ticks": ""
            },
            "colorscale": [
             [
              0,
              "#0d0887"
             ],
             [
              0.1111111111111111,
              "#46039f"
             ],
             [
              0.2222222222222222,
              "#7201a8"
             ],
             [
              0.3333333333333333,
              "#9c179e"
             ],
             [
              0.4444444444444444,
              "#bd3786"
             ],
             [
              0.5555555555555556,
              "#d8576b"
             ],
             [
              0.6666666666666666,
              "#ed7953"
             ],
             [
              0.7777777777777778,
              "#fb9f3a"
             ],
             [
              0.8888888888888888,
              "#fdca26"
             ],
             [
              1,
              "#f0f921"
             ]
            ],
            "type": "heatmap"
           }
          ],
          "histogram": [
           {
            "marker": {
             "pattern": {
              "fillmode": "overlay",
              "size": 10,
              "solidity": 0.2
             }
            },
            "type": "histogram"
           }
          ],
          "histogram2d": [
           {
            "colorbar": {
             "outlinewidth": 0,
             "ticks": ""
            },
            "colorscale": [
             [
              0,
              "#0d0887"
             ],
             [
              0.1111111111111111,
              "#46039f"
             ],
             [
              0.2222222222222222,
              "#7201a8"
             ],
             [
              0.3333333333333333,
              "#9c179e"
             ],
             [
              0.4444444444444444,
              "#bd3786"
             ],
             [
              0.5555555555555556,
              "#d8576b"
             ],
             [
              0.6666666666666666,
              "#ed7953"
             ],
             [
              0.7777777777777778,
              "#fb9f3a"
             ],
             [
              0.8888888888888888,
              "#fdca26"
             ],
             [
              1,
              "#f0f921"
             ]
            ],
            "type": "histogram2d"
           }
          ],
          "histogram2dcontour": [
           {
            "colorbar": {
             "outlinewidth": 0,
             "ticks": ""
            },
            "colorscale": [
             [
              0,
              "#0d0887"
             ],
             [
              0.1111111111111111,
              "#46039f"
             ],
             [
              0.2222222222222222,
              "#7201a8"
             ],
             [
              0.3333333333333333,
              "#9c179e"
             ],
             [
              0.4444444444444444,
              "#bd3786"
             ],
             [
              0.5555555555555556,
              "#d8576b"
             ],
             [
              0.6666666666666666,
              "#ed7953"
             ],
             [
              0.7777777777777778,
              "#fb9f3a"
             ],
             [
              0.8888888888888888,
              "#fdca26"
             ],
             [
              1,
              "#f0f921"
             ]
            ],
            "type": "histogram2dcontour"
           }
          ],
          "mesh3d": [
           {
            "colorbar": {
             "outlinewidth": 0,
             "ticks": ""
            },
            "type": "mesh3d"
           }
          ],
          "parcoords": [
           {
            "line": {
             "colorbar": {
              "outlinewidth": 0,
              "ticks": ""
             }
            },
            "type": "parcoords"
           }
          ],
          "pie": [
           {
            "automargin": true,
            "type": "pie"
           }
          ],
          "scatter": [
           {
            "fillpattern": {
             "fillmode": "overlay",
             "size": 10,
             "solidity": 0.2
            },
            "type": "scatter"
           }
          ],
          "scatter3d": [
           {
            "line": {
             "colorbar": {
              "outlinewidth": 0,
              "ticks": ""
             }
            },
            "marker": {
             "colorbar": {
              "outlinewidth": 0,
              "ticks": ""
             }
            },
            "type": "scatter3d"
           }
          ],
          "scattercarpet": [
           {
            "marker": {
             "colorbar": {
              "outlinewidth": 0,
              "ticks": ""
             }
            },
            "type": "scattercarpet"
           }
          ],
          "scattergeo": [
           {
            "marker": {
             "colorbar": {
              "outlinewidth": 0,
              "ticks": ""
             }
            },
            "type": "scattergeo"
           }
          ],
          "scattergl": [
           {
            "marker": {
             "colorbar": {
              "outlinewidth": 0,
              "ticks": ""
             }
            },
            "type": "scattergl"
           }
          ],
          "scattermap": [
           {
            "marker": {
             "colorbar": {
              "outlinewidth": 0,
              "ticks": ""
             }
            },
            "type": "scattermap"
           }
          ],
          "scattermapbox": [
           {
            "marker": {
             "colorbar": {
              "outlinewidth": 0,
              "ticks": ""
             }
            },
            "type": "scattermapbox"
           }
          ],
          "scatterpolar": [
           {
            "marker": {
             "colorbar": {
              "outlinewidth": 0,
              "ticks": ""
             }
            },
            "type": "scatterpolar"
           }
          ],
          "scatterpolargl": [
           {
            "marker": {
             "colorbar": {
              "outlinewidth": 0,
              "ticks": ""
             }
            },
            "type": "scatterpolargl"
           }
          ],
          "scatterternary": [
           {
            "marker": {
             "colorbar": {
              "outlinewidth": 0,
              "ticks": ""
             }
            },
            "type": "scatterternary"
           }
          ],
          "surface": [
           {
            "colorbar": {
             "outlinewidth": 0,
             "ticks": ""
            },
            "colorscale": [
             [
              0,
              "#0d0887"
             ],
             [
              0.1111111111111111,
              "#46039f"
             ],
             [
              0.2222222222222222,
              "#7201a8"
             ],
             [
              0.3333333333333333,
              "#9c179e"
             ],
             [
              0.4444444444444444,
              "#bd3786"
             ],
             [
              0.5555555555555556,
              "#d8576b"
             ],
             [
              0.6666666666666666,
              "#ed7953"
             ],
             [
              0.7777777777777778,
              "#fb9f3a"
             ],
             [
              0.8888888888888888,
              "#fdca26"
             ],
             [
              1,
              "#f0f921"
             ]
            ],
            "type": "surface"
           }
          ],
          "table": [
           {
            "cells": {
             "fill": {
              "color": "#EBF0F8"
             },
             "line": {
              "color": "white"
             }
            },
            "header": {
             "fill": {
              "color": "#C8D4E3"
             },
             "line": {
              "color": "white"
             }
            },
            "type": "table"
           }
          ]
         },
         "layout": {
          "annotationdefaults": {
           "arrowcolor": "#2a3f5f",
           "arrowhead": 0,
           "arrowwidth": 1
          },
          "autotypenumbers": "strict",
          "coloraxis": {
           "colorbar": {
            "outlinewidth": 0,
            "ticks": ""
           }
          },
          "colorscale": {
           "diverging": [
            [
             0,
             "#8e0152"
            ],
            [
             0.1,
             "#c51b7d"
            ],
            [
             0.2,
             "#de77ae"
            ],
            [
             0.3,
             "#f1b6da"
            ],
            [
             0.4,
             "#fde0ef"
            ],
            [
             0.5,
             "#f7f7f7"
            ],
            [
             0.6,
             "#e6f5d0"
            ],
            [
             0.7,
             "#b8e186"
            ],
            [
             0.8,
             "#7fbc41"
            ],
            [
             0.9,
             "#4d9221"
            ],
            [
             1,
             "#276419"
            ]
           ],
           "sequential": [
            [
             0,
             "#0d0887"
            ],
            [
             0.1111111111111111,
             "#46039f"
            ],
            [
             0.2222222222222222,
             "#7201a8"
            ],
            [
             0.3333333333333333,
             "#9c179e"
            ],
            [
             0.4444444444444444,
             "#bd3786"
            ],
            [
             0.5555555555555556,
             "#d8576b"
            ],
            [
             0.6666666666666666,
             "#ed7953"
            ],
            [
             0.7777777777777778,
             "#fb9f3a"
            ],
            [
             0.8888888888888888,
             "#fdca26"
            ],
            [
             1,
             "#f0f921"
            ]
           ],
           "sequentialminus": [
            [
             0,
             "#0d0887"
            ],
            [
             0.1111111111111111,
             "#46039f"
            ],
            [
             0.2222222222222222,
             "#7201a8"
            ],
            [
             0.3333333333333333,
             "#9c179e"
            ],
            [
             0.4444444444444444,
             "#bd3786"
            ],
            [
             0.5555555555555556,
             "#d8576b"
            ],
            [
             0.6666666666666666,
             "#ed7953"
            ],
            [
             0.7777777777777778,
             "#fb9f3a"
            ],
            [
             0.8888888888888888,
             "#fdca26"
            ],
            [
             1,
             "#f0f921"
            ]
           ]
          },
          "colorway": [
           "#636efa",
           "#EF553B",
           "#00cc96",
           "#ab63fa",
           "#FFA15A",
           "#19d3f3",
           "#FF6692",
           "#B6E880",
           "#FF97FF",
           "#FECB52"
          ],
          "font": {
           "color": "#2a3f5f"
          },
          "geo": {
           "bgcolor": "white",
           "lakecolor": "white",
           "landcolor": "#E5ECF6",
           "showlakes": true,
           "showland": true,
           "subunitcolor": "white"
          },
          "hoverlabel": {
           "align": "left"
          },
          "hovermode": "closest",
          "mapbox": {
           "style": "light"
          },
          "paper_bgcolor": "white",
          "plot_bgcolor": "#E5ECF6",
          "polar": {
           "angularaxis": {
            "gridcolor": "white",
            "linecolor": "white",
            "ticks": ""
           },
           "bgcolor": "#E5ECF6",
           "radialaxis": {
            "gridcolor": "white",
            "linecolor": "white",
            "ticks": ""
           }
          },
          "scene": {
           "xaxis": {
            "backgroundcolor": "#E5ECF6",
            "gridcolor": "white",
            "gridwidth": 2,
            "linecolor": "white",
            "showbackground": true,
            "ticks": "",
            "zerolinecolor": "white"
           },
           "yaxis": {
            "backgroundcolor": "#E5ECF6",
            "gridcolor": "white",
            "gridwidth": 2,
            "linecolor": "white",
            "showbackground": true,
            "ticks": "",
            "zerolinecolor": "white"
           },
           "zaxis": {
            "backgroundcolor": "#E5ECF6",
            "gridcolor": "white",
            "gridwidth": 2,
            "linecolor": "white",
            "showbackground": true,
            "ticks": "",
            "zerolinecolor": "white"
           }
          },
          "shapedefaults": {
           "line": {
            "color": "#2a3f5f"
           }
          },
          "ternary": {
           "aaxis": {
            "gridcolor": "white",
            "linecolor": "white",
            "ticks": ""
           },
           "baxis": {
            "gridcolor": "white",
            "linecolor": "white",
            "ticks": ""
           },
           "bgcolor": "#E5ECF6",
           "caxis": {
            "gridcolor": "white",
            "linecolor": "white",
            "ticks": ""
           }
          },
          "title": {
           "x": 0.05
          },
          "xaxis": {
           "automargin": true,
           "gridcolor": "white",
           "linecolor": "white",
           "ticks": "",
           "title": {
            "standoff": 15
           },
           "zerolinecolor": "white",
           "zerolinewidth": 2
          },
          "yaxis": {
           "automargin": true,
           "gridcolor": "white",
           "linecolor": "white",
           "ticks": "",
           "title": {
            "standoff": 15
           },
           "zerolinecolor": "white",
           "zerolinewidth": 2
          }
         }
        },
        "title": {
         "text": "[비소매] 2024.Q3 최초신용등급별 신용등급 전이 (2024.3Q 잔액비중, 2025.2Q 현재)"
        },
        "width": 1200
       }
      }
     },
     "metadata": {},
     "output_type": "display_data"
    },
    {
     "name": "stderr",
     "output_type": "stream",
     "text": [
      "C:\\Users\\CL657UD\\AppData\\Local\\Temp\\ipykernel_8556\\3642905686.py:64: DeprecationWarning:\n",
      "\n",
      "\n",
      "Support for the 'engine' argument is deprecated and will be removed after September 2025.\n",
      "Kaleido will be the only supported engine at that time.\n",
      "\n",
      "\n"
     ]
    }
   ],
   "source": [
    "# 비소매\n",
    "# Prepare sankey style data\n",
    "dic_cat_src = {}\n",
    "i = 0\n",
    "for x in crmap_nrtl_wo_last.sort_values('최초신용등급숫자')['최초신용등급영문'].unique().tolist():\n",
    "    dic_cat_src[x] = i\n",
    "    i += 1\n",
    "dic_cat_tgt = {}\n",
    "i = len(dic_cat_src)\n",
    "for x in crmap_nrtl_wo_last.sort_values('25Q2_신용등급')['25Q2_c_신용등급'].unique().tolist():\n",
    "    dic_cat_tgt[x] = i\n",
    "    i += 1\n",
    "crmap_nrtl_wo_last['source'] = crmap_nrtl_wo_last['최초신용등급영문'].map(dic_cat_src)\n",
    "crmap_nrtl_wo_last['target'] = crmap_nrtl_wo_last['25Q2_c_신용등급'].map(dic_cat_tgt)\n",
    "\n",
    "# Colors and positions of nodes and links\n",
    "source_uniq = crmap_nrtl_wo_last['source_label_rating'].unique().tolist()\n",
    "target_uniq = crmap_nrtl_wo_last['target_label'].unique().tolist()\n",
    "color_map = crmap_nrtl_full.groupby('최초신용등급영문')['c_color'].unique().apply(lambda x: x[0]).reset_index()\n",
    "color_map['source_label_rating'] = crmap_nrtl_full.groupby('최초신용등급영문')['source_label_rating'].unique().apply(lambda x: x[0]).tolist()\n",
    "color_map['신용등급숫자'] = crmap_nrtl_full.groupby('최초신용등급영문')['최초신용등급숫자'].unique().apply(lambda x: x[0]).tolist()\n",
    "color_map = color_map.sort_values('신용등급숫자',ascending=True).reset_index(drop=True)\n",
    "\n",
    "color_map = pd.merge(color_map, crmap_nrtl_wo_last.groupby('source_label_rating').agg(\n",
    "    bkt_wgt = ('신용등급별비중','sum')\n",
    ").reset_index()[['source_label_rating','bkt_wgt']], on='source_label_rating', how='left')\n",
    "color_map = pd.merge(color_map, crmap_nrtl_wo_last.groupby('target_label').agg(\n",
    "    tgt_wgt = ('신용등급별비중','sum')\n",
    ").reset_index().assign(\n",
    "    최초신용등급영문 = lambda x: x['target_label'].apply(lambda x: x.replace('(현재)',''))\n",
    ")[['최초신용등급영문','tgt_wgt']], on='최초신용등급영문', how='left')\n",
    "color_map = color_map.assign(\n",
    "    c1 = lambda x: x['bkt_wgt'].cumsum(),\n",
    "    c2 = lambda x: x['tgt_wgt'].cumsum()\n",
    ")\n",
    "color_map = color_map.assign(\n",
    "    c3 = color_map.groupby('신용등급숫자')['c1'].transform(lambda x: x.max())\n",
    ")\n",
    "color_map = color_map.assign(\n",
    "    bkt_pos = lambda x: (x['c3']-x['c3'].min())/(x['c3'].max())*.799+.001,\n",
    "    tgt_pos = lambda x: (x['c2']-x['c2'].min())/(x['c2'].max())*.799+.001\n",
    ")\n",
    "color_node = [color_map.loc[color_map['source_label_rating']==x,'c_color'].tolist()[0] for x in source_uniq]+[color_map.loc[color_map['최초신용등급영문']==x.replace('(현재)',''),'c_color'].tolist()[0] for x in target_uniq]\n",
    "color_link = crmap_nrtl_wo_last['c_color_w_opa'].tolist()\n",
    "\n",
    "# Set sankey arguments\n",
    "label = source_uniq + target_uniq\n",
    "x_position_node = [.001]*len(source_uniq)+[.999]*len(target_uniq)\n",
    "y_position_node = [color_map.loc[color_map['source_label_rating']==x,'bkt_pos'].tolist()[0] for x in source_uniq]+[color_map.loc[color_map['최초신용등급영문']==x.replace('(현재)',''),'tgt_pos'].tolist()[0] for x in target_uniq]\n",
    "source = crmap_nrtl_wo_last['source'].tolist()\n",
    "target = crmap_nrtl_wo_last['target'].tolist()\n",
    "values = (crmap_nrtl_wo_last['신용등급별비중']*100).tolist()\n",
    "\n",
    "link = dict(source=source, target=target, value=values, color=color_link)\n",
    "node = dict(label=label, pad=0, thickness=20, color=color_node,\n",
    "            x=x_position_node, y=y_position_node)\n",
    "data = go.Sankey(link=link, node=node, valueformat='.2f', valuesuffix='%', arrangement='snap')\n",
    "\n",
    "# Draw sankey plot\n",
    "fig = go.Figure(data)\n",
    "fig.update_layout(title_text=\"[비소매] 2024.Q3 최초신용등급별 신용등급 전이 (2024.3Q 잔액비중, 2025.2Q 현재)\", margin=dict(b=10, t=40, pad=0), autosize=False, width=1200, height=800)\n",
    "fig.show()\n",
    "fig.write_html(rf'부산은행 DA\\Result\\{ver}\\비소매_신용등급_전이_비중.html')\n",
    "fig.write_image(rf'부산은행 DA\\Result\\{ver}\\비소매_신용등급_전이_비중.png', engine='kaleido')\n",
    "\n",
    "# link = dict(source=source, target=target, value=values_bl, color=color_link)\n",
    "# node = dict(label=label, pad=0, thickness=20)\n",
    "# data = go.Sankey(link=link, node=node, valueformat=',.0f', valuesuffix='십억원', arrangement='snap')\n",
    "\n",
    "# fig = go.Figure(data)\n",
    "# fig.update_layout(title_text=\"[비소매] 2024.3Q 최초신용등급별 신용등급 전이 (2024.3Q 대출잔액, 2025.2Q 현재)\", margin=dict(b=10, t=40, pad=0), autosize=False, width=1200, height=800)\n",
    "# fig.show()\n",
    "# fig.write_html(r'부산은행 DA\\Result\\Power BI\\비소매_신용등급_전이_잔액.html')\n",
    "# fig.write_image(r'부산은행 DA\\Result\\Power BI\\비소매_신용등급_전이_잔액.png', engine='kaleido')"
   ]
  },
  {
   "cell_type": "markdown",
   "id": "254301de",
   "metadata": {},
   "source": [
    "##### 소매"
   ]
  },
  {
   "cell_type": "code",
   "execution_count": 33,
   "id": "979c0769",
   "metadata": {},
   "outputs": [
    {
     "data": {
      "application/vnd.plotly.v1+json": {
       "config": {
        "plotlyServerURL": "https://plot.ly"
       },
       "data": [
        {
         "arrangement": "snap",
         "link": {
          "color": [
           "rgba(144,147,148,.2)",
           "rgba(144,147,148,.2)",
           "rgba(144,147,148,.2)",
           "rgba(144,147,148,.2)",
           "rgb(0.12156862745098039,0.4666666666666667,0.7058823529411765)",
           "rgb(0.12156862745098039,0.4666666666666667,0.7058823529411765)",
           "rgb(0.12156862745098039,0.4666666666666667,0.7058823529411765)",
           "rgb(0.12156862745098039,0.4666666666666667,0.7058823529411765)",
           "rgb(0.12156862745098039,0.4666666666666667,0.7058823529411765)",
           "rgb(0.12156862745098039,0.4666666666666667,0.7058823529411765)",
           "rgba(144,147,148,.2)",
           "rgba(144,147,148,.2)",
           "rgba(144,147,148,.2)",
           "rgba(144,147,148,.2)",
           "rgba(144,147,148,.2)",
           "rgb(0.12156862745098039,0.4666666666666667,0.7058823529411765)",
           "rgb(0.12156862745098039,0.4666666666666667,0.7058823529411765)",
           "rgb(0.12156862745098039,0.4666666666666667,0.7058823529411765)",
           "rgb(0.12156862745098039,0.4666666666666667,0.7058823529411765)",
           "rgb(0.12156862745098039,0.4666666666666667,0.7058823529411765)",
           "rgba(144,147,148,.2)",
           "rgba(144,147,148,.2)",
           "rgba(144,147,148,.2)",
           "rgba(144,147,148,.2)",
           "rgba(144,147,148,.2)",
           "rgb(0.596078431372549,0.8745098039215686,0.5411764705882353)",
           "rgb(0.596078431372549,0.8745098039215686,0.5411764705882353)",
           "rgb(0.596078431372549,0.8745098039215686,0.5411764705882353)",
           "rgb(0.596078431372549,0.8745098039215686,0.5411764705882353)",
           "rgb(0.596078431372549,0.8745098039215686,0.5411764705882353)",
           "rgba(144,147,148,.2)",
           "rgba(144,147,148,.2)",
           "rgba(144,147,148,.2)",
           "rgba(144,147,148,.2)",
           "rgba(144,147,148,.2)",
           "rgb(0.5490196078431373,0.33725490196078434,0.29411764705882354)",
           "rgb(0.5490196078431373,0.33725490196078434,0.29411764705882354)",
           "rgb(0.5490196078431373,0.33725490196078434,0.29411764705882354)",
           "rgb(0.5490196078431373,0.33725490196078434,0.29411764705882354)",
           "rgb(0.5490196078431373,0.33725490196078434,0.29411764705882354)",
           "rgba(144,147,148,.2)",
           "rgba(144,147,148,.2)",
           "rgba(144,147,148,.2)",
           "rgba(144,147,148,.2)",
           "rgba(144,147,148,.2)",
           "rgba(144,147,148,.2)",
           "rgb(0.5490196078431373,0.33725490196078434,0.29411764705882354)",
           "rgb(0.5490196078431373,0.33725490196078434,0.29411764705882354)",
           "rgb(0.5490196078431373,0.33725490196078434,0.29411764705882354)",
           "rgb(0.5490196078431373,0.33725490196078434,0.29411764705882354)",
           "rgba(144,147,148,.2)",
           "rgba(144,147,148,.2)",
           "rgba(144,147,148,.2)",
           "rgba(144,147,148,.2)",
           "rgba(144,147,148,.2)",
           "rgba(144,147,148,.2)",
           "rgb(0.7803921568627451,0.7803921568627451,0.7803921568627451)",
           "rgb(0.7803921568627451,0.7803921568627451,0.7803921568627451)",
           "rgb(0.7803921568627451,0.7803921568627451,0.7803921568627451)",
           "rgb(0.7803921568627451,0.7803921568627451,0.7803921568627451)",
           "rgba(144,147,148,.2)",
           "rgba(144,147,148,.2)",
           "rgba(144,147,148,.2)",
           "rgba(144,147,148,.2)",
           "rgba(144,147,148,.2)",
           "rgba(144,147,148,.2)",
           "rgba(144,147,148,.2)",
           "rgb(0.7803921568627451,0.7803921568627451,0.7803921568627451)",
           "rgb(0.7803921568627451,0.7803921568627451,0.7803921568627451)",
           "rgb(0.7803921568627451,0.7803921568627451,0.7803921568627451)",
           "rgba(144,147,148,.2)",
           "rgba(144,147,148,.2)",
           "rgba(144,147,148,.2)",
           "rgba(144,147,148,.2)",
           "rgba(144,147,148,.2)",
           "rgba(144,147,148,.2)",
           "rgba(144,147,148,.2)",
           "rgba(144,147,148,.2)",
           "rgb(0.7803921568627451,0.7803921568627451,0.7803921568627451)",
           "rgb(0.7803921568627451,0.7803921568627451,0.7803921568627451)"
          ],
          "source": [
           0,
           0,
           0,
           0,
           0,
           0,
           0,
           0,
           0,
           0,
           1,
           1,
           1,
           1,
           1,
           1,
           1,
           1,
           1,
           1,
           2,
           2,
           2,
           2,
           2,
           2,
           2,
           2,
           2,
           2,
           3,
           3,
           3,
           3,
           3,
           3,
           3,
           3,
           3,
           3,
           4,
           4,
           4,
           4,
           4,
           4,
           4,
           4,
           4,
           4,
           5,
           5,
           5,
           5,
           5,
           5,
           5,
           5,
           5,
           5,
           6,
           6,
           6,
           6,
           6,
           6,
           6,
           6,
           6,
           6,
           7,
           7,
           7,
           7,
           7,
           7,
           7,
           7,
           7,
           7,
           null,
           null,
           null,
           null,
           null,
           null,
           null,
           null,
           null,
           null,
           null,
           null,
           null,
           null,
           null,
           null,
           null,
           null,
           null,
           null
          ],
          "target": [
           8,
           9,
           10,
           11,
           12,
           13,
           14,
           15,
           16,
           17,
           8,
           9,
           10,
           11,
           12,
           13,
           14,
           15,
           16,
           17,
           8,
           9,
           10,
           11,
           12,
           13,
           14,
           15,
           16,
           17,
           8,
           9,
           10,
           11,
           12,
           13,
           14,
           15,
           16,
           17,
           8,
           9,
           10,
           11,
           12,
           13,
           14,
           15,
           16,
           17,
           8,
           9,
           10,
           11,
           12,
           13,
           14,
           15,
           16,
           17,
           8,
           9,
           10,
           11,
           12,
           13,
           14,
           15,
           16,
           17,
           8,
           9,
           10,
           11,
           12,
           13,
           14,
           15,
           16,
           17,
           8,
           9,
           10,
           11,
           12,
           13,
           14,
           15,
           16,
           17,
           8,
           9,
           10,
           11,
           12,
           13,
           14,
           15,
           16,
           17
          ],
          "value": [
           69.0871789849212,
           20.16127096398983,
           5.261265770650423,
           3.0001161232065763,
           1.1978191558601696,
           0.7031338885244734,
           0.26163398007249306,
           0.1969504205055151,
           0.08074983062461016,
           0.049880881644724206,
           25.267181177724723,
           48.415480670730574,
           12.856195605009555,
           7.189925263813174,
           2.9697852970249525,
           1.6878607553238847,
           0.9112940727241108,
           0.3161735932589329,
           0.21544161473201331,
           0.1706619496580705,
           9.089838167199888,
           25.768125876073146,
           39.42886754215351,
           14.711874789373056,
           5.802908498724365,
           2.8539764814278263,
           1.2469985837269195,
           0.45689883617449295,
           0.4026821965315465,
           0.2378290286152636,
           6.148472800520307,
           16.614028787501216,
           25.20961873639384,
           31.163638985365004,
           10.227191796372722,
           5.440983052968148,
           2.667574146958364,
           1.0938786914081062,
           0.8092506723277162,
           0.6253623301845616,
           3.015863448164517,
           9.87114254510134,
           15.47203811378148,
           20.044323326386817,
           23.153377451769618,
           13.93310979093934,
           7.3712888622492905,
           2.5025810912151956,
           2.2654705057503652,
           2.3708048646420385,
           2.0978982517360607,
           4.823405916339559,
           8.193487373698199,
           12.344087507756855,
           16.47375118816293,
           24.050486313986955,
           16.62295054962815,
           5.575035780961389,
           4.4284158731714784,
           5.390481244558422,
           2.259317571181007,
           6.132487426373092,
           5.750152186928266,
           8.682981071785834,
           9.965145363687007,
           21.02606057527451,
           20.923154935785764,
           9.723918124896787,
           6.615898497877009,
           8.920884246210736,
           2.4038115613755804,
           3.762414716729808,
           7.912115657961912,
           8.125573200052399,
           8.09795815459248,
           16.124556825894192,
           16.99125899230003,
           14.224726484537772,
           11.164577367793822,
           11.193007038762019
          ]
         },
         "node": {
          "color": [
           "rgb(0.12156862745098039,0.4666666666666667,0.7058823529411765)",
           "rgb(0.12156862745098039,0.4666666666666667,0.7058823529411765)",
           "rgb(0.596078431372549,0.8745098039215686,0.5411764705882353)",
           "rgb(0.5490196078431373,0.33725490196078434,0.29411764705882354)",
           "rgb(0.5490196078431373,0.33725490196078434,0.29411764705882354)",
           "rgb(0.7803921568627451,0.7803921568627451,0.7803921568627451)",
           "rgb(0.7803921568627451,0.7803921568627451,0.7803921568627451)",
           "rgb(0.7803921568627451,0.7803921568627451,0.7803921568627451)",
           "rgb(0.12156862745098039,0.4666666666666667,0.7058823529411765)",
           "rgb(0.12156862745098039,0.4666666666666667,0.7058823529411765)",
           "rgb(0.596078431372549,0.8745098039215686,0.5411764705882353)",
           "rgb(0.5490196078431373,0.33725490196078434,0.29411764705882354)",
           "rgb(0.5490196078431373,0.33725490196078434,0.29411764705882354)",
           "rgb(0.7803921568627451,0.7803921568627451,0.7803921568627451)",
           "rgb(0.7803921568627451,0.7803921568627451,0.7803921568627451)",
           "rgb(0.7803921568627451,0.7803921568627451,0.7803921568627451)",
           "rgb(0.6196078431372549,0.8549019607843137,0.8980392156862745)",
           "rgb(0.6196078431372549,0.8549019607843137,0.8980392156862745)"
          ],
          "label": [
           "1(최초)",
           "2(최초)",
           "3(최초)",
           "4(최초)",
           "5(최초)",
           "6(최초)",
           "7(최초)",
           "8(최초)",
           "1(현재)",
           "2(현재)",
           "3(현재)",
           "4(현재)",
           "5(현재)",
           "6(현재)",
           "7(현재)",
           "8(현재)",
           "9(현재)",
           "10(현재)"
          ],
          "pad": 0,
          "thickness": 20,
          "x": [
           0.001,
           0.001,
           0.001,
           0.001,
           0.001,
           0.001,
           0.001,
           0.001,
           0.999,
           0.999,
           0.999,
           0.999,
           0.999,
           0.999,
           0.999,
           0.999,
           0.999,
           0.999
          ],
          "y": [
           0.001,
           0.100875,
           0.20075,
           0.30062500000000003,
           0.4005,
           0.500375,
           0.6002500000000001,
           0.700125,
           0.001,
           0.13637892145671004,
           0.25631255776705403,
           0.36144349988445906,
           0.4392340768695206,
           0.5249469693442544,
           0.5918593782750453,
           0.6259069285942247,
           0.6518569370448349,
           0.6807796499896303
          ]
         },
         "type": "sankey",
         "valueformat": ".2f",
         "valuesuffix": "%"
        }
       ],
       "layout": {
        "autosize": false,
        "height": 800,
        "margin": {
         "b": 10,
         "pad": 0,
         "t": 40
        },
        "template": {
         "data": {
          "bar": [
           {
            "error_x": {
             "color": "#2a3f5f"
            },
            "error_y": {
             "color": "#2a3f5f"
            },
            "marker": {
             "line": {
              "color": "#E5ECF6",
              "width": 0.5
             },
             "pattern": {
              "fillmode": "overlay",
              "size": 10,
              "solidity": 0.2
             }
            },
            "type": "bar"
           }
          ],
          "barpolar": [
           {
            "marker": {
             "line": {
              "color": "#E5ECF6",
              "width": 0.5
             },
             "pattern": {
              "fillmode": "overlay",
              "size": 10,
              "solidity": 0.2
             }
            },
            "type": "barpolar"
           }
          ],
          "carpet": [
           {
            "aaxis": {
             "endlinecolor": "#2a3f5f",
             "gridcolor": "white",
             "linecolor": "white",
             "minorgridcolor": "white",
             "startlinecolor": "#2a3f5f"
            },
            "baxis": {
             "endlinecolor": "#2a3f5f",
             "gridcolor": "white",
             "linecolor": "white",
             "minorgridcolor": "white",
             "startlinecolor": "#2a3f5f"
            },
            "type": "carpet"
           }
          ],
          "choropleth": [
           {
            "colorbar": {
             "outlinewidth": 0,
             "ticks": ""
            },
            "type": "choropleth"
           }
          ],
          "contour": [
           {
            "colorbar": {
             "outlinewidth": 0,
             "ticks": ""
            },
            "colorscale": [
             [
              0,
              "#0d0887"
             ],
             [
              0.1111111111111111,
              "#46039f"
             ],
             [
              0.2222222222222222,
              "#7201a8"
             ],
             [
              0.3333333333333333,
              "#9c179e"
             ],
             [
              0.4444444444444444,
              "#bd3786"
             ],
             [
              0.5555555555555556,
              "#d8576b"
             ],
             [
              0.6666666666666666,
              "#ed7953"
             ],
             [
              0.7777777777777778,
              "#fb9f3a"
             ],
             [
              0.8888888888888888,
              "#fdca26"
             ],
             [
              1,
              "#f0f921"
             ]
            ],
            "type": "contour"
           }
          ],
          "contourcarpet": [
           {
            "colorbar": {
             "outlinewidth": 0,
             "ticks": ""
            },
            "type": "contourcarpet"
           }
          ],
          "heatmap": [
           {
            "colorbar": {
             "outlinewidth": 0,
             "ticks": ""
            },
            "colorscale": [
             [
              0,
              "#0d0887"
             ],
             [
              0.1111111111111111,
              "#46039f"
             ],
             [
              0.2222222222222222,
              "#7201a8"
             ],
             [
              0.3333333333333333,
              "#9c179e"
             ],
             [
              0.4444444444444444,
              "#bd3786"
             ],
             [
              0.5555555555555556,
              "#d8576b"
             ],
             [
              0.6666666666666666,
              "#ed7953"
             ],
             [
              0.7777777777777778,
              "#fb9f3a"
             ],
             [
              0.8888888888888888,
              "#fdca26"
             ],
             [
              1,
              "#f0f921"
             ]
            ],
            "type": "heatmap"
           }
          ],
          "histogram": [
           {
            "marker": {
             "pattern": {
              "fillmode": "overlay",
              "size": 10,
              "solidity": 0.2
             }
            },
            "type": "histogram"
           }
          ],
          "histogram2d": [
           {
            "colorbar": {
             "outlinewidth": 0,
             "ticks": ""
            },
            "colorscale": [
             [
              0,
              "#0d0887"
             ],
             [
              0.1111111111111111,
              "#46039f"
             ],
             [
              0.2222222222222222,
              "#7201a8"
             ],
             [
              0.3333333333333333,
              "#9c179e"
             ],
             [
              0.4444444444444444,
              "#bd3786"
             ],
             [
              0.5555555555555556,
              "#d8576b"
             ],
             [
              0.6666666666666666,
              "#ed7953"
             ],
             [
              0.7777777777777778,
              "#fb9f3a"
             ],
             [
              0.8888888888888888,
              "#fdca26"
             ],
             [
              1,
              "#f0f921"
             ]
            ],
            "type": "histogram2d"
           }
          ],
          "histogram2dcontour": [
           {
            "colorbar": {
             "outlinewidth": 0,
             "ticks": ""
            },
            "colorscale": [
             [
              0,
              "#0d0887"
             ],
             [
              0.1111111111111111,
              "#46039f"
             ],
             [
              0.2222222222222222,
              "#7201a8"
             ],
             [
              0.3333333333333333,
              "#9c179e"
             ],
             [
              0.4444444444444444,
              "#bd3786"
             ],
             [
              0.5555555555555556,
              "#d8576b"
             ],
             [
              0.6666666666666666,
              "#ed7953"
             ],
             [
              0.7777777777777778,
              "#fb9f3a"
             ],
             [
              0.8888888888888888,
              "#fdca26"
             ],
             [
              1,
              "#f0f921"
             ]
            ],
            "type": "histogram2dcontour"
           }
          ],
          "mesh3d": [
           {
            "colorbar": {
             "outlinewidth": 0,
             "ticks": ""
            },
            "type": "mesh3d"
           }
          ],
          "parcoords": [
           {
            "line": {
             "colorbar": {
              "outlinewidth": 0,
              "ticks": ""
             }
            },
            "type": "parcoords"
           }
          ],
          "pie": [
           {
            "automargin": true,
            "type": "pie"
           }
          ],
          "scatter": [
           {
            "fillpattern": {
             "fillmode": "overlay",
             "size": 10,
             "solidity": 0.2
            },
            "type": "scatter"
           }
          ],
          "scatter3d": [
           {
            "line": {
             "colorbar": {
              "outlinewidth": 0,
              "ticks": ""
             }
            },
            "marker": {
             "colorbar": {
              "outlinewidth": 0,
              "ticks": ""
             }
            },
            "type": "scatter3d"
           }
          ],
          "scattercarpet": [
           {
            "marker": {
             "colorbar": {
              "outlinewidth": 0,
              "ticks": ""
             }
            },
            "type": "scattercarpet"
           }
          ],
          "scattergeo": [
           {
            "marker": {
             "colorbar": {
              "outlinewidth": 0,
              "ticks": ""
             }
            },
            "type": "scattergeo"
           }
          ],
          "scattergl": [
           {
            "marker": {
             "colorbar": {
              "outlinewidth": 0,
              "ticks": ""
             }
            },
            "type": "scattergl"
           }
          ],
          "scattermap": [
           {
            "marker": {
             "colorbar": {
              "outlinewidth": 0,
              "ticks": ""
             }
            },
            "type": "scattermap"
           }
          ],
          "scattermapbox": [
           {
            "marker": {
             "colorbar": {
              "outlinewidth": 0,
              "ticks": ""
             }
            },
            "type": "scattermapbox"
           }
          ],
          "scatterpolar": [
           {
            "marker": {
             "colorbar": {
              "outlinewidth": 0,
              "ticks": ""
             }
            },
            "type": "scatterpolar"
           }
          ],
          "scatterpolargl": [
           {
            "marker": {
             "colorbar": {
              "outlinewidth": 0,
              "ticks": ""
             }
            },
            "type": "scatterpolargl"
           }
          ],
          "scatterternary": [
           {
            "marker": {
             "colorbar": {
              "outlinewidth": 0,
              "ticks": ""
             }
            },
            "type": "scatterternary"
           }
          ],
          "surface": [
           {
            "colorbar": {
             "outlinewidth": 0,
             "ticks": ""
            },
            "colorscale": [
             [
              0,
              "#0d0887"
             ],
             [
              0.1111111111111111,
              "#46039f"
             ],
             [
              0.2222222222222222,
              "#7201a8"
             ],
             [
              0.3333333333333333,
              "#9c179e"
             ],
             [
              0.4444444444444444,
              "#bd3786"
             ],
             [
              0.5555555555555556,
              "#d8576b"
             ],
             [
              0.6666666666666666,
              "#ed7953"
             ],
             [
              0.7777777777777778,
              "#fb9f3a"
             ],
             [
              0.8888888888888888,
              "#fdca26"
             ],
             [
              1,
              "#f0f921"
             ]
            ],
            "type": "surface"
           }
          ],
          "table": [
           {
            "cells": {
             "fill": {
              "color": "#EBF0F8"
             },
             "line": {
              "color": "white"
             }
            },
            "header": {
             "fill": {
              "color": "#C8D4E3"
             },
             "line": {
              "color": "white"
             }
            },
            "type": "table"
           }
          ]
         },
         "layout": {
          "annotationdefaults": {
           "arrowcolor": "#2a3f5f",
           "arrowhead": 0,
           "arrowwidth": 1
          },
          "autotypenumbers": "strict",
          "coloraxis": {
           "colorbar": {
            "outlinewidth": 0,
            "ticks": ""
           }
          },
          "colorscale": {
           "diverging": [
            [
             0,
             "#8e0152"
            ],
            [
             0.1,
             "#c51b7d"
            ],
            [
             0.2,
             "#de77ae"
            ],
            [
             0.3,
             "#f1b6da"
            ],
            [
             0.4,
             "#fde0ef"
            ],
            [
             0.5,
             "#f7f7f7"
            ],
            [
             0.6,
             "#e6f5d0"
            ],
            [
             0.7,
             "#b8e186"
            ],
            [
             0.8,
             "#7fbc41"
            ],
            [
             0.9,
             "#4d9221"
            ],
            [
             1,
             "#276419"
            ]
           ],
           "sequential": [
            [
             0,
             "#0d0887"
            ],
            [
             0.1111111111111111,
             "#46039f"
            ],
            [
             0.2222222222222222,
             "#7201a8"
            ],
            [
             0.3333333333333333,
             "#9c179e"
            ],
            [
             0.4444444444444444,
             "#bd3786"
            ],
            [
             0.5555555555555556,
             "#d8576b"
            ],
            [
             0.6666666666666666,
             "#ed7953"
            ],
            [
             0.7777777777777778,
             "#fb9f3a"
            ],
            [
             0.8888888888888888,
             "#fdca26"
            ],
            [
             1,
             "#f0f921"
            ]
           ],
           "sequentialminus": [
            [
             0,
             "#0d0887"
            ],
            [
             0.1111111111111111,
             "#46039f"
            ],
            [
             0.2222222222222222,
             "#7201a8"
            ],
            [
             0.3333333333333333,
             "#9c179e"
            ],
            [
             0.4444444444444444,
             "#bd3786"
            ],
            [
             0.5555555555555556,
             "#d8576b"
            ],
            [
             0.6666666666666666,
             "#ed7953"
            ],
            [
             0.7777777777777778,
             "#fb9f3a"
            ],
            [
             0.8888888888888888,
             "#fdca26"
            ],
            [
             1,
             "#f0f921"
            ]
           ]
          },
          "colorway": [
           "#636efa",
           "#EF553B",
           "#00cc96",
           "#ab63fa",
           "#FFA15A",
           "#19d3f3",
           "#FF6692",
           "#B6E880",
           "#FF97FF",
           "#FECB52"
          ],
          "font": {
           "color": "#2a3f5f"
          },
          "geo": {
           "bgcolor": "white",
           "lakecolor": "white",
           "landcolor": "#E5ECF6",
           "showlakes": true,
           "showland": true,
           "subunitcolor": "white"
          },
          "hoverlabel": {
           "align": "left"
          },
          "hovermode": "closest",
          "mapbox": {
           "style": "light"
          },
          "paper_bgcolor": "white",
          "plot_bgcolor": "#E5ECF6",
          "polar": {
           "angularaxis": {
            "gridcolor": "white",
            "linecolor": "white",
            "ticks": ""
           },
           "bgcolor": "#E5ECF6",
           "radialaxis": {
            "gridcolor": "white",
            "linecolor": "white",
            "ticks": ""
           }
          },
          "scene": {
           "xaxis": {
            "backgroundcolor": "#E5ECF6",
            "gridcolor": "white",
            "gridwidth": 2,
            "linecolor": "white",
            "showbackground": true,
            "ticks": "",
            "zerolinecolor": "white"
           },
           "yaxis": {
            "backgroundcolor": "#E5ECF6",
            "gridcolor": "white",
            "gridwidth": 2,
            "linecolor": "white",
            "showbackground": true,
            "ticks": "",
            "zerolinecolor": "white"
           },
           "zaxis": {
            "backgroundcolor": "#E5ECF6",
            "gridcolor": "white",
            "gridwidth": 2,
            "linecolor": "white",
            "showbackground": true,
            "ticks": "",
            "zerolinecolor": "white"
           }
          },
          "shapedefaults": {
           "line": {
            "color": "#2a3f5f"
           }
          },
          "ternary": {
           "aaxis": {
            "gridcolor": "white",
            "linecolor": "white",
            "ticks": ""
           },
           "baxis": {
            "gridcolor": "white",
            "linecolor": "white",
            "ticks": ""
           },
           "bgcolor": "#E5ECF6",
           "caxis": {
            "gridcolor": "white",
            "linecolor": "white",
            "ticks": ""
           }
          },
          "title": {
           "x": 0.05
          },
          "xaxis": {
           "automargin": true,
           "gridcolor": "white",
           "linecolor": "white",
           "ticks": "",
           "title": {
            "standoff": 15
           },
           "zerolinecolor": "white",
           "zerolinewidth": 2
          },
          "yaxis": {
           "automargin": true,
           "gridcolor": "white",
           "linecolor": "white",
           "ticks": "",
           "title": {
            "standoff": 15
           },
           "zerolinecolor": "white",
           "zerolinewidth": 2
          }
         }
        },
        "title": {
         "text": "[소매] 2024.3Q 최초신용등급별 신용등급 전이 (2024.3Q 잔액비중, 2025.2Q 현재)"
        },
        "width": 1200
       }
      }
     },
     "metadata": {},
     "output_type": "display_data"
    },
    {
     "name": "stderr",
     "output_type": "stream",
     "text": [
      "C:\\Users\\CL657UD\\AppData\\Local\\Temp\\ipykernel_8556\\2715709147.py:61: DeprecationWarning:\n",
      "\n",
      "\n",
      "Support for the 'engine' argument is deprecated and will be removed after September 2025.\n",
      "Kaleido will be the only supported engine at that time.\n",
      "\n",
      "\n"
     ]
    }
   ],
   "source": [
    "# 소매\n",
    "# Prepare sankey style data\n",
    "dic_cat_src = {}\n",
    "i = 0\n",
    "for x in crmap_rtl_wo_last['최초신용등급숫자'].unique().tolist():\n",
    "    dic_cat_src[x] = i\n",
    "    i += 1\n",
    "dic_cat_tgt = {}\n",
    "i = len(dic_cat_src)\n",
    "for x in crmap_rtl_wo_last['25Q2_신용등급'].unique().tolist():\n",
    "    dic_cat_tgt[x] = i\n",
    "    i += 1\n",
    "crmap_rtl['source'] = crmap_rtl['최초신용등급숫자'].map(dic_cat_src)\n",
    "crmap_rtl['target'] = crmap_rtl['25Q2_신용등급'].map(dic_cat_tgt)\n",
    "\n",
    "# Colors of nodes and links\n",
    "source_uniq = crmap_rtl_wo_last['source_label_rating'].unique().tolist()\n",
    "target_uniq = crmap_rtl_wo_last['target_label'].unique().tolist()\n",
    "color_map = crmap_rtl.groupby('최초신용등급숫자')['c_color'].unique().apply(lambda x: x[0]).reset_index()\n",
    "color_map['source_label_rating'] = crmap_rtl.groupby('최초신용등급숫자')['source_label_rating'].unique().apply(lambda x: x[0]).tolist()\n",
    "color_map = color_map.sort_values('최초신용등급숫자',ascending=True).reset_index(drop=True)\n",
    "color_map = pd.merge(color_map, crmap_rtl_wo_last.groupby('source_label_rating').agg(\n",
    "    bkt_wgt = ('신용등급별비중','sum')\n",
    ").reset_index()[['source_label_rating','bkt_wgt']], on='source_label_rating', how='left')\n",
    "color_map = pd.merge(color_map, crmap_rtl_wo_last.groupby('target_label').agg(\n",
    "    tgt_wgt = ('신용등급별비중','sum')\n",
    ").reset_index().assign(\n",
    "    최초신용등급숫자 = lambda x: x['target_label'].apply(lambda x: int(x.replace('(현재)','')))\n",
    ")[['최초신용등급숫자','tgt_wgt']], on='최초신용등급숫자', how='left')\n",
    "color_map = color_map.assign(\n",
    "    c1 = lambda x: x['bkt_wgt'].cumsum(),\n",
    "    c2 = lambda x: x['tgt_wgt'].cumsum()\n",
    ")\n",
    "color_map = color_map.assign(\n",
    "    c3 = color_map.groupby('최초신용등급숫자')['c1'].transform(lambda x: x.max())\n",
    ")\n",
    "color_map = color_map.assign(\n",
    "    bkt_pos = lambda x: (x['c3']-x['c3'].min())/(x['c3'].max())*.799+.001,\n",
    "    tgt_pos = lambda x: (x['c2']-x['c2'].min())/(x['c2'].max())*.799+.001\n",
    ")\n",
    "color_node = [color_map.loc[color_map['source_label_rating']==x,'c_color'].tolist()[0] for x in source_uniq]+[color_map.loc[color_map['최초신용등급숫자']==int(x.replace('(현재)','')),'c_color'].tolist()[0] for x in target_uniq]\n",
    "color_link = crmap_rtl_wo_last['c_color_w_opa'].tolist()\n",
    "\n",
    "# Set sankey arguments\n",
    "label = crmap_rtl_wo_last['source_label_rating'].unique().tolist()+crmap_rtl_wo_last['target_label'].unique().tolist()\n",
    "x_position_node = [.001]*len(source_uniq)+[.999]*len(target_uniq)\n",
    "y_position_node = [color_map.loc[color_map['source_label_rating']==x,'bkt_pos'].tolist()[0] for x in source_uniq]+[color_map.loc[color_map['최초신용등급숫자']==int(x.replace('(현재)','')),'tgt_pos'].tolist()[0] for x in target_uniq]\n",
    "source = crmap_rtl['source'].tolist()\n",
    "target = crmap_rtl['target'].tolist()\n",
    "values = (crmap_rtl_wo_last['신용등급별비중']*100).tolist()\n",
    "link = dict(source=source, target=target, value=values, color=color_link)\n",
    "node = dict(label=label, pad=0, thickness=20, color=color_node,\n",
    "            x = x_position_node, y=y_position_node)\n",
    "data = go.Sankey(link=link, node=node, valueformat='.2f', valuesuffix='%', arrangement='snap')\n",
    "\n",
    "# Draw sankey plot\n",
    "fig = go.Figure(data)\n",
    "fig.update_layout(title_text=\"[소매] 2024.3Q 최초신용등급별 신용등급 전이 (2024.3Q 잔액비중, 2025.2Q 현재)\", margin=dict(b=10, t=40, pad=0), autosize=False, width=1200, height=800)\n",
    "fig.show()\n",
    "fig.write_html(rf'부산은행 DA\\Result\\{ver}\\소매_신용등급_전이_비중.html')\n",
    "fig.write_image(rf'부산은행 DA\\Result\\{ver}\\소매_신용등급_전이_비중.png', engine='kaleido')"
   ]
  },
  {
   "cell_type": "markdown",
   "id": "222d9e02",
   "metadata": {},
   "source": [
    "#### Stage (Original) Migration"
   ]
  },
  {
   "cell_type": "markdown",
   "id": "3b9a0664",
   "metadata": {},
   "source": [
    "##### 비소매"
   ]
  },
  {
   "cell_type": "code",
   "execution_count": 34,
   "id": "0d6fe41d",
   "metadata": {},
   "outputs": [
    {
     "data": {
      "application/vnd.plotly.v1+json": {
       "config": {
        "plotlyServerURL": "https://plot.ly"
       },
       "data": [
        {
         "arrangement": "snap",
         "link": {
          "color": [
           "rgba(0.12156862745098039,0.4666666666666667,0.7058823529411765,.5)",
           "rgba(0.12156862745098039,0.4666666666666667,0.7058823529411765,.5)",
           "rgba(0.12156862745098039,0.4666666666666667,0.7058823529411765,.5)",
           "rgba(0.5490196078431373,0.33725490196078434,0.29411764705882354,.5)",
           "rgba(0.5490196078431373,0.33725490196078434,0.29411764705882354,.5)",
           "rgba(0.5490196078431373,0.33725490196078434,0.29411764705882354,.5)",
           "rgba(0.6196078431372549,0.8549019607843137,0.8980392156862745,.5)",
           "rgba(0.6196078431372549,0.8549019607843137,0.8980392156862745,.5)",
           "rgba(0.6196078431372549,0.8549019607843137,0.8980392156862745,.5)"
          ],
          "source": [
           0,
           0,
           0,
           1,
           1,
           1,
           2,
           2,
           2
          ],
          "target": [
           3,
           4,
           5,
           3,
           4,
           5,
           3,
           4,
           5
          ],
          "value": [
           91.05033696837883,
           8.747067558971064,
           0.2025954726501038,
           14.093160169776548,
           85.19483259827246,
           0.7120072319509874,
           15.319660974996827,
           2.713150642689033,
           81.96718838231412
          ]
         },
         "node": {
          "color": [
           "rgba(0.12156862745098039,0.4666666666666667,0.7058823529411765,.5)",
           "rgba(0.5490196078431373,0.33725490196078434,0.29411764705882354,.5)",
           "rgba(0.6196078431372549,0.8549019607843137,0.8980392156862745,.5)",
           "rgba(0.12156862745098039,0.4666666666666667,0.7058823529411765,.5)",
           "rgba(0.5490196078431373,0.33725490196078434,0.29411764705882354,.5)",
           "rgba(0.6196078431372549,0.8549019607843137,0.8980392156862745,.5)"
          ],
          "label": [
           "Stage 1(최초)",
           "Stage 2(최초)",
           "Stage 3(최초)",
           "Stage 1(현재)",
           "Stage 2(현재)",
           "Stage 3(현재)"
          ],
          "pad": 0,
          "thickness": 20
         },
         "type": "sankey",
         "valueformat": ".2f",
         "valuesuffix": "%"
        }
       ],
       "layout": {
        "autosize": false,
        "height": 800,
        "margin": {
         "b": 10,
         "pad": 0,
         "t": 40
        },
        "template": {
         "data": {
          "bar": [
           {
            "error_x": {
             "color": "#2a3f5f"
            },
            "error_y": {
             "color": "#2a3f5f"
            },
            "marker": {
             "line": {
              "color": "#E5ECF6",
              "width": 0.5
             },
             "pattern": {
              "fillmode": "overlay",
              "size": 10,
              "solidity": 0.2
             }
            },
            "type": "bar"
           }
          ],
          "barpolar": [
           {
            "marker": {
             "line": {
              "color": "#E5ECF6",
              "width": 0.5
             },
             "pattern": {
              "fillmode": "overlay",
              "size": 10,
              "solidity": 0.2
             }
            },
            "type": "barpolar"
           }
          ],
          "carpet": [
           {
            "aaxis": {
             "endlinecolor": "#2a3f5f",
             "gridcolor": "white",
             "linecolor": "white",
             "minorgridcolor": "white",
             "startlinecolor": "#2a3f5f"
            },
            "baxis": {
             "endlinecolor": "#2a3f5f",
             "gridcolor": "white",
             "linecolor": "white",
             "minorgridcolor": "white",
             "startlinecolor": "#2a3f5f"
            },
            "type": "carpet"
           }
          ],
          "choropleth": [
           {
            "colorbar": {
             "outlinewidth": 0,
             "ticks": ""
            },
            "type": "choropleth"
           }
          ],
          "contour": [
           {
            "colorbar": {
             "outlinewidth": 0,
             "ticks": ""
            },
            "colorscale": [
             [
              0,
              "#0d0887"
             ],
             [
              0.1111111111111111,
              "#46039f"
             ],
             [
              0.2222222222222222,
              "#7201a8"
             ],
             [
              0.3333333333333333,
              "#9c179e"
             ],
             [
              0.4444444444444444,
              "#bd3786"
             ],
             [
              0.5555555555555556,
              "#d8576b"
             ],
             [
              0.6666666666666666,
              "#ed7953"
             ],
             [
              0.7777777777777778,
              "#fb9f3a"
             ],
             [
              0.8888888888888888,
              "#fdca26"
             ],
             [
              1,
              "#f0f921"
             ]
            ],
            "type": "contour"
           }
          ],
          "contourcarpet": [
           {
            "colorbar": {
             "outlinewidth": 0,
             "ticks": ""
            },
            "type": "contourcarpet"
           }
          ],
          "heatmap": [
           {
            "colorbar": {
             "outlinewidth": 0,
             "ticks": ""
            },
            "colorscale": [
             [
              0,
              "#0d0887"
             ],
             [
              0.1111111111111111,
              "#46039f"
             ],
             [
              0.2222222222222222,
              "#7201a8"
             ],
             [
              0.3333333333333333,
              "#9c179e"
             ],
             [
              0.4444444444444444,
              "#bd3786"
             ],
             [
              0.5555555555555556,
              "#d8576b"
             ],
             [
              0.6666666666666666,
              "#ed7953"
             ],
             [
              0.7777777777777778,
              "#fb9f3a"
             ],
             [
              0.8888888888888888,
              "#fdca26"
             ],
             [
              1,
              "#f0f921"
             ]
            ],
            "type": "heatmap"
           }
          ],
          "histogram": [
           {
            "marker": {
             "pattern": {
              "fillmode": "overlay",
              "size": 10,
              "solidity": 0.2
             }
            },
            "type": "histogram"
           }
          ],
          "histogram2d": [
           {
            "colorbar": {
             "outlinewidth": 0,
             "ticks": ""
            },
            "colorscale": [
             [
              0,
              "#0d0887"
             ],
             [
              0.1111111111111111,
              "#46039f"
             ],
             [
              0.2222222222222222,
              "#7201a8"
             ],
             [
              0.3333333333333333,
              "#9c179e"
             ],
             [
              0.4444444444444444,
              "#bd3786"
             ],
             [
              0.5555555555555556,
              "#d8576b"
             ],
             [
              0.6666666666666666,
              "#ed7953"
             ],
             [
              0.7777777777777778,
              "#fb9f3a"
             ],
             [
              0.8888888888888888,
              "#fdca26"
             ],
             [
              1,
              "#f0f921"
             ]
            ],
            "type": "histogram2d"
           }
          ],
          "histogram2dcontour": [
           {
            "colorbar": {
             "outlinewidth": 0,
             "ticks": ""
            },
            "colorscale": [
             [
              0,
              "#0d0887"
             ],
             [
              0.1111111111111111,
              "#46039f"
             ],
             [
              0.2222222222222222,
              "#7201a8"
             ],
             [
              0.3333333333333333,
              "#9c179e"
             ],
             [
              0.4444444444444444,
              "#bd3786"
             ],
             [
              0.5555555555555556,
              "#d8576b"
             ],
             [
              0.6666666666666666,
              "#ed7953"
             ],
             [
              0.7777777777777778,
              "#fb9f3a"
             ],
             [
              0.8888888888888888,
              "#fdca26"
             ],
             [
              1,
              "#f0f921"
             ]
            ],
            "type": "histogram2dcontour"
           }
          ],
          "mesh3d": [
           {
            "colorbar": {
             "outlinewidth": 0,
             "ticks": ""
            },
            "type": "mesh3d"
           }
          ],
          "parcoords": [
           {
            "line": {
             "colorbar": {
              "outlinewidth": 0,
              "ticks": ""
             }
            },
            "type": "parcoords"
           }
          ],
          "pie": [
           {
            "automargin": true,
            "type": "pie"
           }
          ],
          "scatter": [
           {
            "fillpattern": {
             "fillmode": "overlay",
             "size": 10,
             "solidity": 0.2
            },
            "type": "scatter"
           }
          ],
          "scatter3d": [
           {
            "line": {
             "colorbar": {
              "outlinewidth": 0,
              "ticks": ""
             }
            },
            "marker": {
             "colorbar": {
              "outlinewidth": 0,
              "ticks": ""
             }
            },
            "type": "scatter3d"
           }
          ],
          "scattercarpet": [
           {
            "marker": {
             "colorbar": {
              "outlinewidth": 0,
              "ticks": ""
             }
            },
            "type": "scattercarpet"
           }
          ],
          "scattergeo": [
           {
            "marker": {
             "colorbar": {
              "outlinewidth": 0,
              "ticks": ""
             }
            },
            "type": "scattergeo"
           }
          ],
          "scattergl": [
           {
            "marker": {
             "colorbar": {
              "outlinewidth": 0,
              "ticks": ""
             }
            },
            "type": "scattergl"
           }
          ],
          "scattermap": [
           {
            "marker": {
             "colorbar": {
              "outlinewidth": 0,
              "ticks": ""
             }
            },
            "type": "scattermap"
           }
          ],
          "scattermapbox": [
           {
            "marker": {
             "colorbar": {
              "outlinewidth": 0,
              "ticks": ""
             }
            },
            "type": "scattermapbox"
           }
          ],
          "scatterpolar": [
           {
            "marker": {
             "colorbar": {
              "outlinewidth": 0,
              "ticks": ""
             }
            },
            "type": "scatterpolar"
           }
          ],
          "scatterpolargl": [
           {
            "marker": {
             "colorbar": {
              "outlinewidth": 0,
              "ticks": ""
             }
            },
            "type": "scatterpolargl"
           }
          ],
          "scatterternary": [
           {
            "marker": {
             "colorbar": {
              "outlinewidth": 0,
              "ticks": ""
             }
            },
            "type": "scatterternary"
           }
          ],
          "surface": [
           {
            "colorbar": {
             "outlinewidth": 0,
             "ticks": ""
            },
            "colorscale": [
             [
              0,
              "#0d0887"
             ],
             [
              0.1111111111111111,
              "#46039f"
             ],
             [
              0.2222222222222222,
              "#7201a8"
             ],
             [
              0.3333333333333333,
              "#9c179e"
             ],
             [
              0.4444444444444444,
              "#bd3786"
             ],
             [
              0.5555555555555556,
              "#d8576b"
             ],
             [
              0.6666666666666666,
              "#ed7953"
             ],
             [
              0.7777777777777778,
              "#fb9f3a"
             ],
             [
              0.8888888888888888,
              "#fdca26"
             ],
             [
              1,
              "#f0f921"
             ]
            ],
            "type": "surface"
           }
          ],
          "table": [
           {
            "cells": {
             "fill": {
              "color": "#EBF0F8"
             },
             "line": {
              "color": "white"
             }
            },
            "header": {
             "fill": {
              "color": "#C8D4E3"
             },
             "line": {
              "color": "white"
             }
            },
            "type": "table"
           }
          ]
         },
         "layout": {
          "annotationdefaults": {
           "arrowcolor": "#2a3f5f",
           "arrowhead": 0,
           "arrowwidth": 1
          },
          "autotypenumbers": "strict",
          "coloraxis": {
           "colorbar": {
            "outlinewidth": 0,
            "ticks": ""
           }
          },
          "colorscale": {
           "diverging": [
            [
             0,
             "#8e0152"
            ],
            [
             0.1,
             "#c51b7d"
            ],
            [
             0.2,
             "#de77ae"
            ],
            [
             0.3,
             "#f1b6da"
            ],
            [
             0.4,
             "#fde0ef"
            ],
            [
             0.5,
             "#f7f7f7"
            ],
            [
             0.6,
             "#e6f5d0"
            ],
            [
             0.7,
             "#b8e186"
            ],
            [
             0.8,
             "#7fbc41"
            ],
            [
             0.9,
             "#4d9221"
            ],
            [
             1,
             "#276419"
            ]
           ],
           "sequential": [
            [
             0,
             "#0d0887"
            ],
            [
             0.1111111111111111,
             "#46039f"
            ],
            [
             0.2222222222222222,
             "#7201a8"
            ],
            [
             0.3333333333333333,
             "#9c179e"
            ],
            [
             0.4444444444444444,
             "#bd3786"
            ],
            [
             0.5555555555555556,
             "#d8576b"
            ],
            [
             0.6666666666666666,
             "#ed7953"
            ],
            [
             0.7777777777777778,
             "#fb9f3a"
            ],
            [
             0.8888888888888888,
             "#fdca26"
            ],
            [
             1,
             "#f0f921"
            ]
           ],
           "sequentialminus": [
            [
             0,
             "#0d0887"
            ],
            [
             0.1111111111111111,
             "#46039f"
            ],
            [
             0.2222222222222222,
             "#7201a8"
            ],
            [
             0.3333333333333333,
             "#9c179e"
            ],
            [
             0.4444444444444444,
             "#bd3786"
            ],
            [
             0.5555555555555556,
             "#d8576b"
            ],
            [
             0.6666666666666666,
             "#ed7953"
            ],
            [
             0.7777777777777778,
             "#fb9f3a"
            ],
            [
             0.8888888888888888,
             "#fdca26"
            ],
            [
             1,
             "#f0f921"
            ]
           ]
          },
          "colorway": [
           "#636efa",
           "#EF553B",
           "#00cc96",
           "#ab63fa",
           "#FFA15A",
           "#19d3f3",
           "#FF6692",
           "#B6E880",
           "#FF97FF",
           "#FECB52"
          ],
          "font": {
           "color": "#2a3f5f"
          },
          "geo": {
           "bgcolor": "white",
           "lakecolor": "white",
           "landcolor": "#E5ECF6",
           "showlakes": true,
           "showland": true,
           "subunitcolor": "white"
          },
          "hoverlabel": {
           "align": "left"
          },
          "hovermode": "closest",
          "mapbox": {
           "style": "light"
          },
          "paper_bgcolor": "white",
          "plot_bgcolor": "#E5ECF6",
          "polar": {
           "angularaxis": {
            "gridcolor": "white",
            "linecolor": "white",
            "ticks": ""
           },
           "bgcolor": "#E5ECF6",
           "radialaxis": {
            "gridcolor": "white",
            "linecolor": "white",
            "ticks": ""
           }
          },
          "scene": {
           "xaxis": {
            "backgroundcolor": "#E5ECF6",
            "gridcolor": "white",
            "gridwidth": 2,
            "linecolor": "white",
            "showbackground": true,
            "ticks": "",
            "zerolinecolor": "white"
           },
           "yaxis": {
            "backgroundcolor": "#E5ECF6",
            "gridcolor": "white",
            "gridwidth": 2,
            "linecolor": "white",
            "showbackground": true,
            "ticks": "",
            "zerolinecolor": "white"
           },
           "zaxis": {
            "backgroundcolor": "#E5ECF6",
            "gridcolor": "white",
            "gridwidth": 2,
            "linecolor": "white",
            "showbackground": true,
            "ticks": "",
            "zerolinecolor": "white"
           }
          },
          "shapedefaults": {
           "line": {
            "color": "#2a3f5f"
           }
          },
          "ternary": {
           "aaxis": {
            "gridcolor": "white",
            "linecolor": "white",
            "ticks": ""
           },
           "baxis": {
            "gridcolor": "white",
            "linecolor": "white",
            "ticks": ""
           },
           "bgcolor": "#E5ECF6",
           "caxis": {
            "gridcolor": "white",
            "linecolor": "white",
            "ticks": ""
           }
          },
          "title": {
           "x": 0.05
          },
          "xaxis": {
           "automargin": true,
           "gridcolor": "white",
           "linecolor": "white",
           "ticks": "",
           "title": {
            "standoff": 15
           },
           "zerolinecolor": "white",
           "zerolinewidth": 2
          },
          "yaxis": {
           "automargin": true,
           "gridcolor": "white",
           "linecolor": "white",
           "ticks": "",
           "title": {
            "standoff": 15
           },
           "zerolinecolor": "white",
           "zerolinewidth": 2
          }
         }
        },
        "title": {
         "text": "[비소매] 2024.3Q 기존 STAGE별 전이 (2024.3Q 잔액 비중, 2025.2Q 현재)"
        },
        "width": 1200
       }
      }
     },
     "metadata": {},
     "output_type": "display_data"
    },
    {
     "name": "stderr",
     "output_type": "stream",
     "text": [
      "C:\\Users\\CL657UD\\AppData\\Local\\Temp\\ipykernel_8556\\2154979609.py:38: DeprecationWarning:\n",
      "\n",
      "\n",
      "Support for the 'engine' argument is deprecated and will be removed after September 2025.\n",
      "Kaleido will be the only supported engine at that time.\n",
      "\n",
      "\n"
     ]
    }
   ],
   "source": [
    "# 비소매\n",
    "dic_cat_src = {}\n",
    "i = 0\n",
    "for x in stmap_nrtl['24Q3_STAGE'].unique().tolist():\n",
    "    dic_cat_src[x] = i\n",
    "    i += 1\n",
    "dic_cat_tgt = {}\n",
    "i = len(dic_cat_src)\n",
    "for x in stmap_nrtl['25Q2_STAGE'].unique().tolist():\n",
    "    dic_cat_tgt[x] = i\n",
    "    i += 1\n",
    "stmap_nrtl['source'] = stmap_nrtl['24Q3_STAGE'].map(dic_cat_src)\n",
    "stmap_nrtl['target'] = stmap_nrtl['25Q2_STAGE'].map(dic_cat_tgt)\n",
    "\n",
    "# Colors of nodes and links\n",
    "source_uniq = stmap_nrtl['source_label'].unique().tolist()\n",
    "target_uniq = stmap_nrtl['target_label'].unique().tolist()\n",
    "color_map = stmap_nrtl.groupby('24Q3_STAGE')['c_color'].unique().apply(lambda x: x[0]).reset_index()\n",
    "color_map['source_label'] = stmap_nrtl.groupby('24Q3_STAGE')['source_label'].unique().apply(lambda x: x[0]).tolist()\n",
    "color_node = [color_map.loc[color_map['source_label']==x,'c_color'].tolist()[0] for x in source_uniq]+[color_map.loc[color_map['24Q3_STAGE']==x.replace('(현재)',''),'c_color'].tolist()[0] for x in target_uniq]\n",
    "color_link = stmap_nrtl['c_color'].tolist()\n",
    "\n",
    "# Set sankey arguments\n",
    "label = stmap_nrtl['source_label'].unique().tolist()+stmap_nrtl['target_label'].unique().tolist()\n",
    "source = stmap_nrtl['source'].tolist()\n",
    "target = stmap_nrtl['target'].tolist()\n",
    "values = (stmap_nrtl['STAGE별비중']*100).tolist()\n",
    "\n",
    "link = dict(source=source, target=target, value=values, color=color_link)\n",
    "node = dict(label=label, pad=0, thickness=20, color=color_node)\n",
    "data = go.Sankey(link=link, node=node, valueformat='.2f', valuesuffix='%', arrangement='snap')\n",
    "\n",
    "# Draw sankey plot\n",
    "fig = go.Figure(data)\n",
    "fig.update_layout(title_text=\"[비소매] 2024.3Q 기존 STAGE별 전이 (2024.3Q 잔액 비중, 2025.2Q 현재)\", margin=dict(b=10, t=40, pad=0), autosize=False, width=1200, height=800)\n",
    "fig.show()\n",
    "fig.write_html(rf'부산은행 DA\\Result\\{ver}\\비소매_Stage_기존_전이_비중.html')\n",
    "fig.write_image(rf'부산은행 DA\\Result\\{ver}\\비소매_Stage_기존_전이_비중.png', engine='kaleido')\n",
    "\n",
    "# link = dict(source=source, target=target, value=values_bl, color=color_link)\n",
    "# node = dict(label=label, pad=0, thickness=20)\n",
    "# data = go.Sankey(link=link, node=node, valueformat=',.0f', valuesuffix='십억원', arrangement='snap')\n",
    "\n",
    "# fig = go.Figure(data)\n",
    "# fig.update_layout(title_text=\"[비소매] 2024.3Q 기존 STAGE별 전이 (2024.3Q 대출잔액, 2025.2Q 현재)\", margin=dict(b=10, t=40, pad=0), autosize=False, width=1200, height=800)\n",
    "# fig.show()\n",
    "# fig.write_html(r'부산은행 DA\\Result\\Power BI\\비소매_Stage_기존_전이_잔액.html')\n",
    "# fig.write_image(r'부산은행 DA\\Result\\Power BI\\비소매_Stage_기존_전이_잔액.png', engine='kaleido')"
   ]
  },
  {
   "cell_type": "markdown",
   "id": "0e868668",
   "metadata": {},
   "source": [
    "##### 소매"
   ]
  },
  {
   "cell_type": "code",
   "execution_count": 35,
   "id": "61887c06",
   "metadata": {},
   "outputs": [
    {
     "data": {
      "application/vnd.plotly.v1+json": {
       "config": {
        "plotlyServerURL": "https://plot.ly"
       },
       "data": [
        {
         "arrangement": "snap",
         "link": {
          "color": [
           "rgba(0.12156862745098039,0.4666666666666667,0.7058823529411765,.5)",
           "rgba(0.12156862745098039,0.4666666666666667,0.7058823529411765,.5)",
           "rgba(0.12156862745098039,0.4666666666666667,0.7058823529411765,.5)",
           "rgba(0.5490196078431373,0.33725490196078434,0.29411764705882354,.5)",
           "rgba(0.5490196078431373,0.33725490196078434,0.29411764705882354,.5)",
           "rgba(0.5490196078431373,0.33725490196078434,0.29411764705882354,.5)",
           "rgba(0.6196078431372549,0.8549019607843137,0.8980392156862745,.5)",
           "rgba(0.6196078431372549,0.8549019607843137,0.8980392156862745,.5)",
           "rgba(0.6196078431372549,0.8549019607843137,0.8980392156862745,.5)"
          ],
          "source": [
           0,
           0,
           0,
           1,
           1,
           1,
           2,
           2,
           2
          ],
          "target": [
           3,
           4,
           5,
           3,
           4,
           5,
           3,
           4,
           5
          ],
          "value": [
           95.68897739300802,
           4.0101564303091735,
           0.30086617668282484,
           34.731426206804514,
           58.490802195218194,
           6.777771597977286,
           2.8798956504110444,
           4.170685125551087,
           92.94941922403787
          ]
         },
         "node": {
          "color": [
           "rgba(0.12156862745098039,0.4666666666666667,0.7058823529411765,.5)",
           "rgba(0.5490196078431373,0.33725490196078434,0.29411764705882354,.5)",
           "rgba(0.6196078431372549,0.8549019607843137,0.8980392156862745,.5)",
           "rgba(0.12156862745098039,0.4666666666666667,0.7058823529411765,.5)",
           "rgba(0.5490196078431373,0.33725490196078434,0.29411764705882354,.5)",
           "rgba(0.6196078431372549,0.8549019607843137,0.8980392156862745,.5)"
          ],
          "label": [
           "Stage 1(최초)",
           "Stage 2(최초)",
           "Stage 3(최초)",
           "Stage 1(현재)",
           "Stage 2(현재)",
           "Stage 3(현재)"
          ],
          "pad": 0,
          "thickness": 20
         },
         "type": "sankey",
         "valueformat": ".2f",
         "valuesuffix": "%"
        }
       ],
       "layout": {
        "autosize": false,
        "height": 800,
        "margin": {
         "b": 10,
         "pad": 0,
         "t": 40
        },
        "template": {
         "data": {
          "bar": [
           {
            "error_x": {
             "color": "#2a3f5f"
            },
            "error_y": {
             "color": "#2a3f5f"
            },
            "marker": {
             "line": {
              "color": "#E5ECF6",
              "width": 0.5
             },
             "pattern": {
              "fillmode": "overlay",
              "size": 10,
              "solidity": 0.2
             }
            },
            "type": "bar"
           }
          ],
          "barpolar": [
           {
            "marker": {
             "line": {
              "color": "#E5ECF6",
              "width": 0.5
             },
             "pattern": {
              "fillmode": "overlay",
              "size": 10,
              "solidity": 0.2
             }
            },
            "type": "barpolar"
           }
          ],
          "carpet": [
           {
            "aaxis": {
             "endlinecolor": "#2a3f5f",
             "gridcolor": "white",
             "linecolor": "white",
             "minorgridcolor": "white",
             "startlinecolor": "#2a3f5f"
            },
            "baxis": {
             "endlinecolor": "#2a3f5f",
             "gridcolor": "white",
             "linecolor": "white",
             "minorgridcolor": "white",
             "startlinecolor": "#2a3f5f"
            },
            "type": "carpet"
           }
          ],
          "choropleth": [
           {
            "colorbar": {
             "outlinewidth": 0,
             "ticks": ""
            },
            "type": "choropleth"
           }
          ],
          "contour": [
           {
            "colorbar": {
             "outlinewidth": 0,
             "ticks": ""
            },
            "colorscale": [
             [
              0,
              "#0d0887"
             ],
             [
              0.1111111111111111,
              "#46039f"
             ],
             [
              0.2222222222222222,
              "#7201a8"
             ],
             [
              0.3333333333333333,
              "#9c179e"
             ],
             [
              0.4444444444444444,
              "#bd3786"
             ],
             [
              0.5555555555555556,
              "#d8576b"
             ],
             [
              0.6666666666666666,
              "#ed7953"
             ],
             [
              0.7777777777777778,
              "#fb9f3a"
             ],
             [
              0.8888888888888888,
              "#fdca26"
             ],
             [
              1,
              "#f0f921"
             ]
            ],
            "type": "contour"
           }
          ],
          "contourcarpet": [
           {
            "colorbar": {
             "outlinewidth": 0,
             "ticks": ""
            },
            "type": "contourcarpet"
           }
          ],
          "heatmap": [
           {
            "colorbar": {
             "outlinewidth": 0,
             "ticks": ""
            },
            "colorscale": [
             [
              0,
              "#0d0887"
             ],
             [
              0.1111111111111111,
              "#46039f"
             ],
             [
              0.2222222222222222,
              "#7201a8"
             ],
             [
              0.3333333333333333,
              "#9c179e"
             ],
             [
              0.4444444444444444,
              "#bd3786"
             ],
             [
              0.5555555555555556,
              "#d8576b"
             ],
             [
              0.6666666666666666,
              "#ed7953"
             ],
             [
              0.7777777777777778,
              "#fb9f3a"
             ],
             [
              0.8888888888888888,
              "#fdca26"
             ],
             [
              1,
              "#f0f921"
             ]
            ],
            "type": "heatmap"
           }
          ],
          "histogram": [
           {
            "marker": {
             "pattern": {
              "fillmode": "overlay",
              "size": 10,
              "solidity": 0.2
             }
            },
            "type": "histogram"
           }
          ],
          "histogram2d": [
           {
            "colorbar": {
             "outlinewidth": 0,
             "ticks": ""
            },
            "colorscale": [
             [
              0,
              "#0d0887"
             ],
             [
              0.1111111111111111,
              "#46039f"
             ],
             [
              0.2222222222222222,
              "#7201a8"
             ],
             [
              0.3333333333333333,
              "#9c179e"
             ],
             [
              0.4444444444444444,
              "#bd3786"
             ],
             [
              0.5555555555555556,
              "#d8576b"
             ],
             [
              0.6666666666666666,
              "#ed7953"
             ],
             [
              0.7777777777777778,
              "#fb9f3a"
             ],
             [
              0.8888888888888888,
              "#fdca26"
             ],
             [
              1,
              "#f0f921"
             ]
            ],
            "type": "histogram2d"
           }
          ],
          "histogram2dcontour": [
           {
            "colorbar": {
             "outlinewidth": 0,
             "ticks": ""
            },
            "colorscale": [
             [
              0,
              "#0d0887"
             ],
             [
              0.1111111111111111,
              "#46039f"
             ],
             [
              0.2222222222222222,
              "#7201a8"
             ],
             [
              0.3333333333333333,
              "#9c179e"
             ],
             [
              0.4444444444444444,
              "#bd3786"
             ],
             [
              0.5555555555555556,
              "#d8576b"
             ],
             [
              0.6666666666666666,
              "#ed7953"
             ],
             [
              0.7777777777777778,
              "#fb9f3a"
             ],
             [
              0.8888888888888888,
              "#fdca26"
             ],
             [
              1,
              "#f0f921"
             ]
            ],
            "type": "histogram2dcontour"
           }
          ],
          "mesh3d": [
           {
            "colorbar": {
             "outlinewidth": 0,
             "ticks": ""
            },
            "type": "mesh3d"
           }
          ],
          "parcoords": [
           {
            "line": {
             "colorbar": {
              "outlinewidth": 0,
              "ticks": ""
             }
            },
            "type": "parcoords"
           }
          ],
          "pie": [
           {
            "automargin": true,
            "type": "pie"
           }
          ],
          "scatter": [
           {
            "fillpattern": {
             "fillmode": "overlay",
             "size": 10,
             "solidity": 0.2
            },
            "type": "scatter"
           }
          ],
          "scatter3d": [
           {
            "line": {
             "colorbar": {
              "outlinewidth": 0,
              "ticks": ""
             }
            },
            "marker": {
             "colorbar": {
              "outlinewidth": 0,
              "ticks": ""
             }
            },
            "type": "scatter3d"
           }
          ],
          "scattercarpet": [
           {
            "marker": {
             "colorbar": {
              "outlinewidth": 0,
              "ticks": ""
             }
            },
            "type": "scattercarpet"
           }
          ],
          "scattergeo": [
           {
            "marker": {
             "colorbar": {
              "outlinewidth": 0,
              "ticks": ""
             }
            },
            "type": "scattergeo"
           }
          ],
          "scattergl": [
           {
            "marker": {
             "colorbar": {
              "outlinewidth": 0,
              "ticks": ""
             }
            },
            "type": "scattergl"
           }
          ],
          "scattermap": [
           {
            "marker": {
             "colorbar": {
              "outlinewidth": 0,
              "ticks": ""
             }
            },
            "type": "scattermap"
           }
          ],
          "scattermapbox": [
           {
            "marker": {
             "colorbar": {
              "outlinewidth": 0,
              "ticks": ""
             }
            },
            "type": "scattermapbox"
           }
          ],
          "scatterpolar": [
           {
            "marker": {
             "colorbar": {
              "outlinewidth": 0,
              "ticks": ""
             }
            },
            "type": "scatterpolar"
           }
          ],
          "scatterpolargl": [
           {
            "marker": {
             "colorbar": {
              "outlinewidth": 0,
              "ticks": ""
             }
            },
            "type": "scatterpolargl"
           }
          ],
          "scatterternary": [
           {
            "marker": {
             "colorbar": {
              "outlinewidth": 0,
              "ticks": ""
             }
            },
            "type": "scatterternary"
           }
          ],
          "surface": [
           {
            "colorbar": {
             "outlinewidth": 0,
             "ticks": ""
            },
            "colorscale": [
             [
              0,
              "#0d0887"
             ],
             [
              0.1111111111111111,
              "#46039f"
             ],
             [
              0.2222222222222222,
              "#7201a8"
             ],
             [
              0.3333333333333333,
              "#9c179e"
             ],
             [
              0.4444444444444444,
              "#bd3786"
             ],
             [
              0.5555555555555556,
              "#d8576b"
             ],
             [
              0.6666666666666666,
              "#ed7953"
             ],
             [
              0.7777777777777778,
              "#fb9f3a"
             ],
             [
              0.8888888888888888,
              "#fdca26"
             ],
             [
              1,
              "#f0f921"
             ]
            ],
            "type": "surface"
           }
          ],
          "table": [
           {
            "cells": {
             "fill": {
              "color": "#EBF0F8"
             },
             "line": {
              "color": "white"
             }
            },
            "header": {
             "fill": {
              "color": "#C8D4E3"
             },
             "line": {
              "color": "white"
             }
            },
            "type": "table"
           }
          ]
         },
         "layout": {
          "annotationdefaults": {
           "arrowcolor": "#2a3f5f",
           "arrowhead": 0,
           "arrowwidth": 1
          },
          "autotypenumbers": "strict",
          "coloraxis": {
           "colorbar": {
            "outlinewidth": 0,
            "ticks": ""
           }
          },
          "colorscale": {
           "diverging": [
            [
             0,
             "#8e0152"
            ],
            [
             0.1,
             "#c51b7d"
            ],
            [
             0.2,
             "#de77ae"
            ],
            [
             0.3,
             "#f1b6da"
            ],
            [
             0.4,
             "#fde0ef"
            ],
            [
             0.5,
             "#f7f7f7"
            ],
            [
             0.6,
             "#e6f5d0"
            ],
            [
             0.7,
             "#b8e186"
            ],
            [
             0.8,
             "#7fbc41"
            ],
            [
             0.9,
             "#4d9221"
            ],
            [
             1,
             "#276419"
            ]
           ],
           "sequential": [
            [
             0,
             "#0d0887"
            ],
            [
             0.1111111111111111,
             "#46039f"
            ],
            [
             0.2222222222222222,
             "#7201a8"
            ],
            [
             0.3333333333333333,
             "#9c179e"
            ],
            [
             0.4444444444444444,
             "#bd3786"
            ],
            [
             0.5555555555555556,
             "#d8576b"
            ],
            [
             0.6666666666666666,
             "#ed7953"
            ],
            [
             0.7777777777777778,
             "#fb9f3a"
            ],
            [
             0.8888888888888888,
             "#fdca26"
            ],
            [
             1,
             "#f0f921"
            ]
           ],
           "sequentialminus": [
            [
             0,
             "#0d0887"
            ],
            [
             0.1111111111111111,
             "#46039f"
            ],
            [
             0.2222222222222222,
             "#7201a8"
            ],
            [
             0.3333333333333333,
             "#9c179e"
            ],
            [
             0.4444444444444444,
             "#bd3786"
            ],
            [
             0.5555555555555556,
             "#d8576b"
            ],
            [
             0.6666666666666666,
             "#ed7953"
            ],
            [
             0.7777777777777778,
             "#fb9f3a"
            ],
            [
             0.8888888888888888,
             "#fdca26"
            ],
            [
             1,
             "#f0f921"
            ]
           ]
          },
          "colorway": [
           "#636efa",
           "#EF553B",
           "#00cc96",
           "#ab63fa",
           "#FFA15A",
           "#19d3f3",
           "#FF6692",
           "#B6E880",
           "#FF97FF",
           "#FECB52"
          ],
          "font": {
           "color": "#2a3f5f"
          },
          "geo": {
           "bgcolor": "white",
           "lakecolor": "white",
           "landcolor": "#E5ECF6",
           "showlakes": true,
           "showland": true,
           "subunitcolor": "white"
          },
          "hoverlabel": {
           "align": "left"
          },
          "hovermode": "closest",
          "mapbox": {
           "style": "light"
          },
          "paper_bgcolor": "white",
          "plot_bgcolor": "#E5ECF6",
          "polar": {
           "angularaxis": {
            "gridcolor": "white",
            "linecolor": "white",
            "ticks": ""
           },
           "bgcolor": "#E5ECF6",
           "radialaxis": {
            "gridcolor": "white",
            "linecolor": "white",
            "ticks": ""
           }
          },
          "scene": {
           "xaxis": {
            "backgroundcolor": "#E5ECF6",
            "gridcolor": "white",
            "gridwidth": 2,
            "linecolor": "white",
            "showbackground": true,
            "ticks": "",
            "zerolinecolor": "white"
           },
           "yaxis": {
            "backgroundcolor": "#E5ECF6",
            "gridcolor": "white",
            "gridwidth": 2,
            "linecolor": "white",
            "showbackground": true,
            "ticks": "",
            "zerolinecolor": "white"
           },
           "zaxis": {
            "backgroundcolor": "#E5ECF6",
            "gridcolor": "white",
            "gridwidth": 2,
            "linecolor": "white",
            "showbackground": true,
            "ticks": "",
            "zerolinecolor": "white"
           }
          },
          "shapedefaults": {
           "line": {
            "color": "#2a3f5f"
           }
          },
          "ternary": {
           "aaxis": {
            "gridcolor": "white",
            "linecolor": "white",
            "ticks": ""
           },
           "baxis": {
            "gridcolor": "white",
            "linecolor": "white",
            "ticks": ""
           },
           "bgcolor": "#E5ECF6",
           "caxis": {
            "gridcolor": "white",
            "linecolor": "white",
            "ticks": ""
           }
          },
          "title": {
           "x": 0.05
          },
          "xaxis": {
           "automargin": true,
           "gridcolor": "white",
           "linecolor": "white",
           "ticks": "",
           "title": {
            "standoff": 15
           },
           "zerolinecolor": "white",
           "zerolinewidth": 2
          },
          "yaxis": {
           "automargin": true,
           "gridcolor": "white",
           "linecolor": "white",
           "ticks": "",
           "title": {
            "standoff": 15
           },
           "zerolinecolor": "white",
           "zerolinewidth": 2
          }
         }
        },
        "title": {
         "text": "[소매] 2024.3Q 기존 STAGE별 전이 (2024.3Q 잔액비중, 2025.2Q 현재)"
        },
        "width": 1200
       }
      }
     },
     "metadata": {},
     "output_type": "display_data"
    },
    {
     "name": "stderr",
     "output_type": "stream",
     "text": [
      "C:\\Users\\CL657UD\\AppData\\Local\\Temp\\ipykernel_8556\\1181259455.py:40: DeprecationWarning:\n",
      "\n",
      "\n",
      "Support for the 'engine' argument is deprecated and will be removed after September 2025.\n",
      "Kaleido will be the only supported engine at that time.\n",
      "\n",
      "\n"
     ]
    }
   ],
   "source": [
    "# 소매\n",
    "dic_cat_src = {}\n",
    "i = 0\n",
    "for x in stmap_rtl['24Q3_STAGE'].unique().tolist():\n",
    "    dic_cat_src[x] = i\n",
    "    i += 1\n",
    "\n",
    "dic_cat_tgt = {}\n",
    "i = len(dic_cat_src)\n",
    "for x in stmap_rtl['25Q2_STAGE'].unique().tolist():\n",
    "    dic_cat_tgt[x] = i\n",
    "    i += 1\n",
    "\n",
    "stmap_rtl['source'] = stmap_rtl['24Q3_STAGE'].map(dic_cat_src)\n",
    "stmap_rtl['target'] = stmap_rtl['25Q2_STAGE'].map(dic_cat_tgt)\n",
    "\n",
    "# Colors of nodes and links\n",
    "source_uniq = stmap_rtl['source_label'].unique().tolist()\n",
    "target_uniq = stmap_rtl['target_label'].unique().tolist()\n",
    "color_map = stmap_rtl.groupby('24Q3_STAGE')['c_color'].unique().apply(lambda x: x[0]).reset_index()\n",
    "color_map['source_label'] = stmap_rtl.groupby('24Q3_STAGE')['source_label'].unique().apply(lambda x: x[0]).tolist()\n",
    "color_node = [color_map.loc[color_map['source_label']==x,'c_color'].tolist()[0] for x in source_uniq]+[color_map.loc[color_map['24Q3_STAGE']==x.replace('(현재)',''),'c_color'].tolist()[0] for x in target_uniq]\n",
    "color_link = stmap_rtl['c_color'].tolist()\n",
    "\n",
    "# Set sankey arguments\n",
    "label = stmap_rtl['source_label'].unique().tolist()+stmap_rtl['target_label'].unique().tolist()\n",
    "source = stmap_rtl['source'].tolist()\n",
    "target = stmap_rtl['target'].tolist()\n",
    "values = (stmap_rtl['STAGE별비중']*100).tolist()\n",
    "\n",
    "link = dict(source=source, target=target, value=values, color=color_link)\n",
    "node = dict(label=label, pad=0, thickness=20, color=color_node)\n",
    "data = go.Sankey(link=link, node=node, valueformat='.2f', valuesuffix='%', arrangement='snap')\n",
    "\n",
    "# Draw sankey plot\n",
    "fig = go.Figure(data)\n",
    "fig.update_layout(title_text=\"[소매] 2024.3Q 기존 STAGE별 전이 (2024.3Q 잔액비중, 2025.2Q 현재)\", margin=dict(b=10, t=40, pad=0), autosize=False, width=1200, height=800)\n",
    "fig.show()\n",
    "fig.write_html(rf'부산은행 DA\\Result\\{ver}\\소매_Stage_기존_전이_비중.html')\n",
    "fig.write_image(rf'부산은행 DA\\Result\\{ver}\\소매_Stage_기존_전이_비중.png', engine='kaleido')\n",
    "\n",
    "# link = dict(source=source, target=target, value=values_bl, color=color_link)\n",
    "# node = dict(label=label, pad=0, thickness=20)\n",
    "# data = go.Sankey(link=link, node=node, valueformat=',.0f', valuesuffix='십억원', arrangement='snap')\n",
    "\n",
    "# fig = go.Figure(data)\n",
    "# fig.update_layout(title_text=\"[소매] 2024.3Q 기존 STAGE별 전이 (2024.3Q 대출잔액, 2025.2Q 현재)\", margin=dict(b=10, t=40, pad=0), autosize=False, width=1200, height=800)\n",
    "# fig.show()\n",
    "# fig.write_html(r'부산은행 DA\\Result\\Power BI\\소매_Stage_기존_전이_잔액.html')\n",
    "# fig.write_image(r'부산은행 DA\\Result\\Power BI\\소매_Stage_기존_전이_잔액.png', engine='kaleido')"
   ]
  },
  {
   "cell_type": "markdown",
   "id": "e050b195",
   "metadata": {},
   "source": [
    "#### Stage (1.5 applied) Migration"
   ]
  },
  {
   "cell_type": "markdown",
   "id": "04d8f4e5",
   "metadata": {},
   "source": [
    "##### 비소매"
   ]
  },
  {
   "cell_type": "code",
   "execution_count": 36,
   "id": "e0edd27f",
   "metadata": {},
   "outputs": [
    {
     "data": {
      "application/vnd.plotly.v1+json": {
       "config": {
        "plotlyServerURL": "https://plot.ly"
       },
       "data": [
        {
         "arrangement": "snap",
         "link": {
          "color": [
           "rgba(0.12156862745098039,0.4666666666666667,0.7058823529411765,.5)",
           "rgba(0.12156862745098039,0.4666666666666667,0.7058823529411765,.5)",
           "rgba(0.12156862745098039,0.4666666666666667,0.7058823529411765,.5)",
           "rgba(0.8392156862745098,0.15294117647058825,0.1568627450980392,.5)",
           "rgba(0.8392156862745098,0.15294117647058825,0.1568627450980392,.5)",
           "rgba(0.8392156862745098,0.15294117647058825,0.1568627450980392,.5)",
           "rgba(0.9686274509803922,0.7137254901960784,0.8235294117647058,.5)",
           "rgba(0.9686274509803922,0.7137254901960784,0.8235294117647058,.5)",
           "rgba(0.9686274509803922,0.7137254901960784,0.8235294117647058,.5)",
           "rgba(0.6196078431372549,0.8549019607843137,0.8980392156862745,.5)",
           "rgba(0.6196078431372549,0.8549019607843137,0.8980392156862745,.5)",
           "rgba(0.6196078431372549,0.8549019607843137,0.8980392156862745,.5)"
          ],
          "source": [
           0,
           0,
           0,
           1,
           1,
           1,
           2,
           2,
           2,
           3,
           3,
           3
          ],
          "target": [
           4,
           5,
           6,
           4,
           5,
           6,
           4,
           5,
           6,
           4,
           5,
           6
          ],
          "value": [
           93.62455465629486,
           6.235056690063224,
           0.14038865364191935,
           83.42697317109314,
           16.186210257086536,
           0.3868165718203176,
           14.093160169776548,
           85.19483259827246,
           0.7120072319509874,
           15.319660974996827,
           2.713150642689033,
           81.96718838231412
          ]
         },
         "node": {
          "color": [
           "rgba(0.12156862745098039,0.4666666666666667,0.7058823529411765,.5)",
           "rgba(0.8392156862745098,0.15294117647058825,0.1568627450980392,.5)",
           "rgba(0.9686274509803922,0.7137254901960784,0.8235294117647058,.5)",
           "rgba(0.6196078431372549,0.8549019607843137,0.8980392156862745,.5)",
           "rgba(0.12156862745098039,0.4666666666666667,0.7058823529411765,.5)",
           "rgba(0.9686274509803922,0.7137254901960784,0.8235294117647058,.5)",
           "rgba(0.6196078431372549,0.8549019607843137,0.8980392156862745,.5)"
          ],
          "label": [
           "Stage 1(최초)",
           "Stage 1.5(최초)",
           "Stage 2(최초)",
           "Stage 3(최초)",
           "Stage 1(현재)",
           "Stage 2(현재)",
           "Stage 3(현재)"
          ],
          "pad": 0,
          "thickness": 20
         },
         "type": "sankey",
         "valueformat": ".2f",
         "valuesuffix": "%"
        }
       ],
       "layout": {
        "autosize": false,
        "height": 800,
        "margin": {
         "b": 10,
         "pad": 0,
         "t": 40
        },
        "template": {
         "data": {
          "bar": [
           {
            "error_x": {
             "color": "#2a3f5f"
            },
            "error_y": {
             "color": "#2a3f5f"
            },
            "marker": {
             "line": {
              "color": "#E5ECF6",
              "width": 0.5
             },
             "pattern": {
              "fillmode": "overlay",
              "size": 10,
              "solidity": 0.2
             }
            },
            "type": "bar"
           }
          ],
          "barpolar": [
           {
            "marker": {
             "line": {
              "color": "#E5ECF6",
              "width": 0.5
             },
             "pattern": {
              "fillmode": "overlay",
              "size": 10,
              "solidity": 0.2
             }
            },
            "type": "barpolar"
           }
          ],
          "carpet": [
           {
            "aaxis": {
             "endlinecolor": "#2a3f5f",
             "gridcolor": "white",
             "linecolor": "white",
             "minorgridcolor": "white",
             "startlinecolor": "#2a3f5f"
            },
            "baxis": {
             "endlinecolor": "#2a3f5f",
             "gridcolor": "white",
             "linecolor": "white",
             "minorgridcolor": "white",
             "startlinecolor": "#2a3f5f"
            },
            "type": "carpet"
           }
          ],
          "choropleth": [
           {
            "colorbar": {
             "outlinewidth": 0,
             "ticks": ""
            },
            "type": "choropleth"
           }
          ],
          "contour": [
           {
            "colorbar": {
             "outlinewidth": 0,
             "ticks": ""
            },
            "colorscale": [
             [
              0,
              "#0d0887"
             ],
             [
              0.1111111111111111,
              "#46039f"
             ],
             [
              0.2222222222222222,
              "#7201a8"
             ],
             [
              0.3333333333333333,
              "#9c179e"
             ],
             [
              0.4444444444444444,
              "#bd3786"
             ],
             [
              0.5555555555555556,
              "#d8576b"
             ],
             [
              0.6666666666666666,
              "#ed7953"
             ],
             [
              0.7777777777777778,
              "#fb9f3a"
             ],
             [
              0.8888888888888888,
              "#fdca26"
             ],
             [
              1,
              "#f0f921"
             ]
            ],
            "type": "contour"
           }
          ],
          "contourcarpet": [
           {
            "colorbar": {
             "outlinewidth": 0,
             "ticks": ""
            },
            "type": "contourcarpet"
           }
          ],
          "heatmap": [
           {
            "colorbar": {
             "outlinewidth": 0,
             "ticks": ""
            },
            "colorscale": [
             [
              0,
              "#0d0887"
             ],
             [
              0.1111111111111111,
              "#46039f"
             ],
             [
              0.2222222222222222,
              "#7201a8"
             ],
             [
              0.3333333333333333,
              "#9c179e"
             ],
             [
              0.4444444444444444,
              "#bd3786"
             ],
             [
              0.5555555555555556,
              "#d8576b"
             ],
             [
              0.6666666666666666,
              "#ed7953"
             ],
             [
              0.7777777777777778,
              "#fb9f3a"
             ],
             [
              0.8888888888888888,
              "#fdca26"
             ],
             [
              1,
              "#f0f921"
             ]
            ],
            "type": "heatmap"
           }
          ],
          "histogram": [
           {
            "marker": {
             "pattern": {
              "fillmode": "overlay",
              "size": 10,
              "solidity": 0.2
             }
            },
            "type": "histogram"
           }
          ],
          "histogram2d": [
           {
            "colorbar": {
             "outlinewidth": 0,
             "ticks": ""
            },
            "colorscale": [
             [
              0,
              "#0d0887"
             ],
             [
              0.1111111111111111,
              "#46039f"
             ],
             [
              0.2222222222222222,
              "#7201a8"
             ],
             [
              0.3333333333333333,
              "#9c179e"
             ],
             [
              0.4444444444444444,
              "#bd3786"
             ],
             [
              0.5555555555555556,
              "#d8576b"
             ],
             [
              0.6666666666666666,
              "#ed7953"
             ],
             [
              0.7777777777777778,
              "#fb9f3a"
             ],
             [
              0.8888888888888888,
              "#fdca26"
             ],
             [
              1,
              "#f0f921"
             ]
            ],
            "type": "histogram2d"
           }
          ],
          "histogram2dcontour": [
           {
            "colorbar": {
             "outlinewidth": 0,
             "ticks": ""
            },
            "colorscale": [
             [
              0,
              "#0d0887"
             ],
             [
              0.1111111111111111,
              "#46039f"
             ],
             [
              0.2222222222222222,
              "#7201a8"
             ],
             [
              0.3333333333333333,
              "#9c179e"
             ],
             [
              0.4444444444444444,
              "#bd3786"
             ],
             [
              0.5555555555555556,
              "#d8576b"
             ],
             [
              0.6666666666666666,
              "#ed7953"
             ],
             [
              0.7777777777777778,
              "#fb9f3a"
             ],
             [
              0.8888888888888888,
              "#fdca26"
             ],
             [
              1,
              "#f0f921"
             ]
            ],
            "type": "histogram2dcontour"
           }
          ],
          "mesh3d": [
           {
            "colorbar": {
             "outlinewidth": 0,
             "ticks": ""
            },
            "type": "mesh3d"
           }
          ],
          "parcoords": [
           {
            "line": {
             "colorbar": {
              "outlinewidth": 0,
              "ticks": ""
             }
            },
            "type": "parcoords"
           }
          ],
          "pie": [
           {
            "automargin": true,
            "type": "pie"
           }
          ],
          "scatter": [
           {
            "fillpattern": {
             "fillmode": "overlay",
             "size": 10,
             "solidity": 0.2
            },
            "type": "scatter"
           }
          ],
          "scatter3d": [
           {
            "line": {
             "colorbar": {
              "outlinewidth": 0,
              "ticks": ""
             }
            },
            "marker": {
             "colorbar": {
              "outlinewidth": 0,
              "ticks": ""
             }
            },
            "type": "scatter3d"
           }
          ],
          "scattercarpet": [
           {
            "marker": {
             "colorbar": {
              "outlinewidth": 0,
              "ticks": ""
             }
            },
            "type": "scattercarpet"
           }
          ],
          "scattergeo": [
           {
            "marker": {
             "colorbar": {
              "outlinewidth": 0,
              "ticks": ""
             }
            },
            "type": "scattergeo"
           }
          ],
          "scattergl": [
           {
            "marker": {
             "colorbar": {
              "outlinewidth": 0,
              "ticks": ""
             }
            },
            "type": "scattergl"
           }
          ],
          "scattermap": [
           {
            "marker": {
             "colorbar": {
              "outlinewidth": 0,
              "ticks": ""
             }
            },
            "type": "scattermap"
           }
          ],
          "scattermapbox": [
           {
            "marker": {
             "colorbar": {
              "outlinewidth": 0,
              "ticks": ""
             }
            },
            "type": "scattermapbox"
           }
          ],
          "scatterpolar": [
           {
            "marker": {
             "colorbar": {
              "outlinewidth": 0,
              "ticks": ""
             }
            },
            "type": "scatterpolar"
           }
          ],
          "scatterpolargl": [
           {
            "marker": {
             "colorbar": {
              "outlinewidth": 0,
              "ticks": ""
             }
            },
            "type": "scatterpolargl"
           }
          ],
          "scatterternary": [
           {
            "marker": {
             "colorbar": {
              "outlinewidth": 0,
              "ticks": ""
             }
            },
            "type": "scatterternary"
           }
          ],
          "surface": [
           {
            "colorbar": {
             "outlinewidth": 0,
             "ticks": ""
            },
            "colorscale": [
             [
              0,
              "#0d0887"
             ],
             [
              0.1111111111111111,
              "#46039f"
             ],
             [
              0.2222222222222222,
              "#7201a8"
             ],
             [
              0.3333333333333333,
              "#9c179e"
             ],
             [
              0.4444444444444444,
              "#bd3786"
             ],
             [
              0.5555555555555556,
              "#d8576b"
             ],
             [
              0.6666666666666666,
              "#ed7953"
             ],
             [
              0.7777777777777778,
              "#fb9f3a"
             ],
             [
              0.8888888888888888,
              "#fdca26"
             ],
             [
              1,
              "#f0f921"
             ]
            ],
            "type": "surface"
           }
          ],
          "table": [
           {
            "cells": {
             "fill": {
              "color": "#EBF0F8"
             },
             "line": {
              "color": "white"
             }
            },
            "header": {
             "fill": {
              "color": "#C8D4E3"
             },
             "line": {
              "color": "white"
             }
            },
            "type": "table"
           }
          ]
         },
         "layout": {
          "annotationdefaults": {
           "arrowcolor": "#2a3f5f",
           "arrowhead": 0,
           "arrowwidth": 1
          },
          "autotypenumbers": "strict",
          "coloraxis": {
           "colorbar": {
            "outlinewidth": 0,
            "ticks": ""
           }
          },
          "colorscale": {
           "diverging": [
            [
             0,
             "#8e0152"
            ],
            [
             0.1,
             "#c51b7d"
            ],
            [
             0.2,
             "#de77ae"
            ],
            [
             0.3,
             "#f1b6da"
            ],
            [
             0.4,
             "#fde0ef"
            ],
            [
             0.5,
             "#f7f7f7"
            ],
            [
             0.6,
             "#e6f5d0"
            ],
            [
             0.7,
             "#b8e186"
            ],
            [
             0.8,
             "#7fbc41"
            ],
            [
             0.9,
             "#4d9221"
            ],
            [
             1,
             "#276419"
            ]
           ],
           "sequential": [
            [
             0,
             "#0d0887"
            ],
            [
             0.1111111111111111,
             "#46039f"
            ],
            [
             0.2222222222222222,
             "#7201a8"
            ],
            [
             0.3333333333333333,
             "#9c179e"
            ],
            [
             0.4444444444444444,
             "#bd3786"
            ],
            [
             0.5555555555555556,
             "#d8576b"
            ],
            [
             0.6666666666666666,
             "#ed7953"
            ],
            [
             0.7777777777777778,
             "#fb9f3a"
            ],
            [
             0.8888888888888888,
             "#fdca26"
            ],
            [
             1,
             "#f0f921"
            ]
           ],
           "sequentialminus": [
            [
             0,
             "#0d0887"
            ],
            [
             0.1111111111111111,
             "#46039f"
            ],
            [
             0.2222222222222222,
             "#7201a8"
            ],
            [
             0.3333333333333333,
             "#9c179e"
            ],
            [
             0.4444444444444444,
             "#bd3786"
            ],
            [
             0.5555555555555556,
             "#d8576b"
            ],
            [
             0.6666666666666666,
             "#ed7953"
            ],
            [
             0.7777777777777778,
             "#fb9f3a"
            ],
            [
             0.8888888888888888,
             "#fdca26"
            ],
            [
             1,
             "#f0f921"
            ]
           ]
          },
          "colorway": [
           "#636efa",
           "#EF553B",
           "#00cc96",
           "#ab63fa",
           "#FFA15A",
           "#19d3f3",
           "#FF6692",
           "#B6E880",
           "#FF97FF",
           "#FECB52"
          ],
          "font": {
           "color": "#2a3f5f"
          },
          "geo": {
           "bgcolor": "white",
           "lakecolor": "white",
           "landcolor": "#E5ECF6",
           "showlakes": true,
           "showland": true,
           "subunitcolor": "white"
          },
          "hoverlabel": {
           "align": "left"
          },
          "hovermode": "closest",
          "mapbox": {
           "style": "light"
          },
          "paper_bgcolor": "white",
          "plot_bgcolor": "#E5ECF6",
          "polar": {
           "angularaxis": {
            "gridcolor": "white",
            "linecolor": "white",
            "ticks": ""
           },
           "bgcolor": "#E5ECF6",
           "radialaxis": {
            "gridcolor": "white",
            "linecolor": "white",
            "ticks": ""
           }
          },
          "scene": {
           "xaxis": {
            "backgroundcolor": "#E5ECF6",
            "gridcolor": "white",
            "gridwidth": 2,
            "linecolor": "white",
            "showbackground": true,
            "ticks": "",
            "zerolinecolor": "white"
           },
           "yaxis": {
            "backgroundcolor": "#E5ECF6",
            "gridcolor": "white",
            "gridwidth": 2,
            "linecolor": "white",
            "showbackground": true,
            "ticks": "",
            "zerolinecolor": "white"
           },
           "zaxis": {
            "backgroundcolor": "#E5ECF6",
            "gridcolor": "white",
            "gridwidth": 2,
            "linecolor": "white",
            "showbackground": true,
            "ticks": "",
            "zerolinecolor": "white"
           }
          },
          "shapedefaults": {
           "line": {
            "color": "#2a3f5f"
           }
          },
          "ternary": {
           "aaxis": {
            "gridcolor": "white",
            "linecolor": "white",
            "ticks": ""
           },
           "baxis": {
            "gridcolor": "white",
            "linecolor": "white",
            "ticks": ""
           },
           "bgcolor": "#E5ECF6",
           "caxis": {
            "gridcolor": "white",
            "linecolor": "white",
            "ticks": ""
           }
          },
          "title": {
           "x": 0.05
          },
          "xaxis": {
           "automargin": true,
           "gridcolor": "white",
           "linecolor": "white",
           "ticks": "",
           "title": {
            "standoff": 15
           },
           "zerolinecolor": "white",
           "zerolinewidth": 2
          },
          "yaxis": {
           "automargin": true,
           "gridcolor": "white",
           "linecolor": "white",
           "ticks": "",
           "title": {
            "standoff": 15
           },
           "zerolinecolor": "white",
           "zerolinewidth": 2
          }
         }
        },
        "title": {
         "text": "[비소매] 2024.3Q 1.5 적용 STAGE별 전이 (2024.3Q 잔액 비중, 2025.2Q 현재)"
        },
        "width": 1200
       }
      }
     },
     "metadata": {},
     "output_type": "display_data"
    },
    {
     "name": "stderr",
     "output_type": "stream",
     "text": [
      "C:\\Users\\CL657UD\\AppData\\Local\\Temp\\ipykernel_8556\\3362543052.py:38: DeprecationWarning:\n",
      "\n",
      "\n",
      "Support for the 'engine' argument is deprecated and will be removed after September 2025.\n",
      "Kaleido will be the only supported engine at that time.\n",
      "\n",
      "\n"
     ]
    }
   ],
   "source": [
    "# 비소매\n",
    "dic_cat_src = {}\n",
    "i = 0\n",
    "for x in st15map_nrtl['24Q3_STAGE15'].unique().tolist():\n",
    "    dic_cat_src[x] = i\n",
    "    i += 1\n",
    "dic_cat_tgt = {}\n",
    "i = len(dic_cat_src)\n",
    "for x in st15map_nrtl['25Q2_STAGE'].unique().tolist():\n",
    "    dic_cat_tgt[x] = i\n",
    "    i += 1\n",
    "st15map_nrtl['source'] = st15map_nrtl['24Q3_STAGE15'].map(dic_cat_src)\n",
    "st15map_nrtl['target'] = st15map_nrtl['25Q2_STAGE'].map(dic_cat_tgt)\n",
    "\n",
    "# Colors of nodes and links\n",
    "source_uniq = st15map_nrtl['source_label'].unique().tolist()\n",
    "target_uniq = st15map_nrtl['target_label'].unique().tolist()\n",
    "color_map = st15map_nrtl.groupby('24Q3_STAGE15')['c_color'].unique().apply(lambda x: x[0]).reset_index()\n",
    "color_map['source_label'] = st15map_nrtl.groupby('24Q3_STAGE15')['source_label'].unique().apply(lambda x: x[0]).tolist()\n",
    "color_node = [color_map.loc[color_map['source_label']==x,'c_color'].tolist()[0] for x in source_uniq]+[color_map.loc[color_map['24Q3_STAGE15']==x.replace('(현재)',''),'c_color'].tolist()[0] for x in target_uniq]\n",
    "color_link = st15map_nrtl['c_color'].tolist()\n",
    "\n",
    "# Set sankey arguments\n",
    "label = st15map_nrtl['source_label'].unique().tolist()+st15map_nrtl['target_label'].unique().tolist()\n",
    "source = st15map_nrtl['source'].tolist()\n",
    "target = st15map_nrtl['target'].tolist()\n",
    "values = (st15map_nrtl['STAGE별비중']*100).tolist()\n",
    "\n",
    "link = dict(source=source, target=target, value=values, color=color_link)\n",
    "node = dict(label=label, pad=0, thickness=20, color=color_node)\n",
    "data = go.Sankey(link=link, node=node, valueformat='.2f', valuesuffix='%', arrangement='snap')\n",
    "\n",
    "# Draw sankey plot\n",
    "fig = go.Figure(data)\n",
    "fig.update_layout(title_text=\"[비소매] 2024.3Q 1.5 적용 STAGE별 전이 (2024.3Q 잔액 비중, 2025.2Q 현재)\", margin=dict(b=10, t=40, pad=0), autosize=False, width=1200, height=800)\n",
    "fig.show()\n",
    "fig.write_html(rf'부산은행 DA\\Result\\{ver}\\비소매_Stage1.5_전이_비중.html')\n",
    "fig.write_image(rf'부산은행 DA\\Result\\{ver}\\비소매_Stage1.5_전이_비중.png', engine='kaleido')\n",
    "\n",
    "# link = dict(source=source, target=target, value=values_bl, color=color_link)\n",
    "# node = dict(label=label, pad=0, thickness=20)\n",
    "# data = go.Sankey(link=link, node=node, valueformat=',.0f', valuesuffix='십억원', arrangement='snap')\n",
    "\n",
    "# fig = go.Figure(data)\n",
    "# fig.update_layout(title_text=\"[비소매] 2024.3Q 1.5 적용 STAGE별 전이 (2024.3Q 대출잔액, 2025.2Q 현재)\", margin=dict(b=10, t=40, pad=0), autosize=False, width=1200, height=800)\n",
    "# fig.show()\n",
    "# fig.write_html(r'부산은행 DA\\Result\\Power BI\\비소매_Stage1.5_전이_잔액.html')\n",
    "# fig.write_image(r'부산은행 DA\\Result\\Power BI\\비소매_Stage1.5_전이_잔액.png', engine='kaleido')"
   ]
  },
  {
   "cell_type": "markdown",
   "id": "c28f8330",
   "metadata": {},
   "source": [
    "##### 소매"
   ]
  },
  {
   "cell_type": "code",
   "execution_count": 37,
   "id": "8d0c40c7",
   "metadata": {},
   "outputs": [
    {
     "data": {
      "application/vnd.plotly.v1+json": {
       "config": {
        "plotlyServerURL": "https://plot.ly"
       },
       "data": [
        {
         "arrangement": "snap",
         "link": {
          "color": [
           "rgba(0.12156862745098039,0.4666666666666667,0.7058823529411765,.5)",
           "rgba(0.12156862745098039,0.4666666666666667,0.7058823529411765,.5)",
           "rgba(0.12156862745098039,0.4666666666666667,0.7058823529411765,.5)",
           "rgba(0.8392156862745098,0.15294117647058825,0.1568627450980392,.5)",
           "rgba(0.8392156862745098,0.15294117647058825,0.1568627450980392,.5)",
           "rgba(0.8392156862745098,0.15294117647058825,0.1568627450980392,.5)",
           "rgba(0.9686274509803922,0.7137254901960784,0.8235294117647058,.5)",
           "rgba(0.9686274509803922,0.7137254901960784,0.8235294117647058,.5)",
           "rgba(0.9686274509803922,0.7137254901960784,0.8235294117647058,.5)",
           "rgba(0.6196078431372549,0.8549019607843137,0.8980392156862745,.5)",
           "rgba(0.6196078431372549,0.8549019607843137,0.8980392156862745,.5)",
           "rgba(0.6196078431372549,0.8549019607843137,0.8980392156862745,.5)"
          ],
          "source": [
           0,
           0,
           0,
           1,
           1,
           1,
           2,
           2,
           2,
           3,
           3,
           3
          ],
          "target": [
           4,
           5,
           6,
           4,
           5,
           6,
           4,
           5,
           6,
           4,
           5,
           6
          ],
          "value": [
           96.51281024108873,
           3.2729685576988854,
           0.21422120121237484,
           84.22330504443633,
           14.269949574490514,
           1.5067453810731413,
           34.731426206804514,
           58.490802195218194,
           6.777771597977286,
           2.8798956504110444,
           4.170685125551087,
           92.94941922403787
          ]
         },
         "node": {
          "color": [
           "rgba(0.12156862745098039,0.4666666666666667,0.7058823529411765,.5)",
           "rgba(0.8392156862745098,0.15294117647058825,0.1568627450980392,.5)",
           "rgba(0.9686274509803922,0.7137254901960784,0.8235294117647058,.5)",
           "rgba(0.6196078431372549,0.8549019607843137,0.8980392156862745,.5)",
           "rgba(0.12156862745098039,0.4666666666666667,0.7058823529411765,.5)",
           "rgba(0.9686274509803922,0.7137254901960784,0.8235294117647058,.5)",
           "rgba(0.6196078431372549,0.8549019607843137,0.8980392156862745,.5)"
          ],
          "label": [
           "Stage 1(최초)",
           "Stage 1.5(최초)",
           "Stage 2(최초)",
           "Stage 3(최초)",
           "Stage 1(현재)",
           "Stage 2(현재)",
           "Stage 3(현재)"
          ],
          "pad": 0,
          "thickness": 20,
          "x": [
           0.001,
           0.001,
           0.001,
           0.001,
           0.999,
           0.999,
           0.999
          ]
         },
         "type": "sankey",
         "valueformat": ".2f",
         "valuesuffix": "%"
        }
       ],
       "layout": {
        "autosize": false,
        "height": 800,
        "margin": {
         "b": 10,
         "pad": 0,
         "t": 40
        },
        "template": {
         "data": {
          "bar": [
           {
            "error_x": {
             "color": "#2a3f5f"
            },
            "error_y": {
             "color": "#2a3f5f"
            },
            "marker": {
             "line": {
              "color": "#E5ECF6",
              "width": 0.5
             },
             "pattern": {
              "fillmode": "overlay",
              "size": 10,
              "solidity": 0.2
             }
            },
            "type": "bar"
           }
          ],
          "barpolar": [
           {
            "marker": {
             "line": {
              "color": "#E5ECF6",
              "width": 0.5
             },
             "pattern": {
              "fillmode": "overlay",
              "size": 10,
              "solidity": 0.2
             }
            },
            "type": "barpolar"
           }
          ],
          "carpet": [
           {
            "aaxis": {
             "endlinecolor": "#2a3f5f",
             "gridcolor": "white",
             "linecolor": "white",
             "minorgridcolor": "white",
             "startlinecolor": "#2a3f5f"
            },
            "baxis": {
             "endlinecolor": "#2a3f5f",
             "gridcolor": "white",
             "linecolor": "white",
             "minorgridcolor": "white",
             "startlinecolor": "#2a3f5f"
            },
            "type": "carpet"
           }
          ],
          "choropleth": [
           {
            "colorbar": {
             "outlinewidth": 0,
             "ticks": ""
            },
            "type": "choropleth"
           }
          ],
          "contour": [
           {
            "colorbar": {
             "outlinewidth": 0,
             "ticks": ""
            },
            "colorscale": [
             [
              0,
              "#0d0887"
             ],
             [
              0.1111111111111111,
              "#46039f"
             ],
             [
              0.2222222222222222,
              "#7201a8"
             ],
             [
              0.3333333333333333,
              "#9c179e"
             ],
             [
              0.4444444444444444,
              "#bd3786"
             ],
             [
              0.5555555555555556,
              "#d8576b"
             ],
             [
              0.6666666666666666,
              "#ed7953"
             ],
             [
              0.7777777777777778,
              "#fb9f3a"
             ],
             [
              0.8888888888888888,
              "#fdca26"
             ],
             [
              1,
              "#f0f921"
             ]
            ],
            "type": "contour"
           }
          ],
          "contourcarpet": [
           {
            "colorbar": {
             "outlinewidth": 0,
             "ticks": ""
            },
            "type": "contourcarpet"
           }
          ],
          "heatmap": [
           {
            "colorbar": {
             "outlinewidth": 0,
             "ticks": ""
            },
            "colorscale": [
             [
              0,
              "#0d0887"
             ],
             [
              0.1111111111111111,
              "#46039f"
             ],
             [
              0.2222222222222222,
              "#7201a8"
             ],
             [
              0.3333333333333333,
              "#9c179e"
             ],
             [
              0.4444444444444444,
              "#bd3786"
             ],
             [
              0.5555555555555556,
              "#d8576b"
             ],
             [
              0.6666666666666666,
              "#ed7953"
             ],
             [
              0.7777777777777778,
              "#fb9f3a"
             ],
             [
              0.8888888888888888,
              "#fdca26"
             ],
             [
              1,
              "#f0f921"
             ]
            ],
            "type": "heatmap"
           }
          ],
          "histogram": [
           {
            "marker": {
             "pattern": {
              "fillmode": "overlay",
              "size": 10,
              "solidity": 0.2
             }
            },
            "type": "histogram"
           }
          ],
          "histogram2d": [
           {
            "colorbar": {
             "outlinewidth": 0,
             "ticks": ""
            },
            "colorscale": [
             [
              0,
              "#0d0887"
             ],
             [
              0.1111111111111111,
              "#46039f"
             ],
             [
              0.2222222222222222,
              "#7201a8"
             ],
             [
              0.3333333333333333,
              "#9c179e"
             ],
             [
              0.4444444444444444,
              "#bd3786"
             ],
             [
              0.5555555555555556,
              "#d8576b"
             ],
             [
              0.6666666666666666,
              "#ed7953"
             ],
             [
              0.7777777777777778,
              "#fb9f3a"
             ],
             [
              0.8888888888888888,
              "#fdca26"
             ],
             [
              1,
              "#f0f921"
             ]
            ],
            "type": "histogram2d"
           }
          ],
          "histogram2dcontour": [
           {
            "colorbar": {
             "outlinewidth": 0,
             "ticks": ""
            },
            "colorscale": [
             [
              0,
              "#0d0887"
             ],
             [
              0.1111111111111111,
              "#46039f"
             ],
             [
              0.2222222222222222,
              "#7201a8"
             ],
             [
              0.3333333333333333,
              "#9c179e"
             ],
             [
              0.4444444444444444,
              "#bd3786"
             ],
             [
              0.5555555555555556,
              "#d8576b"
             ],
             [
              0.6666666666666666,
              "#ed7953"
             ],
             [
              0.7777777777777778,
              "#fb9f3a"
             ],
             [
              0.8888888888888888,
              "#fdca26"
             ],
             [
              1,
              "#f0f921"
             ]
            ],
            "type": "histogram2dcontour"
           }
          ],
          "mesh3d": [
           {
            "colorbar": {
             "outlinewidth": 0,
             "ticks": ""
            },
            "type": "mesh3d"
           }
          ],
          "parcoords": [
           {
            "line": {
             "colorbar": {
              "outlinewidth": 0,
              "ticks": ""
             }
            },
            "type": "parcoords"
           }
          ],
          "pie": [
           {
            "automargin": true,
            "type": "pie"
           }
          ],
          "scatter": [
           {
            "fillpattern": {
             "fillmode": "overlay",
             "size": 10,
             "solidity": 0.2
            },
            "type": "scatter"
           }
          ],
          "scatter3d": [
           {
            "line": {
             "colorbar": {
              "outlinewidth": 0,
              "ticks": ""
             }
            },
            "marker": {
             "colorbar": {
              "outlinewidth": 0,
              "ticks": ""
             }
            },
            "type": "scatter3d"
           }
          ],
          "scattercarpet": [
           {
            "marker": {
             "colorbar": {
              "outlinewidth": 0,
              "ticks": ""
             }
            },
            "type": "scattercarpet"
           }
          ],
          "scattergeo": [
           {
            "marker": {
             "colorbar": {
              "outlinewidth": 0,
              "ticks": ""
             }
            },
            "type": "scattergeo"
           }
          ],
          "scattergl": [
           {
            "marker": {
             "colorbar": {
              "outlinewidth": 0,
              "ticks": ""
             }
            },
            "type": "scattergl"
           }
          ],
          "scattermap": [
           {
            "marker": {
             "colorbar": {
              "outlinewidth": 0,
              "ticks": ""
             }
            },
            "type": "scattermap"
           }
          ],
          "scattermapbox": [
           {
            "marker": {
             "colorbar": {
              "outlinewidth": 0,
              "ticks": ""
             }
            },
            "type": "scattermapbox"
           }
          ],
          "scatterpolar": [
           {
            "marker": {
             "colorbar": {
              "outlinewidth": 0,
              "ticks": ""
             }
            },
            "type": "scatterpolar"
           }
          ],
          "scatterpolargl": [
           {
            "marker": {
             "colorbar": {
              "outlinewidth": 0,
              "ticks": ""
             }
            },
            "type": "scatterpolargl"
           }
          ],
          "scatterternary": [
           {
            "marker": {
             "colorbar": {
              "outlinewidth": 0,
              "ticks": ""
             }
            },
            "type": "scatterternary"
           }
          ],
          "surface": [
           {
            "colorbar": {
             "outlinewidth": 0,
             "ticks": ""
            },
            "colorscale": [
             [
              0,
              "#0d0887"
             ],
             [
              0.1111111111111111,
              "#46039f"
             ],
             [
              0.2222222222222222,
              "#7201a8"
             ],
             [
              0.3333333333333333,
              "#9c179e"
             ],
             [
              0.4444444444444444,
              "#bd3786"
             ],
             [
              0.5555555555555556,
              "#d8576b"
             ],
             [
              0.6666666666666666,
              "#ed7953"
             ],
             [
              0.7777777777777778,
              "#fb9f3a"
             ],
             [
              0.8888888888888888,
              "#fdca26"
             ],
             [
              1,
              "#f0f921"
             ]
            ],
            "type": "surface"
           }
          ],
          "table": [
           {
            "cells": {
             "fill": {
              "color": "#EBF0F8"
             },
             "line": {
              "color": "white"
             }
            },
            "header": {
             "fill": {
              "color": "#C8D4E3"
             },
             "line": {
              "color": "white"
             }
            },
            "type": "table"
           }
          ]
         },
         "layout": {
          "annotationdefaults": {
           "arrowcolor": "#2a3f5f",
           "arrowhead": 0,
           "arrowwidth": 1
          },
          "autotypenumbers": "strict",
          "coloraxis": {
           "colorbar": {
            "outlinewidth": 0,
            "ticks": ""
           }
          },
          "colorscale": {
           "diverging": [
            [
             0,
             "#8e0152"
            ],
            [
             0.1,
             "#c51b7d"
            ],
            [
             0.2,
             "#de77ae"
            ],
            [
             0.3,
             "#f1b6da"
            ],
            [
             0.4,
             "#fde0ef"
            ],
            [
             0.5,
             "#f7f7f7"
            ],
            [
             0.6,
             "#e6f5d0"
            ],
            [
             0.7,
             "#b8e186"
            ],
            [
             0.8,
             "#7fbc41"
            ],
            [
             0.9,
             "#4d9221"
            ],
            [
             1,
             "#276419"
            ]
           ],
           "sequential": [
            [
             0,
             "#0d0887"
            ],
            [
             0.1111111111111111,
             "#46039f"
            ],
            [
             0.2222222222222222,
             "#7201a8"
            ],
            [
             0.3333333333333333,
             "#9c179e"
            ],
            [
             0.4444444444444444,
             "#bd3786"
            ],
            [
             0.5555555555555556,
             "#d8576b"
            ],
            [
             0.6666666666666666,
             "#ed7953"
            ],
            [
             0.7777777777777778,
             "#fb9f3a"
            ],
            [
             0.8888888888888888,
             "#fdca26"
            ],
            [
             1,
             "#f0f921"
            ]
           ],
           "sequentialminus": [
            [
             0,
             "#0d0887"
            ],
            [
             0.1111111111111111,
             "#46039f"
            ],
            [
             0.2222222222222222,
             "#7201a8"
            ],
            [
             0.3333333333333333,
             "#9c179e"
            ],
            [
             0.4444444444444444,
             "#bd3786"
            ],
            [
             0.5555555555555556,
             "#d8576b"
            ],
            [
             0.6666666666666666,
             "#ed7953"
            ],
            [
             0.7777777777777778,
             "#fb9f3a"
            ],
            [
             0.8888888888888888,
             "#fdca26"
            ],
            [
             1,
             "#f0f921"
            ]
           ]
          },
          "colorway": [
           "#636efa",
           "#EF553B",
           "#00cc96",
           "#ab63fa",
           "#FFA15A",
           "#19d3f3",
           "#FF6692",
           "#B6E880",
           "#FF97FF",
           "#FECB52"
          ],
          "font": {
           "color": "#2a3f5f"
          },
          "geo": {
           "bgcolor": "white",
           "lakecolor": "white",
           "landcolor": "#E5ECF6",
           "showlakes": true,
           "showland": true,
           "subunitcolor": "white"
          },
          "hoverlabel": {
           "align": "left"
          },
          "hovermode": "closest",
          "mapbox": {
           "style": "light"
          },
          "paper_bgcolor": "white",
          "plot_bgcolor": "#E5ECF6",
          "polar": {
           "angularaxis": {
            "gridcolor": "white",
            "linecolor": "white",
            "ticks": ""
           },
           "bgcolor": "#E5ECF6",
           "radialaxis": {
            "gridcolor": "white",
            "linecolor": "white",
            "ticks": ""
           }
          },
          "scene": {
           "xaxis": {
            "backgroundcolor": "#E5ECF6",
            "gridcolor": "white",
            "gridwidth": 2,
            "linecolor": "white",
            "showbackground": true,
            "ticks": "",
            "zerolinecolor": "white"
           },
           "yaxis": {
            "backgroundcolor": "#E5ECF6",
            "gridcolor": "white",
            "gridwidth": 2,
            "linecolor": "white",
            "showbackground": true,
            "ticks": "",
            "zerolinecolor": "white"
           },
           "zaxis": {
            "backgroundcolor": "#E5ECF6",
            "gridcolor": "white",
            "gridwidth": 2,
            "linecolor": "white",
            "showbackground": true,
            "ticks": "",
            "zerolinecolor": "white"
           }
          },
          "shapedefaults": {
           "line": {
            "color": "#2a3f5f"
           }
          },
          "ternary": {
           "aaxis": {
            "gridcolor": "white",
            "linecolor": "white",
            "ticks": ""
           },
           "baxis": {
            "gridcolor": "white",
            "linecolor": "white",
            "ticks": ""
           },
           "bgcolor": "#E5ECF6",
           "caxis": {
            "gridcolor": "white",
            "linecolor": "white",
            "ticks": ""
           }
          },
          "title": {
           "x": 0.05
          },
          "xaxis": {
           "automargin": true,
           "gridcolor": "white",
           "linecolor": "white",
           "ticks": "",
           "title": {
            "standoff": 15
           },
           "zerolinecolor": "white",
           "zerolinewidth": 2
          },
          "yaxis": {
           "automargin": true,
           "gridcolor": "white",
           "linecolor": "white",
           "ticks": "",
           "title": {
            "standoff": 15
           },
           "zerolinecolor": "white",
           "zerolinewidth": 2
          }
         }
        },
        "title": {
         "text": "[소매] 2024.3Q 1.5 적용 STAGE별 전이 (2024.3Q 잔액비중, 2025.2Q 현재)"
        },
        "width": 1200
       }
      }
     },
     "metadata": {},
     "output_type": "display_data"
    },
    {
     "name": "stderr",
     "output_type": "stream",
     "text": [
      "C:\\Users\\CL657UD\\AppData\\Local\\Temp\\ipykernel_8556\\3720550390.py:41: DeprecationWarning:\n",
      "\n",
      "\n",
      "Support for the 'engine' argument is deprecated and will be removed after September 2025.\n",
      "Kaleido will be the only supported engine at that time.\n",
      "\n",
      "\n"
     ]
    }
   ],
   "source": [
    "# 소매\n",
    "dic_cat_src = {}\n",
    "i = 0\n",
    "for x in st15map_rtl['24Q3_STAGE15'].unique().tolist():\n",
    "    dic_cat_src[x] = i\n",
    "    i += 1\n",
    "\n",
    "dic_cat_tgt = {}\n",
    "i = len(dic_cat_src)\n",
    "for x in st15map_rtl['25Q2_STAGE'].unique().tolist():\n",
    "    dic_cat_tgt[x] = i\n",
    "    i += 1\n",
    "\n",
    "st15map_rtl['source'] = st15map_rtl['24Q3_STAGE15'].map(dic_cat_src)\n",
    "st15map_rtl['target'] = st15map_rtl['25Q2_STAGE'].map(dic_cat_tgt)\n",
    "\n",
    "# Colors of nodes and links\n",
    "source_uniq = st15map_rtl['source_label'].unique().tolist()\n",
    "target_uniq = st15map_rtl['target_label'].unique().tolist()\n",
    "color_map = st15map_rtl.groupby('24Q3_STAGE15')['c_color'].unique().apply(lambda x: x[0]).reset_index()\n",
    "color_map['source_label'] = st15map_rtl.groupby('24Q3_STAGE15')['source_label'].unique().apply(lambda x: x[0]).tolist()\n",
    "color_node = [color_map.loc[color_map['source_label']==x,'c_color'].tolist()[0] for x in source_uniq]+[color_map.loc[color_map['24Q3_STAGE15']==x.replace('(현재)',''),'c_color'].tolist()[0] for x in target_uniq]\n",
    "color_link = st15map_rtl['c_color'].tolist()\n",
    "\n",
    "# Set sankey arguments\n",
    "label = st15map_rtl['source_label'].unique().tolist()+st15map_rtl['target_label'].unique().tolist()\n",
    "source = st15map_rtl['source'].tolist()\n",
    "target = st15map_rtl['target'].tolist()\n",
    "values = (st15map_rtl['STAGE별비중']*100).tolist()\n",
    "position_node = [0.001]*len(source_uniq)+[0.999]*len(target_uniq)\n",
    "\n",
    "link = dict(source=source, target=target, value=values, color=color_link)\n",
    "node = dict(label=label, pad=0, thickness=20, color=color_node, x=position_node)\n",
    "data = go.Sankey(link=link, node=node, valueformat='.2f', valuesuffix='%', arrangement='snap')\n",
    "\n",
    "# Draw sankey plot\n",
    "fig = go.Figure(data)\n",
    "fig.update_layout(title_text=\"[소매] 2024.3Q 1.5 적용 STAGE별 전이 (2024.3Q 잔액비중, 2025.2Q 현재)\", margin=dict(b=10, t=40, pad=0), autosize=False, width=1200, height=800)\n",
    "fig.show()\n",
    "fig.write_html(rf'부산은행 DA\\Result\\{ver}\\소매_Stage1.5_전이_비중.html')\n",
    "fig.write_image(rf'부산은행 DA\\Result\\{ver}\\소매_Stage1.5_전이_비중.png', engine='kaleido')\n",
    "\n",
    "# link = dict(source=source, target=target, value=values_bl, color=color_link)\n",
    "# node = dict(label=label, pad=0, thickness=20)\n",
    "# data = go.Sankey(link=link, node=node, valueformat=',.0f', valuesuffix='십억원', arrangement='snap')\n",
    "\n",
    "# fig = go.Figure(data)\n",
    "# fig.update_layout(title_text=\"[소매] 2024.3Q 1.5 적용 STAGE별 전이 (2024.3Q 대출잔액, 2025.2Q 현재)\", margin=dict(b=10, t=40, pad=0), autosize=False, width=1200, height=800)\n",
    "# fig.show()\n",
    "# fig.write_html(r'부산은행 DA\\Result\\Power BI\\소매_Stage1.5_전이_잔액.html')\n",
    "# fig.write_image(r'부산은행 DA\\Result\\Power BI\\소매_Stage1.5_전이_잔액.png', engine='kaleido')"
   ]
  },
  {
   "cell_type": "markdown",
   "id": "d103c0bb",
   "metadata": {},
   "source": [
    "# Monitoring"
   ]
  },
  {
   "cell_type": "code",
   "execution_count": null,
   "id": "0a5fb008",
   "metadata": {},
   "outputs": [],
   "source": [
    "cols = ['기준년월', '최초신용등급숫자']\n",
    "out = (\n",
    "    loan_cleaned.groupby(cols, dropna=False)\n",
    "        .size()\n",
    "        .rename('unique')\n",
    "        .reset_index()\n",
    "        .sort_values(cols)\n",
    ")\n",
    "out"
   ]
  },
  {
   "cell_type": "code",
   "execution_count": null,
   "id": "7ae820c9",
   "metadata": {},
   "outputs": [],
   "source": [
    "cols = ['기준년월', '최초신용등급영문', '최초신용등급숫자']\n",
    "out = (\n",
    "    loan_cleaned.groupby(cols, dropna=False)\n",
    "        .size()\n",
    "        .rename('unique')\n",
    "        .reset_index()\n",
    "        .sort_values(cols)\n",
    ")\n",
    "\n",
    "cols = ['기준년월', '최초신용등급숫자', '신용등급']\n",
    "out = (\n",
    "    loan_cleaned.groupby(cols, dropna=False)\n",
    "        .size()\n",
    "        .rename('unique')\n",
    "        .reset_index()\n",
    "        .sort_values(cols)\n",
    ")\n",
    "\n",
    "out"
   ]
  },
  {
   "cell_type": "code",
   "execution_count": null,
   "id": "85dd0fc4",
   "metadata": {},
   "outputs": [],
   "source": [
    "cols = ['기준년월', '상환방법구분코드']\n",
    "out = (\n",
    "    stage2.groupby(cols, dropna=False)\n",
    "        .size()\n",
    "        .rename('unique')\n",
    "        .reset_index()\n",
    "        .sort_values(cols)\n",
    ")\n",
    "out"
   ]
  },
  {
   "cell_type": "code",
   "execution_count": null,
   "id": "3d49e341",
   "metadata": {},
   "outputs": [],
   "source": [
    "# 단일계좌 복수레코드 Stage2\n",
    "\n",
    "dups = stage2[(stage2['연체일수'] > 0)].groupby('계좌번호')['한도세분류코드'].nunique().reset_index().sort_values('한도세분류코드', ascending=False)\n",
    "dups = dups[dups['한도세분류코드'] > 1]\n",
    "dups\n",
    "\n",
    "# temp = stage2[stage2['계좌번호'].isin(dups['계좌번호'])].sort_values(['기준년월', '계좌번호', '한도세분류코드'])\n",
    "# temp"
   ]
  },
  {
   "cell_type": "code",
   "execution_count": null,
   "id": "3d469772",
   "metadata": {},
   "outputs": [],
   "source": [
    "cols = ['기준년월', 'c_file_st2']\n",
    "out = (\n",
    "    merged.groupby(cols, dropna=False)\n",
    "        .size()\n",
    "        .rename('unique')\n",
    "        .reset_index()\n",
    "        .sort_values(cols)\n",
    ")\n",
    "\n",
    "\n",
    "out"
   ]
  },
  {
   "cell_type": "code",
   "execution_count": null,
   "id": "c96d849c",
   "metadata": {},
   "outputs": [],
   "source": [
    "cols = ['기준년월', 'Stage1.5구분']\n",
    "out = (\n",
    "    bi_main_st15.groupby(cols, dropna=False)['개수']\n",
    "        .size()\n",
    "        .rename('unique')\n",
    "        .reset_index()\n",
    "        .sort_values(cols)\n",
    ")\n",
    "\n",
    "\n",
    "out"
   ]
  },
  {
   "cell_type": "markdown",
   "id": "033017fe",
   "metadata": {},
   "source": [
    "# TEMP"
   ]
  },
  {
   "cell_type": "code",
   "execution_count": 4,
   "id": "15a542e0",
   "metadata": {},
   "outputs": [
    {
     "data": {
      "text/html": [
       "<div>\n",
       "<style scoped>\n",
       "    .dataframe tbody tr th:only-of-type {\n",
       "        vertical-align: middle;\n",
       "    }\n",
       "\n",
       "    .dataframe tbody tr th {\n",
       "        vertical-align: top;\n",
       "    }\n",
       "\n",
       "    .dataframe thead th {\n",
       "        text-align: right;\n",
       "    }\n",
       "</style>\n",
       "<table border=\"1\" class=\"dataframe\">\n",
       "  <thead>\n",
       "    <tr style=\"text-align: right;\">\n",
       "      <th></th>\n",
       "      <th>계정구분코드</th>\n",
       "      <th>평가방법구분코드</th>\n",
       "      <th>평가모형구분코드</th>\n",
       "      <th>평가방법변경사유</th>\n",
       "      <th>STAGE분류구분코드</th>\n",
       "      <th>c_STAGE분류구분코드</th>\n",
       "      <th>STAGE분류사유</th>\n",
       "      <th>계좌번호</th>\n",
       "      <th>만기구간</th>\n",
       "      <th>고객관리번호</th>\n",
       "      <th>...</th>\n",
       "      <th>건전성분류요주의이하</th>\n",
       "      <th>Unnamed: 36</th>\n",
       "      <th>c_file_st2</th>\n",
       "      <th>한도세분류코드.1</th>\n",
       "      <th>c_STAGE분류구분코드2</th>\n",
       "      <th>c_STAGE분류구분코드3</th>\n",
       "      <th>STAGE15_L1</th>\n",
       "      <th>STAGE15_L2</th>\n",
       "      <th>STAGE15_L3</th>\n",
       "      <th>기준년월</th>\n",
       "    </tr>\n",
       "  </thead>\n",
       "  <tbody>\n",
       "    <tr>\n",
       "      <th>0</th>\n",
       "      <td>0</td>\n",
       "      <td>2.0</td>\n",
       "      <td>3.0</td>\n",
       "      <td>&lt;NA&gt;</td>\n",
       "      <td>1</td>\n",
       "      <td>1</td>\n",
       "      <td>해당없음</td>\n",
       "      <td>10000022</td>\n",
       "      <td>0</td>\n",
       "      <td>162902.0</td>\n",
       "      <td>...</td>\n",
       "      <td></td>\n",
       "      <td>NaN</td>\n",
       "      <td>STAGE분류대상계좌정보_202306.txt</td>\n",
       "      <td>NaN</td>\n",
       "      <td>1</td>\n",
       "      <td>1</td>\n",
       "      <td>1</td>\n",
       "      <td>1</td>\n",
       "      <td>1</td>\n",
       "      <td>202306</td>\n",
       "    </tr>\n",
       "    <tr>\n",
       "      <th>1</th>\n",
       "      <td>0</td>\n",
       "      <td>2.0</td>\n",
       "      <td>1.0</td>\n",
       "      <td>&lt;NA&gt;</td>\n",
       "      <td>1</td>\n",
       "      <td>1</td>\n",
       "      <td>해당없음</td>\n",
       "      <td>10000031</td>\n",
       "      <td>0</td>\n",
       "      <td>163258.0</td>\n",
       "      <td>...</td>\n",
       "      <td></td>\n",
       "      <td>NaN</td>\n",
       "      <td>STAGE분류대상계좌정보_202306.txt</td>\n",
       "      <td>NaN</td>\n",
       "      <td>1</td>\n",
       "      <td>1</td>\n",
       "      <td>1</td>\n",
       "      <td>1</td>\n",
       "      <td>1</td>\n",
       "      <td>202306</td>\n",
       "    </tr>\n",
       "    <tr>\n",
       "      <th>2</th>\n",
       "      <td>0</td>\n",
       "      <td>2.0</td>\n",
       "      <td>3.0</td>\n",
       "      <td>&lt;NA&gt;</td>\n",
       "      <td>1</td>\n",
       "      <td>1</td>\n",
       "      <td>해당없음</td>\n",
       "      <td>10000041</td>\n",
       "      <td>0</td>\n",
       "      <td>163401.0</td>\n",
       "      <td>...</td>\n",
       "      <td></td>\n",
       "      <td>NaN</td>\n",
       "      <td>STAGE분류대상계좌정보_202306.txt</td>\n",
       "      <td>NaN</td>\n",
       "      <td>1</td>\n",
       "      <td>1</td>\n",
       "      <td>1</td>\n",
       "      <td>1</td>\n",
       "      <td>1</td>\n",
       "      <td>202306</td>\n",
       "    </tr>\n",
       "    <tr>\n",
       "      <th>3</th>\n",
       "      <td>0</td>\n",
       "      <td>2.0</td>\n",
       "      <td>1.0</td>\n",
       "      <td>&lt;NA&gt;</td>\n",
       "      <td>1</td>\n",
       "      <td>1</td>\n",
       "      <td>해당없음</td>\n",
       "      <td>10000048</td>\n",
       "      <td>0</td>\n",
       "      <td>163662.0</td>\n",
       "      <td>...</td>\n",
       "      <td></td>\n",
       "      <td>NaN</td>\n",
       "      <td>STAGE분류대상계좌정보_202306.txt</td>\n",
       "      <td>NaN</td>\n",
       "      <td>1</td>\n",
       "      <td>1</td>\n",
       "      <td>1</td>\n",
       "      <td>1</td>\n",
       "      <td>1</td>\n",
       "      <td>202306</td>\n",
       "    </tr>\n",
       "    <tr>\n",
       "      <th>4</th>\n",
       "      <td>0</td>\n",
       "      <td>2.0</td>\n",
       "      <td>1.0</td>\n",
       "      <td>&lt;NA&gt;</td>\n",
       "      <td>2</td>\n",
       "      <td>2</td>\n",
       "      <td>이자보상 배율</td>\n",
       "      <td>10000075</td>\n",
       "      <td>0</td>\n",
       "      <td>164360.0</td>\n",
       "      <td>...</td>\n",
       "      <td></td>\n",
       "      <td>NaN</td>\n",
       "      <td>STAGE분류대상계좌정보_202306.txt</td>\n",
       "      <td>NaN</td>\n",
       "      <td>2</td>\n",
       "      <td>2</td>\n",
       "      <td>2</td>\n",
       "      <td>2</td>\n",
       "      <td>2</td>\n",
       "      <td>202306</td>\n",
       "    </tr>\n",
       "    <tr>\n",
       "      <th>...</th>\n",
       "      <td>...</td>\n",
       "      <td>...</td>\n",
       "      <td>...</td>\n",
       "      <td>...</td>\n",
       "      <td>...</td>\n",
       "      <td>...</td>\n",
       "      <td>...</td>\n",
       "      <td>...</td>\n",
       "      <td>...</td>\n",
       "      <td>...</td>\n",
       "      <td>...</td>\n",
       "      <td>...</td>\n",
       "      <td>...</td>\n",
       "      <td>...</td>\n",
       "      <td>...</td>\n",
       "      <td>...</td>\n",
       "      <td>...</td>\n",
       "      <td>...</td>\n",
       "      <td>...</td>\n",
       "      <td>...</td>\n",
       "      <td>...</td>\n",
       "    </tr>\n",
       "    <tr>\n",
       "      <th>171332</th>\n",
       "      <td>2</td>\n",
       "      <td>2.0</td>\n",
       "      <td>1.0</td>\n",
       "      <td>&lt;NA&gt;</td>\n",
       "      <td>1</td>\n",
       "      <td>1</td>\n",
       "      <td>해당없음</td>\n",
       "      <td>N32S6505DA00185</td>\n",
       "      <td>0</td>\n",
       "      <td>187109.0</td>\n",
       "      <td>...</td>\n",
       "      <td></td>\n",
       "      <td>NaN</td>\n",
       "      <td>STAGE2분류대상계좌정보_202506.txt</td>\n",
       "      <td>NaN</td>\n",
       "      <td>1</td>\n",
       "      <td>1</td>\n",
       "      <td>1</td>\n",
       "      <td>1</td>\n",
       "      <td>1</td>\n",
       "      <td>202506</td>\n",
       "    </tr>\n",
       "    <tr>\n",
       "      <th>171333</th>\n",
       "      <td>2</td>\n",
       "      <td>2.0</td>\n",
       "      <td>1.0</td>\n",
       "      <td>&lt;NA&gt;</td>\n",
       "      <td>1</td>\n",
       "      <td>1</td>\n",
       "      <td>해당없음</td>\n",
       "      <td>N32S6505DA00210</td>\n",
       "      <td>0</td>\n",
       "      <td>187109.0</td>\n",
       "      <td>...</td>\n",
       "      <td></td>\n",
       "      <td>NaN</td>\n",
       "      <td>STAGE2분류대상계좌정보_202506.txt</td>\n",
       "      <td>NaN</td>\n",
       "      <td>1</td>\n",
       "      <td>1</td>\n",
       "      <td>1</td>\n",
       "      <td>1</td>\n",
       "      <td>1</td>\n",
       "      <td>202506</td>\n",
       "    </tr>\n",
       "    <tr>\n",
       "      <th>171334</th>\n",
       "      <td>2</td>\n",
       "      <td>2.0</td>\n",
       "      <td>4.0</td>\n",
       "      <td>&lt;NA&gt;</td>\n",
       "      <td>1</td>\n",
       "      <td>1</td>\n",
       "      <td>해당없음</td>\n",
       "      <td>N32T2504OA00210</td>\n",
       "      <td>0</td>\n",
       "      <td>2745070.0</td>\n",
       "      <td>...</td>\n",
       "      <td></td>\n",
       "      <td>NaN</td>\n",
       "      <td>STAGE2분류대상계좌정보_202506.txt</td>\n",
       "      <td>NaN</td>\n",
       "      <td>1</td>\n",
       "      <td>1</td>\n",
       "      <td>1</td>\n",
       "      <td>1</td>\n",
       "      <td>1</td>\n",
       "      <td>202506</td>\n",
       "    </tr>\n",
       "    <tr>\n",
       "      <th>171335</th>\n",
       "      <td>2</td>\n",
       "      <td>2.0</td>\n",
       "      <td>1.0</td>\n",
       "      <td>&lt;NA&gt;</td>\n",
       "      <td>1</td>\n",
       "      <td>1</td>\n",
       "      <td>해당없음</td>\n",
       "      <td>N32T2505DU00139</td>\n",
       "      <td>0</td>\n",
       "      <td>5802807.0</td>\n",
       "      <td>...</td>\n",
       "      <td></td>\n",
       "      <td>NaN</td>\n",
       "      <td>STAGE2분류대상계좌정보_202506.txt</td>\n",
       "      <td>NaN</td>\n",
       "      <td>1</td>\n",
       "      <td>1</td>\n",
       "      <td>1</td>\n",
       "      <td>1</td>\n",
       "      <td>1</td>\n",
       "      <td>202506</td>\n",
       "    </tr>\n",
       "    <tr>\n",
       "      <th>171336</th>\n",
       "      <td>2</td>\n",
       "      <td>2.0</td>\n",
       "      <td>1.0</td>\n",
       "      <td>&lt;NA&gt;</td>\n",
       "      <td>1</td>\n",
       "      <td>1</td>\n",
       "      <td>해당없음</td>\n",
       "      <td>N32T2506DU00032</td>\n",
       "      <td>0</td>\n",
       "      <td>5802807.0</td>\n",
       "      <td>...</td>\n",
       "      <td></td>\n",
       "      <td>NaN</td>\n",
       "      <td>STAGE2분류대상계좌정보_202506.txt</td>\n",
       "      <td>NaN</td>\n",
       "      <td>1</td>\n",
       "      <td>1</td>\n",
       "      <td>1</td>\n",
       "      <td>1</td>\n",
       "      <td>1</td>\n",
       "      <td>202506</td>\n",
       "    </tr>\n",
       "  </tbody>\n",
       "</table>\n",
       "<p>10965607 rows × 142 columns</p>\n",
       "</div>"
      ],
      "text/plain": [
       "        계정구분코드  평가방법구분코드  평가모형구분코드 평가방법변경사유 STAGE분류구분코드 c_STAGE분류구분코드  \\\n",
       "0            0       2.0       3.0     <NA>           1             1   \n",
       "1            0       2.0       1.0     <NA>           1             1   \n",
       "2            0       2.0       3.0     <NA>           1             1   \n",
       "3            0       2.0       1.0     <NA>           1             1   \n",
       "4            0       2.0       1.0     <NA>           2             2   \n",
       "...        ...       ...       ...      ...         ...           ...   \n",
       "171332       2       2.0       1.0     <NA>           1             1   \n",
       "171333       2       2.0       1.0     <NA>           1             1   \n",
       "171334       2       2.0       4.0     <NA>           1             1   \n",
       "171335       2       2.0       1.0     <NA>           1             1   \n",
       "171336       2       2.0       1.0     <NA>           1             1   \n",
       "\n",
       "       STAGE분류사유             계좌번호  만기구간     고객관리번호  ...  건전성분류요주의이하  \\\n",
       "0           해당없음         10000022     0   162902.0  ...               \n",
       "1           해당없음         10000031     0   163258.0  ...               \n",
       "2           해당없음         10000041     0   163401.0  ...               \n",
       "3           해당없음         10000048     0   163662.0  ...               \n",
       "4        이자보상 배율         10000075     0   164360.0  ...               \n",
       "...          ...              ...   ...        ...  ...         ...   \n",
       "171332      해당없음  N32S6505DA00185     0   187109.0  ...               \n",
       "171333      해당없음  N32S6505DA00210     0   187109.0  ...               \n",
       "171334      해당없음  N32T2504OA00210     0  2745070.0  ...               \n",
       "171335      해당없음  N32T2505DU00139     0  5802807.0  ...               \n",
       "171336      해당없음  N32T2506DU00032     0  5802807.0  ...               \n",
       "\n",
       "        Unnamed: 36                 c_file_st2 한도세분류코드.1  c_STAGE분류구분코드2  \\\n",
       "0               NaN   STAGE분류대상계좌정보_202306.txt       NaN               1   \n",
       "1               NaN   STAGE분류대상계좌정보_202306.txt       NaN               1   \n",
       "2               NaN   STAGE분류대상계좌정보_202306.txt       NaN               1   \n",
       "3               NaN   STAGE분류대상계좌정보_202306.txt       NaN               1   \n",
       "4               NaN   STAGE분류대상계좌정보_202306.txt       NaN               2   \n",
       "...             ...                        ...       ...             ...   \n",
       "171332          NaN  STAGE2분류대상계좌정보_202506.txt       NaN               1   \n",
       "171333          NaN  STAGE2분류대상계좌정보_202506.txt       NaN               1   \n",
       "171334          NaN  STAGE2분류대상계좌정보_202506.txt       NaN               1   \n",
       "171335          NaN  STAGE2분류대상계좌정보_202506.txt       NaN               1   \n",
       "171336          NaN  STAGE2분류대상계좌정보_202506.txt       NaN               1   \n",
       "\n",
       "        c_STAGE분류구분코드3 STAGE15_L1  STAGE15_L2  STAGE15_L3    기준년월  \n",
       "0                    1          1           1           1  202306  \n",
       "1                    1          1           1           1  202306  \n",
       "2                    1          1           1           1  202306  \n",
       "3                    1          1           1           1  202306  \n",
       "4                    2          2           2           2  202306  \n",
       "...                ...        ...         ...         ...     ...  \n",
       "171332               1          1           1           1  202506  \n",
       "171333               1          1           1           1  202506  \n",
       "171334               1          1           1           1  202506  \n",
       "171335               1          1           1           1  202506  \n",
       "171336               1          1           1           1  202506  \n",
       "\n",
       "[10965607 rows x 142 columns]"
      ]
     },
     "execution_count": 4,
     "metadata": {},
     "output_type": "execute_result"
    }
   ],
   "source": [
    "bi"
   ]
  },
  {
   "cell_type": "markdown",
   "id": "533a152e",
   "metadata": {},
   "source": [
    "# Obsolete"
   ]
  },
  {
   "cell_type": "markdown",
   "id": "42fb674a",
   "metadata": {},
   "source": [
    "## c_신용등급변화 Kmeans & GMM 분석"
   ]
  },
  {
   "cell_type": "code",
   "execution_count": null,
   "id": "244df50a",
   "metadata": {},
   "outputs": [],
   "source": [
    "# # Debug version\n",
    "# def analyze_clustering_thresholds(X, y):\n",
    "#     # 1. K-means analysis\n",
    "#     kmeans = KMeans(n_clusters=2, random_state=42)\n",
    "#     kmeans.fit(X)\n",
    "#     kmeans_centers = kmeans.cluster_centers_.flatten()\n",
    "#     kmeans_labels = kmeans.labels_\n",
    "    \n",
    "#     # 2. GMM analysis\n",
    "#     gmm = GaussianMixture(n_components=2, random_state=42)\n",
    "#     gmm.fit(X)\n",
    "#     gmm_centers = gmm.means_.flatten()\n",
    "#     gmm_labels = gmm.predict(X)\n",
    "    \n",
    "#     print(\"K-means Analysis:\")\n",
    "#     print(f\"Centers: {kmeans_centers}\")\n",
    "#     print(\"Points in each cluster:\")\n",
    "#     for i in range(2):\n",
    "#         mask = kmeans_labels == i\n",
    "#         print(f\"Cluster {i}:\")\n",
    "#         print(f\"  Range: {X[mask].min()} to {X[mask].max()}\")\n",
    "#         print(f\"  Stage 1: {sum((y == 0) & mask)}\")\n",
    "#         print(f\"  Stage 2: {sum((y == 1) & mask)}\")\n",
    "    \n",
    "#     print(\"\\nGMM Analysis:\")\n",
    "#     print(f\"Centers: {gmm_centers}\")\n",
    "#     print(\"Points in each component:\")\n",
    "#     for i in range(2):\n",
    "#         mask = gmm_labels == i\n",
    "#         print(f\"Component {i}:\")\n",
    "#         print(f\"  Range: {X[mask].min()} to {X[mask].max()}\")\n",
    "#         print(f\"  Stage 1: {sum((y == 0) & mask)}\")\n",
    "#         print(f\"  Stage 2: {sum((y == 1) & mask)}\")\n",
    "    \n",
    "#     # Compare actual data splits\n",
    "#     kmeans_threshold = np.mean(kmeans_centers)\n",
    "#     gmm_threshold = np.mean(gmm_centers)\n",
    "    \n",
    "#     kmeans_split = X > kmeans_threshold\n",
    "#     gmm_split = X > gmm_threshold\n",
    "    \n",
    "#     print(\"\\nComparison of splits:\")\n",
    "#     print(f\"Number of points above K-means threshold: {sum(kmeans_split)}\")\n",
    "#     print(f\"Number of points above GMM threshold: {sum(gmm_split)}\")\n",
    "#     print(f\"Number of different classifications: {sum(kmeans_split != gmm_split)}\")\n",
    "    \n",
    "#     # Check if there are any points between thresholds\n",
    "#     min_thresh = min(kmeans_threshold, gmm_threshold)\n",
    "#     max_thresh = max(kmeans_threshold, gmm_threshold)\n",
    "#     points_between = X[(X > min_thresh) & (X < max_thresh)]\n",
    "#     print(f\"\\nPoints between thresholds: {len(points_between)}\")\n",
    "#     if len(points_between) > 0:\n",
    "#         print(f\"Range of points between: {points_between.min()} to {points_between.max()}\")\n",
    "\n",
    "# # Run analysis\n",
    "# analyze_clustering_thresholds(X, y)"
   ]
  },
  {
   "cell_type": "code",
   "execution_count": null,
   "id": "5e9f33d7",
   "metadata": {},
   "outputs": [],
   "source": [
    "# # Analyze Stage 2 probability by credit rating change\n",
    "# def analyze_stage2_probability(data):\n",
    "#     results = []\n",
    "#     for change in sorted(data['c_신용등급변화'].unique()):\n",
    "#         subset = data[data['c_신용등급변화'] == change]\n",
    "#         total = len(subset)\n",
    "#         stage2_count = sum(subset['STAGE분류구분코드'] == '2')\n",
    "#         results.append({\n",
    "#             'credit_change': change,\n",
    "#             'total_accounts': total,\n",
    "#             'stage2_probability': stage2_count/total,\n",
    "#             'stage2_count': stage2_count\n",
    "#         })\n",
    "    \n",
    "#     return pd.DataFrame(results)\n",
    "\n",
    "# # Create visualization\n",
    "# plt.figure(figsize=(12, 6))\n",
    "# analysis = analyze_stage2_probability(data)\n",
    "\n",
    "# plt.subplot(1, 2, 1)\n",
    "# plt.bar(analysis['credit_change'], analysis['total_accounts'])\n",
    "# plt.title('Number of Accounts by Credit Rating Change')\n",
    "# plt.xlabel('Credit Rating Change')\n",
    "# plt.ylabel('Number of Accounts')\n",
    "\n",
    "# plt.subplot(1, 2, 2)\n",
    "# plt.plot(analysis['credit_change'], analysis['stage2_probability'], marker='o')\n",
    "# plt.title('Stage 2 Probability by Credit Rating Change')\n",
    "# plt.xlabel('Credit Rating Change')\n",
    "# plt.ylabel('Probability of Stage 2')\n",
    "\n",
    "# plt.tight_layout()\n",
    "# plt.show()\n",
    "\n",
    "# print(\"\\nDetailed Analysis:\")\n",
    "# print(analysis)"
   ]
  },
  {
   "cell_type": "markdown",
   "id": "c937f9d8",
   "metadata": {},
   "source": [
    "## c_신용등급변화 unweighted analysis"
   ]
  },
  {
   "cell_type": "code",
   "execution_count": null,
   "id": "db6722a8",
   "metadata": {},
   "outputs": [],
   "source": [
    "# # Analysis of c_신용등급변화 threshold for retail loans\n",
    "\n",
    "# from sklearn.cluster import KMeans\n",
    "# from sklearn.mixture import GaussianMixture\n",
    "# from sklearn.linear_model import LogisticRegression\n",
    "# from sklearn.metrics import roc_curve, roc_auc_score, precision_recall_curve, average_precision_score\n",
    "# import matplotlib.pyplot as plt\n",
    "# import seaborn as sns\n",
    "\n",
    "# # Prepare data\n",
    "# data = merged_retail[merged_retail['c_신용등급변화'] > 0]\n",
    "\n",
    "# X = data['c_신용등급변화'].values.reshape(-1, 1)\n",
    "# y = (data['STAGE분류구분코드'] == '2').astype(int)\n",
    "\n",
    "# # 1. K-means Clustering\n",
    "# def find_threshold_kmeans(X):\n",
    "#     kmeans = KMeans(n_clusters=2, random_state=42)\n",
    "#     kmeans.fit(X)\n",
    "#     centers = kmeans.cluster_centers_.flatten()\n",
    "#     threshold = np.mean(centers)\n",
    "#     return threshold, kmeans\n",
    "\n",
    "# # 2. Gaussian Mixture Model\n",
    "# def find_threshold_gmm(X):\n",
    "#     gmm = GaussianMixture(n_components=2, random_state=42)\n",
    "#     gmm.fit(X)\n",
    "#     centers = gmm.means_.flatten()\n",
    "#     threshold = np.mean(centers)  # Use mean of centers as threshold\n",
    "#     return threshold, gmm\n",
    "\n",
    "# # 3. Logistic Regression\n",
    "# def find_threshold_logistic(X, y):\n",
    "#     lr = LogisticRegression(random_state=42)\n",
    "#     lr.fit(X, y)\n",
    "#     coef = lr.coef_[0][0]\n",
    "#     threshold = -lr.intercept_[0] / coef  # Find decision boundary\n",
    "#     coef_sign = np.sign(coef)\n",
    "#     return threshold, lr, coef_sign\n",
    "\n",
    "# # 4. ROC Curve Analysis\n",
    "# def find_threshold_roc(X, y):\n",
    "#     # Sort unique values for potential thresholds\n",
    "#     thresholds = np.sort(np.unique(X))\n",
    "    \n",
    "#     # Calculate ROC curve\n",
    "#     fpr, tpr, threshold_values = roc_curve(y, X)\n",
    "    \n",
    "#     # Find optimal threshold using Youden's J statistic\n",
    "#     j_scores = tpr - fpr\n",
    "#     optimal_idx = np.argmax(j_scores)\n",
    "#     threshold = threshold_values[optimal_idx]\n",
    "    \n",
    "#     return threshold, (fpr, tpr, threshold_values)\n",
    "\n",
    "# # Apply all methods\n",
    "# kmeans_threshold, kmeans_model = find_threshold_kmeans(X)\n",
    "# gmm_threshold, gmm_model = find_threshold_gmm(X)\n",
    "# logistic_threshold, logistic_model, logistic_sign = find_threshold_logistic(X, y)\n",
    "# roc_threshold, roc_results = find_threshold_roc(X, y)\n",
    "\n",
    "# # Evaluate all methods\n",
    "# def evaluate_threshold(X, y, threshold, method_name, *, coef_sign=1):\n",
    "#     X = np.asarray(X).ravel()\n",
    "#     y_pred = (X > threshold if coef_sign > 0 else (X < threshold))\n",
    "#     auc = roc_auc_score(y, y_pred)\n",
    "    \n",
    "#     # Calculate additional metrics\n",
    "#     tp = np.sum((y == 1) & (y_pred == 1))\n",
    "#     fp = np.sum((y == 0) & (y_pred == 1))\n",
    "#     tn = np.sum((y == 0) & (y_pred == 0))\n",
    "#     fn = np.sum((y == 1) & (y_pred == 0))\n",
    "    \n",
    "#     sensitivity = tp / (tp + fn) if (tp + fn) > 0 else 0\n",
    "#     specificity = tn / (tn + fp) if (tn + fp) > 0 else 0\n",
    "#     precision = tp / (tp + fp) if (tp + fp) > 0 else 0\n",
    "    \n",
    "#     print(f\"\\n{method_name} Results:\")\n",
    "#     print(f\"Threshold: {threshold:.3f}\")\n",
    "#     print(f\"AUC: {auc:.3f}\")\n",
    "#     print(f\"Sensitivity: {sensitivity:.3f}\")\n",
    "#     print(f\"Specificity: {specificity:.3f}\")\n",
    "#     print(f\"Precision: {precision:.3f}\")\n",
    "    \n",
    "#     return {\n",
    "#         'threshold': threshold,\n",
    "#         'auc': auc,\n",
    "#         'sensitivity': sensitivity,\n",
    "#         'specificity': specificity,\n",
    "#         'precision': precision\n",
    "#     }\n",
    "\n",
    "# # Evaluate all methods\n",
    "# results = {}\n",
    "# results['K-means'] = evaluate_threshold(X, y, kmeans_threshold, 'K-means')\n",
    "# results['GMM'] = evaluate_threshold(X, y, gmm_threshold, 'Gaussian Mixture Model')\n",
    "# results['Logistic'] = evaluate_threshold(X, y, logistic_threshold, 'Logistic Regression', coef_sign=logistic_sign)\n",
    "# results['ROC'] = evaluate_threshold(X, y, roc_threshold, 'ROC Curve')\n",
    "\n",
    "# # Visualization\n",
    "# plt.figure(figsize=(15, 10))\n",
    "\n",
    "# # Plot 1: Distribution with thresholds\n",
    "# plt.subplot(2, 2, 1)\n",
    "# sns.kdeplot(data=data, x='c_신용등급변화', hue='STAGE분류구분코드', common_norm=False)\n",
    "# for method, result in results.items():\n",
    "#     plt.axvline(result['threshold'], linestyle='--', label=f'{method} threshold')\n",
    "# plt.title('Distribution of c_신용등급변화 by Stage')\n",
    "# plt.legend()\n",
    "\n",
    "# # Plot 2: ROC curves\n",
    "# plt.subplot(2, 2, 2)\n",
    "# fpr, tpr, _ = roc_results\n",
    "# plt.plot(fpr, tpr, label=f'ROC curve (AUC = {results[\"ROC\"][\"auc\"]:.3f})')\n",
    "# plt.plot([0, 1], [0, 1], 'k--')\n",
    "# plt.xlabel('False Positive Rate')\n",
    "# plt.ylabel('True Positive Rate')\n",
    "# plt.title('ROC Curve')\n",
    "# plt.legend()\n",
    "\n",
    "# # Plot 3: Method Comparison\n",
    "# plt.subplot(2, 2, 3)\n",
    "# metrics = ['auc', 'sensitivity', 'specificity', 'precision']\n",
    "# for method in results:\n",
    "#     values = [results[method][metric] for metric in metrics]\n",
    "#     plt.plot(metrics, values, marker='o', label=method)\n",
    "# plt.title('Performance Metrics Comparison')\n",
    "# plt.xticks(rotation=45)\n",
    "# plt.legend()\n",
    "\n",
    "# # Plot 4: Threshold Values Comparison\n",
    "# plt.subplot(2, 2, 4)\n",
    "# thresholds = [results[method]['threshold'] for method in results]\n",
    "# plt.bar(results.keys(), thresholds)\n",
    "# plt.title('Threshold Values by Method')\n",
    "# plt.xticks(rotation=45)\n",
    "\n",
    "# plt.tight_layout()\n",
    "# plt.show()\n",
    "\n",
    "# # Print summary statistics\n",
    "# print(\"\\nSummary Statistics for c_신용등급변화:\")\n",
    "# print(data.groupby('STAGE분류구분코드')['c_신용등급변화'].describe())"
   ]
  },
  {
   "cell_type": "markdown",
   "id": "e8373768",
   "metadata": {},
   "source": [
    "## c_신용등급변화 unweighted analysis"
   ]
  },
  {
   "cell_type": "code",
   "execution_count": null,
   "id": "f7f5c737",
   "metadata": {},
   "outputs": [],
   "source": [
    "# # Analysis of c_신용등급변화 weighted threshold for retail loans\n",
    "\n",
    "# # Prepare data\n",
    "# data = merged_retail[merged_retail['c_신용등급변화'] > 0]\n",
    "\n",
    "# X = data['c_신용등급변화'].values.reshape(-1, 1)\n",
    "# y = (data['STAGE분류구분코드'] == '2').astype(int)\n",
    "\n",
    "# # 1. K-means Clustering\n",
    "# def find_threshold_kmeans(X):\n",
    "#     kmeans = KMeans(n_clusters=2, random_state=42)\n",
    "#     kmeans.fit(X)\n",
    "#     centers = kmeans.cluster_centers_.flatten()\n",
    "#     labels = kmeans.labels_\n",
    "#     cluster_sizes = np.bincount(labels)\n",
    "#     threshold = np.average(centers, weights=cluster_sizes)\n",
    "#     return threshold, kmeans\n",
    "\n",
    "# # 2. Gaussian Mixture Model\n",
    "# def find_threshold_gmm(X):\n",
    "#     gmm = GaussianMixture(n_components=2, random_state=42)\n",
    "#     gmm.fit(X)\n",
    "#     centers = gmm.means_.flatten()\n",
    "#     weights = gmm.weights_\n",
    "#     threshold = np.average(centers, weights=weights)  # Use mean of centers as threshold\n",
    "#     return threshold, gmm\n",
    "\n",
    "# # 3. Logistic Regression\n",
    "# def find_threshold_logistic(X, y):\n",
    "#     lr = LogisticRegression(random_state=42)\n",
    "#     lr.fit(X, y)\n",
    "#     threshold = -lr.intercept_[0] / lr.coef_[0][0]  # Find decision boundary\n",
    "#     return threshold, lr\n",
    "\n",
    "# # 4. ROC Curve Analysis\n",
    "# def find_threshold_roc(X, y):\n",
    "#     # Sort unique values for potential thresholds\n",
    "#     thresholds = np.sort(np.unique(X))\n",
    "    \n",
    "#     # Calculate ROC curve\n",
    "#     fpr, tpr, threshold_values = roc_curve(y, X)\n",
    "    \n",
    "#     # Find optimal threshold using Youden's J statistic\n",
    "#     j_scores = tpr - fpr\n",
    "#     optimal_idx = np.argmax(j_scores)\n",
    "#     threshold = threshold_values[optimal_idx]\n",
    "    \n",
    "#     return threshold, (fpr, tpr, threshold_values)\n",
    "\n",
    "# # Apply all methods\n",
    "# kmeans_threshold, kmeans_model = find_threshold_kmeans(X)\n",
    "# gmm_threshold, gmm_model = find_threshold_gmm(X)\n",
    "# logistic_threshold, logistic_model = find_threshold_logistic(X, y)\n",
    "# roc_threshold, roc_results = find_threshold_roc(X, y)\n",
    "\n",
    "# # Evaluate all methods\n",
    "# def evaluate_threshold(X, y, threshold, method_name):\n",
    "#     y_pred = (np.asarray(X).ravel() > threshold)\n",
    "#     auc = roc_auc_score(y, y_pred)\n",
    "    \n",
    "#     # Calculate additional metrics\n",
    "#     tp = np.sum((y == 1) & (y_pred == 1))\n",
    "#     fp = np.sum((y == 0) & (y_pred == 1))\n",
    "#     tn = np.sum((y == 0) & (y_pred == 0))\n",
    "#     fn = np.sum((y == 1) & (y_pred == 0))\n",
    "    \n",
    "#     sensitivity = tp / (tp + fn) if (tp + fn) > 0 else 0\n",
    "#     specificity = tn / (tn + fp) if (tn + fp) > 0 else 0\n",
    "#     precision = tp / (tp + fp) if (tp + fp) > 0 else 0\n",
    "    \n",
    "#     print(f\"\\n{method_name} Results:\")\n",
    "#     print(f\"Threshold: {threshold:.3f}\")\n",
    "#     print(f\"AUC: {auc:.3f}\")\n",
    "#     print(f\"Sensitivity: {sensitivity:.3f}\")\n",
    "#     print(f\"Specificity: {specificity:.3f}\")\n",
    "#     print(f\"Precision: {precision:.3f}\")\n",
    "    \n",
    "#     return {\n",
    "#         'threshold': threshold,\n",
    "#         'auc': auc,\n",
    "#         'sensitivity': sensitivity,\n",
    "#         'specificity': specificity,\n",
    "#         'precision': precision\n",
    "#     }\n",
    "\n",
    "# # Evaluate all methods\n",
    "# results = {}\n",
    "# results['K-means'] = evaluate_threshold(X, y, kmeans_threshold, 'K-means')\n",
    "# results['GMM'] = evaluate_threshold(X, y, gmm_threshold, 'Gaussian Mixture Model')\n",
    "# results['Logistic'] = evaluate_threshold(X, y, logistic_threshold, 'Logistic Regression')\n",
    "# results['ROC'] = evaluate_threshold(X, y, roc_threshold, 'ROC Curve')\n",
    "\n",
    "# # Visualization\n",
    "# plt.figure(figsize=(15, 10))\n",
    "\n",
    "# # Plot 1: Distribution with thresholds\n",
    "# plt.subplot(2, 2, 1)\n",
    "# sns.kdeplot(data=data, x='c_신용등급변화', hue='STAGE분류구분코드', common_norm=False)\n",
    "# for method, result in results.items():\n",
    "#     plt.axvline(result['threshold'], linestyle='--', label=f'{method} threshold')\n",
    "# plt.title('Distribution of c_신용등급변화 by Stage')\n",
    "# plt.legend()\n",
    "\n",
    "# # Plot 2: ROC curves\n",
    "# plt.subplot(2, 2, 2)\n",
    "# fpr, tpr, _ = roc_results\n",
    "# plt.plot(fpr, tpr, label=f'ROC curve (AUC = {results[\"ROC\"][\"auc\"]:.3f})')\n",
    "# plt.plot([0, 1], [0, 1], 'k--')\n",
    "# plt.xlabel('False Positive Rate')\n",
    "# plt.ylabel('True Positive Rate')\n",
    "# plt.title('ROC Curve')\n",
    "# plt.legend()\n",
    "\n",
    "# # Plot 3: Method Comparison\n",
    "# plt.subplot(2, 2, 3)\n",
    "# metrics = ['auc', 'sensitivity', 'specificity', 'precision']\n",
    "# for method in results:\n",
    "#     values = [results[method][metric] for metric in metrics]\n",
    "#     plt.plot(metrics, values, marker='o', label=method)\n",
    "# plt.title('Performance Metrics Comparison')\n",
    "# plt.xticks(rotation=45)\n",
    "# plt.legend()\n",
    "\n",
    "# # Plot 4: Threshold Values Comparison\n",
    "# plt.subplot(2, 2, 4)\n",
    "# thresholds = [results[method]['threshold'] for method in results]\n",
    "# plt.bar(results.keys(), thresholds)\n",
    "# plt.title('Threshold Values by Method')\n",
    "# plt.xticks(rotation=45)\n",
    "\n",
    "# plt.tight_layout()\n",
    "# plt.show()\n",
    "\n",
    "# # Print summary statistics\n",
    "# print(\"\\nSummary Statistics for c_신용등급변화:\")\n",
    "# print(data.groupby('STAGE분류구분코드')['c_신용등급변화'].describe())"
   ]
  }
 ],
 "metadata": {
  "kernelspec": {
   "display_name": "Python 3",
   "language": "python",
   "name": "python3"
  },
  "language_info": {
   "codemirror_mode": {
    "name": "ipython",
    "version": 3
   },
   "file_extension": ".py",
   "mimetype": "text/x-python",
   "name": "python",
   "nbconvert_exporter": "python",
   "pygments_lexer": "ipython3",
   "version": "3.13.0"
  }
 },
 "nbformat": 4,
 "nbformat_minor": 5
}
